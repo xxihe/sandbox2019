{
  "nbformat": 4,
  "nbformat_minor": 0,
  "metadata": {
    "colab": {
      "name": "Copy of numpy.ipynb",
      "version": "0.3.2",
      "provenance": [],
      "collapsed_sections": [],
      "toc_visible": true,
      "include_colab_link": true
    },
    "kernelspec": {
      "display_name": "Python 3",
      "language": "python",
      "name": "python3"
    }
  },
  "cells": [
    {
      "cell_type": "markdown",
      "metadata": {
        "id": "view-in-github",
        "colab_type": "text"
      },
      "source": [
        "<a href=\"https://colab.research.google.com/github/xxihe/sandbox2019/blob/master/numpy.ipynb\" target=\"_parent\"><img src=\"https://colab.research.google.com/assets/colab-badge.svg\" alt=\"Open In Colab\"/></a>"
      ]
    },
    {
      "metadata": {
        "colab_type": "text",
        "id": "PAaI2OuwT8GI"
      },
      "cell_type": "markdown",
      "source": [
        "# Numpy: Operations with multidimensional data\n",
        "\n",
        "This notebook is based (with some modifications) on a [NumPy tutorial](https://github.com/jrjohansson/scientific-python-lectures/blob/master/Lecture-2-Numpy.ipynb) by J.R. Johansson"
      ]
    },
    {
      "metadata": {
        "colab_type": "code",
        "id": "vQjkVFN3T4eY",
        "colab": {}
      },
      "cell_type": "code",
      "source": [
        "# Import MatPlotlib so we can look at some pretty plots\n",
        "# The reson for doing this will become clear in out MatPlotLib lecture next week\n",
        "%matplotlib inline\n",
        "import matplotlib.pyplot as plt"
      ],
      "execution_count": 0,
      "outputs": []
    },
    {
      "metadata": {
        "colab_type": "text",
        "id": "XlcKlCdnUqjH"
      },
      "cell_type": "markdown",
      "source": [
        "## Introduction\n",
        "\n",
        "-------\n",
        "\n",
        "The numpy package (module) is used in almost all numerical computation using Python. It is a package that provide high-performance vector, matrix and higher-dimensional data structures for Python. It is implemented in C and Fortran so when calculations are vectorized (formulated with vectors and matrices), performance is very good.\n",
        "\n",
        "To use numpy you need to import the module, using for example:"
      ]
    },
    {
      "metadata": {
        "colab_type": "code",
        "id": "sl3vLf43Ulk6",
        "colab": {}
      },
      "cell_type": "code",
      "source": [
        "from numpy import *"
      ],
      "execution_count": 0,
      "outputs": []
    },
    {
      "metadata": {
        "colab_type": "text",
        "id": "UpGwnCxb5wo6"
      },
      "cell_type": "markdown",
      "source": [
        "In the numpy package the terminology used for vectors, matrices and higher-dimensional data sets is array.\n",
        "\n",
        "## Creating numpy arrays\n",
        "\n",
        "-------\n",
        "\n",
        "There are a number of ways to initialize new numpy arrays, for example from\n",
        "\n",
        " - a Python list or tuples\n",
        " - using functions that are dedicated to generating numpy arrays, such as arange, linspace, etc.\n",
        " - reading data from files\n",
        "\n",
        "### From lists\n",
        "For example, to create new vector and matrix arrays from Python lists we can use the `numpy.array` function."
      ]
    },
    {
      "metadata": {
        "colab_type": "code",
        "id": "3suZc_nyUzKT",
        "outputId": "a20d248a-dfcc-4256-c7ad-894539d6327c",
        "colab": {
          "base_uri": "https://localhost:8080/",
          "height": 34
        }
      },
      "cell_type": "code",
      "source": [
        "# a vector: the argument to the array function is a Python list\n",
        "vector = array([1,2,3,4])\n",
        "\n",
        "vector"
      ],
      "execution_count": 0,
      "outputs": [
        {
          "output_type": "execute_result",
          "data": {
            "text/plain": [
              "array([1, 2, 3, 4])"
            ]
          },
          "metadata": {
            "tags": []
          },
          "execution_count": 3
        }
      ]
    },
    {
      "metadata": {
        "colab_type": "code",
        "id": "eeFilgzg6FQH",
        "outputId": "c6c1ab19-7f49-4e06-8d68-4b07fc59786c",
        "colab": {
          "base_uri": "https://localhost:8080/",
          "height": 51
        }
      },
      "cell_type": "code",
      "source": [
        "# a matrix: the argument to the array function is a nested Python list\n",
        "matrix = array([[1, 2], [3, 4]])\n",
        "\n",
        "matrix"
      ],
      "execution_count": 0,
      "outputs": [
        {
          "output_type": "execute_result",
          "data": {
            "text/plain": [
              "array([[1, 2],\n",
              "       [3, 4]])"
            ]
          },
          "metadata": {
            "tags": []
          },
          "execution_count": 4
        }
      ]
    },
    {
      "metadata": {
        "colab_type": "text",
        "id": "-R3SPBzj6ROt"
      },
      "cell_type": "markdown",
      "source": [
        "The `v` and `M` objects are both of the type ndarray that the numpy module provides:"
      ]
    },
    {
      "metadata": {
        "colab_type": "code",
        "id": "3HHsPFYC6J5t",
        "outputId": "cf3a85b0-467d-44da-9373-0dc39ae867e6",
        "colab": {
          "base_uri": "https://localhost:8080/",
          "height": 34
        }
      },
      "cell_type": "code",
      "source": [
        "type(vector), type(matrix)"
      ],
      "execution_count": 0,
      "outputs": [
        {
          "output_type": "execute_result",
          "data": {
            "text/plain": [
              "(numpy.ndarray, numpy.ndarray)"
            ]
          },
          "metadata": {
            "tags": []
          },
          "execution_count": 5
        }
      ]
    },
    {
      "metadata": {
        "colab_type": "text",
        "id": "TotJfenG6aJq"
      },
      "cell_type": "markdown",
      "source": [
        "The difference between the v and M arrays is only their shapes. We can get information about the shape of an array by using the `ndarray.shape` property:"
      ]
    },
    {
      "metadata": {
        "colab_type": "code",
        "id": "LMKHGwIm6X08",
        "outputId": "bdae3959-8fd3-4d8a-a029-b7897c6bef94",
        "colab": {
          "base_uri": "https://localhost:8080/",
          "height": 34
        }
      },
      "cell_type": "code",
      "source": [
        "vector.shape"
      ],
      "execution_count": 0,
      "outputs": [
        {
          "output_type": "execute_result",
          "data": {
            "text/plain": [
              "(4,)"
            ]
          },
          "metadata": {
            "tags": []
          },
          "execution_count": 6
        }
      ]
    },
    {
      "metadata": {
        "colab_type": "code",
        "id": "Kth6uJtC6nh5",
        "outputId": "29339e0b-21fe-49e1-c91f-9103435c9de1",
        "colab": {
          "base_uri": "https://localhost:8080/",
          "height": 34
        }
      },
      "cell_type": "code",
      "source": [
        "matrix.shape"
      ],
      "execution_count": 0,
      "outputs": [
        {
          "output_type": "execute_result",
          "data": {
            "text/plain": [
              "(2, 2)"
            ]
          },
          "metadata": {
            "tags": []
          },
          "execution_count": 7
        }
      ]
    },
    {
      "metadata": {
        "colab_type": "text",
        "id": "JS_60Flc63t9"
      },
      "cell_type": "markdown",
      "source": [
        "The number of elements in the array is available through the `ndarray.size` property:"
      ]
    },
    {
      "metadata": {
        "colab_type": "code",
        "id": "h5Ahd-L96pDR",
        "outputId": "a7f985e8-0988-48b1-abf6-ae9adadbf83e",
        "colab": {
          "base_uri": "https://localhost:8080/",
          "height": 34
        }
      },
      "cell_type": "code",
      "source": [
        "matrix.size"
      ],
      "execution_count": 0,
      "outputs": [
        {
          "output_type": "execute_result",
          "data": {
            "text/plain": [
              "4"
            ]
          },
          "metadata": {
            "tags": []
          },
          "execution_count": 8
        }
      ]
    },
    {
      "metadata": {
        "colab_type": "text",
        "id": "RNMkmet_7GKd"
      },
      "cell_type": "markdown",
      "source": [
        "Equivalently, we could use the function `numpy.shape` and `numpy.size`:"
      ]
    },
    {
      "metadata": {
        "colab_type": "code",
        "id": "6_ppIH137Ep4",
        "outputId": "984ad0d5-60bd-4fac-cb7c-4f6ff29e2720",
        "colab": {
          "base_uri": "https://localhost:8080/",
          "height": 34
        }
      },
      "cell_type": "code",
      "source": [
        "shape(matrix)"
      ],
      "execution_count": 0,
      "outputs": [
        {
          "output_type": "execute_result",
          "data": {
            "text/plain": [
              "(2, 2)"
            ]
          },
          "metadata": {
            "tags": []
          },
          "execution_count": 9
        }
      ]
    },
    {
      "metadata": {
        "colab_type": "code",
        "id": "KFIz-HKp7NNy",
        "outputId": "42725656-ea0c-4330-9422-9ace42d2fabd",
        "colab": {
          "base_uri": "https://localhost:8080/",
          "height": 34
        }
      },
      "cell_type": "code",
      "source": [
        "size(matrix)"
      ],
      "execution_count": 0,
      "outputs": [
        {
          "output_type": "execute_result",
          "data": {
            "text/plain": [
              "4"
            ]
          },
          "metadata": {
            "tags": []
          },
          "execution_count": 10
        }
      ]
    },
    {
      "metadata": {
        "colab_type": "text",
        "id": "Uia62YXV7et7"
      },
      "cell_type": "markdown",
      "source": [
        "So far the `numpy.ndarray` looks awefully much like a Python list (or nested list). Why not simply use Python lists for computations instead of creating a new array type?\n",
        "\n",
        "There are several reasons:\n",
        "\n",
        " - Python lists are very general. They can contain any kind of object. They are dynamically typed. They do not support mathematical functions such as matrix and dot multiplications, etc. Implementing such functions for Python lists would not be very efficient because of the dynamic typing.\n",
        " - Numpy arrays are **statically typed** and **homogeneous**. The type of the elements is determined when the array is created.\n",
        " - Numpy arrays are memory efficient.\n",
        " - Because of the static typing, fast implementation of mathematical functions such as multiplication and addition of numpy arrays can be implemented in a compiled language (C and Fortran is used).\n",
        "Using the `dtype` (data type) property of an ndarray, we can see what type the data of an array has:"
      ]
    },
    {
      "metadata": {
        "colab_type": "code",
        "id": "hbyx74kA7Oqn",
        "outputId": "a25d091c-7880-4a8a-d887-238d40fd0064",
        "colab": {
          "base_uri": "https://localhost:8080/",
          "height": 34
        }
      },
      "cell_type": "code",
      "source": [
        "matrix.dtype"
      ],
      "execution_count": 0,
      "outputs": [
        {
          "output_type": "execute_result",
          "data": {
            "text/plain": [
              "dtype('int64')"
            ]
          },
          "metadata": {
            "tags": []
          },
          "execution_count": 11
        }
      ]
    },
    {
      "metadata": {
        "colab_type": "text",
        "id": "pU1LnYXS8DTW"
      },
      "cell_type": "markdown",
      "source": [
        "We get an error if we try to assign a value of the wrong type to an element in a numpy array:"
      ]
    },
    {
      "metadata": {
        "colab_type": "code",
        "id": "aqpbJLaL8Bf0",
        "outputId": "b95086d9-9e8d-420c-a25a-7c4503424d77",
        "colab": {
          "base_uri": "https://localhost:8080/",
          "height": 163
        }
      },
      "cell_type": "code",
      "source": [
        "matrix[0,0] = \"hello\""
      ],
      "execution_count": 0,
      "outputs": [
        {
          "output_type": "error",
          "ename": "ValueError",
          "evalue": "ignored",
          "traceback": [
            "\u001b[0;31m---------------------------------------------------------------------------\u001b[0m",
            "\u001b[0;31mValueError\u001b[0m                                Traceback (most recent call last)",
            "\u001b[0;32m<ipython-input-12-c3f78341380e>\u001b[0m in \u001b[0;36m<module>\u001b[0;34m()\u001b[0m\n\u001b[0;32m----> 1\u001b[0;31m \u001b[0mmatrix\u001b[0m\u001b[0;34m[\u001b[0m\u001b[0;36m0\u001b[0m\u001b[0;34m,\u001b[0m\u001b[0;36m0\u001b[0m\u001b[0;34m]\u001b[0m \u001b[0;34m=\u001b[0m \u001b[0;34m\"hello\"\u001b[0m\u001b[0;34m\u001b[0m\u001b[0;34m\u001b[0m\u001b[0m\n\u001b[0m",
            "\u001b[0;31mValueError\u001b[0m: invalid literal for int() with base 10: 'hello'"
          ]
        }
      ]
    },
    {
      "metadata": {
        "colab_type": "text",
        "id": "YB3dlitr8LhH"
      },
      "cell_type": "markdown",
      "source": [
        "If we want, we can explicitly define the type of the array data when we create it, using the `dtype` keyword argument:"
      ]
    },
    {
      "metadata": {
        "colab_type": "code",
        "id": "LwWdvN-E8H8M",
        "outputId": "1116d921-fccc-4c01-d4bd-9a4547e7c6e7",
        "colab": {
          "base_uri": "https://localhost:8080/",
          "height": 51
        }
      },
      "cell_type": "code",
      "source": [
        "matrix = array([[1, 2], [3, 4]], dtype=float)\n",
        "\n",
        "matrix"
      ],
      "execution_count": 0,
      "outputs": [
        {
          "output_type": "execute_result",
          "data": {
            "text/plain": [
              "array([[1., 2.],\n",
              "       [3., 4.]])"
            ]
          },
          "metadata": {
            "tags": []
          },
          "execution_count": 13
        }
      ]
    },
    {
      "metadata": {
        "colab_type": "text",
        "id": "8tv3w6GW8b8o"
      },
      "cell_type": "markdown",
      "source": [
        "Common data types that can be used with dtype are: `int`, `float`, `complex`, `bool`, etc.\n",
        "\n",
        "We can also explicitly define the bit size of the data types, for example: `int64`, `int16`, `float128`, `complex128`.\n",
        "\n"
      ]
    },
    {
      "metadata": {
        "colab_type": "text",
        "id": "3IXgGaQz82UZ"
      },
      "cell_type": "markdown",
      "source": [
        "### Using array-generating functions\n",
        "For larger arrays it is inpractical to initialize the data manually, using explicit python lists. Instead we can use one of the many functions in numpy that generate arrays of different forms. Some of the more common are:\n",
        "\n",
        "**`arange`**\n"
      ]
    },
    {
      "metadata": {
        "colab_type": "code",
        "id": "OXsJtv_L8W8J",
        "outputId": "429237c4-0fcc-4123-9816-f4881f1fa558",
        "colab": {
          "base_uri": "https://localhost:8080/",
          "height": 34
        }
      },
      "cell_type": "code",
      "source": [
        "# create a range\n",
        "\n",
        "x = arange(0, 10, 1) # arguments: start, stop, step\n",
        "\n",
        "x"
      ],
      "execution_count": 0,
      "outputs": [
        {
          "output_type": "execute_result",
          "data": {
            "text/plain": [
              "array([0, 1, 2, 3, 4, 5, 6, 7, 8, 9])"
            ]
          },
          "metadata": {
            "tags": []
          },
          "execution_count": 14
        }
      ]
    },
    {
      "metadata": {
        "colab_type": "code",
        "id": "U-draCYT9Lxh",
        "outputId": "66eb588f-f8f9-449c-c2de-b5fed2eb4de3",
        "colab": {
          "base_uri": "https://localhost:8080/",
          "height": 102
        }
      },
      "cell_type": "code",
      "source": [
        "x = arange(-1, 1, 0.1)\n",
        "\n",
        "x"
      ],
      "execution_count": 0,
      "outputs": [
        {
          "output_type": "execute_result",
          "data": {
            "text/plain": [
              "array([-1.00000000e+00, -9.00000000e-01, -8.00000000e-01, -7.00000000e-01,\n",
              "       -6.00000000e-01, -5.00000000e-01, -4.00000000e-01, -3.00000000e-01,\n",
              "       -2.00000000e-01, -1.00000000e-01, -2.22044605e-16,  1.00000000e-01,\n",
              "        2.00000000e-01,  3.00000000e-01,  4.00000000e-01,  5.00000000e-01,\n",
              "        6.00000000e-01,  7.00000000e-01,  8.00000000e-01,  9.00000000e-01])"
            ]
          },
          "metadata": {
            "tags": []
          },
          "execution_count": 15
        }
      ]
    },
    {
      "metadata": {
        "colab_type": "text",
        "id": "id-dgLar82Sq"
      },
      "cell_type": "markdown",
      "source": [
        "**`linspace`** and **`logspace`**"
      ]
    },
    {
      "metadata": {
        "colab_type": "code",
        "id": "x9eATKhC9Uz1",
        "outputId": "d972c5d4-7810-4fde-df6e-168a92b3d1dc",
        "colab": {
          "base_uri": "https://localhost:8080/",
          "height": 102
        }
      },
      "cell_type": "code",
      "source": [
        "# using linspace, both end points ARE included\n",
        "linspace(0, 10, 25)"
      ],
      "execution_count": 0,
      "outputs": [
        {
          "output_type": "execute_result",
          "data": {
            "text/plain": [
              "array([ 0.        ,  0.41666667,  0.83333333,  1.25      ,  1.66666667,\n",
              "        2.08333333,  2.5       ,  2.91666667,  3.33333333,  3.75      ,\n",
              "        4.16666667,  4.58333333,  5.        ,  5.41666667,  5.83333333,\n",
              "        6.25      ,  6.66666667,  7.08333333,  7.5       ,  7.91666667,\n",
              "        8.33333333,  8.75      ,  9.16666667,  9.58333333, 10.        ])"
            ]
          },
          "metadata": {
            "tags": []
          },
          "execution_count": 16
        }
      ]
    },
    {
      "metadata": {
        "colab_type": "code",
        "id": "429mHNjV9Wuh",
        "outputId": "61639733-c6ab-4812-afa5-3380ffc133c0",
        "colab": {
          "base_uri": "https://localhost:8080/",
          "height": 68
        }
      },
      "cell_type": "code",
      "source": [
        "logspace(0, 10, 10, base=e)"
      ],
      "execution_count": 0,
      "outputs": [
        {
          "output_type": "execute_result",
          "data": {
            "text/plain": [
              "array([1.00000000e+00, 3.03773178e+00, 9.22781435e+00, 2.80316249e+01,\n",
              "       8.51525577e+01, 2.58670631e+02, 7.85771994e+02, 2.38696456e+03,\n",
              "       7.25095809e+03, 2.20264658e+04])"
            ]
          },
          "metadata": {
            "tags": []
          },
          "execution_count": 17
        }
      ]
    },
    {
      "metadata": {
        "colab_type": "text",
        "id": "IReqIYz09a_X"
      },
      "cell_type": "markdown",
      "source": [
        "**`mgrid`**"
      ]
    },
    {
      "metadata": {
        "colab_type": "code",
        "id": "_DXsdEod9Y5N",
        "colab": {}
      },
      "cell_type": "code",
      "source": [
        "x, y = mgrid[0:5, 0:5]"
      ],
      "execution_count": 0,
      "outputs": []
    },
    {
      "metadata": {
        "colab_type": "code",
        "id": "7tTa7mco9ggU",
        "outputId": "f17f85c6-51f5-45b6-ef29-134d6b07c42d",
        "colab": {
          "base_uri": "https://localhost:8080/",
          "height": 102
        }
      },
      "cell_type": "code",
      "source": [
        "x"
      ],
      "execution_count": 0,
      "outputs": [
        {
          "output_type": "execute_result",
          "data": {
            "text/plain": [
              "array([[0, 0, 0, 0, 0],\n",
              "       [1, 1, 1, 1, 1],\n",
              "       [2, 2, 2, 2, 2],\n",
              "       [3, 3, 3, 3, 3],\n",
              "       [4, 4, 4, 4, 4]])"
            ]
          },
          "metadata": {
            "tags": []
          },
          "execution_count": 19
        }
      ]
    },
    {
      "metadata": {
        "colab_type": "code",
        "id": "0DK_8YQx9hSP",
        "outputId": "cf178439-827d-4f65-99e8-693ba0492e66",
        "colab": {
          "base_uri": "https://localhost:8080/",
          "height": 102
        }
      },
      "cell_type": "code",
      "source": [
        "y"
      ],
      "execution_count": 0,
      "outputs": [
        {
          "output_type": "execute_result",
          "data": {
            "text/plain": [
              "array([[0, 1, 2, 3, 4],\n",
              "       [0, 1, 2, 3, 4],\n",
              "       [0, 1, 2, 3, 4],\n",
              "       [0, 1, 2, 3, 4],\n",
              "       [0, 1, 2, 3, 4]])"
            ]
          },
          "metadata": {
            "tags": []
          },
          "execution_count": 20
        }
      ]
    },
    {
      "metadata": {
        "colab_type": "text",
        "id": "tvhQ0jPr_Dj8"
      },
      "cell_type": "markdown",
      "source": [
        "**random data**"
      ]
    },
    {
      "metadata": {
        "colab_type": "code",
        "id": "QzRIGenh-lKL",
        "colab": {}
      },
      "cell_type": "code",
      "source": [
        "from numpy import random"
      ],
      "execution_count": 0,
      "outputs": []
    },
    {
      "metadata": {
        "colab_type": "code",
        "id": "J6FNot0D_J92",
        "outputId": "15ed393e-1bd9-4e4f-daac-637b844c9e7f",
        "colab": {
          "base_uri": "https://localhost:8080/",
          "height": 102
        }
      },
      "cell_type": "code",
      "source": [
        "# uniform random numbers in [0,1]\n",
        "random.rand(5,5)"
      ],
      "execution_count": 0,
      "outputs": [
        {
          "output_type": "execute_result",
          "data": {
            "text/plain": [
              "array([[0.21945436, 0.62624846, 0.97543708, 0.91659586, 0.05087643],\n",
              "       [0.85066713, 0.40131735, 0.92901423, 0.7290399 , 0.4865608 ],\n",
              "       [0.99773362, 0.91392274, 0.52564316, 0.31194802, 0.00125373],\n",
              "       [0.09657073, 0.63590692, 0.108349  , 0.87094351, 0.77787512],\n",
              "       [0.01861538, 0.59028367, 0.71633518, 0.64032698, 0.04627364]])"
            ]
          },
          "metadata": {
            "tags": []
          },
          "execution_count": 22
        }
      ]
    },
    {
      "metadata": {
        "colab_type": "code",
        "id": "DJAvOD91_LWQ",
        "outputId": "21b827e5-7366-4790-9e9b-4e406bf23f35",
        "colab": {
          "base_uri": "https://localhost:8080/",
          "height": 102
        }
      },
      "cell_type": "code",
      "source": [
        "# standard normal distributed random numbers\n",
        "random.randn(5,5)"
      ],
      "execution_count": 0,
      "outputs": [
        {
          "output_type": "execute_result",
          "data": {
            "text/plain": [
              "array([[ 0.12878719,  0.45482   ,  1.52306474, -0.48435756, -0.33684215],\n",
              "       [-1.73251566,  1.29174573, -0.03475216,  1.33053552, -0.01993783],\n",
              "       [-0.25453968, -2.51760018, -0.35529236, -1.85664153, -0.14323059],\n",
              "       [-0.26209276, -0.60025684, -1.02809143, -0.47193277, -0.72903407],\n",
              "       [-1.14414615,  0.38396338,  0.43796546,  0.24856281, -0.8907877 ]])"
            ]
          },
          "metadata": {
            "tags": []
          },
          "execution_count": 23
        }
      ]
    },
    {
      "metadata": {
        "colab_type": "code",
        "id": "bXcuhreV_NE_",
        "colab": {}
      },
      "cell_type": "code",
      "source": [
        "import seaborn as sns"
      ],
      "execution_count": 0,
      "outputs": []
    },
    {
      "metadata": {
        "colab_type": "code",
        "id": "LtlFyf1v_tSD",
        "outputId": "3d0fcd67-cfa2-46d5-b58b-3fea254c6e3a",
        "colab": {
          "base_uri": "https://localhost:8080/",
          "height": 353
        }
      },
      "cell_type": "code",
      "source": [
        "# Let's plot uniform distribution\n",
        "\n",
        "x = random.rand(1000)\n",
        "sns.set_style('whitegrid')\n",
        "sns.distplot(x)"
      ],
      "execution_count": 0,
      "outputs": [
        {
          "output_type": "stream",
          "text": [
            "/usr/local/lib/python3.6/dist-packages/matplotlib/axes/_axes.py:6521: MatplotlibDeprecationWarning: \n",
            "The 'normed' kwarg was deprecated in Matplotlib 2.1 and will be removed in 3.1. Use 'density' instead.\n",
            "  alternative=\"'density'\", removal=\"3.1\")\n"
          ],
          "name": "stderr"
        },
        {
          "output_type": "execute_result",
          "data": {
            "text/plain": [
              "<matplotlib.axes._subplots.AxesSubplot at 0x7f03f6919eb8>"
            ]
          },
          "metadata": {
            "tags": []
          },
          "execution_count": 25
        },
        {
          "output_type": "display_data",
          "data": {
            "image/png": "[encoded data removed]",
            "text/plain": [
              "<Figure size 432x288 with 1 Axes>"
            ]
          },
          "metadata": {
            "tags": []
          }
        }
      ]
    },
    {
      "metadata": {
        "colab_type": "code",
        "id": "aW17W152_vQR",
        "outputId": "cc144c04-64f9-431a-e422-538d307ca9b4",
        "colab": {
          "base_uri": "https://localhost:8080/",
          "height": 353
        }
      },
      "cell_type": "code",
      "source": [
        "# Let's plot normal distribution\n",
        "\n",
        "x = random.randn(100000)\n",
        "sns.set_style('whitegrid')\n",
        "sns.distplot(x)"
      ],
      "execution_count": 0,
      "outputs": [
        {
          "output_type": "stream",
          "text": [
            "/usr/local/lib/python3.6/dist-packages/matplotlib/axes/_axes.py:6521: MatplotlibDeprecationWarning: \n",
            "The 'normed' kwarg was deprecated in Matplotlib 2.1 and will be removed in 3.1. Use 'density' instead.\n",
            "  alternative=\"'density'\", removal=\"3.1\")\n"
          ],
          "name": "stderr"
        },
        {
          "output_type": "execute_result",
          "data": {
            "text/plain": [
              "<matplotlib.axes._subplots.AxesSubplot at 0x7f03f68a1518>"
            ]
          },
          "metadata": {
            "tags": []
          },
          "execution_count": 26
        },
        {
          "output_type": "display_data",
          "data": {
            "image/png": "[encoded data removed]",
            "text/plain": [
              "<Figure size 432x288 with 1 Axes>"
            ]
          },
          "metadata": {
            "tags": []
          }
        }
      ]
    },
    {
      "metadata": {
        "colab_type": "code",
        "id": "jpovzBerBqwK",
        "outputId": "65d3e8a5-ab64-45c7-933f-f89656bef3cd",
        "colab": {
          "base_uri": "https://localhost:8080/",
          "height": 353
        }
      },
      "cell_type": "code",
      "source": [
        "# Let's plot poisson distribution\n",
        "\n",
        "x = random.poisson(5, 1000)\n",
        "sns.set_style('whitegrid')\n",
        "sns.distplot(x)"
      ],
      "execution_count": 0,
      "outputs": [
        {
          "output_type": "stream",
          "text": [
            "/usr/local/lib/python3.6/dist-packages/matplotlib/axes/_axes.py:6521: MatplotlibDeprecationWarning: \n",
            "The 'normed' kwarg was deprecated in Matplotlib 2.1 and will be removed in 3.1. Use 'density' instead.\n",
            "  alternative=\"'density'\", removal=\"3.1\")\n"
          ],
          "name": "stderr"
        },
        {
          "output_type": "execute_result",
          "data": {
            "text/plain": [
              "<matplotlib.axes._subplots.AxesSubplot at 0x7f03f4739470>"
            ]
          },
          "metadata": {
            "tags": []
          },
          "execution_count": 27
        },
        {
          "output_type": "display_data",
          "data": {
            "image/png": "[encoded data removed]",
            "text/plain": [
              "<Figure size 432x288 with 1 Axes>"
            ]
          },
          "metadata": {
            "tags": []
          }
        }
      ]
    },
    {
      "metadata": {
        "colab_type": "code",
        "id": "8R8faSgZMjCz",
        "colab": {}
      },
      "cell_type": "code",
      "source": [
        ""
      ],
      "execution_count": 0,
      "outputs": []
    },
    {
      "metadata": {
        "colab_type": "text",
        "id": "QBGwIMI8C87a"
      },
      "cell_type": "markdown",
      "source": [
        "**`diag`**"
      ]
    },
    {
      "metadata": {
        "colab_type": "code",
        "id": "qDroPOKUCSpm",
        "outputId": "4ef9b4ac-d9a8-418f-8719-a30e7f1c5b1a",
        "colab": {
          "base_uri": "https://localhost:8080/",
          "height": 68
        }
      },
      "cell_type": "code",
      "source": [
        "# a diagonal matrix\n",
        "diag([1,2,3])"
      ],
      "execution_count": 0,
      "outputs": [
        {
          "output_type": "execute_result",
          "data": {
            "text/plain": [
              "array([[1, 0, 0],\n",
              "       [0, 2, 0],\n",
              "       [0, 0, 3]])"
            ]
          },
          "metadata": {
            "tags": []
          },
          "execution_count": 28
        }
      ]
    },
    {
      "metadata": {
        "colab_type": "code",
        "id": "vmaw6RZqDAV4",
        "outputId": "912330e1-104a-401f-fde6-e683d30467d0",
        "colab": {
          "base_uri": "https://localhost:8080/",
          "height": 85
        }
      },
      "cell_type": "code",
      "source": [
        "# diagonal with offset from the main diagonal\n",
        "diag([1,2,3], k=1)"
      ],
      "execution_count": 0,
      "outputs": [
        {
          "output_type": "execute_result",
          "data": {
            "text/plain": [
              "array([[0, 1, 0, 0],\n",
              "       [0, 0, 2, 0],\n",
              "       [0, 0, 0, 3],\n",
              "       [0, 0, 0, 0]])"
            ]
          },
          "metadata": {
            "tags": []
          },
          "execution_count": 29
        }
      ]
    },
    {
      "metadata": {
        "colab_type": "text",
        "id": "Kz8diw8LDDUp"
      },
      "cell_type": "markdown",
      "source": [
        "**zeroes** and **ones**"
      ]
    },
    {
      "metadata": {
        "colab_type": "code",
        "id": "L9hLnrSKDBwP",
        "outputId": "b0f7a001-16f1-41bc-af95-cde184429210",
        "colab": {
          "base_uri": "https://localhost:8080/",
          "height": 68
        }
      },
      "cell_type": "code",
      "source": [
        "zeros((3,3))"
      ],
      "execution_count": 0,
      "outputs": [
        {
          "output_type": "execute_result",
          "data": {
            "text/plain": [
              "array([[0., 0., 0.],\n",
              "       [0., 0., 0.],\n",
              "       [0., 0., 0.]])"
            ]
          },
          "metadata": {
            "tags": []
          },
          "execution_count": 30
        }
      ]
    },
    {
      "metadata": {
        "colab_type": "code",
        "id": "fmENy-orDJmc",
        "outputId": "278abe0e-a6a5-42c5-ec39-07acd5af7d29",
        "colab": {
          "base_uri": "https://localhost:8080/",
          "height": 68
        }
      },
      "cell_type": "code",
      "source": [
        "ones((3,3))"
      ],
      "execution_count": 0,
      "outputs": [
        {
          "output_type": "execute_result",
          "data": {
            "text/plain": [
              "array([[1., 1., 1.],\n",
              "       [1., 1., 1.],\n",
              "       [1., 1., 1.]])"
            ]
          },
          "metadata": {
            "tags": []
          },
          "execution_count": 31
        }
      ]
    },
    {
      "metadata": {
        "colab_type": "text",
        "id": "1c9CplWSDPcu"
      },
      "cell_type": "markdown",
      "source": [
        "## File IO"
      ]
    },
    {
      "metadata": {
        "colab_type": "text",
        "id": "eq80bLd9DYa2"
      },
      "cell_type": "markdown",
      "source": [
        "### Comma-separated values (CSV)\n",
        "A very common file format for data files is comma-separated values (CSV), or related formats such as TSV (tab-separated values). To read data from such files into Numpy arrays we can use the `numpy.genfromtxt` function. For example:"
      ]
    },
    {
      "metadata": {
        "colab_type": "code",
        "id": "3FKryGU7DK7t",
        "outputId": "7640cb22-e7c7-4998-e888-679f1aa0ebee",
        "colab": {
          "base_uri": "https://localhost:8080/",
          "height": 224
        }
      },
      "cell_type": "code",
      "source": [
        "!wget https://raw.githubusercontent.com/jrjohansson/scientific-python-lectures/master/stockholm_td_adj.dat"
      ],
      "execution_count": 0,
      "outputs": [
        {
          "output_type": "stream",
          "text": [
            "--2019-01-23 18:17:43--  https://raw.githubusercontent.com/jrjohansson/scientific-python-lectures/master/stockholm_td_adj.dat\n",
            "Resolving raw.githubusercontent.com (raw.githubusercontent.com)... 151.101.0.133, 151.101.64.133, 151.101.128.133, ...\n",
            "Connecting to raw.githubusercontent.com (raw.githubusercontent.com)|151.101.0.133|:443... connected.\n",
            "HTTP request sent, awaiting response... 200 OK\n",
            "Length: 2864946 (2.7M) [text/plain]\n",
            "Saving to: ‘stockholm_td_adj.dat’\n",
            "\n",
            "\rstockholm_td_adj.da   0%[                    ]       0  --.-KB/s               \rstockholm_td_adj.da 100%[===================>]   2.73M  --.-KB/s    in 0.06s   \n",
            "\n",
            "2019-01-23 18:17:43 (43.9 MB/s) - ‘stockholm_td_adj.dat’ saved [2864946/2864946]\n",
            "\n"
          ],
          "name": "stdout"
        }
      ]
    },
    {
      "metadata": {
        "colab_type": "code",
        "id": "rw6cj3I_DmBp",
        "outputId": "a9e381a7-7fb2-4766-c280-5f817f9cae92",
        "colab": {
          "base_uri": "https://localhost:8080/",
          "height": 187
        }
      },
      "cell_type": "code",
      "source": [
        "!head stockholm_td_adj.dat"
      ],
      "execution_count": 0,
      "outputs": [
        {
          "output_type": "stream",
          "text": [
            "1800  1  1    -6.1    -6.1    -6.1 1\n",
            "1800  1  2   -15.4   -15.4   -15.4 1\n",
            "1800  1  3   -15.0   -15.0   -15.0 1\n",
            "1800  1  4   -19.3   -19.3   -19.3 1\n",
            "1800  1  5   -16.8   -16.8   -16.8 1\n",
            "1800  1  6   -11.4   -11.4   -11.4 1\n",
            "1800  1  7    -7.6    -7.6    -7.6 1\n",
            "1800  1  8    -7.1    -7.1    -7.1 1\n",
            "1800  1  9   -10.1   -10.1   -10.1 1\n",
            "1800  1 10    -9.5    -9.5    -9.5 1\n"
          ],
          "name": "stdout"
        }
      ]
    },
    {
      "metadata": {
        "colab_type": "code",
        "id": "4mDe8MipDqpp",
        "colab": {}
      },
      "cell_type": "code",
      "source": [
        "data = genfromtxt('stockholm_td_adj.dat')"
      ],
      "execution_count": 0,
      "outputs": []
    },
    {
      "metadata": {
        "colab_type": "code",
        "id": "SVwr4gHIDsSw",
        "outputId": "9c615924-c931-4c30-dafe-2ec886b8554f",
        "colab": {
          "base_uri": "https://localhost:8080/",
          "height": 34
        }
      },
      "cell_type": "code",
      "source": [
        "data.shape"
      ],
      "execution_count": 0,
      "outputs": [
        {
          "output_type": "execute_result",
          "data": {
            "text/plain": [
              "(77431, 7)"
            ]
          },
          "metadata": {
            "tags": []
          },
          "execution_count": 35
        }
      ]
    },
    {
      "metadata": {
        "colab_type": "code",
        "id": "FVk3cwwHDvRI",
        "outputId": "1163f08c-1ea6-40c7-ad26-270ed1138ff0",
        "colab": {
          "base_uri": "https://localhost:8080/",
          "height": 314
        }
      },
      "cell_type": "code",
      "source": [
        "fig, ax = plt.subplots(figsize=(14,4))\n",
        "ax.plot(data[:,0]+data[:,1]/12.0+data[:,2]/365, data[:,5])\n",
        "ax.axis('tight')\n",
        "ax.set_title('tempeatures in Stockholm')\n",
        "ax.set_xlabel('year')\n",
        "ax.set_ylabel('temperature (C)');"
      ],
      "execution_count": 0,
      "outputs": [
        {
          "output_type": "display_data",
          "data": {
            "image/png": "[encoded data removed]",
            "text/plain": [
              "<Figure size 1008x288 with 1 Axes>"
            ]
          },
          "metadata": {
            "tags": []
          }
        }
      ]
    },
    {
      "metadata": {
        "colab_type": "text",
        "id": "aiOGIgG5D9Np"
      },
      "cell_type": "markdown",
      "source": [
        "Using `numpy.savetxt` we can store a Numpy array to a file in CSV format:"
      ]
    },
    {
      "metadata": {
        "colab_type": "code",
        "id": "CO1jlMKTDw1J",
        "outputId": "459b6752-3f24-4a57-d21c-2779ba57e7d7",
        "colab": {
          "base_uri": "https://localhost:8080/",
          "height": 68
        }
      },
      "cell_type": "code",
      "source": [
        "M = random.rand(3,3)\n",
        "\n",
        "M"
      ],
      "execution_count": 0,
      "outputs": [
        {
          "output_type": "execute_result",
          "data": {
            "text/plain": [
              "array([[0.15899226, 0.73913852, 0.0858632 ],\n",
              "       [0.41821712, 0.11712784, 0.34176831],\n",
              "       [0.52685163, 0.12873943, 0.92178189]])"
            ]
          },
          "metadata": {
            "tags": []
          },
          "execution_count": 37
        }
      ]
    },
    {
      "metadata": {
        "colab_type": "code",
        "id": "mH_0TzRoEBcH",
        "colab": {}
      },
      "cell_type": "code",
      "source": [
        "savetxt(\"random-matrix.csv\", M)\n"
      ],
      "execution_count": 0,
      "outputs": []
    },
    {
      "metadata": {
        "colab_type": "code",
        "id": "1rjkRxqhECoZ",
        "outputId": "ea32ae94-a16f-4b77-9ee9-d2e3207878d8",
        "colab": {
          "base_uri": "https://localhost:8080/",
          "height": 68
        }
      },
      "cell_type": "code",
      "source": [
        "!cat random-matrix.csv"
      ],
      "execution_count": 0,
      "outputs": [
        {
          "output_type": "stream",
          "text": [
            "1.589922582398127782e-01 7.391385219751671620e-01 8.586320111848333436e-02\n",
            "4.182171214227743405e-01 1.171278378058918657e-01 3.417683058329642476e-01\n",
            "5.268516328643041424e-01 1.287394330466531400e-01 9.217818880426476014e-01\n"
          ],
          "name": "stdout"
        }
      ]
    },
    {
      "metadata": {
        "colab_type": "code",
        "id": "4drZZmxkEEFC",
        "outputId": "bc1e4295-609e-48dc-eb9b-677bb48df61a",
        "colab": {
          "base_uri": "https://localhost:8080/",
          "height": 68
        }
      },
      "cell_type": "code",
      "source": [
        "savetxt(\"random-matrix.csv\", M, fmt='%.5f') # fmt specifies the format\n",
        "\n",
        "!cat random-matrix.csv"
      ],
      "execution_count": 0,
      "outputs": [
        {
          "output_type": "stream",
          "text": [
            "0.15899 0.73914 0.08586\n",
            "0.41822 0.11713 0.34177\n",
            "0.52685 0.12874 0.92178\n"
          ],
          "name": "stdout"
        }
      ]
    },
    {
      "metadata": {
        "colab_type": "text",
        "id": "TngHFJDREI_M"
      },
      "cell_type": "markdown",
      "source": [
        "### Numpy's native file format\n",
        "Useful when storing and reading back numpy array data. Use the functions `numpy.save` and `numpy.load`:"
      ]
    },
    {
      "metadata": {
        "colab_type": "code",
        "id": "zwK9twOyEF5D",
        "outputId": "c256d6b1-89e1-4990-d8c3-1d7b50ccf3a3",
        "colab": {
          "base_uri": "https://localhost:8080/",
          "height": 221
        }
      },
      "cell_type": "code",
      "source": [
        "save(\"random-matrix.npy\", M)\n",
        "\n",
        "!ls -lh *"
      ],
      "execution_count": 0,
      "outputs": [
        {
          "output_type": "stream",
          "text": [
            "-rw-r--r-- 1 root root   72 Jan 23 18:19 random-matrix.csv\n",
            "-rw-r--r-- 1 root root  200 Jan 23 18:19 random-matrix.npy\n",
            "-rw-r--r-- 1 root root 2.8M Jan 23 18:17 stockholm_td_adj.dat\n",
            "\n",
            "sample_data:\n",
            "total 55M\n",
            "-r-xr-xr-x 1 root root 1.7K Jan  1  2000 anscombe.json\n",
            "-rw-r--r-- 1 root root 295K Jan  8 17:14 california_housing_test.csv\n",
            "-rw-r--r-- 1 root root 1.7M Jan  8 17:14 california_housing_train.csv\n",
            "-rw-r--r-- 1 root root  18M Jan  8 17:15 mnist_test.csv\n",
            "-rw-r--r-- 1 root root  35M Jan  8 17:15 mnist_train_small.csv\n",
            "-r-xr-xr-x 1 root root  903 Jan  1  2000 README.md\n"
          ],
          "name": "stdout"
        }
      ]
    },
    {
      "metadata": {
        "colab_type": "text",
        "id": "nsLbEF95H09R"
      },
      "cell_type": "markdown",
      "source": [
        "## Manipulating arrays\n",
        "--------\n",
        "\n",
        "### Indexing\n",
        "We can index elements in an array using square brackets and indices:"
      ]
    },
    {
      "metadata": {
        "colab_type": "code",
        "id": "38_h7BfaIMm1",
        "outputId": "0e4da128-027e-41dd-fe28-0eda7cec00d3",
        "colab": {
          "base_uri": "https://localhost:8080/",
          "height": 34
        }
      },
      "cell_type": "code",
      "source": [
        "# vector, and has only one dimension, taking one index\n",
        "vector[0]"
      ],
      "execution_count": 0,
      "outputs": [
        {
          "output_type": "execute_result",
          "data": {
            "text/plain": [
              "1"
            ]
          },
          "metadata": {
            "tags": []
          },
          "execution_count": 42
        }
      ]
    },
    {
      "metadata": {
        "colab_type": "code",
        "id": "SQJU3OrvETsM",
        "outputId": "f4c2a0e7-00ed-4893-9027-8df100341aab",
        "colab": {
          "base_uri": "https://localhost:8080/",
          "height": 34
        }
      },
      "cell_type": "code",
      "source": [
        "# matrix is a 2 dimensional array, taking two indices \n",
        "matrix[1,1]"
      ],
      "execution_count": 0,
      "outputs": [
        {
          "output_type": "execute_result",
          "data": {
            "text/plain": [
              "4.0"
            ]
          },
          "metadata": {
            "tags": []
          },
          "execution_count": 43
        }
      ]
    },
    {
      "metadata": {
        "colab_type": "text",
        "id": "jmZXudUpIhfi"
      },
      "cell_type": "markdown",
      "source": [
        "If we omit an index of a multidimensional array it returns the whole row (or, in general, a `N-1` dimensional array)\n",
        "\n"
      ]
    },
    {
      "metadata": {
        "colab_type": "code",
        "id": "i8w18WqeIctG",
        "outputId": "816a1046-fad7-41ed-c002-59ecab011ba7",
        "colab": {
          "base_uri": "https://localhost:8080/",
          "height": 51
        }
      },
      "cell_type": "code",
      "source": [
        "matrix"
      ],
      "execution_count": 0,
      "outputs": [
        {
          "output_type": "execute_result",
          "data": {
            "text/plain": [
              "array([[1., 2.],\n",
              "       [3., 4.]])"
            ]
          },
          "metadata": {
            "tags": []
          },
          "execution_count": 44
        }
      ]
    },
    {
      "metadata": {
        "colab_type": "code",
        "id": "ZyQqPy9yImHJ",
        "outputId": "20c10cad-b06e-417d-e0a9-be829ccc1c1e",
        "colab": {
          "base_uri": "https://localhost:8080/",
          "height": 34
        }
      },
      "cell_type": "code",
      "source": [
        "matrix[1]"
      ],
      "execution_count": 0,
      "outputs": [
        {
          "output_type": "execute_result",
          "data": {
            "text/plain": [
              "array([3., 4.])"
            ]
          },
          "metadata": {
            "tags": []
          },
          "execution_count": 45
        }
      ]
    },
    {
      "metadata": {
        "colab_type": "text",
        "id": "HXh3lN0TIuSY"
      },
      "cell_type": "markdown",
      "source": [
        "The same thing can be achieved with using `:` instead of an index:\n",
        "\n"
      ]
    },
    {
      "metadata": {
        "colab_type": "code",
        "id": "btk6C_bEIq_L",
        "outputId": "2488b5fb-eb57-4a5e-e142-ce4da4163770",
        "colab": {
          "base_uri": "https://localhost:8080/",
          "height": 34
        }
      },
      "cell_type": "code",
      "source": [
        "matrix[1,:] #row 1"
      ],
      "execution_count": 0,
      "outputs": [
        {
          "output_type": "execute_result",
          "data": {
            "text/plain": [
              "array([3., 4.])"
            ]
          },
          "metadata": {
            "tags": []
          },
          "execution_count": 46
        }
      ]
    },
    {
      "metadata": {
        "colab_type": "code",
        "id": "GyaZv03bI0Pj",
        "outputId": "cf82d795-dbf0-4575-b14d-d7f8a0e8be8e",
        "colab": {
          "base_uri": "https://localhost:8080/",
          "height": 34
        }
      },
      "cell_type": "code",
      "source": [
        "matrix[:,1] #column 1"
      ],
      "execution_count": 0,
      "outputs": [
        {
          "output_type": "execute_result",
          "data": {
            "text/plain": [
              "array([2., 4.])"
            ]
          },
          "metadata": {
            "tags": []
          },
          "execution_count": 47
        }
      ]
    },
    {
      "metadata": {
        "colab_type": "text",
        "id": "7EN0OCH2I7tL"
      },
      "cell_type": "markdown",
      "source": [
        "We can assign new values to elements in an array using indexing:"
      ]
    },
    {
      "metadata": {
        "colab_type": "code",
        "id": "pGpiwoveI5nj",
        "colab": {}
      },
      "cell_type": "code",
      "source": [
        "matrix[1,1] = 1"
      ],
      "execution_count": 0,
      "outputs": []
    },
    {
      "metadata": {
        "colab_type": "code",
        "id": "BtDLmRdbI-qe",
        "outputId": "ac3b60dc-7ad5-4730-b4b7-eb578b62ec7c",
        "colab": {
          "base_uri": "https://localhost:8080/",
          "height": 51
        }
      },
      "cell_type": "code",
      "source": [
        "matrix"
      ],
      "execution_count": 0,
      "outputs": [
        {
          "output_type": "execute_result",
          "data": {
            "text/plain": [
              "array([[1., 2.],\n",
              "       [3., 1.]])"
            ]
          },
          "metadata": {
            "tags": []
          },
          "execution_count": 49
        }
      ]
    },
    {
      "metadata": {
        "colab_type": "code",
        "id": "ck5QHr96JBPh",
        "colab": {}
      },
      "cell_type": "code",
      "source": [
        "# also works for rows and columns\n",
        "matrix[1,:] = 0\n",
        "matrix[:,1] = -1"
      ],
      "execution_count": 0,
      "outputs": []
    },
    {
      "metadata": {
        "colab_type": "code",
        "id": "NgWt2iNWJIHg",
        "outputId": "1930a7ed-9cfd-434c-fac5-faf59bffc91c",
        "colab": {
          "base_uri": "https://localhost:8080/",
          "height": 51
        }
      },
      "cell_type": "code",
      "source": [
        "matrix"
      ],
      "execution_count": 0,
      "outputs": [
        {
          "output_type": "execute_result",
          "data": {
            "text/plain": [
              "array([[ 1., -1.],\n",
              "       [ 0., -1.]])"
            ]
          },
          "metadata": {
            "tags": []
          },
          "execution_count": 51
        }
      ]
    },
    {
      "metadata": {
        "colab_type": "text",
        "id": "7uDgrHbNJeRx"
      },
      "cell_type": "markdown",
      "source": [
        "### Index slicing\n",
        "\n",
        "Index slicing is the technical name for the syntax `M[lower:upper:step]` to extract part of an array:\n",
        "\n"
      ]
    },
    {
      "metadata": {
        "colab_type": "code",
        "id": "SmjAf0FyJVCk",
        "outputId": "2d45d89c-ae98-4588-f728-69ab27cbf738",
        "colab": {
          "base_uri": "https://localhost:8080/",
          "height": 34
        }
      },
      "cell_type": "code",
      "source": [
        "A = array([1,2,3,4,5])\n",
        "A"
      ],
      "execution_count": 0,
      "outputs": [
        {
          "output_type": "execute_result",
          "data": {
            "text/plain": [
              "array([1, 2, 3, 4, 5])"
            ]
          },
          "metadata": {
            "tags": []
          },
          "execution_count": 52
        }
      ]
    },
    {
      "metadata": {
        "colab_type": "code",
        "id": "P74_w40pJnbQ",
        "outputId": "061087e0-d6db-40ab-fb43-74c1ab46a447",
        "colab": {
          "base_uri": "https://localhost:8080/",
          "height": 34
        }
      },
      "cell_type": "code",
      "source": [
        "A[1:3] = [-2,-3]\n",
        "\n",
        "A"
      ],
      "execution_count": 0,
      "outputs": [
        {
          "output_type": "execute_result",
          "data": {
            "text/plain": [
              "array([ 1, -2, -3,  4,  5])"
            ]
          },
          "metadata": {
            "tags": []
          },
          "execution_count": 53
        }
      ]
    },
    {
      "metadata": {
        "colab_type": "code",
        "id": "67L6fhGqJpM0",
        "outputId": "7907f08a-508a-4fbe-a3fa-9636b6048e9b",
        "colab": {
          "base_uri": "https://localhost:8080/",
          "height": 34
        }
      },
      "cell_type": "code",
      "source": [
        "A[::] # lower, upper, step all take the default values"
      ],
      "execution_count": 0,
      "outputs": [
        {
          "output_type": "execute_result",
          "data": {
            "text/plain": [
              "array([ 1, -2, -3,  4,  5])"
            ]
          },
          "metadata": {
            "tags": []
          },
          "execution_count": 54
        }
      ]
    },
    {
      "metadata": {
        "colab_type": "code",
        "id": "BnA9S08MJrpQ",
        "outputId": "bf76db20-e0d6-4e6a-8b1a-3cd0d68c6018",
        "colab": {
          "base_uri": "https://localhost:8080/",
          "height": 34
        }
      },
      "cell_type": "code",
      "source": [
        "A[::2] # step is 2, lower and upper defaults to the beginning and end of the array"
      ],
      "execution_count": 0,
      "outputs": [
        {
          "output_type": "execute_result",
          "data": {
            "text/plain": [
              "array([ 1, -3,  5])"
            ]
          },
          "metadata": {
            "tags": []
          },
          "execution_count": 55
        }
      ]
    },
    {
      "metadata": {
        "colab_type": "code",
        "id": "THHUSHPfJuaS",
        "outputId": "df94900a-3eee-46b3-be59-a238eaea8329",
        "colab": {
          "base_uri": "https://localhost:8080/",
          "height": 34
        }
      },
      "cell_type": "code",
      "source": [
        "A[:3] # first three elements"
      ],
      "execution_count": 0,
      "outputs": [
        {
          "output_type": "execute_result",
          "data": {
            "text/plain": [
              "array([ 1, -2, -3])"
            ]
          },
          "metadata": {
            "tags": []
          },
          "execution_count": 56
        }
      ]
    },
    {
      "metadata": {
        "colab_type": "code",
        "id": "7mgU5PLyJv0c",
        "outputId": "1a0a54cc-3c4d-4553-df23-6af7697d4241",
        "colab": {
          "base_uri": "https://localhost:8080/",
          "height": 34
        }
      },
      "cell_type": "code",
      "source": [
        "A[3:] # elements from index 3"
      ],
      "execution_count": 0,
      "outputs": [
        {
          "output_type": "execute_result",
          "data": {
            "text/plain": [
              "array([4, 5])"
            ]
          },
          "metadata": {
            "tags": []
          },
          "execution_count": 57
        }
      ]
    },
    {
      "metadata": {
        "colab_type": "text",
        "id": "yr0aFon_JzCE"
      },
      "cell_type": "markdown",
      "source": [
        "Negative indices counts from the end of the array (positive index from the begining):"
      ]
    },
    {
      "metadata": {
        "colab_type": "code",
        "id": "7OD1tDqYJxVT",
        "colab": {}
      },
      "cell_type": "code",
      "source": [
        "A = array([1,2,3,4,5])"
      ],
      "execution_count": 0,
      "outputs": []
    },
    {
      "metadata": {
        "colab_type": "code",
        "id": "wXGbE8ZQJ2qr",
        "outputId": "ad3a98d3-9903-4376-e28c-216f6a7ff689",
        "colab": {
          "base_uri": "https://localhost:8080/",
          "height": 34
        }
      },
      "cell_type": "code",
      "source": [
        "A[-1] # the last element in the array"
      ],
      "execution_count": 0,
      "outputs": [
        {
          "output_type": "execute_result",
          "data": {
            "text/plain": [
              "5"
            ]
          },
          "metadata": {
            "tags": []
          },
          "execution_count": 59
        }
      ]
    },
    {
      "metadata": {
        "colab_type": "code",
        "id": "ph-hisdTJ4FY",
        "outputId": "2800d0b7-489f-4f5d-bdce-23cbe99df4ab",
        "colab": {
          "base_uri": "https://localhost:8080/",
          "height": 34
        }
      },
      "cell_type": "code",
      "source": [
        "A[-3:] # the last three elements\n"
      ],
      "execution_count": 0,
      "outputs": [
        {
          "output_type": "execute_result",
          "data": {
            "text/plain": [
              "array([3, 4, 5])"
            ]
          },
          "metadata": {
            "tags": []
          },
          "execution_count": 60
        }
      ]
    },
    {
      "metadata": {
        "colab_type": "text",
        "id": "Oe8eYie6J-cN"
      },
      "cell_type": "markdown",
      "source": [
        "Index slicing works exactly the same way for multidimensional arrays:\n"
      ]
    },
    {
      "metadata": {
        "colab_type": "code",
        "id": "rN4aB8HkJ5W7",
        "outputId": "b0da4213-7e02-4c55-f97c-888152ed43c5",
        "colab": {
          "base_uri": "https://localhost:8080/",
          "height": 102
        }
      },
      "cell_type": "code",
      "source": [
        "A = array([[n+m*10 for n in range(5)] for m in range(5)])\n",
        "\n",
        "A"
      ],
      "execution_count": 0,
      "outputs": [
        {
          "output_type": "execute_result",
          "data": {
            "text/plain": [
              "array([[ 0,  1,  2,  3,  4],\n",
              "       [10, 11, 12, 13, 14],\n",
              "       [20, 21, 22, 23, 24],\n",
              "       [30, 31, 32, 33, 34],\n",
              "       [40, 41, 42, 43, 44]])"
            ]
          },
          "metadata": {
            "tags": []
          },
          "execution_count": 61
        }
      ]
    },
    {
      "metadata": {
        "colab_type": "code",
        "id": "R_tt5_S3KCCl",
        "outputId": "8be3c92e-6cbb-47a2-8830-37c5ba78b7b2",
        "colab": {
          "base_uri": "https://localhost:8080/",
          "height": 68
        }
      },
      "cell_type": "code",
      "source": [
        "# a block from the original array\n",
        "A[1:4, 1:4]"
      ],
      "execution_count": 0,
      "outputs": [
        {
          "output_type": "execute_result",
          "data": {
            "text/plain": [
              "array([[11, 12, 13],\n",
              "       [21, 22, 23],\n",
              "       [31, 32, 33]])"
            ]
          },
          "metadata": {
            "tags": []
          },
          "execution_count": 62
        }
      ]
    },
    {
      "metadata": {
        "colab_type": "code",
        "id": "AohekOgeKKDL",
        "outputId": "c56a3ec8-635c-47a8-cb25-ba60222993dc",
        "colab": {
          "base_uri": "https://localhost:8080/",
          "height": 68
        }
      },
      "cell_type": "code",
      "source": [
        "# strides\n",
        "A[::2, ::2]"
      ],
      "execution_count": 0,
      "outputs": [
        {
          "output_type": "execute_result",
          "data": {
            "text/plain": [
              "array([[ 0,  2,  4],\n",
              "       [20, 22, 24],\n",
              "       [40, 42, 44]])"
            ]
          },
          "metadata": {
            "tags": []
          },
          "execution_count": 63
        }
      ]
    },
    {
      "metadata": {
        "colab_type": "text",
        "id": "suvehokjLYbt"
      },
      "cell_type": "markdown",
      "source": [
        "### Fancy indexing\n",
        "Fancy indexing is the name for when an array or list is used in-place of an index:"
      ]
    },
    {
      "metadata": {
        "colab_type": "code",
        "id": "N9VZ_tDdKPOM",
        "outputId": "e0e0fe6c-a5c4-4436-88e6-54b88ab82f4d",
        "colab": {
          "base_uri": "https://localhost:8080/",
          "height": 68
        }
      },
      "cell_type": "code",
      "source": [
        "row_indices = [1, 2, 3]\n",
        "A[row_indices]"
      ],
      "execution_count": 0,
      "outputs": [
        {
          "output_type": "execute_result",
          "data": {
            "text/plain": [
              "array([[10, 11, 12, 13, 14],\n",
              "       [20, 21, 22, 23, 24],\n",
              "       [30, 31, 32, 33, 34]])"
            ]
          },
          "metadata": {
            "tags": []
          },
          "execution_count": 64
        }
      ]
    },
    {
      "metadata": {
        "colab_type": "code",
        "id": "xCWphWLfLcMT",
        "outputId": "d2e9c4a4-fc31-4314-ca6a-d7520be9c610",
        "colab": {
          "base_uri": "https://localhost:8080/",
          "height": 34
        }
      },
      "cell_type": "code",
      "source": [
        "col_indices = [1, 2, -1] # remember, index -1 means the last element\n",
        "A[row_indices, col_indices]"
      ],
      "execution_count": 0,
      "outputs": [
        {
          "output_type": "execute_result",
          "data": {
            "text/plain": [
              "array([11, 22, 34])"
            ]
          },
          "metadata": {
            "tags": []
          },
          "execution_count": 65
        }
      ]
    },
    {
      "metadata": {
        "colab_type": "text",
        "id": "2r1TAAFTN7fa"
      },
      "cell_type": "markdown",
      "source": [
        "We can also use index masks: If the index mask is an Numpy array of data type `bool`, then an element is selected (True) or not (False) depending on the value of the index mask at the position of each element:"
      ]
    },
    {
      "metadata": {
        "colab_type": "code",
        "id": "kGvNphJtLhvZ",
        "outputId": "10eea762-4f4c-42f5-c002-2a5fa8499b76",
        "colab": {
          "base_uri": "https://localhost:8080/",
          "height": 34
        }
      },
      "cell_type": "code",
      "source": [
        "B = array([n for n in range(5)])\n",
        "B"
      ],
      "execution_count": 0,
      "outputs": [
        {
          "output_type": "execute_result",
          "data": {
            "text/plain": [
              "array([0, 1, 2, 3, 4])"
            ]
          },
          "metadata": {
            "tags": []
          },
          "execution_count": 66
        }
      ]
    },
    {
      "metadata": {
        "colab_type": "code",
        "id": "fnaG0tr5OBAq",
        "outputId": "c40988ce-9590-4cc7-e36d-50068c428d8b",
        "colab": {
          "base_uri": "https://localhost:8080/",
          "height": 34
        }
      },
      "cell_type": "code",
      "source": [
        "row_mask = array([True, False, True, False, False])\n",
        "B[row_mask]"
      ],
      "execution_count": 0,
      "outputs": [
        {
          "output_type": "execute_result",
          "data": {
            "text/plain": [
              "array([0, 2])"
            ]
          },
          "metadata": {
            "tags": []
          },
          "execution_count": 67
        }
      ]
    },
    {
      "metadata": {
        "colab_type": "code",
        "id": "8y2U2Z0_OFaz",
        "outputId": "8f43bb30-df30-4bd6-97dc-411c4825919d",
        "colab": {
          "base_uri": "https://localhost:8080/",
          "height": 34
        }
      },
      "cell_type": "code",
      "source": [
        "# same thing\n",
        "row_mask = array([1,0,1,0,0], dtype=bool)\n",
        "B[row_mask]"
      ],
      "execution_count": 0,
      "outputs": [
        {
          "output_type": "execute_result",
          "data": {
            "text/plain": [
              "array([0, 2])"
            ]
          },
          "metadata": {
            "tags": []
          },
          "execution_count": 68
        }
      ]
    },
    {
      "metadata": {
        "colab_type": "text",
        "id": "Nq2hwgDMOK5v"
      },
      "cell_type": "markdown",
      "source": [
        "This feature is very useful to conditionally select elements from an array, using for example comparison operators:"
      ]
    },
    {
      "metadata": {
        "colab_type": "code",
        "id": "OB2w0cRCOIqk",
        "outputId": "c717d039-20a8-420c-f419-330dfd71ce7f",
        "colab": {
          "base_uri": "https://localhost:8080/",
          "height": 51
        }
      },
      "cell_type": "code",
      "source": [
        "x = arange(0, 10, 0.5)\n",
        "x"
      ],
      "execution_count": 0,
      "outputs": [
        {
          "output_type": "execute_result",
          "data": {
            "text/plain": [
              "array([0. , 0.5, 1. , 1.5, 2. , 2.5, 3. , 3.5, 4. , 4.5, 5. , 5.5, 6. ,\n",
              "       6.5, 7. , 7.5, 8. , 8.5, 9. , 9.5])"
            ]
          },
          "metadata": {
            "tags": []
          },
          "execution_count": 69
        }
      ]
    },
    {
      "metadata": {
        "colab_type": "code",
        "id": "nzqksRlGON1O",
        "outputId": "354f1877-c15b-4115-9d0d-f60f809cae58",
        "colab": {
          "base_uri": "https://localhost:8080/",
          "height": 68
        }
      },
      "cell_type": "code",
      "source": [
        "mask = (5 < x) * (x < 7.5)\n",
        "mask"
      ],
      "execution_count": 0,
      "outputs": [
        {
          "output_type": "execute_result",
          "data": {
            "text/plain": [
              "array([False, False, False, False, False, False, False, False, False,\n",
              "       False, False,  True,  True,  True,  True, False, False, False,\n",
              "       False, False])"
            ]
          },
          "metadata": {
            "tags": []
          },
          "execution_count": 70
        }
      ]
    },
    {
      "metadata": {
        "colab_type": "code",
        "id": "i0T4IB87OPbs",
        "outputId": "ce554df3-7647-49cc-f8b9-20b66814d3d3",
        "colab": {
          "base_uri": "https://localhost:8080/",
          "height": 34
        }
      },
      "cell_type": "code",
      "source": [
        "x[mask]"
      ],
      "execution_count": 0,
      "outputs": [
        {
          "output_type": "execute_result",
          "data": {
            "text/plain": [
              "array([5.5, 6. , 6.5, 7. ])"
            ]
          },
          "metadata": {
            "tags": []
          },
          "execution_count": 72
        }
      ]
    },
    {
      "metadata": {
        "colab_type": "code",
        "id": "SwwqV4DnOVdj",
        "outputId": "e501c710-cabc-48b4-eb4f-c81c31622816",
        "colab": {
          "base_uri": "https://localhost:8080/",
          "height": 68
        }
      },
      "cell_type": "code",
      "source": [
        "( 5 < x ) * (x < 7.5)"
      ],
      "execution_count": 0,
      "outputs": [
        {
          "output_type": "execute_result",
          "data": {
            "text/plain": [
              "array([False, False, False, False, False, False, False, False, False,\n",
              "       False, False,  True,  True,  True,  True, False, False, False,\n",
              "       False, False])"
            ]
          },
          "metadata": {
            "tags": []
          },
          "execution_count": 73
        }
      ]
    },
    {
      "metadata": {
        "colab_type": "text",
        "id": "B193cBFiPzKQ"
      },
      "cell_type": "markdown",
      "source": [
        "### Functions for extracting data from arrays and creating arrays\n",
        "\n",
        "#### where\n",
        "The index mask can be converted to position index using the where function"
      ]
    },
    {
      "metadata": {
        "colab_type": "code",
        "id": "j5espRxlO2C2",
        "outputId": "d6becff6-828e-4031-9a8b-6439fc414f19",
        "colab": {
          "base_uri": "https://localhost:8080/",
          "height": 34
        }
      },
      "cell_type": "code",
      "source": [
        "indices = where(mask)\n",
        "\n",
        "indices"
      ],
      "execution_count": 0,
      "outputs": [
        {
          "output_type": "execute_result",
          "data": {
            "text/plain": [
              "(array([11, 12, 13, 14]),)"
            ]
          },
          "metadata": {
            "tags": []
          },
          "execution_count": 74
        }
      ]
    },
    {
      "metadata": {
        "colab_type": "code",
        "id": "idjzhjknP6OI",
        "outputId": "47ffef68-5fca-4fd1-9dcb-e6534dcf2507",
        "colab": {
          "base_uri": "https://localhost:8080/",
          "height": 34
        }
      },
      "cell_type": "code",
      "source": [
        "x[indices] # this indexing is equivalent to the fancy indexing x[mask]"
      ],
      "execution_count": 0,
      "outputs": [
        {
          "output_type": "execute_result",
          "data": {
            "text/plain": [
              "array([5.5, 6. , 6.5, 7. ])"
            ]
          },
          "metadata": {
            "tags": []
          },
          "execution_count": 75
        }
      ]
    },
    {
      "metadata": {
        "colab_type": "text",
        "id": "a8CCpQ6eQBkl"
      },
      "cell_type": "markdown",
      "source": [
        "####diag\n",
        "With the diag function we can also extract the diagonal and subdiagonals of an array:"
      ]
    },
    {
      "metadata": {
        "colab_type": "code",
        "id": "7aqVSdH7P-pJ",
        "outputId": "bcbb3603-26e8-4a3e-e656-a464a4fb11bc",
        "colab": {
          "base_uri": "https://localhost:8080/",
          "height": 102
        }
      },
      "cell_type": "code",
      "source": [
        "A"
      ],
      "execution_count": 0,
      "outputs": [
        {
          "output_type": "execute_result",
          "data": {
            "text/plain": [
              "array([[ 0,  1,  2,  3,  4],\n",
              "       [10, 11, 12, 13, 14],\n",
              "       [20, 21, 22, 23, 24],\n",
              "       [30, 31, 32, 33, 34],\n",
              "       [40, 41, 42, 43, 44]])"
            ]
          },
          "metadata": {
            "tags": []
          },
          "execution_count": 76
        }
      ]
    },
    {
      "metadata": {
        "colab_type": "code",
        "id": "vuncArCJQItv",
        "outputId": "409d7ed3-dc5a-42da-f59d-c0df03e619ef",
        "colab": {
          "base_uri": "https://localhost:8080/",
          "height": 34
        }
      },
      "cell_type": "code",
      "source": [
        "diag(A)"
      ],
      "execution_count": 0,
      "outputs": [
        {
          "output_type": "execute_result",
          "data": {
            "text/plain": [
              "array([ 0, 11, 22, 33, 44])"
            ]
          },
          "metadata": {
            "tags": []
          },
          "execution_count": 77
        }
      ]
    },
    {
      "metadata": {
        "colab_type": "code",
        "id": "aXCKiMI8QJK7",
        "outputId": "d1b7af22-f92a-48cf-ecb9-0915d28ffc4e",
        "colab": {
          "base_uri": "https://localhost:8080/",
          "height": 34
        }
      },
      "cell_type": "code",
      "source": [
        "diag(A, -1)"
      ],
      "execution_count": 0,
      "outputs": [
        {
          "output_type": "execute_result",
          "data": {
            "text/plain": [
              "array([10, 21, 32, 43])"
            ]
          },
          "metadata": {
            "tags": []
          },
          "execution_count": 78
        }
      ]
    },
    {
      "metadata": {
        "colab_type": "text",
        "id": "w0r9A4YcQOLQ"
      },
      "cell_type": "markdown",
      "source": [
        "#### take\n",
        "The `take` function is similar to fancy indexing described above:"
      ]
    },
    {
      "metadata": {
        "colab_type": "code",
        "id": "Uiku_uf3QLQV",
        "outputId": "22b1b8fd-ad18-4947-c804-7ef5da7e1626",
        "colab": {
          "base_uri": "https://localhost:8080/",
          "height": 34
        }
      },
      "cell_type": "code",
      "source": [
        "v2 = arange(-3,3)\n",
        "v2"
      ],
      "execution_count": 0,
      "outputs": [
        {
          "output_type": "execute_result",
          "data": {
            "text/plain": [
              "array([-3, -2, -1,  0,  1,  2])"
            ]
          },
          "metadata": {
            "tags": []
          },
          "execution_count": 79
        }
      ]
    },
    {
      "metadata": {
        "colab_type": "code",
        "id": "KRSFAYBhQSq8",
        "outputId": "a1878303-4ad9-4e08-c0fb-a150112164e4",
        "colab": {
          "base_uri": "https://localhost:8080/",
          "height": 34
        }
      },
      "cell_type": "code",
      "source": [
        "row_indices = [1, 3, 5]\n",
        "v2[row_indices] # fancy indexing"
      ],
      "execution_count": 0,
      "outputs": [
        {
          "output_type": "execute_result",
          "data": {
            "text/plain": [
              "array([-2,  0,  2])"
            ]
          },
          "metadata": {
            "tags": []
          },
          "execution_count": 80
        }
      ]
    },
    {
      "metadata": {
        "colab_type": "code",
        "id": "3KI480ckQVAA",
        "outputId": "7133af5b-82a6-4014-84b3-ca93ba9d265b",
        "colab": {
          "base_uri": "https://localhost:8080/",
          "height": 34
        }
      },
      "cell_type": "code",
      "source": [
        "v2.take(row_indices)"
      ],
      "execution_count": 0,
      "outputs": [
        {
          "output_type": "execute_result",
          "data": {
            "text/plain": [
              "array([-2,  0,  2])"
            ]
          },
          "metadata": {
            "tags": []
          },
          "execution_count": 81
        }
      ]
    },
    {
      "metadata": {
        "colab_type": "text",
        "id": "9HiKmU0JQaZ1"
      },
      "cell_type": "markdown",
      "source": [
        "But take also works on lists and other objects:\n"
      ]
    },
    {
      "metadata": {
        "colab_type": "code",
        "id": "jyEH17JWQYuj",
        "outputId": "94cbcb49-9a8b-42d2-d0b1-1bca0c985bc2",
        "colab": {
          "base_uri": "https://localhost:8080/",
          "height": 34
        }
      },
      "cell_type": "code",
      "source": [
        "take([-3, -2, -1,  0,  1,  2], row_indices)"
      ],
      "execution_count": 0,
      "outputs": [
        {
          "output_type": "execute_result",
          "data": {
            "text/plain": [
              "array([-2,  0,  2])"
            ]
          },
          "metadata": {
            "tags": []
          },
          "execution_count": 82
        }
      ]
    },
    {
      "metadata": {
        "colab_type": "text",
        "id": "cJ8ug0c0R1yq"
      },
      "cell_type": "markdown",
      "source": [
        "####choose\n",
        "Constructs an array by picking elements from several arrays:"
      ]
    },
    {
      "metadata": {
        "colab_type": "code",
        "id": "-9qvEkyuQeg7",
        "outputId": "352f1df7-1ff2-4a7f-c580-9aad42660928",
        "colab": {
          "base_uri": "https://localhost:8080/",
          "height": 34
        }
      },
      "cell_type": "code",
      "source": [
        "which = [1, 0, 1, 0]\n",
        "choices = [[1,2,3,4], [-1,-2,-3,-4]]\n",
        "\n",
        "choose(which, choices)"
      ],
      "execution_count": 0,
      "outputs": [
        {
          "output_type": "execute_result",
          "data": {
            "text/plain": [
              "array([-1,  2, -3,  4])"
            ]
          },
          "metadata": {
            "tags": []
          },
          "execution_count": 83
        }
      ]
    },
    {
      "metadata": {
        "colab_type": "text",
        "id": "Ni2Ec2ANSPFI"
      },
      "cell_type": "markdown",
      "source": [
        "## Linear algebra\n",
        "--------\n",
        "Vectorizing code is the key to writing efficient numerical calculation with Python/Numpy. That means that as much as possible of a program should be formulated in terms of matrix and vector operations, like matrix-matrix multiplication."
      ]
    },
    {
      "metadata": {
        "colab_type": "text",
        "id": "jqjwxXQXSTgT"
      },
      "cell_type": "markdown",
      "source": [
        "### Scalar-array operations\n",
        "We can use the usual arithmetic operators to multiply, add, subtract, and divide arrays with scalar numbers."
      ]
    },
    {
      "metadata": {
        "colab_type": "code",
        "id": "sGNxuEgdR-A5",
        "colab": {}
      },
      "cell_type": "code",
      "source": [
        "v1 = arange(0, 5)"
      ],
      "execution_count": 0,
      "outputs": []
    },
    {
      "metadata": {
        "colab_type": "code",
        "id": "VI0sNkPTSVWq",
        "outputId": "09003f18-fb65-49cb-f8ff-97221fc46b83",
        "colab": {
          "base_uri": "https://localhost:8080/",
          "height": 34
        }
      },
      "cell_type": "code",
      "source": [
        "v1"
      ],
      "execution_count": 0,
      "outputs": [
        {
          "output_type": "execute_result",
          "data": {
            "text/plain": [
              "array([0, 1, 2, 3, 4])"
            ]
          },
          "metadata": {
            "tags": []
          },
          "execution_count": 85
        }
      ]
    },
    {
      "metadata": {
        "colab_type": "code",
        "id": "34i56iB9SZxs",
        "outputId": "7288e152-7c67-4b53-a287-d7a9ae854281",
        "colab": {
          "base_uri": "https://localhost:8080/",
          "height": 34
        }
      },
      "cell_type": "code",
      "source": [
        "v1 * 2"
      ],
      "execution_count": 0,
      "outputs": [
        {
          "output_type": "execute_result",
          "data": {
            "text/plain": [
              "array([0, 2, 4, 6, 8])"
            ]
          },
          "metadata": {
            "tags": []
          },
          "execution_count": 86
        }
      ]
    },
    {
      "metadata": {
        "colab_type": "code",
        "id": "AKPWKGG5SbI5",
        "outputId": "cb0ecff6-0568-45b5-9de2-fbc5fe9c2d59",
        "colab": {
          "base_uri": "https://localhost:8080/",
          "height": 34
        }
      },
      "cell_type": "code",
      "source": [
        "v1 + 2"
      ],
      "execution_count": 0,
      "outputs": [
        {
          "output_type": "execute_result",
          "data": {
            "text/plain": [
              "array([2, 3, 4, 5, 6])"
            ]
          },
          "metadata": {
            "tags": []
          },
          "execution_count": 87
        }
      ]
    },
    {
      "metadata": {
        "colab_type": "code",
        "id": "VmrGbEF5So7k",
        "outputId": "aa299520-c92c-4760-f2cc-69c2051a41a0",
        "colab": {
          "base_uri": "https://localhost:8080/",
          "height": 102
        }
      },
      "cell_type": "code",
      "source": [
        "A"
      ],
      "execution_count": 0,
      "outputs": [
        {
          "output_type": "execute_result",
          "data": {
            "text/plain": [
              "array([[ 0,  1,  2,  3,  4],\n",
              "       [10, 11, 12, 13, 14],\n",
              "       [20, 21, 22, 23, 24],\n",
              "       [30, 31, 32, 33, 34],\n",
              "       [40, 41, 42, 43, 44]])"
            ]
          },
          "metadata": {
            "tags": []
          },
          "execution_count": 88
        }
      ]
    },
    {
      "metadata": {
        "colab_type": "code",
        "id": "JtiS2ydmScgy",
        "outputId": "300f2c36-8318-4d18-e1b4-d75d566cf17e",
        "colab": {
          "base_uri": "https://localhost:8080/",
          "height": 102
        }
      },
      "cell_type": "code",
      "source": [
        "A * 2"
      ],
      "execution_count": 0,
      "outputs": [
        {
          "output_type": "execute_result",
          "data": {
            "text/plain": [
              "array([[ 0,  2,  4,  6,  8],\n",
              "       [20, 22, 24, 26, 28],\n",
              "       [40, 42, 44, 46, 48],\n",
              "       [60, 62, 64, 66, 68],\n",
              "       [80, 82, 84, 86, 88]])"
            ]
          },
          "metadata": {
            "tags": []
          },
          "execution_count": 89
        }
      ]
    },
    {
      "metadata": {
        "colab_type": "code",
        "id": "BcMcNZSpSmjn",
        "outputId": "f1596182-b1e3-4dfc-952b-2d6ff1ee813d",
        "colab": {
          "base_uri": "https://localhost:8080/",
          "height": 102
        }
      },
      "cell_type": "code",
      "source": [
        "A + 2"
      ],
      "execution_count": 0,
      "outputs": [
        {
          "output_type": "execute_result",
          "data": {
            "text/plain": [
              "array([[ 2,  3,  4,  5,  6],\n",
              "       [12, 13, 14, 15, 16],\n",
              "       [22, 23, 24, 25, 26],\n",
              "       [32, 33, 34, 35, 36],\n",
              "       [42, 43, 44, 45, 46]])"
            ]
          },
          "metadata": {
            "tags": []
          },
          "execution_count": 90
        }
      ]
    },
    {
      "metadata": {
        "colab_type": "text",
        "id": "lDby75hPSuli"
      },
      "cell_type": "markdown",
      "source": [
        "### Element-wise array-array operations\n",
        "When we add, subtract, multiply and divide arrays with each other, the default behaviour is element-wise operations:"
      ]
    },
    {
      "metadata": {
        "colab_type": "code",
        "id": "_Po4tJ5wSzuf",
        "outputId": "13b23f09-0e4d-4cc0-aba4-4707c4459691",
        "colab": {
          "base_uri": "https://localhost:8080/",
          "height": 34
        }
      },
      "cell_type": "code",
      "source": [
        "v1 * v1"
      ],
      "execution_count": 0,
      "outputs": [
        {
          "output_type": "execute_result",
          "data": {
            "text/plain": [
              "array([ 0,  1,  4,  9, 16])"
            ]
          },
          "metadata": {
            "tags": []
          },
          "execution_count": 91
        }
      ]
    },
    {
      "metadata": {
        "colab_type": "code",
        "id": "kFtbwY05SnR2",
        "outputId": "f8a63560-e466-4097-9233-7b8864ed3203",
        "colab": {
          "base_uri": "https://localhost:8080/",
          "height": 102
        }
      },
      "cell_type": "code",
      "source": [
        "A * A"
      ],
      "execution_count": 0,
      "outputs": [
        {
          "output_type": "execute_result",
          "data": {
            "text/plain": [
              "array([[   0,    1,    4,    9,   16],\n",
              "       [ 100,  121,  144,  169,  196],\n",
              "       [ 400,  441,  484,  529,  576],\n",
              "       [ 900,  961, 1024, 1089, 1156],\n",
              "       [1600, 1681, 1764, 1849, 1936]])"
            ]
          },
          "metadata": {
            "tags": []
          },
          "execution_count": 92
        }
      ]
    },
    {
      "metadata": {
        "colab_type": "text",
        "id": "PTlkuS4MS8np"
      },
      "cell_type": "markdown",
      "source": [
        "If we multiply arrays with compatible shapes, we get an element-wise multiplication of each row:"
      ]
    },
    {
      "metadata": {
        "colab_type": "code",
        "id": "CI2bYMYTS3jM",
        "outputId": "dc195111-8312-4a4d-9d8a-c3a0f123858d",
        "colab": {
          "base_uri": "https://localhost:8080/",
          "height": 34
        }
      },
      "cell_type": "code",
      "source": [
        "A.shape"
      ],
      "execution_count": 0,
      "outputs": [
        {
          "output_type": "execute_result",
          "data": {
            "text/plain": [
              "(5, 5)"
            ]
          },
          "metadata": {
            "tags": []
          },
          "execution_count": 93
        }
      ]
    },
    {
      "metadata": {
        "colab_type": "code",
        "id": "uz-5BBQTS_Bf",
        "outputId": "1d8f9a7a-374b-4322-92df-8c8ac9e17e66",
        "colab": {
          "base_uri": "https://localhost:8080/",
          "height": 34
        }
      },
      "cell_type": "code",
      "source": [
        "v1.shape"
      ],
      "execution_count": 0,
      "outputs": [
        {
          "output_type": "execute_result",
          "data": {
            "text/plain": [
              "(5,)"
            ]
          },
          "metadata": {
            "tags": []
          },
          "execution_count": 94
        }
      ]
    },
    {
      "metadata": {
        "colab_type": "code",
        "id": "tJBFWhglTFLE",
        "outputId": "6c9f6051-3db5-4f9f-e41e-922bf401ec56",
        "colab": {
          "base_uri": "https://localhost:8080/",
          "height": 34
        }
      },
      "cell_type": "code",
      "source": [
        "v1"
      ],
      "execution_count": 0,
      "outputs": [
        {
          "output_type": "execute_result",
          "data": {
            "text/plain": [
              "array([0, 1, 2, 3, 4])"
            ]
          },
          "metadata": {
            "tags": []
          },
          "execution_count": 95
        }
      ]
    },
    {
      "metadata": {
        "colab_type": "code",
        "id": "U7FS1NH_TFRf",
        "outputId": "4a3751d5-013b-4829-f5ac-9f7e05596d19",
        "colab": {
          "base_uri": "https://localhost:8080/",
          "height": 102
        }
      },
      "cell_type": "code",
      "source": [
        "A"
      ],
      "execution_count": 0,
      "outputs": [
        {
          "output_type": "execute_result",
          "data": {
            "text/plain": [
              "array([[ 0,  1,  2,  3,  4],\n",
              "       [10, 11, 12, 13, 14],\n",
              "       [20, 21, 22, 23, 24],\n",
              "       [30, 31, 32, 33, 34],\n",
              "       [40, 41, 42, 43, 44]])"
            ]
          },
          "metadata": {
            "tags": []
          },
          "execution_count": 96
        }
      ]
    },
    {
      "metadata": {
        "colab_type": "code",
        "id": "JqQ8FuVNS__A",
        "outputId": "0d140402-074f-408f-b100-efd2f6289891",
        "colab": {
          "base_uri": "https://localhost:8080/",
          "height": 102
        }
      },
      "cell_type": "code",
      "source": [
        "A * v1"
      ],
      "execution_count": 0,
      "outputs": [
        {
          "output_type": "execute_result",
          "data": {
            "text/plain": [
              "array([[  0,   1,   4,   9,  16],\n",
              "       [  0,  11,  24,  39,  56],\n",
              "       [  0,  21,  44,  69,  96],\n",
              "       [  0,  31,  64,  99, 136],\n",
              "       [  0,  41,  84, 129, 176]])"
            ]
          },
          "metadata": {
            "tags": []
          },
          "execution_count": 97
        }
      ]
    },
    {
      "metadata": {
        "colab_type": "code",
        "id": "zkqIUV5-TBv3",
        "outputId": "aa831a4b-9a91-49db-e7b5-c5fedff80469",
        "colab": {
          "base_uri": "https://localhost:8080/",
          "height": 102
        }
      },
      "cell_type": "code",
      "source": [
        "v1 * A"
      ],
      "execution_count": 0,
      "outputs": [
        {
          "output_type": "execute_result",
          "data": {
            "text/plain": [
              "array([[  0,   1,   4,   9,  16],\n",
              "       [  0,  11,  24,  39,  56],\n",
              "       [  0,  21,  44,  69,  96],\n",
              "       [  0,  31,  64,  99, 136],\n",
              "       [  0,  41,  84, 129, 176]])"
            ]
          },
          "metadata": {
            "tags": []
          },
          "execution_count": 98
        }
      ]
    },
    {
      "metadata": {
        "colab_type": "text",
        "id": "NcgXBvm-Tygo"
      },
      "cell_type": "markdown",
      "source": [
        "### Matrix algebra\n",
        "What about matrix mutiplication? There are two ways. We can either use the dot function, which applies a matrix-matrix, matrix-vector, or inner vector multiplication to its two arguments:"
      ]
    },
    {
      "metadata": {
        "colab_type": "text",
        "id": "B8i8Y79QUx2X"
      },
      "cell_type": "markdown",
      "source": [
        "Dot multiplication:\n",
        "\n",
        "$a\\cdot b=\\sum_{i=1}^n a_n b_n = a_1 b_1 + a_2 b_2 + ... + a_n b_n$"
      ]
    },
    {
      "metadata": {
        "colab_type": "code",
        "id": "t9IbX6JVXLpm",
        "outputId": "36f0a079-9a54-4c30-ef71-3f310f26d66b",
        "colab": {
          "base_uri": "https://localhost:8080/",
          "height": 102
        }
      },
      "cell_type": "code",
      "source": [
        "A"
      ],
      "execution_count": 0,
      "outputs": [
        {
          "output_type": "execute_result",
          "data": {
            "text/plain": [
              "array([[ 0,  1,  2,  3,  4],\n",
              "       [10, 11, 12, 13, 14],\n",
              "       [20, 21, 22, 23, 24],\n",
              "       [30, 31, 32, 33, 34],\n",
              "       [40, 41, 42, 43, 44]])"
            ]
          },
          "metadata": {
            "tags": []
          },
          "execution_count": 99
        }
      ]
    },
    {
      "metadata": {
        "colab_type": "code",
        "id": "SNKbJGOCTRXB",
        "outputId": "0fc570b7-a1aa-4b01-bb76-eeff9b25e01a",
        "colab": {
          "base_uri": "https://localhost:8080/",
          "height": 102
        }
      },
      "cell_type": "code",
      "source": [
        "dot(A,A)"
      ],
      "execution_count": 0,
      "outputs": [
        {
          "output_type": "execute_result",
          "data": {
            "text/plain": [
              "array([[ 300,  310,  320,  330,  340],\n",
              "       [1300, 1360, 1420, 1480, 1540],\n",
              "       [2300, 2410, 2520, 2630, 2740],\n",
              "       [3300, 3460, 3620, 3780, 3940],\n",
              "       [4300, 4510, 4720, 4930, 5140]])"
            ]
          },
          "metadata": {
            "tags": []
          },
          "execution_count": 100
        }
      ]
    },
    {
      "metadata": {
        "colab_type": "code",
        "id": "PxOsCcAdV2mk",
        "colab": {}
      },
      "cell_type": "code",
      "source": [
        "t = array([[1,2],[3,4]])"
      ],
      "execution_count": 0,
      "outputs": []
    },
    {
      "metadata": {
        "colab_type": "code",
        "id": "uxQd8RWgWK5f",
        "outputId": "b2e6ae87-9e70-4d93-a3ba-34209b335eed",
        "colab": {
          "base_uri": "https://localhost:8080/",
          "height": 51
        }
      },
      "cell_type": "code",
      "source": [
        "t"
      ],
      "execution_count": 0,
      "outputs": [
        {
          "output_type": "execute_result",
          "data": {
            "text/plain": [
              "array([[1, 2],\n",
              "       [3, 4]])"
            ]
          },
          "metadata": {
            "tags": []
          },
          "execution_count": 102
        }
      ]
    },
    {
      "metadata": {
        "colab_type": "code",
        "id": "mO-s3GzAWa3g",
        "outputId": "5885a4fb-e1a7-48ff-b1dd-0fb39d121f26",
        "colab": {
          "base_uri": "https://localhost:8080/",
          "height": 51
        }
      },
      "cell_type": "code",
      "source": [
        "dot(t,t)"
      ],
      "execution_count": 0,
      "outputs": [
        {
          "output_type": "execute_result",
          "data": {
            "text/plain": [
              "array([[ 7, 10],\n",
              "       [15, 22]])"
            ]
          },
          "metadata": {
            "tags": []
          },
          "execution_count": 103
        }
      ]
    },
    {
      "metadata": {
        "colab_type": "code",
        "id": "MtSlJh6pWhac",
        "outputId": "718f66e9-7182-4d60-91bd-c95b1281323f",
        "colab": {
          "base_uri": "https://localhost:8080/",
          "height": 34
        }
      },
      "cell_type": "code",
      "source": [
        "z = array([1,2,3])\n",
        "dot(z,z)"
      ],
      "execution_count": 0,
      "outputs": [
        {
          "output_type": "execute_result",
          "data": {
            "text/plain": [
              "14"
            ]
          },
          "metadata": {
            "tags": []
          },
          "execution_count": 104
        }
      ]
    },
    {
      "metadata": {
        "colab_type": "code",
        "id": "5mlfZepOXH7C",
        "outputId": "05e6b75b-73df-4672-e70b-f51df3a6921c",
        "colab": {
          "base_uri": "https://localhost:8080/",
          "height": 34
        }
      },
      "cell_type": "code",
      "source": [
        "dot([1,2],[1,3])"
      ],
      "execution_count": 0,
      "outputs": [
        {
          "output_type": "execute_result",
          "data": {
            "text/plain": [
              "7"
            ]
          },
          "metadata": {
            "tags": []
          },
          "execution_count": 105
        }
      ]
    },
    {
      "metadata": {
        "colab_type": "code",
        "id": "FuVNJJyIZEEc",
        "outputId": "f17ce3ce-91ea-401a-adc4-8dc8fa338582",
        "colab": {
          "base_uri": "https://localhost:8080/",
          "height": 34
        }
      },
      "cell_type": "code",
      "source": [
        "v1"
      ],
      "execution_count": 0,
      "outputs": [
        {
          "output_type": "execute_result",
          "data": {
            "text/plain": [
              "array([0, 1, 2, 3, 4])"
            ]
          },
          "metadata": {
            "tags": []
          },
          "execution_count": 106
        }
      ]
    },
    {
      "metadata": {
        "colab_type": "code",
        "id": "uU-EQITHZT0t",
        "outputId": "75ed369d-7eca-4742-c5c7-de8c7b6c2497",
        "colab": {
          "base_uri": "https://localhost:8080/",
          "height": 34
        }
      },
      "cell_type": "code",
      "source": [
        "dot(A,v1)"
      ],
      "execution_count": 0,
      "outputs": [
        {
          "output_type": "execute_result",
          "data": {
            "text/plain": [
              "array([ 30, 130, 230, 330, 430])"
            ]
          },
          "metadata": {
            "tags": []
          },
          "execution_count": 107
        }
      ]
    },
    {
      "metadata": {
        "colab_type": "code",
        "id": "W8nSj7Heagio",
        "colab": {}
      },
      "cell_type": "code",
      "source": [
        "from numpy.linalg import *"
      ],
      "execution_count": 0,
      "outputs": []
    },
    {
      "metadata": {
        "colab_type": "code",
        "id": "9WmOwBFcZcHa",
        "outputId": "bcdf35c8-c23b-461a-9001-af327ebd331d",
        "colab": {
          "base_uri": "https://localhost:8080/",
          "height": 102
        }
      },
      "cell_type": "code",
      "source": [
        "A"
      ],
      "execution_count": 0,
      "outputs": [
        {
          "output_type": "execute_result",
          "data": {
            "text/plain": [
              "array([[ 0,  1,  2,  3,  4],\n",
              "       [10, 11, 12, 13, 14],\n",
              "       [20, 21, 22, 23, 24],\n",
              "       [30, 31, 32, 33, 34],\n",
              "       [40, 41, 42, 43, 44]])"
            ]
          },
          "metadata": {
            "tags": []
          },
          "execution_count": 109
        }
      ]
    },
    {
      "metadata": {
        "colab_type": "code",
        "id": "Q53xXVWFaGtn",
        "colab": {}
      },
      "cell_type": "code",
      "source": [
        "a = array([[[1., 2.], [3., 4.]], [[1, 3], [3, 5]]])"
      ],
      "execution_count": 0,
      "outputs": []
    },
    {
      "metadata": {
        "colab_type": "text",
        "id": "flTpwZI7bZjj"
      },
      "cell_type": "markdown",
      "source": [
        "### Data processing\n",
        "Often it is useful to store datasets in Numpy arrays. Numpy provides a number of functions to calculate statistics of datasets in arrays.\n",
        "\n",
        "For example, let's calculate some properties from the Stockholm temperature dataset used above."
      ]
    },
    {
      "metadata": {
        "colab_type": "code",
        "id": "LZWPwnJ4asnQ",
        "outputId": "a9bf0cc6-3711-4ace-9234-abbab784c216",
        "colab": {
          "base_uri": "https://localhost:8080/",
          "height": 34
        }
      },
      "cell_type": "code",
      "source": [
        "# reminder, the tempeature dataset is stored in the data variable:\n",
        "shape(data)"
      ],
      "execution_count": 0,
      "outputs": [
        {
          "output_type": "execute_result",
          "data": {
            "text/plain": [
              "(77431, 7)"
            ]
          },
          "metadata": {
            "tags": []
          },
          "execution_count": 112
        }
      ]
    },
    {
      "metadata": {
        "colab_type": "text",
        "id": "ipuRl-brbf6k"
      },
      "cell_type": "markdown",
      "source": [
        "####mean"
      ]
    },
    {
      "metadata": {
        "colab_type": "code",
        "id": "rvIPlN7Aber7",
        "outputId": "b67aabd2-3730-41ae-97dd-37a3f70a5921",
        "colab": {
          "base_uri": "https://localhost:8080/",
          "height": 34
        }
      },
      "cell_type": "code",
      "source": [
        "# the temperature data is in column 3\n",
        "mean(data[:,3])"
      ],
      "execution_count": 0,
      "outputs": [
        {
          "output_type": "execute_result",
          "data": {
            "text/plain": [
              "6.197109684751585"
            ]
          },
          "metadata": {
            "tags": []
          },
          "execution_count": 113
        }
      ]
    },
    {
      "metadata": {
        "colab_type": "text",
        "id": "LKpujFNrblwo"
      },
      "cell_type": "markdown",
      "source": [
        "The daily mean temperature in Stockholm over the last 200 years has been about 6.2 C.\n",
        "\n"
      ]
    },
    {
      "metadata": {
        "colab_type": "text",
        "id": "keOx1KtDb-Yf"
      },
      "cell_type": "markdown",
      "source": [
        "#### SD and variance"
      ]
    },
    {
      "metadata": {
        "colab_type": "code",
        "id": "jT6kgPGSbjjm",
        "outputId": "b035b96c-a601-4eda-c9a3-e03818a7b354",
        "colab": {
          "base_uri": "https://localhost:8080/",
          "height": 34
        }
      },
      "cell_type": "code",
      "source": [
        "std(data[:,3]), var(data[:,3])"
      ],
      "execution_count": 0,
      "outputs": [
        {
          "output_type": "execute_result",
          "data": {
            "text/plain": [
              "(8.282271621340573, 68.59602320966341)"
            ]
          },
          "metadata": {
            "tags": []
          },
          "execution_count": 114
        }
      ]
    },
    {
      "metadata": {
        "colab_type": "text",
        "id": "ZJVT0j9CcDKh"
      },
      "cell_type": "markdown",
      "source": [
        "####min and max"
      ]
    },
    {
      "metadata": {
        "colab_type": "code",
        "id": "cWtkTIRabp2q",
        "outputId": "91849549-6faf-4e26-fb44-7d70440e067c",
        "colab": {
          "base_uri": "https://localhost:8080/",
          "height": 34
        }
      },
      "cell_type": "code",
      "source": [
        "# lowest daily average temperature\n",
        "data[:,3].min()"
      ],
      "execution_count": 0,
      "outputs": [
        {
          "output_type": "execute_result",
          "data": {
            "text/plain": [
              "-25.8"
            ]
          },
          "metadata": {
            "tags": []
          },
          "execution_count": 115
        }
      ]
    },
    {
      "metadata": {
        "colab_type": "code",
        "id": "SvYeD4-kb0h8",
        "outputId": "a0e67765-71b0-4343-88c2-ce6bc6f5a260",
        "colab": {
          "base_uri": "https://localhost:8080/",
          "height": 34
        }
      },
      "cell_type": "code",
      "source": [
        "# highest daily average temperature\n",
        "data[:,3].max()"
      ],
      "execution_count": 0,
      "outputs": [
        {
          "output_type": "execute_result",
          "data": {
            "text/plain": [
              "28.3"
            ]
          },
          "metadata": {
            "tags": []
          },
          "execution_count": 116
        }
      ]
    },
    {
      "metadata": {
        "colab_type": "text",
        "id": "KhPPxd9Qgw80"
      },
      "cell_type": "markdown",
      "source": [
        "#### sum, prod, and trace"
      ]
    },
    {
      "metadata": {
        "colab_type": "code",
        "id": "rbefGcH7gvNu",
        "outputId": "af713444-622f-456f-b6ca-7e70d29dfa12",
        "colab": {
          "base_uri": "https://localhost:8080/",
          "height": 34
        }
      },
      "cell_type": "code",
      "source": [
        "d = arange(0, 10)\n",
        "d"
      ],
      "execution_count": 0,
      "outputs": [
        {
          "output_type": "execute_result",
          "data": {
            "text/plain": [
              "array([0, 1, 2, 3, 4, 5, 6, 7, 8, 9])"
            ]
          },
          "metadata": {
            "tags": []
          },
          "execution_count": 117
        }
      ]
    },
    {
      "metadata": {
        "colab_type": "code",
        "id": "KN4-4eo-g0qq",
        "outputId": "fadf029c-2853-4f7d-d2a8-ba1077a0d74b",
        "colab": {
          "base_uri": "https://localhost:8080/",
          "height": 34
        }
      },
      "cell_type": "code",
      "source": [
        "# sum up all elements\n",
        "sum(d)"
      ],
      "execution_count": 0,
      "outputs": [
        {
          "output_type": "execute_result",
          "data": {
            "text/plain": [
              "45"
            ]
          },
          "metadata": {
            "tags": []
          },
          "execution_count": 118
        }
      ]
    },
    {
      "metadata": {
        "colab_type": "code",
        "id": "9aaiQSHug2Jw",
        "outputId": "9cde9571-b711-48c8-f4a6-9fc14f0b60be",
        "colab": {
          "base_uri": "https://localhost:8080/",
          "height": 34
        }
      },
      "cell_type": "code",
      "source": [
        "# product of all elements\n",
        "prod(d+1)"
      ],
      "execution_count": 0,
      "outputs": [
        {
          "output_type": "execute_result",
          "data": {
            "text/plain": [
              "3628800"
            ]
          },
          "metadata": {
            "tags": []
          },
          "execution_count": 119
        }
      ]
    },
    {
      "metadata": {
        "colab_type": "code",
        "id": "70eR3NvLg369",
        "outputId": "85750368-d56f-4273-b8f7-4a9f666b9edd",
        "colab": {
          "base_uri": "https://localhost:8080/",
          "height": 34
        }
      },
      "cell_type": "code",
      "source": [
        "d+1"
      ],
      "execution_count": 0,
      "outputs": [
        {
          "output_type": "execute_result",
          "data": {
            "text/plain": [
              "array([ 1,  2,  3,  4,  5,  6,  7,  8,  9, 10])"
            ]
          },
          "metadata": {
            "tags": []
          },
          "execution_count": 120
        }
      ]
    },
    {
      "metadata": {
        "colab_type": "code",
        "id": "DQWDLAoXg9so",
        "outputId": "84edd730-6208-48c3-c08e-6f7be12744ab",
        "colab": {
          "base_uri": "https://localhost:8080/",
          "height": 51
        }
      },
      "cell_type": "code",
      "source": [
        "# cummulative product\n",
        "cumprod(d+1)"
      ],
      "execution_count": 0,
      "outputs": [
        {
          "output_type": "execute_result",
          "data": {
            "text/plain": [
              "array([      1,       2,       6,      24,     120,     720,    5040,\n",
              "         40320,  362880, 3628800])"
            ]
          },
          "metadata": {
            "tags": []
          },
          "execution_count": 121
        }
      ]
    },
    {
      "metadata": {
        "colab_type": "code",
        "id": "MysSrePxhBj-",
        "outputId": "076f6fde-c0c7-446e-ad35-30d3a4254a95",
        "colab": {
          "base_uri": "https://localhost:8080/",
          "height": 34
        }
      },
      "cell_type": "code",
      "source": [
        "# same as: diag(A).sum()\n",
        "trace(A)"
      ],
      "execution_count": 0,
      "outputs": [
        {
          "output_type": "execute_result",
          "data": {
            "text/plain": [
              "110"
            ]
          },
          "metadata": {
            "tags": []
          },
          "execution_count": 122
        }
      ]
    },
    {
      "metadata": {
        "colab_type": "text",
        "id": "5Rwl7mV7jsbl"
      },
      "cell_type": "markdown",
      "source": [
        "### Calculations with higher-dimensional data\n",
        "When functions such as min, max, etc. are applied to a multidimensional arrays, it is sometimes useful to apply the calculation to the entire array, and sometimes only on a row or column basis. Using the axis argument we can specify how these functions should behave:"
      ]
    },
    {
      "metadata": {
        "colab_type": "code",
        "id": "snZXExerhDKQ",
        "outputId": "7c95f68b-9653-44bd-97a8-2db07ba1fa17",
        "colab": {
          "base_uri": "https://localhost:8080/",
          "height": 68
        }
      },
      "cell_type": "code",
      "source": [
        "m = random.rand(3,3)\n",
        "m"
      ],
      "execution_count": 0,
      "outputs": [
        {
          "output_type": "execute_result",
          "data": {
            "text/plain": [
              "array([[0.33829171, 0.40448773, 0.53537406],\n",
              "       [0.70139575, 0.82815424, 0.75878347],\n",
              "       [0.52038369, 0.03975169, 0.67270888]])"
            ]
          },
          "metadata": {
            "tags": []
          },
          "execution_count": 123
        }
      ]
    },
    {
      "metadata": {
        "colab_type": "code",
        "id": "vtq64399j1VW",
        "outputId": "86efb911-6da1-4a16-b812-07b4f0110bac",
        "colab": {
          "base_uri": "https://localhost:8080/",
          "height": 34
        }
      },
      "cell_type": "code",
      "source": [
        "# global max\n",
        "m.max()"
      ],
      "execution_count": 0,
      "outputs": [
        {
          "output_type": "execute_result",
          "data": {
            "text/plain": [
              "0.8281542387464986"
            ]
          },
          "metadata": {
            "tags": []
          },
          "execution_count": 124
        }
      ]
    },
    {
      "metadata": {
        "colab_type": "code",
        "id": "xB64zAT2j-bX",
        "outputId": "c5e88993-1ff5-41a0-887f-e85f13006d3e",
        "colab": {
          "base_uri": "https://localhost:8080/",
          "height": 34
        }
      },
      "cell_type": "code",
      "source": [
        "# max in each column\n",
        "m.max(axis=0)"
      ],
      "execution_count": 0,
      "outputs": [
        {
          "output_type": "execute_result",
          "data": {
            "text/plain": [
              "array([0.70139575, 0.82815424, 0.75878347])"
            ]
          },
          "metadata": {
            "tags": []
          },
          "execution_count": 125
        }
      ]
    },
    {
      "metadata": {
        "colab_type": "code",
        "id": "eMhIQJMqj_4s",
        "outputId": "f0e7d059-d9ba-4178-87cf-c34f5747cb38",
        "colab": {
          "base_uri": "https://localhost:8080/",
          "height": 34
        }
      },
      "cell_type": "code",
      "source": [
        "# max in each row\n",
        "m.max(axis=1)"
      ],
      "execution_count": 0,
      "outputs": [
        {
          "output_type": "execute_result",
          "data": {
            "text/plain": [
              "array([0.53537406, 0.82815424, 0.67270888])"
            ]
          },
          "metadata": {
            "tags": []
          },
          "execution_count": 126
        }
      ]
    },
    {
      "metadata": {
        "colab_type": "text",
        "id": "4MHoMxbQkG4O"
      },
      "cell_type": "markdown",
      "source": [
        "Many other functions and methods in the array and matrix classes accept the same (optional) axis keyword argument."
      ]
    },
    {
      "metadata": {
        "colab_type": "text",
        "id": "EgT7db_nDvl1"
      },
      "cell_type": "markdown",
      "source": [
        "## Reshaping, resizing and stacking arrays\n",
        "----------\n",
        "The shape of an Numpy array can be modified without copying the underlaying data, which makes it a fast operation even for large arrays."
      ]
    },
    {
      "metadata": {
        "colab_type": "code",
        "id": "OJszDcXpkBh_",
        "outputId": "5b813fe5-70c1-4c5f-b0d8-17447fa16f05",
        "colab": {
          "base_uri": "https://localhost:8080/",
          "height": 102
        }
      },
      "cell_type": "code",
      "source": [
        "A"
      ],
      "execution_count": 0,
      "outputs": [
        {
          "output_type": "execute_result",
          "data": {
            "text/plain": [
              "array([[ 0,  1,  2,  3,  4],\n",
              "       [10, 11, 12, 13, 14],\n",
              "       [20, 21, 22, 23, 24],\n",
              "       [30, 31, 32, 33, 34],\n",
              "       [40, 41, 42, 43, 44]])"
            ]
          },
          "metadata": {
            "tags": []
          },
          "execution_count": 127
        }
      ]
    },
    {
      "metadata": {
        "colab_type": "code",
        "id": "8bzzeOerE2RH",
        "outputId": "ec68c0ab-4972-4f69-966a-739fef5fb5a9",
        "colab": {
          "base_uri": "https://localhost:8080/",
          "height": 34
        }
      },
      "cell_type": "code",
      "source": [
        "A.shape"
      ],
      "execution_count": 0,
      "outputs": [
        {
          "output_type": "execute_result",
          "data": {
            "text/plain": [
              "(5, 5)"
            ]
          },
          "metadata": {
            "tags": []
          },
          "execution_count": 128
        }
      ]
    },
    {
      "metadata": {
        "colab_type": "code",
        "id": "CRlxbCxEEyEN",
        "colab": {}
      },
      "cell_type": "code",
      "source": [
        "n, m = A.shape"
      ],
      "execution_count": 0,
      "outputs": []
    },
    {
      "metadata": {
        "colab_type": "code",
        "id": "vI78u0mAEz3o",
        "colab": {}
      },
      "cell_type": "code",
      "source": [
        "B = A.reshape((1,n*m))"
      ],
      "execution_count": 0,
      "outputs": []
    },
    {
      "metadata": {
        "colab_type": "code",
        "id": "Qgsi-PD8E-Cd",
        "outputId": "02b726b3-af67-49a4-b451-9023597a1c5b",
        "colab": {
          "base_uri": "https://localhost:8080/",
          "height": 51
        }
      },
      "cell_type": "code",
      "source": [
        "B"
      ],
      "execution_count": 0,
      "outputs": [
        {
          "output_type": "execute_result",
          "data": {
            "text/plain": [
              "array([[ 0,  1,  2,  3,  4, 10, 11, 12, 13, 14, 20, 21, 22, 23, 24, 30,\n",
              "        31, 32, 33, 34, 40, 41, 42, 43, 44]])"
            ]
          },
          "metadata": {
            "tags": []
          },
          "execution_count": 131
        }
      ]
    },
    {
      "metadata": {
        "colab_type": "code",
        "id": "8bxkOo-uE-jL",
        "colab": {}
      },
      "cell_type": "code",
      "source": [
        "B[0,0:5] = 5"
      ],
      "execution_count": 0,
      "outputs": []
    },
    {
      "metadata": {
        "colab_type": "code",
        "id": "QmgdTttoFI_G",
        "outputId": "dd752b70-61fc-478a-b8c1-ae2d1b739629",
        "colab": {
          "base_uri": "https://localhost:8080/",
          "height": 51
        }
      },
      "cell_type": "code",
      "source": [
        "B"
      ],
      "execution_count": 0,
      "outputs": [
        {
          "output_type": "execute_result",
          "data": {
            "text/plain": [
              "array([[ 5,  5,  5,  5,  5, 10, 11, 12, 13, 14, 20, 21, 22, 23, 24, 30,\n",
              "        31, 32, 33, 34, 40, 41, 42, 43, 44]])"
            ]
          },
          "metadata": {
            "tags": []
          },
          "execution_count": 133
        }
      ]
    },
    {
      "metadata": {
        "colab_type": "code",
        "id": "RZ_HLQcbFJcM",
        "outputId": "dfd8cae3-0e88-466a-87c7-959387d8d578",
        "colab": {
          "base_uri": "https://localhost:8080/",
          "height": 102
        }
      },
      "cell_type": "code",
      "source": [
        "A"
      ],
      "execution_count": 0,
      "outputs": [
        {
          "output_type": "execute_result",
          "data": {
            "text/plain": [
              "array([[ 5,  5,  5,  5,  5],\n",
              "       [10, 11, 12, 13, 14],\n",
              "       [20, 21, 22, 23, 24],\n",
              "       [30, 31, 32, 33, 34],\n",
              "       [40, 41, 42, 43, 44]])"
            ]
          },
          "metadata": {
            "tags": []
          },
          "execution_count": 134
        }
      ]
    },
    {
      "metadata": {
        "colab_type": "text",
        "id": "YeQQnU-wFTOp"
      },
      "cell_type": "markdown",
      "source": [
        "We can also use the function `flatten` to make a higher-dimensional array into a vector. But this function create a copy of the data."
      ]
    },
    {
      "metadata": {
        "colab_type": "code",
        "id": "ybpBuPheFRFs",
        "outputId": "54ba1c30-d2c4-4dd9-89b0-3c9702aaa2e9",
        "colab": {
          "base_uri": "https://localhost:8080/",
          "height": 51
        }
      },
      "cell_type": "code",
      "source": [
        "B = A.flatten()\n",
        "\n",
        "B"
      ],
      "execution_count": 0,
      "outputs": [
        {
          "output_type": "execute_result",
          "data": {
            "text/plain": [
              "array([ 5,  5,  5,  5,  5, 10, 11, 12, 13, 14, 20, 21, 22, 23, 24, 30, 31,\n",
              "       32, 33, 34, 40, 41, 42, 43, 44])"
            ]
          },
          "metadata": {
            "tags": []
          },
          "execution_count": 135
        }
      ]
    },
    {
      "metadata": {
        "colab_type": "code",
        "id": "4wvKwg4hFbCY",
        "outputId": "d64d1d4f-d17e-4714-c975-a9aa5e2b3541",
        "colab": {
          "base_uri": "https://localhost:8080/",
          "height": 51
        }
      },
      "cell_type": "code",
      "source": [
        "B[0:5] = 10\n",
        "\n",
        "B"
      ],
      "execution_count": 0,
      "outputs": [
        {
          "output_type": "execute_result",
          "data": {
            "text/plain": [
              "array([10, 10, 10, 10, 10, 10, 11, 12, 13, 14, 20, 21, 22, 23, 24, 30, 31,\n",
              "       32, 33, 34, 40, 41, 42, 43, 44])"
            ]
          },
          "metadata": {
            "tags": []
          },
          "execution_count": 136
        }
      ]
    },
    {
      "metadata": {
        "colab_type": "code",
        "id": "1Z0P22aQFhub",
        "outputId": "3e8efeaf-9a73-4664-f1ae-965d61443f40",
        "colab": {
          "base_uri": "https://localhost:8080/",
          "height": 102
        }
      },
      "cell_type": "code",
      "source": [
        "A"
      ],
      "execution_count": 0,
      "outputs": [
        {
          "output_type": "execute_result",
          "data": {
            "text/plain": [
              "array([[ 5,  5,  5,  5,  5],\n",
              "       [10, 11, 12, 13, 14],\n",
              "       [20, 21, 22, 23, 24],\n",
              "       [30, 31, 32, 33, 34],\n",
              "       [40, 41, 42, 43, 44]])"
            ]
          },
          "metadata": {
            "tags": []
          },
          "execution_count": 137
        }
      ]
    },
    {
      "metadata": {
        "colab_type": "text",
        "id": "NccczGnzGsOY"
      },
      "cell_type": "markdown",
      "source": [
        "### Adding a new dimension: newaxis\n",
        "With `newaxis`, we can insert new dimensions in an array, for example converting a vector to a column or row matrix:"
      ]
    },
    {
      "metadata": {
        "colab_type": "code",
        "id": "mElFBjXpFjcM",
        "colab": {}
      },
      "cell_type": "code",
      "source": [
        "v = array([1,2,3])"
      ],
      "execution_count": 0,
      "outputs": []
    },
    {
      "metadata": {
        "colab_type": "code",
        "id": "rDOpMnyPG1pF",
        "outputId": "b9072589-b1b0-46ca-daf2-1b73123898cf",
        "colab": {
          "base_uri": "https://localhost:8080/",
          "height": 34
        }
      },
      "cell_type": "code",
      "source": [
        "shape(v)\n"
      ],
      "execution_count": 0,
      "outputs": [
        {
          "output_type": "execute_result",
          "data": {
            "text/plain": [
              "(3,)"
            ]
          },
          "metadata": {
            "tags": []
          },
          "execution_count": 139
        }
      ]
    },
    {
      "metadata": {
        "colab_type": "code",
        "id": "u4DRov9MG3yq",
        "outputId": "df208b79-2cf3-441a-f86f-1ea8cd69dd4c",
        "colab": {
          "base_uri": "https://localhost:8080/",
          "height": 68
        }
      },
      "cell_type": "code",
      "source": [
        "# make a column matrix of the vector v\n",
        "v[:, newaxis]"
      ],
      "execution_count": 0,
      "outputs": [
        {
          "output_type": "execute_result",
          "data": {
            "text/plain": [
              "array([[1],\n",
              "       [2],\n",
              "       [3]])"
            ]
          },
          "metadata": {
            "tags": []
          },
          "execution_count": 140
        }
      ]
    },
    {
      "metadata": {
        "colab_type": "code",
        "id": "-ZqnR5mxG5uE",
        "outputId": "95a5e3f5-0653-44b8-af67-7a41510ed2b2",
        "colab": {
          "base_uri": "https://localhost:8080/",
          "height": 34
        }
      },
      "cell_type": "code",
      "source": [
        "v[newaxis,:]"
      ],
      "execution_count": 0,
      "outputs": [
        {
          "output_type": "execute_result",
          "data": {
            "text/plain": [
              "array([[1, 2, 3]])"
            ]
          },
          "metadata": {
            "tags": []
          },
          "execution_count": 141
        }
      ]
    },
    {
      "metadata": {
        "colab_type": "code",
        "id": "OxD3JooOHF3J",
        "outputId": "ff3107b1-0506-4bf5-a6e2-4166f33b5ea9",
        "colab": {
          "base_uri": "https://localhost:8080/",
          "height": 34
        }
      },
      "cell_type": "code",
      "source": [
        "v[newaxis,:].shape"
      ],
      "execution_count": 0,
      "outputs": [
        {
          "output_type": "execute_result",
          "data": {
            "text/plain": [
              "(1, 3)"
            ]
          },
          "metadata": {
            "tags": []
          },
          "execution_count": 142
        }
      ]
    },
    {
      "metadata": {
        "colab_type": "text",
        "id": "7Z-KeEZeIlji"
      },
      "cell_type": "markdown",
      "source": [
        "### Stacking and repeating arrays\n",
        "Using function `repeat`,`tile`, `vstack`, `hstack`, and `concatenate` we can create larger vectors and matrices from smaller ones:"
      ]
    },
    {
      "metadata": {
        "colab_type": "text",
        "id": "b6VdjohBIxnn"
      },
      "cell_type": "markdown",
      "source": [
        "####tile and repeat"
      ]
    },
    {
      "metadata": {
        "colab_type": "code",
        "id": "mvqj3iIKHJ7n",
        "colab": {}
      },
      "cell_type": "code",
      "source": [
        "a = array([[1, 2], [3, 4]])"
      ],
      "execution_count": 0,
      "outputs": []
    },
    {
      "metadata": {
        "colab_type": "code",
        "id": "fQZtBUpbI3GS",
        "outputId": "856e8969-d876-44d1-e90d-de18f11c90ce",
        "colab": {
          "base_uri": "https://localhost:8080/",
          "height": 34
        }
      },
      "cell_type": "code",
      "source": [
        "# repeat each element 3 times\n",
        "repeat(a, 3)"
      ],
      "execution_count": 0,
      "outputs": [
        {
          "output_type": "execute_result",
          "data": {
            "text/plain": [
              "array([1, 1, 1, 2, 2, 2, 3, 3, 3, 4, 4, 4])"
            ]
          },
          "metadata": {
            "tags": []
          },
          "execution_count": 144
        }
      ]
    },
    {
      "metadata": {
        "colab_type": "code",
        "id": "WPMW0VbQI4sW",
        "outputId": "f4c09cb7-0aed-4999-b80e-8ebeecc6f1ed",
        "colab": {
          "base_uri": "https://localhost:8080/",
          "height": 51
        }
      },
      "cell_type": "code",
      "source": [
        "# tile the matrix 3 times \n",
        "tile(a, 3)"
      ],
      "execution_count": 0,
      "outputs": [
        {
          "output_type": "execute_result",
          "data": {
            "text/plain": [
              "array([[1, 2, 1, 2, 1, 2],\n",
              "       [3, 4, 3, 4, 3, 4]])"
            ]
          },
          "metadata": {
            "tags": []
          },
          "execution_count": 145
        }
      ]
    },
    {
      "metadata": {
        "colab_type": "text",
        "id": "K435-_GqI_wo"
      },
      "cell_type": "markdown",
      "source": [
        "####concatenate"
      ]
    },
    {
      "metadata": {
        "colab_type": "code",
        "id": "9qV4KMu6I7ji",
        "colab": {}
      },
      "cell_type": "code",
      "source": [
        "b = array([[5, 6]])"
      ],
      "execution_count": 0,
      "outputs": []
    },
    {
      "metadata": {
        "colab_type": "code",
        "id": "RM8utR4yJEgV",
        "outputId": "3d0cc9be-6dac-4c04-dc86-47d400a2ceb5",
        "colab": {
          "base_uri": "https://localhost:8080/",
          "height": 68
        }
      },
      "cell_type": "code",
      "source": [
        "concatenate((a, b), axis=0)"
      ],
      "execution_count": 0,
      "outputs": [
        {
          "output_type": "execute_result",
          "data": {
            "text/plain": [
              "array([[1, 2],\n",
              "       [3, 4],\n",
              "       [5, 6]])"
            ]
          },
          "metadata": {
            "tags": []
          },
          "execution_count": 147
        }
      ]
    },
    {
      "metadata": {
        "colab_type": "code",
        "id": "3l8_Cu4FJTxu",
        "outputId": "bc3937a8-fafa-4158-c3c1-ab1bb4ec25a4",
        "colab": {
          "base_uri": "https://localhost:8080/",
          "height": 51
        }
      },
      "cell_type": "code",
      "source": [
        "b.T"
      ],
      "execution_count": 0,
      "outputs": [
        {
          "output_type": "execute_result",
          "data": {
            "text/plain": [
              "array([[5],\n",
              "       [6]])"
            ]
          },
          "metadata": {
            "tags": []
          },
          "execution_count": 148
        }
      ]
    },
    {
      "metadata": {
        "colab_type": "code",
        "id": "MiCOuF-WJGNW",
        "outputId": "e9116bf8-2731-450c-f5f0-80dc4e8573b9",
        "colab": {
          "base_uri": "https://localhost:8080/",
          "height": 51
        }
      },
      "cell_type": "code",
      "source": [
        "concatenate((a, b.T), axis=1)"
      ],
      "execution_count": 0,
      "outputs": [
        {
          "output_type": "execute_result",
          "data": {
            "text/plain": [
              "array([[1, 2, 5],\n",
              "       [3, 4, 6]])"
            ]
          },
          "metadata": {
            "tags": []
          },
          "execution_count": 149
        }
      ]
    },
    {
      "metadata": {
        "colab_type": "text",
        "id": "DT65AkznKnnj"
      },
      "cell_type": "markdown",
      "source": [
        "####vertical and horizontal stack"
      ]
    },
    {
      "metadata": {
        "colab_type": "code",
        "id": "u3qySAKwJKh2",
        "outputId": "bf339a8c-556e-415b-c61d-670688bb6ee9",
        "colab": {
          "base_uri": "https://localhost:8080/",
          "height": 68
        }
      },
      "cell_type": "code",
      "source": [
        "vstack((a,b))"
      ],
      "execution_count": 0,
      "outputs": [
        {
          "output_type": "execute_result",
          "data": {
            "text/plain": [
              "array([[1, 2],\n",
              "       [3, 4],\n",
              "       [5, 6]])"
            ]
          },
          "metadata": {
            "tags": []
          },
          "execution_count": 150
        }
      ]
    },
    {
      "metadata": {
        "colab_type": "code",
        "id": "Q67M2izaKtU0",
        "outputId": "91277ff9-a36e-4a34-a430-85c23aace0f2",
        "colab": {
          "base_uri": "https://localhost:8080/",
          "height": 51
        }
      },
      "cell_type": "code",
      "source": [
        "hstack((a,b.T))"
      ],
      "execution_count": 0,
      "outputs": [
        {
          "output_type": "execute_result",
          "data": {
            "text/plain": [
              "array([[1, 2, 5],\n",
              "       [3, 4, 6]])"
            ]
          },
          "metadata": {
            "tags": []
          },
          "execution_count": 151
        }
      ]
    },
    {
      "metadata": {
        "colab_type": "text",
        "id": "HUv_nD_pK-gP"
      },
      "cell_type": "markdown",
      "source": [
        "## Copy versus \"deep copy\"\n",
        "-------\n",
        "To achieve high performance, assignments in Python usually do not copy the underlaying objects. This is important for example when objects are passed between functions, to avoid an excessive amount of memory copying when it is not necessary (technical term: pass by reference)."
      ]
    },
    {
      "metadata": {
        "colab_type": "code",
        "id": "S-4xZE-2KvEX",
        "outputId": "ee0226ba-d02f-4870-a590-284e78635dcc",
        "colab": {
          "base_uri": "https://localhost:8080/",
          "height": 51
        }
      },
      "cell_type": "code",
      "source": [
        "A = array([[1, 2], [3, 4]])\n",
        "\n",
        "A"
      ],
      "execution_count": 0,
      "outputs": [
        {
          "output_type": "execute_result",
          "data": {
            "text/plain": [
              "array([[1, 2],\n",
              "       [3, 4]])"
            ]
          },
          "metadata": {
            "tags": []
          },
          "execution_count": 152
        }
      ]
    },
    {
      "metadata": {
        "colab_type": "code",
        "id": "BLlhPxsDLHs_",
        "colab": {}
      },
      "cell_type": "code",
      "source": [
        "# now B is referring to the same array data as A \n",
        "B = A"
      ],
      "execution_count": 0,
      "outputs": []
    },
    {
      "metadata": {
        "colab_type": "code",
        "id": "-sLAoTjFLJFy",
        "outputId": "cea2bdbf-9279-43fa-aee4-b77f9026fb55",
        "colab": {
          "base_uri": "https://localhost:8080/",
          "height": 51
        }
      },
      "cell_type": "code",
      "source": [
        "# changing B affects A\n",
        "B[0,0] = 10\n",
        "\n",
        "B"
      ],
      "execution_count": 0,
      "outputs": [
        {
          "output_type": "execute_result",
          "data": {
            "text/plain": [
              "array([[10,  2],\n",
              "       [ 3,  4]])"
            ]
          },
          "metadata": {
            "tags": []
          },
          "execution_count": 154
        }
      ]
    },
    {
      "metadata": {
        "colab_type": "code",
        "id": "6wZ3SUEfLK2y",
        "outputId": "55dc3089-2f9c-4c53-d5fe-6107c2848183",
        "colab": {
          "base_uri": "https://localhost:8080/",
          "height": 51
        }
      },
      "cell_type": "code",
      "source": [
        "A"
      ],
      "execution_count": 0,
      "outputs": [
        {
          "output_type": "execute_result",
          "data": {
            "text/plain": [
              "array([[10,  2],\n",
              "       [ 3,  4]])"
            ]
          },
          "metadata": {
            "tags": []
          },
          "execution_count": 155
        }
      ]
    },
    {
      "metadata": {
        "colab_type": "text",
        "id": "hfu_LwDILNx1"
      },
      "cell_type": "markdown",
      "source": [
        "If we want to avoid this behavior, so that when we get a new completely independent object B copied from A, then we need to do a so-called \"deep copy\" using the function `copy`:"
      ]
    },
    {
      "metadata": {
        "colab_type": "code",
        "id": "brfkCVuQLL2D",
        "colab": {}
      },
      "cell_type": "code",
      "source": [
        "B = copy(A)"
      ],
      "execution_count": 0,
      "outputs": []
    },
    {
      "metadata": {
        "colab_type": "code",
        "id": "HPrbN5WbLTCM",
        "outputId": "144d2668-7066-40ec-d207-a3419511a044",
        "colab": {
          "base_uri": "https://localhost:8080/",
          "height": 51
        }
      },
      "cell_type": "code",
      "source": [
        "# now, if we modify B, A is not affected\n",
        "B[0,0] = -5\n",
        "\n",
        "B"
      ],
      "execution_count": 0,
      "outputs": [
        {
          "output_type": "execute_result",
          "data": {
            "text/plain": [
              "array([[-5,  2],\n",
              "       [ 3,  4]])"
            ]
          },
          "metadata": {
            "tags": []
          },
          "execution_count": 157
        }
      ]
    },
    {
      "metadata": {
        "colab_type": "code",
        "id": "-U3_JrtpLUwy",
        "outputId": "f9fba30e-0b90-455d-e1f1-95cd0b12b59b",
        "colab": {
          "base_uri": "https://localhost:8080/",
          "height": 51
        }
      },
      "cell_type": "code",
      "source": [
        "A"
      ],
      "execution_count": 0,
      "outputs": [
        {
          "output_type": "execute_result",
          "data": {
            "text/plain": [
              "array([[10,  2],\n",
              "       [ 3,  4]])"
            ]
          },
          "metadata": {
            "tags": []
          },
          "execution_count": 158
        }
      ]
    },
    {
      "metadata": {
        "colab_type": "text",
        "id": "6ysf7bi5L1iD"
      },
      "cell_type": "markdown",
      "source": [
        "## Iterating over array elements\n",
        "------\n",
        "Generally, we want to avoid iterating over the elements of arrays whenever we can (at all costs). The reason is that in a interpreted language like Python (or MATLAB), iterations are really slow compared to vectorized operations.\n",
        "\n",
        "However, sometimes iterations are unavoidable. For such cases, the Python `for` loop is the most convenient way to iterate over an array:"
      ]
    },
    {
      "metadata": {
        "colab_type": "code",
        "id": "o-YV47xjLW6z",
        "outputId": "102d68b7-8aa2-434d-8219-939f99138166",
        "colab": {
          "base_uri": "https://localhost:8080/",
          "height": 85
        }
      },
      "cell_type": "code",
      "source": [
        "v = array([1,2,3,4])\n",
        "\n",
        "for element in v:\n",
        "    print(element)"
      ],
      "execution_count": 0,
      "outputs": [
        {
          "output_type": "stream",
          "text": [
            "1\n",
            "2\n",
            "3\n",
            "4\n"
          ],
          "name": "stdout"
        }
      ]
    },
    {
      "metadata": {
        "colab_type": "code",
        "id": "ICbVxG0tL_ES",
        "outputId": "1e9159c2-3a09-4129-fb75-5d42b8f29862",
        "colab": {
          "base_uri": "https://localhost:8080/",
          "height": 119
        }
      },
      "cell_type": "code",
      "source": [
        "M = array([[1,2], [3,4]])\n",
        "\n",
        "for row in M:\n",
        "    print(\"row\", row)\n",
        "    \n",
        "    for element in row:\n",
        "        print(element)"
      ],
      "execution_count": 0,
      "outputs": [
        {
          "output_type": "stream",
          "text": [
            "row [1 2]\n",
            "1\n",
            "2\n",
            "row [3 4]\n",
            "3\n",
            "4\n"
          ],
          "name": "stdout"
        }
      ]
    },
    {
      "metadata": {
        "colab_type": "text",
        "id": "UxtfqMplMCjo"
      },
      "cell_type": "markdown",
      "source": [
        "When we need to iterate over each element of an array and modify its elements, it is convenient to use the `enumerate` function to obtain both the element and its index in the `for` loop:"
      ]
    },
    {
      "metadata": {
        "colab_type": "code",
        "id": "x9JXYjXcMAvO",
        "outputId": "cdcdc519-7a15-4559-d52d-b7c101260103",
        "colab": {
          "base_uri": "https://localhost:8080/",
          "height": 119
        }
      },
      "cell_type": "code",
      "source": [
        "for row_idx, row in enumerate(M):\n",
        "    print(\"row_idx\", row_idx, \"row\", row)\n",
        "    \n",
        "    for col_idx, element in enumerate(row):\n",
        "        print(\"col_idx\", col_idx, \"element\", element)\n",
        "       \n",
        "        # update the matrix M: square each element\n",
        "        M[row_idx, col_idx] = element ** 2"
      ],
      "execution_count": 0,
      "outputs": [
        {
          "output_type": "stream",
          "text": [
            "row_idx 0 row [1 2]\n",
            "col_idx 0 element 1\n",
            "col_idx 1 element 2\n",
            "row_idx 1 row [3 4]\n",
            "col_idx 0 element 3\n",
            "col_idx 1 element 4\n"
          ],
          "name": "stdout"
        }
      ]
    },
    {
      "metadata": {
        "colab_type": "code",
        "id": "rjikyfvQMKM6",
        "outputId": "138d78f7-ed40-4317-b13a-1c45158aac5b",
        "colab": {
          "base_uri": "https://localhost:8080/",
          "height": 51
        }
      },
      "cell_type": "code",
      "source": [
        "# each element in M is now squared\n",
        "M"
      ],
      "execution_count": 0,
      "outputs": [
        {
          "output_type": "execute_result",
          "data": {
            "text/plain": [
              "array([[ 1,  4],\n",
              "       [ 9, 16]])"
            ]
          },
          "metadata": {
            "tags": []
          },
          "execution_count": 162
        }
      ]
    },
    {
      "metadata": {
        "colab_type": "text",
        "id": "Sno3MvvZM-yw"
      },
      "cell_type": "markdown",
      "source": [
        "## Using arrays in conditions\n",
        "-------\n",
        "When using arrays in conditions,for example if statements and other boolean expressions, one needs to use `any` or `all`, which requires that any or all elements in the array evalutes to `True`:"
      ]
    },
    {
      "metadata": {
        "colab_type": "code",
        "id": "35WcBXr4MM46",
        "outputId": "39a4dab7-49cc-480e-e4b1-30e602265f3c",
        "colab": {
          "base_uri": "https://localhost:8080/",
          "height": 51
        }
      },
      "cell_type": "code",
      "source": [
        "M"
      ],
      "execution_count": 0,
      "outputs": [
        {
          "output_type": "execute_result",
          "data": {
            "text/plain": [
              "array([[ 1,  4],\n",
              "       [ 9, 16]])"
            ]
          },
          "metadata": {
            "tags": []
          },
          "execution_count": 163
        }
      ]
    },
    {
      "metadata": {
        "colab_type": "code",
        "id": "d_hy1qUHNOiQ",
        "outputId": "9fb7b9fb-a6d0-4ba2-9c15-7337cc01e977",
        "colab": {
          "base_uri": "https://localhost:8080/",
          "height": 34
        }
      },
      "cell_type": "code",
      "source": [
        "if (M > 5).any():\n",
        "    print(\"at least one element in M is larger than 5\")\n",
        "else:\n",
        "    print(\"no element in M is larger than 5\")"
      ],
      "execution_count": 0,
      "outputs": [
        {
          "output_type": "stream",
          "text": [
            "at least one element in M is larger than 5\n"
          ],
          "name": "stdout"
        }
      ]
    },
    {
      "metadata": {
        "colab_type": "code",
        "id": "Fuo2_JVxNQPZ",
        "outputId": "7b84b6bc-8314-4b5f-ab87-eea0fdb21943",
        "colab": {
          "base_uri": "https://localhost:8080/",
          "height": 34
        }
      },
      "cell_type": "code",
      "source": [
        "if (M > 5).all():\n",
        "    print(\"all elements in M are larger than 5\")\n",
        "else:\n",
        "    print(\"all elements in M are not larger than 5\")"
      ],
      "execution_count": 0,
      "outputs": [
        {
          "output_type": "stream",
          "text": [
            "all elements in M are not larger than 5\n"
          ],
          "name": "stdout"
        }
      ]
    },
    {
      "metadata": {
        "colab_type": "code",
        "id": "on5wL0CumjkP",
        "outputId": "53a6d374-af80-42c2-d015-eceb53b829c3",
        "colab": {
          "base_uri": "https://localhost:8080/",
          "height": 34
        }
      },
      "cell_type": "code",
      "source": [
        "M[any(M>5,axis=1)]"
      ],
      "execution_count": 0,
      "outputs": [
        {
          "output_type": "execute_result",
          "data": {
            "text/plain": [
              "array([[ 9, 16]])"
            ]
          },
          "metadata": {
            "tags": []
          },
          "execution_count": 166
        }
      ]
    },
    {
      "metadata": {
        "colab_type": "text",
        "id": "i9Vn2_YkNcZ7"
      },
      "cell_type": "markdown",
      "source": [
        "## Type casting\n",
        "---------\n",
        "Since Numpy arrays are statically typed, the type of an array does not change once created. But we can explicitly cast an array of some type to another using the `astype` functions (see also the similar `asarray` function). This always create a new array of new type:"
      ]
    },
    {
      "metadata": {
        "colab_type": "code",
        "id": "U7ztF1WENUIf",
        "outputId": "45224124-2203-454f-c43b-c56fdad56808",
        "colab": {
          "base_uri": "https://localhost:8080/",
          "height": 34
        }
      },
      "cell_type": "code",
      "source": [
        "M.dtype"
      ],
      "execution_count": 0,
      "outputs": [
        {
          "output_type": "execute_result",
          "data": {
            "text/plain": [
              "dtype('int64')"
            ]
          },
          "metadata": {
            "tags": []
          },
          "execution_count": 167
        }
      ]
    },
    {
      "metadata": {
        "colab_type": "code",
        "id": "5LGDt3IENp2-",
        "outputId": "a493510e-71de-471e-cddc-d14d4480280f",
        "colab": {
          "base_uri": "https://localhost:8080/",
          "height": 51
        }
      },
      "cell_type": "code",
      "source": [
        "M2 = M.astype(float)\n",
        "\n",
        "M2"
      ],
      "execution_count": 0,
      "outputs": [
        {
          "output_type": "execute_result",
          "data": {
            "text/plain": [
              "array([[ 1.,  4.],\n",
              "       [ 9., 16.]])"
            ]
          },
          "metadata": {
            "tags": []
          },
          "execution_count": 168
        }
      ]
    },
    {
      "metadata": {
        "colab_type": "code",
        "id": "4Q9d_AcKNrc_",
        "outputId": "8c24692f-cec3-41f4-f3c4-5ad194439f78",
        "colab": {
          "base_uri": "https://localhost:8080/",
          "height": 34
        }
      },
      "cell_type": "code",
      "source": [
        "M2.dtype"
      ],
      "execution_count": 0,
      "outputs": [
        {
          "output_type": "execute_result",
          "data": {
            "text/plain": [
              "dtype('float64')"
            ]
          },
          "metadata": {
            "tags": []
          },
          "execution_count": 169
        }
      ]
    },
    {
      "metadata": {
        "colab_type": "code",
        "id": "rk9rVdnENte5",
        "outputId": "331e492e-f436-462b-f221-b17d8b34654d",
        "colab": {
          "base_uri": "https://localhost:8080/",
          "height": 51
        }
      },
      "cell_type": "code",
      "source": [
        "M3 = M.astype(bool)\n",
        "\n",
        "M3"
      ],
      "execution_count": 0,
      "outputs": [
        {
          "output_type": "execute_result",
          "data": {
            "text/plain": [
              "array([[ True,  True],\n",
              "       [ True,  True]])"
            ]
          },
          "metadata": {
            "tags": []
          },
          "execution_count": 170
        }
      ]
    },
    {
      "metadata": {
        "colab_type": "text",
        "id": "RYD0OMoTUPc_"
      },
      "cell_type": "markdown",
      "source": [
        "## Homework 1 with numpy"
      ]
    },
    {
      "metadata": {
        "colab_type": "code",
        "id": "SQSVveOUNvv_",
        "outputId": "f437d15d-4cc7-4665-f1b8-c73491ad5a50",
        "colab": {
          "base_uri": "https://localhost:8080/",
          "height": 224
        }
      },
      "cell_type": "code",
      "source": [
        "# Get the datasets\n",
        "!wget https://nekrut.github.io/BMMB554/yeast_genes.txt"
      ],
      "execution_count": 1,
      "outputs": [
        {
          "output_type": "stream",
          "text": [
            "--2019-01-28 19:42:33--  https://nekrut.github.io/BMMB554/yeast_genes.txt\n",
            "Resolving nekrut.github.io (nekrut.github.io)... 185.199.110.153, 185.199.108.153, 185.199.109.153, ...\n",
            "Connecting to nekrut.github.io (nekrut.github.io)|185.199.110.153|:443... connected.\n",
            "HTTP request sent, awaiting response... 200 OK\n",
            "Length: 236742 (231K) [text/plain]\n",
            "Saving to: ‘yeast_genes.txt’\n",
            "\n",
            "\ryeast_genes.txt       0%[                    ]       0  --.-KB/s               \ryeast_genes.txt     100%[===================>] 231.19K  --.-KB/s    in 0.07s   \n",
            "\n",
            "2019-01-28 19:42:33 (3.25 MB/s) - ‘yeast_genes.txt’ saved [236742/236742]\n",
            "\n"
          ],
          "name": "stdout"
        }
      ]
    },
    {
      "metadata": {
        "colab_type": "code",
        "id": "IoeF1h7FXQTO",
        "outputId": "7cbeac80-da11-49b1-854b-bcb9b43af5f0",
        "colab": {
          "base_uri": "https://localhost:8080/",
          "height": 323
        }
      },
      "cell_type": "code",
      "source": [
        "!cut -f 3 yeast_genes.txt | sort | uniq -c"
      ],
      "execution_count": 2,
      "outputs": [
        {
          "output_type": "stream",
          "text": [
            "    131 chrI\n",
            "    485 chrII\n",
            "    253 chrIII\n",
            "    889 chrIV\n",
            "    264 chrIX\n",
            "     58 chrmt\n",
            "      1 chrom\n",
            "    360 chrV\n",
            "    161 chrVI\n",
            "    642 chrVII\n",
            "    340 chrVIII\n",
            "    438 chrX\n",
            "    375 chrXI\n",
            "    644 chrXII\n",
            "    551 chrXIII\n",
            "    459 chrXIV\n",
            "    640 chrXV\n",
            "    548 chrXVI\n"
          ],
          "name": "stdout"
        }
      ]
    },
    {
      "metadata": {
        "colab_type": "code",
        "id": "PVUIJ4YOWWAq",
        "outputId": "ee3d3c37-0715-495f-89fa-c76f3976538c",
        "colab": {
          "base_uri": "https://localhost:8080/",
          "height": 306
        }
      },
      "cell_type": "code",
      "source": [
        "# First let's find out how many chromosomes:\n",
        "chrom = []\n",
        "for line in open('yeast_genes.txt','r'):\n",
        "  if not line.startswith('#'): # ignore header\n",
        "    chrom.append(line.split('\\t')[2]) #split line on tabs and access the third [2] element\n",
        "set(chrom)"
      ],
      "execution_count": 3,
      "outputs": [
        {
          "output_type": "execute_result",
          "data": {
            "text/plain": [
              "{'chrI',\n",
              " 'chrII',\n",
              " 'chrIII',\n",
              " 'chrIV',\n",
              " 'chrIX',\n",
              " 'chrV',\n",
              " 'chrVI',\n",
              " 'chrVII',\n",
              " 'chrVIII',\n",
              " 'chrX',\n",
              " 'chrXI',\n",
              " 'chrXII',\n",
              " 'chrXIII',\n",
              " 'chrXIV',\n",
              " 'chrXV',\n",
              " 'chrXVI',\n",
              " 'chrmt'}"
            ]
          },
          "metadata": {
            "tags": []
          },
          "execution_count": 3
        }
      ]
    },
    {
      "metadata": {
        "colab_type": "code",
        "id": "rLSX4SatYMDq",
        "colab": {}
      },
      "cell_type": "code",
      "source": [
        "# Let's create two arrays to translate between roman and integer\n",
        "# The trick here is than index of every element can be used to\n",
        "# Translate roman into integer\n",
        "# For example, chr_roman[1] is 'chrI'\n",
        "\n",
        "chr_roman = ['chrmt',\n",
        " 'chrI',       \n",
        " 'chrII',\n",
        " 'chrIII',\n",
        " 'chrIV',\n",
        " 'chrV',\n",
        " 'chrVI',\n",
        " 'chrVII',\n",
        " 'chrVIII',\n",
        " 'chrIX',         \n",
        " 'chrX',\n",
        " 'chrXI',\n",
        " 'chrXII',\n",
        " 'chrXIII',\n",
        " 'chrXIV',\n",
        " 'chrXV',\n",
        " 'chrXVI']"
      ],
      "execution_count": 0,
      "outputs": []
    },
    {
      "metadata": {
        "colab_type": "code",
        "id": "r6mcc_eDfMfi",
        "outputId": "1f44a839-09c5-4228-89d2-ba6c3a7292a0",
        "colab": {
          "base_uri": "https://localhost:8080/",
          "height": 34
        }
      },
      "cell_type": "code",
      "source": [
        "chr_roman.index('chrI')"
      ],
      "execution_count": 5,
      "outputs": [
        {
          "output_type": "execute_result",
          "data": {
            "text/plain": [
              "1"
            ]
          },
          "metadata": {
            "tags": []
          },
          "execution_count": 5
        }
      ]
    },
    {
      "metadata": {
        "colab_type": "code",
        "id": "e6hd78R3Ucp2",
        "colab": {}
      },
      "cell_type": "code",
      "source": [
        "# Process the dataset\n",
        "\n",
        "names = [] # Initialize array for gene names\n",
        "coord = [] # Initialize array for coordinate data\n",
        "\n",
        "for line in open('yeast_genes.txt','r'):\n",
        "  if not line.startswith('#'): # ignore header\n",
        "    line = line.rstrip() # get rid of caret returns\n",
        "    fields = line.split('\\t') # split line on tabs to convert it into a list\n",
        "    name = fields[0]\n",
        "    chromosome = chr_roman.index(fields[2])\n",
        "    start = int( fields[3] )\n",
        "    end = int( fields[4] )\n",
        "    length = end-start+1 # compute the length\n",
        "    if name.split('-')[0].endswith('W'):\n",
        "      strand = 1 # encode positive strand as 1\n",
        "    elif name.split('-')[0].endswith('C'):\n",
        "      strand = 2 # encode negative strand as 2\n",
        "    else:        \n",
        "      strand = 0 # encode unknown strand as 0\n",
        "    names.append(name)\n",
        "    coord.append([chromosome,start,end,length,strand])\n",
        "      "
      ],
      "execution_count": 0,
      "outputs": []
    },
    {
      "metadata": {
        "colab_type": "code",
        "id": "o7mD6m-9hPQl",
        "outputId": "c0fa1501-9c68-490e-a19f-362d5a0ba5b9",
        "colab": {
          "base_uri": "https://localhost:8080/",
          "height": 34
        }
      },
      "cell_type": "code",
      "source": [
        "coord[:2]"
      ],
      "execution_count": 7,
      "outputs": [
        {
          "output_type": "execute_result",
          "data": {
            "text/plain": [
              "[[0, 61868, 62447, 580, 0], [0, 1, 11, 11, 0]]"
            ]
          },
          "metadata": {
            "tags": []
          },
          "execution_count": 7
        }
      ]
    },
    {
      "metadata": {
        "colab_type": "code",
        "id": "lrf7MFNZhsQT",
        "outputId": "e04509f7-ba27-493a-bc29-a3e3f65334b8",
        "colab": {
          "base_uri": "https://localhost:8080/",
          "height": 34
        }
      },
      "cell_type": "code",
      "source": [
        "names[:2]"
      ],
      "execution_count": 8,
      "outputs": [
        {
          "output_type": "execute_result",
          "data": {
            "text/plain": [
              "['21S_rRNA_4', '9S_rRNA_1']"
            ]
          },
          "metadata": {
            "tags": []
          },
          "execution_count": 8
        }
      ]
    },
    {
      "metadata": {
        "colab_type": "code",
        "id": "ukLdJBqDh5uz",
        "outputId": "c3cf3706-5cf8-4c54-8316-24d65a950e69",
        "colab": {
          "base_uri": "https://localhost:8080/",
          "height": 68
        }
      },
      "cell_type": "code",
      "source": [
        "!head -n 3 yeast_genes.txt"
      ],
      "execution_count": 9,
      "outputs": [
        {
          "output_type": "stream",
          "text": [
            "#systematic_name\tstandard_name\tchrom\tstart\tend\n",
            "21S_rRNA_4\t21S_RRNA_4\tchrmt\t61868\t62447\n",
            "9S_rRNA_1\t9S_RRNA_1\tchrmt\t1\t11\n"
          ],
          "name": "stdout"
        }
      ]
    },
    {
      "metadata": {
        "colab_type": "code",
        "id": "vwbq2D6giH_y",
        "colab": {}
      },
      "cell_type": "code",
      "source": [
        "# Convert coord array into numpy array\n",
        "coord = array(coord)"
      ],
      "execution_count": 0,
      "outputs": []
    },
    {
      "metadata": {
        "colab_type": "code",
        "id": "eBn3O7JwiUvD",
        "outputId": "13880732-25ec-448b-996a-ea0494a6a990",
        "colab": {
          "base_uri": "https://localhost:8080/",
          "height": 51
        }
      },
      "cell_type": "code",
      "source": [
        "coord[:2]"
      ],
      "execution_count": 14,
      "outputs": [
        {
          "output_type": "execute_result",
          "data": {
            "text/plain": [
              "array([[    0, 61868, 62447,   580,     0],\n",
              "       [    0,     1,    11,    11,     0]])"
            ]
          },
          "metadata": {
            "tags": []
          },
          "execution_count": 14
        }
      ]
    },
    {
      "metadata": {
        "colab_type": "code",
        "id": "gE5tc9MMiWk9",
        "outputId": "44e30115-be6e-48c0-91a5-00352354d340",
        "colab": {
          "base_uri": "https://localhost:8080/",
          "height": 34
        }
      },
      "cell_type": "code",
      "source": [
        "coord.dtype"
      ],
      "execution_count": 15,
      "outputs": [
        {
          "output_type": "execute_result",
          "data": {
            "text/plain": [
              "dtype('int64')"
            ]
          },
          "metadata": {
            "tags": []
          },
          "execution_count": 15
        }
      ]
    },
    {
      "metadata": {
        "colab_type": "code",
        "id": "l0J0Yq_UibnD",
        "colab": {}
      },
      "cell_type": "code",
      "source": [
        "# Convert names array into numpy array\n",
        "names = array(names)"
      ],
      "execution_count": 0,
      "outputs": []
    },
    {
      "metadata": {
        "colab_type": "code",
        "id": "JPTkZ2eLif_C",
        "outputId": "12d3e3d3-1eca-4ef0-b52a-db07e5a570f1",
        "colab": {
          "base_uri": "https://localhost:8080/",
          "height": 34
        }
      },
      "cell_type": "code",
      "source": [
        "names[:2]"
      ],
      "execution_count": 17,
      "outputs": [
        {
          "output_type": "execute_result",
          "data": {
            "text/plain": [
              "array(['21S_rRNA_4', '9S_rRNA_1'], dtype='<U10')"
            ]
          },
          "metadata": {
            "tags": []
          },
          "execution_count": 17
        }
      ]
    },
    {
      "metadata": {
        "colab_type": "code",
        "id": "a80Qr3Leih02",
        "outputId": "9527656c-4df7-46ea-f356-7be6d0d746d9",
        "colab": {
          "base_uri": "https://localhost:8080/",
          "height": 34
        }
      },
      "cell_type": "code",
      "source": [
        "# The number of genes can be inferred from array shape\n",
        "coord.shape\n"
      ],
      "execution_count": 18,
      "outputs": [
        {
          "output_type": "execute_result",
          "data": {
            "text/plain": [
              "(7238, 5)"
            ]
          },
          "metadata": {
            "tags": []
          },
          "execution_count": 18
        }
      ]
    },
    {
      "metadata": {
        "colab_type": "code",
        "id": "6YMg8m_isf2v",
        "outputId": "1159d9a0-205d-4038-dd50-3482922633ab",
        "colab": {
          "base_uri": "https://localhost:8080/",
          "height": 34
        }
      },
      "cell_type": "code",
      "source": [
        "# You can see that the file as many lines + 1 (header)\n",
        "!wc -l yeast_genes.txt"
      ],
      "execution_count": 19,
      "outputs": [
        {
          "output_type": "stream",
          "text": [
            "7239 yeast_genes.txt\n"
          ],
          "name": "stdout"
        }
      ]
    },
    {
      "metadata": {
        "colab_type": "code",
        "id": "8XAMy0XCjfWB",
        "outputId": "8eab447c-b70f-47c4-a366-d502f575f2a2",
        "colab": {
          "base_uri": "https://localhost:8080/",
          "height": 34
        }
      },
      "cell_type": "code",
      "source": [
        "# Longest gene is the max of the dufference between start and end\n",
        "max(coord[:,2] - coord[:,1] + 1)"
      ],
      "execution_count": 20,
      "outputs": [
        {
          "output_type": "execute_result",
          "data": {
            "text/plain": [
              "14733"
            ]
          },
          "metadata": {
            "tags": []
          },
          "execution_count": 20
        }
      ]
    },
    {
      "metadata": {
        "colab_type": "code",
        "id": "Cke6N5kNlMzO",
        "outputId": "75ffdf14-c421-4738-ae9d-8b98df568912",
        "colab": {
          "base_uri": "https://localhost:8080/",
          "height": 34
        }
      },
      "cell_type": "code",
      "source": [
        "# Or simply the maximum of the length column\n",
        "max(coord[:,3])"
      ],
      "execution_count": 21,
      "outputs": [
        {
          "output_type": "execute_result",
          "data": {
            "text/plain": [
              "14733"
            ]
          },
          "metadata": {
            "tags": []
          },
          "execution_count": 21
        }
      ]
    },
    {
      "metadata": {
        "colab_type": "code",
        "id": "fRaWf912uxWS",
        "outputId": "42a22c96-1596-4d9a-d2e9-453804b6c3a6",
        "colab": {
          "base_uri": "https://localhost:8080/",
          "height": 34
        }
      },
      "cell_type": "code",
      "source": [
        "# Which gene is that?\n",
        "# The index of this gene in coord array is:\n",
        "argmax(coord[:,3])"
      ],
      "execution_count": 22,
      "outputs": [
        {
          "output_type": "execute_result",
          "data": {
            "text/plain": [
              "4740"
            ]
          },
          "metadata": {
            "tags": []
          },
          "execution_count": 22
        }
      ]
    },
    {
      "metadata": {
        "colab_type": "code",
        "id": "dOKp7Voau0mB",
        "outputId": "8322d8e1-b193-407c-a254-67b435780c27",
        "colab": {
          "base_uri": "https://localhost:8080/",
          "height": 34
        }
      },
      "cell_type": "code",
      "source": [
        "# It has the same index in names array:\n",
        "names[4740]"
      ],
      "execution_count": 0,
      "outputs": [
        {
          "output_type": "execute_result",
          "data": {
            "text/plain": [
              "'YLR106C'"
            ]
          },
          "metadata": {
            "tags": []
          },
          "execution_count": 190
        }
      ]
    },
    {
      "metadata": {
        "colab_type": "code",
        "id": "jV340oH7mMk9",
        "outputId": "a80cc2c3-91d7-408d-b69b-9f11019b8e4a",
        "colab": {
          "base_uri": "https://localhost:8080/",
          "height": 34
        }
      },
      "cell_type": "code",
      "source": [
        "# Shortest gene\n",
        "min(coord[:,3])"
      ],
      "execution_count": 0,
      "outputs": [
        {
          "output_type": "execute_result",
          "data": {
            "text/plain": [
              "1"
            ]
          },
          "metadata": {
            "tags": []
          },
          "execution_count": 191
        }
      ]
    },
    {
      "metadata": {
        "colab_type": "code",
        "id": "w73UIqq5pWOv",
        "outputId": "ee775cf3-9f9e-42d0-f142-16f9c2637efd",
        "colab": {
          "base_uri": "https://localhost:8080/",
          "height": 34
        }
      },
      "cell_type": "code",
      "source": [
        "# The number of genes on chromsome 10\n",
        "shape(extract(coord[:,0] == 10,coord))"
      ],
      "execution_count": 23,
      "outputs": [
        {
          "output_type": "execute_result",
          "data": {
            "text/plain": [
              "(438,)"
            ]
          },
          "metadata": {
            "tags": []
          },
          "execution_count": 23
        }
      ]
    },
    {
      "metadata": {
        "id": "u0Z45p2Z_pKA",
        "colab_type": "code",
        "colab": {
          "base_uri": "https://localhost:8080/",
          "height": 34
        },
        "outputId": "5867dc03-522c-483f-80de-45e006b15feb"
      },
      "cell_type": "code",
      "source": [
        "shape(extract(coord[:,0] == 9,coord))"
      ],
      "execution_count": 24,
      "outputs": [
        {
          "output_type": "execute_result",
          "data": {
            "text/plain": [
              "(264,)"
            ]
          },
          "metadata": {
            "tags": []
          },
          "execution_count": 24
        }
      ]
    },
    {
      "metadata": {
        "colab_type": "code",
        "id": "s6N2fBRpoXOr",
        "outputId": "3b24499d-8d26-428b-bd90-dbc65477645e",
        "colab": {
          "base_uri": "https://localhost:8080/",
          "height": 34
        }
      },
      "cell_type": "code",
      "source": [
        "# Longest gene on chromosome 10\n",
        "max(extract(coord[:,0] == 10,coord[:,3]))"
      ],
      "execution_count": 0,
      "outputs": [
        {
          "output_type": "execute_result",
          "data": {
            "text/plain": [
              "7413"
            ]
          },
          "metadata": {
            "tags": []
          },
          "execution_count": 193
        }
      ]
    },
    {
      "metadata": {
        "colab_type": "code",
        "id": "8rFAqumNoebK",
        "outputId": "4a4d549d-7ae1-416c-d0b1-493a2973fcd5",
        "colab": {
          "base_uri": "https://localhost:8080/",
          "height": 34
        }
      },
      "cell_type": "code",
      "source": [
        "# The number of genes of chromsome 1 that are on the + strand \n",
        "# (we encoded '+' as 1)\n",
        "size(extract(coord[:,0] == 1, coord[:,4] == 1))"
      ],
      "execution_count": 0,
      "outputs": [
        {
          "output_type": "execute_result",
          "data": {
            "text/plain": [
              "131"
            ]
          },
          "metadata": {
            "tags": []
          },
          "execution_count": 194
        }
      ]
    },
    {
      "metadata": {
        "colab_type": "code",
        "id": "5XqO7sOLrCKm",
        "outputId": "f96dd31b-555b-42f5-a2b6-ff1642f00625",
        "colab": {
          "base_uri": "https://localhost:8080/",
          "height": 34
        }
      },
      "cell_type": "code",
      "source": [
        "# The number of genes of chromsome 1 that are on the - strand \n",
        "# (we encoded '-' as 2)\n",
        "size(extract(coord[:,0] == 2, coord[:,4] == 2))"
      ],
      "execution_count": 0,
      "outputs": [
        {
          "output_type": "execute_result",
          "data": {
            "text/plain": [
              "485"
            ]
          },
          "metadata": {
            "tags": []
          },
          "execution_count": 195
        }
      ]
    },
    {
      "metadata": {
        "id": "y_wUE2XkA9wu",
        "colab_type": "code",
        "colab": {
          "base_uri": "https://localhost:8080/",
          "height": 34
        },
        "outputId": "d22f81f6-e341-4e36-aab4-7c496e018a81"
      },
      "cell_type": "code",
      "source": [
        "size(extract(coord[:,0] == 3, coord[:,4] == 1))"
      ],
      "execution_count": 25,
      "outputs": [
        {
          "output_type": "execute_result",
          "data": {
            "text/plain": [
              "253"
            ]
          },
          "metadata": {
            "tags": []
          },
          "execution_count": 25
        }
      ]
    },
    {
      "metadata": {
        "id": "R2Ah-LY8BIrg",
        "colab_type": "code",
        "colab": {
          "base_uri": "https://localhost:8080/",
          "height": 34
        },
        "outputId": "e43df37a-567d-4e7d-f4b2-4c2fc326c005"
      },
      "cell_type": "code",
      "source": [
        "size(extract(coord[:,0] == 4, coord[:,4] == 2))"
      ],
      "execution_count": 27,
      "outputs": [
        {
          "output_type": "execute_result",
          "data": {
            "text/plain": [
              "889"
            ]
          },
          "metadata": {
            "tags": []
          },
          "execution_count": 27
        }
      ]
    },
    {
      "metadata": {
        "colab_type": "code",
        "id": "_wO92gCprLcR",
        "outputId": "dc5ffbbb-aecf-47a3-e047-fd99861b7c6a",
        "colab": {
          "base_uri": "https://localhost:8080/",
          "height": 353
        }
      },
      "cell_type": "code",
      "source": [
        "# Let's plot distribution of gene lengths\n",
        "sns.set_style('whitegrid')\n",
        "sns.distplot(coord[:,3])"
      ],
      "execution_count": 0,
      "outputs": [
        {
          "output_type": "stream",
          "text": [
            "/usr/local/lib/python3.6/dist-packages/matplotlib/axes/_axes.py:6521: MatplotlibDeprecationWarning: \n",
            "The 'normed' kwarg was deprecated in Matplotlib 2.1 and will be removed in 3.1. Use 'density' instead.\n",
            "  alternative=\"'density'\", removal=\"3.1\")\n"
          ],
          "name": "stderr"
        },
        {
          "output_type": "execute_result",
          "data": {
            "text/plain": [
              "<matplotlib.axes._subplots.AxesSubplot at 0x7f03f238c6a0>"
            ]
          },
          "metadata": {
            "tags": []
          },
          "execution_count": 196
        },
        {
          "output_type": "display_data",
          "data": {
            "image/png": "[encoded data removed]",
            "text/plain": [
              "<Figure size 432x288 with 1 Axes>"
            ]
          },
          "metadata": {
            "tags": []
          }
        }
      ]
    },
    {
      "metadata": {
        "id": "ip2DmZcjBHFZ",
        "colab_type": "code",
        "colab": {}
      },
      "cell_type": "code",
      "source": [
        ""
      ],
      "execution_count": 0,
      "outputs": []
    },
    {
      "metadata": {
        "colab_type": "text",
        "id": "Ao4SGsLW6gqO"
      },
      "cell_type": "markdown",
      "source": [
        "##  A little fun with images\n",
        "------\n",
        "Images are really arrays"
      ]
    },
    {
      "metadata": {
        "colab_type": "code",
        "id": "e7-7BPlL6gqN",
        "colab": {}
      },
      "cell_type": "code",
      "source": [
        "import matplotlib.pyplot as pl\n",
        "import matplotlib.image as mpimg\n",
        "import numpy as np"
      ],
      "execution_count": 0,
      "outputs": []
    },
    {
      "metadata": {
        "colab_type": "code",
        "id": "qXWLsc256gqL",
        "colab": {}
      },
      "cell_type": "code",
      "source": [
        "import imageio\n",
        "img=\"https://nekrut.github.io/BMMB554/img/1N1A6336.CR2.jpg\"\n",
        "img = imageio.imread(img)"
      ],
      "execution_count": 0,
      "outputs": []
    },
    {
      "metadata": {
        "colab_type": "code",
        "id": "voFvVNJe6gqG",
        "outputId": "835bc261-49cc-4b4e-ed2f-8d7cfc94144b",
        "colab": {
          "base_uri": "https://localhost:8080/",
          "height": 34
        }
      },
      "cell_type": "code",
      "source": [
        "img.shape"
      ],
      "execution_count": 0,
      "outputs": [
        {
          "output_type": "execute_result",
          "data": {
            "text/plain": [
              "(880, 1320, 3)"
            ]
          },
          "metadata": {
            "tags": []
          },
          "execution_count": 199
        }
      ]
    },
    {
      "metadata": {
        "colab_type": "code",
        "id": "LNV4KEv66gqD",
        "outputId": "6bf2b686-bda9-4100-a6cf-55fa75a37de2",
        "colab": {
          "base_uri": "https://localhost:8080/",
          "height": 163
        }
      },
      "cell_type": "code",
      "source": [
        "start_img[0]"
      ],
      "execution_count": 0,
      "outputs": [
        {
          "output_type": "error",
          "ename": "NameError",
          "evalue": "ignored",
          "traceback": [
            "\u001b[0;31m---------------------------------------------------------------------------\u001b[0m",
            "\u001b[0;31mNameError\u001b[0m                                 Traceback (most recent call last)",
            "\u001b[0;32m<ipython-input-200-ccafdea59cf4>\u001b[0m in \u001b[0;36m<module>\u001b[0;34m()\u001b[0m\n\u001b[0;32m----> 1\u001b[0;31m \u001b[0mstart_img\u001b[0m\u001b[0;34m[\u001b[0m\u001b[0;36m0\u001b[0m\u001b[0;34m]\u001b[0m\u001b[0;34m\u001b[0m\u001b[0;34m\u001b[0m\u001b[0m\n\u001b[0m",
            "\u001b[0;31mNameError\u001b[0m: name 'start_img' is not defined"
          ]
        }
      ]
    },
    {
      "metadata": {
        "colab_type": "code",
        "id": "rPoJRXvM6gp_",
        "outputId": "fd2e5fa0-b3e1-4755-a9f7-98a0af024d5e",
        "colab": {
          "base_uri": "https://localhost:8080/",
          "height": 286
        }
      },
      "cell_type": "code",
      "source": [
        "plt.imshow(img,cmap=plt.cm.gray)\n",
        "plt.axis('off')"
      ],
      "execution_count": 0,
      "outputs": [
        {
          "output_type": "execute_result",
          "data": {
            "text/plain": [
              "(-0.5, 1319.5, 879.5, -0.5)"
            ]
          },
          "metadata": {
            "tags": []
          },
          "execution_count": 201
        },
        {
          "output_type": "display_data",
          "data": {
            "image/png": "[encoded data removed]",
            "text/plain": [
              "<Figure size 432x288 with 1 Axes>"
            ]
          },
          "metadata": {
            "tags": []
          }
        }
      ]
    },
    {
      "metadata": {
        "colab_type": "text",
        "id": "YPwQ2P1U6gp9"
      },
      "cell_type": "markdown",
      "source": [
        ""
      ]
    },
    {
      "metadata": {
        "colab_type": "code",
        "id": "ipa5FmWg6gp4",
        "colab": {}
      },
      "cell_type": "code",
      "source": [
        "flip = np.flipud(img)"
      ],
      "execution_count": 0,
      "outputs": []
    },
    {
      "metadata": {
        "colab_type": "code",
        "id": "0bchl-is6gpy",
        "outputId": "038435fd-ab92-4be6-e0cb-fe165a1eb8f3",
        "colab": {
          "base_uri": "https://localhost:8080/",
          "height": 286
        }
      },
      "cell_type": "code",
      "source": [
        "plt.imshow(flip)\n",
        "plt.axis('off')"
      ],
      "execution_count": 0,
      "outputs": [
        {
          "output_type": "execute_result",
          "data": {
            "text/plain": [
              "(-0.5, 1319.5, 879.5, -0.5)"
            ]
          },
          "metadata": {
            "tags": []
          },
          "execution_count": 203
        },
        {
          "output_type": "display_data",
          "data": {
            "image/png": "[encoded data removed]",
            "text/plain": [
              "<Figure size 432x288 with 1 Axes>"
            ]
          },
          "metadata": {
            "tags": []
          }
        }
      ]
    },
    {
      "metadata": {
        "colab_type": "code",
        "id": "G6703sJ69Hgo",
        "colab": {}
      },
      "cell_type": "code",
      "source": [
        ""
      ],
      "execution_count": 0,
      "outputs": []
    }
  ]
}