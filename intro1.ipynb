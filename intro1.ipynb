{
  "nbformat": 4,
  "nbformat_minor": 0,
  "metadata": {
    "colab": {
      "name": "Copy of intro1.ipynb",
      "version": "0.3.2",
      "provenance": [],
      "toc_visible": true,
      "include_colab_link": true
    },
    "kernelspec": {
      "display_name": "Python 3",
      "language": "python",
      "name": "python3"
    }
  },
  "cells": [
    {
      "cell_type": "markdown",
      "metadata": {
        "id": "view-in-github",
        "colab_type": "text"
      },
      "source": [
        "<a href=\"https://colab.research.google.com/github/xxihe/sandbox2019/blob/master/intro1.ipynb\" target=\"_parent\"><img src=\"https://colab.research.google.com/assets/colab-badge.svg\" alt=\"Open In Colab\"/></a>"
      ]
    },
    {
      "metadata": {
        "nbpresent": {
          "id": "dc7a1635-0bbd-4bf7-a07e-7a36f58e258b"
        },
        "id": "AT7XlLhV3MLw",
        "colab_type": "text"
      },
      "cell_type": "markdown",
      "source": [
        "# An introduction to solving biological problems with Python: 1"
      ]
    },
    {
      "metadata": {
        "nbpresent": {
          "id": "21082cb9-e1b9-4fe9-80d5-9d9e8418937b"
        },
        "id": "OdlqAGAu3ML1",
        "colab_type": "text"
      },
      "cell_type": "markdown",
      "source": [
        "## Learning objectives\n",
        "- **Recall** how to print, create variables and save Python code in files\n",
        "- **List** the most common data types in Python\n",
        "- **Explain** how to use different type of collections\n",
        "- **Use and compare** these concepts in different code examples \n",
        "- **Propose and create** solutions using these concepts in different exercises"
      ]
    },
    {
      "metadata": {
        "id": "F1o0iauV3ML2",
        "colab_type": "text"
      },
      "cell_type": "markdown",
      "source": [
        "# Part 1.1: Variables\n",
        "\n",
        "-----\n",
        "\n",
        " - Printing values\n",
        " - Using variables\n",
        "\n"
      ]
    },
    {
      "metadata": {
        "id": "WMhvbD2u3ML3",
        "colab_type": "text"
      },
      "cell_type": "markdown",
      "source": [
        "## Printing values\n",
        "\n",
        "The first bit of python syntax we're going to learn is the <tt>print</tt> statement. This command lets us print messages to the user, and also to see what Python thinks is the value of some expression (very useful when debugging your programs).\n",
        "\n",
        "We will go into details later on, but for now just note that to print some text you have to enclose it in  \"quotation marks\". \n",
        "\n",
        "We will go into detail on the arithmetic operations supported in python shortly, but you can try exploring python's calculating abilities."
      ]
    },
    {
      "metadata": {
        "id": "lft_igm33ML4",
        "colab_type": "code",
        "colab": {
          "base_uri": "https://localhost:8080/",
          "height": 34
        },
        "outputId": "422b03cc-69eb-4a5a-d077-d206889e29be"
      },
      "cell_type": "code",
      "source": [
        "print(\"Hello from python!\")"
      ],
      "execution_count": 1,
      "outputs": [
        {
          "output_type": "stream",
          "text": [
            "Hello from python!\n"
          ],
          "name": "stdout"
        }
      ]
    },
    {
      "metadata": {
        "id": "L72NS4Na3ML8",
        "colab_type": "code",
        "colab": {
          "base_uri": "https://localhost:8080/",
          "height": 34
        },
        "outputId": "3ce27198-384b-455d-e329-b855f4666236"
      },
      "cell_type": "code",
      "source": [
        "print(34)"
      ],
      "execution_count": 2,
      "outputs": [
        {
          "output_type": "stream",
          "text": [
            "34\n"
          ],
          "name": "stdout"
        }
      ]
    },
    {
      "metadata": {
        "id": "9J8KxJCc3MMC",
        "colab_type": "code",
        "colab": {
          "base_uri": "https://localhost:8080/",
          "height": 34
        },
        "outputId": "905aeb64-ab40-4b4d-eee2-c48d4f4af3a1"
      },
      "cell_type": "code",
      "source": [
        "print(2 + 3)"
      ],
      "execution_count": 3,
      "outputs": [
        {
          "output_type": "stream",
          "text": [
            "5\n"
          ],
          "name": "stdout"
        }
      ]
    },
    {
      "metadata": {
        "id": "S9hi0AEJ3MMG",
        "colab_type": "text"
      },
      "cell_type": "markdown",
      "source": [
        "You can print  multiple expressions you need to seperate them with commas. Python will insert a space between each element, and a newline at the end of the message (though you can suppress this behaviour by leaving a trailing comma at the end of the command)."
      ]
    },
    {
      "metadata": {
        "id": "wmbqjDIY3MMG",
        "colab_type": "code",
        "colab": {
          "base_uri": "https://localhost:8080/",
          "height": 34
        },
        "outputId": "40a802b3-b2ee-46c8-85bb-c1e99a6b4b2c"
      },
      "cell_type": "code",
      "source": [
        "print(\"The answer:\", 42)"
      ],
      "execution_count": 4,
      "outputs": [
        {
          "output_type": "stream",
          "text": [
            "The answer: 42\n"
          ],
          "name": "stdout"
        }
      ]
    },
    {
      "metadata": {
        "id": "JHW-bLsy3MMK",
        "colab_type": "text"
      },
      "cell_type": "markdown",
      "source": [
        "## Exercises 1.1.1\n",
        "\n",
        "1. In Jupyter, insert a new cell below this one to print your name. Execute the code by pressing `run cell` from the menu bar or use your keyboard `Ctrl-Enter`.\n",
        "2. Do now the same using the interpreter"
      ]
    },
    {
      "metadata": {
        "id": "HefddiFZ3MML",
        "colab_type": "text"
      },
      "cell_type": "markdown",
      "source": [
        "## Using variables"
      ]
    },
    {
      "metadata": {
        "id": "4WzJUxyr3MMN",
        "colab_type": "text"
      },
      "cell_type": "markdown",
      "source": [
        "In the <tt>print</tt> commands above we have directly operated on values such as text strings and numbers. When programming we will typically want to deal with rather more complex expressions where it is useful to be able to assign a name to an expression, especially if we are trying to deal with multiple values at the same time.\n",
        "\n",
        "We can give a name to a value using _variables_, the name is apt because the values stored in a variable can _vary_. Unlike some other languages, the type of value assigned to a variable can also change (this is one of the reasons why python is known as a _dynamic_ language).\n",
        "\n",
        "A variable can be assigned to a simple value..."
      ]
    },
    {
      "metadata": {
        "id": "k2wjYxd33MMO",
        "colab_type": "code",
        "colab": {
          "base_uri": "https://localhost:8080/",
          "height": 34
        },
        "outputId": "fde7ed14-1576-4d92-fd06-26600e6d3b0e"
      },
      "cell_type": "code",
      "source": [
        "x = 3\n",
        "print(x)"
      ],
      "execution_count": 5,
      "outputs": [
        {
          "output_type": "stream",
          "text": [
            "3\n"
          ],
          "name": "stdout"
        }
      ]
    },
    {
      "metadata": {
        "id": "R6LmMubG3MMV",
        "colab_type": "text"
      },
      "cell_type": "markdown",
      "source": [
        "... or the outcome of a more complex expression."
      ]
    },
    {
      "metadata": {
        "id": "dDqzBey_3MMW",
        "colab_type": "code",
        "colab": {
          "base_uri": "https://localhost:8080/",
          "height": 34
        },
        "outputId": "9765d699-57aa-456f-d7b4-d128fa147e70"
      },
      "cell_type": "code",
      "source": [
        "x = 2 + 2\n",
        "print(x)"
      ],
      "execution_count": 6,
      "outputs": [
        {
          "output_type": "stream",
          "text": [
            "4\n"
          ],
          "name": "stdout"
        }
      ]
    },
    {
      "metadata": {
        "id": "2mgLbKR13MMZ",
        "colab_type": "text"
      },
      "cell_type": "markdown",
      "source": [
        "A variable can be called whatever you like (as long as it starts with a character, it does not contain space and is meaningful) and you assign a value to a variable with the **`=` operator**. Note that this is different to mathematical equality (which we will come to later...)\n",
        "\n",
        "You can <tt>print</tt> a variable to see what python thinks its current value is."
      ]
    },
    {
      "metadata": {
        "id": "PJqDuwt23MMZ",
        "colab_type": "code",
        "colab": {
          "base_uri": "https://localhost:8080/",
          "height": 51
        },
        "outputId": "04d965e9-8f0a-469e-92f4-2f3101577cf4"
      },
      "cell_type": "code",
      "source": [
        "serine = \"TCA\"\n",
        "print(serine, \"codes for serine\")\n",
        "serine = \"TCG\"\n",
        "print(\"as does\", serine)"
      ],
      "execution_count": 7,
      "outputs": [
        {
          "output_type": "stream",
          "text": [
            "TCA codes for serine\n",
            "as does TCG\n"
          ],
          "name": "stdout"
        }
      ]
    },
    {
      "metadata": {
        "id": "LIkrzFIw3MMc",
        "colab_type": "text"
      },
      "cell_type": "markdown",
      "source": [
        "In the interactive interpreter you don't have to <tt>print</tt> everything, if you type a variable name (or just a value), the interpreter will automatically print out what python thinks the value is. Note though that this is not the case if your code is in a file."
      ]
    },
    {
      "metadata": {
        "id": "Cl-i7LpO3MMd",
        "colab_type": "code",
        "colab": {
          "base_uri": "https://localhost:8080/",
          "height": 34
        },
        "outputId": "9b09a6eb-1ac9-457f-8d21-3c556ae24a5d"
      },
      "cell_type": "code",
      "source": [
        "3 + 4"
      ],
      "execution_count": 8,
      "outputs": [
        {
          "output_type": "execute_result",
          "data": {
            "text/plain": [
              "7"
            ]
          },
          "metadata": {
            "tags": []
          },
          "execution_count": 8
        }
      ]
    },
    {
      "metadata": {
        "id": "XmOV_gpq3MMh",
        "colab_type": "code",
        "colab": {
          "base_uri": "https://localhost:8080/",
          "height": 34
        },
        "outputId": "82174cd8-8c95-4e5c-ce6c-865b824439b7"
      },
      "cell_type": "code",
      "source": [
        "x = 5\n",
        "3 * x"
      ],
      "execution_count": 9,
      "outputs": [
        {
          "output_type": "execute_result",
          "data": {
            "text/plain": [
              "15"
            ]
          },
          "metadata": {
            "tags": []
          },
          "execution_count": 9
        }
      ]
    },
    {
      "metadata": {
        "id": "p3SupQZ23MMn",
        "colab_type": "text"
      },
      "cell_type": "markdown",
      "source": [
        "Variables can be used on the right hand side of an assignment as well, in which case they will be evaluated before the value is assigned to the variable on the left hand side."
      ]
    },
    {
      "metadata": {
        "id": "kRGmNK5P3MMp",
        "colab_type": "code",
        "colab": {
          "base_uri": "https://localhost:8080/",
          "height": 34
        },
        "outputId": "2efc8e91-c6af-49b8-a7a2-bab48449c26a"
      },
      "cell_type": "code",
      "source": [
        "x = 5\n",
        "y = x * 3\n",
        "print(y)"
      ],
      "execution_count": 10,
      "outputs": [
        {
          "output_type": "stream",
          "text": [
            "15\n"
          ],
          "name": "stdout"
        }
      ]
    },
    {
      "metadata": {
        "id": "PibCdrew3MMr",
        "colab_type": "text"
      },
      "cell_type": "markdown",
      "source": [
        "or just `y` in the interpreter and in Jupyter notebook"
      ]
    },
    {
      "metadata": {
        "id": "Ks4CE-5F3MMt",
        "colab_type": "code",
        "colab": {
          "base_uri": "https://localhost:8080/",
          "height": 34
        },
        "outputId": "0d2a113b-ef1c-434c-d69e-60ccb2984fde"
      },
      "cell_type": "code",
      "source": [
        "y"
      ],
      "execution_count": 11,
      "outputs": [
        {
          "output_type": "execute_result",
          "data": {
            "text/plain": [
              "15"
            ]
          },
          "metadata": {
            "tags": []
          },
          "execution_count": 11
        }
      ]
    },
    {
      "metadata": {
        "id": "XfyQ_3w63MMy",
        "colab_type": "text"
      },
      "cell_type": "markdown",
      "source": [
        "You can use the current value of a variable itself in an assignment"
      ]
    },
    {
      "metadata": {
        "id": "6Ie6B6c63MM0",
        "colab_type": "code",
        "colab": {
          "base_uri": "https://localhost:8080/",
          "height": 34
        },
        "outputId": "03ff90b4-5f80-4d8c-cb6a-c8af5b1994c2"
      },
      "cell_type": "code",
      "source": [
        "y = y + 1\n",
        "y"
      ],
      "execution_count": 12,
      "outputs": [
        {
          "output_type": "execute_result",
          "data": {
            "text/plain": [
              "16"
            ]
          },
          "metadata": {
            "tags": []
          },
          "execution_count": 12
        }
      ]
    },
    {
      "metadata": {
        "id": "HHN6oAaJ3MM4",
        "colab_type": "text"
      },
      "cell_type": "markdown",
      "source": [
        "In fact this is such a common idiom that there are special operators that will do this implicitly (more on these later)"
      ]
    },
    {
      "metadata": {
        "id": "3TYPe6rz3MM5",
        "colab_type": "code",
        "colab": {
          "base_uri": "https://localhost:8080/",
          "height": 34
        },
        "outputId": "6db8f42e-ab29-4785-c068-00cf293fb8b3"
      },
      "cell_type": "code",
      "source": [
        "y += 1\n",
        "y"
      ],
      "execution_count": 14,
      "outputs": [
        {
          "output_type": "execute_result",
          "data": {
            "text/plain": [
              "18"
            ]
          },
          "metadata": {
            "tags": []
          },
          "execution_count": 14
        }
      ]
    },
    {
      "metadata": {
        "id": "Ht_JTROQ3MM-",
        "colab_type": "text"
      },
      "cell_type": "markdown",
      "source": [
        "## Exercises 1.1.2\n",
        "\n",
        "In the interpreter:\n",
        "\n",
        "1. Create a variable and assign it the string value of your first name, assign your age to another variable (you are free to lie!), print out a message saying how old you are\n",
        "2. Use the addition operator to add 10 to your age and print out a message saying how old you will be in 10 years time"
      ]
    },
    {
      "metadata": {
        "id": "-6COqYq93MNA",
        "colab_type": "text"
      },
      "cell_type": "markdown",
      "source": [
        "# Part 1.2: Simple data types\n",
        "\n",
        "-----\n",
        "\n",
        " - Simple data types\n",
        " - Comments\n",
        " - Arithmetic\n"
      ]
    },
    {
      "metadata": {
        "id": "mDQ6-dFu3MNC",
        "colab_type": "text"
      },
      "cell_type": "markdown",
      "source": [
        "## Simple data types"
      ]
    },
    {
      "metadata": {
        "id": "oY4Es3Lr3MNE",
        "colab_type": "text"
      },
      "cell_type": "markdown",
      "source": [
        "Python (and computers in general) treats different types of data differently. Python has 4 main basic data types. Types are useful to constrain some operations to a certain category of variables. For example it doesn't really make sense to try to divide a string.\n",
        "\n",
        "We will see some examples of these in use shortly, but for now let's see all of the basic types available in python."
      ]
    },
    {
      "metadata": {
        "id": "sgFW7WME3MNG",
        "colab_type": "text"
      },
      "cell_type": "markdown",
      "source": [
        "### Integers\n",
        "\n",
        "Integers represent whole numbers, as you would use when counting items, and can be positive or negative."
      ]
    },
    {
      "metadata": {
        "id": "HufRKQpx3MNI",
        "colab_type": "code",
        "colab": {
          "base_uri": "https://localhost:8080/",
          "height": 34
        },
        "outputId": "be3db13f-a310-405b-d9c8-07aa4f494ea9"
      },
      "cell_type": "code",
      "source": [
        "i = -7\n",
        "j = 123\n",
        "print(i, j)"
      ],
      "execution_count": 15,
      "outputs": [
        {
          "output_type": "stream",
          "text": [
            "-7 123\n"
          ],
          "name": "stdout"
        }
      ]
    },
    {
      "metadata": {
        "id": "slQ2n7nC3MNM",
        "colab_type": "text"
      },
      "cell_type": "markdown",
      "source": [
        "### Floats\n",
        "\n",
        "Floating point numbers, often simply referred to as <tt>float</tt>s, are numbers expressed in the decimal system, i.e. 2.1, 999.998, -0.000004 etc. The value 2.0 would also be interpreted as a floating point number, but the value 2, without the decimal point will not; it will be interpreted as an integer."
      ]
    },
    {
      "metadata": {
        "id": "jlHUfx8P3MNN",
        "colab_type": "code",
        "colab": {}
      },
      "cell_type": "code",
      "source": [
        "x = 3.14159\n",
        "y = -42.3\n",
        "print(x * y)"
      ],
      "execution_count": 0,
      "outputs": []
    },
    {
      "metadata": {
        "id": "XGvR7nY-3MNQ",
        "colab_type": "text"
      },
      "cell_type": "markdown",
      "source": [
        "Floating point numbers can also carry an <tt>e</tt> suffix that states which power of ten they operate at."
      ]
    },
    {
      "metadata": {
        "id": "_NjxU8yl3MNT",
        "colab_type": "code",
        "colab": {}
      },
      "cell_type": "code",
      "source": [
        "k = 1.5e3\n",
        "l = 3e-2\n",
        "print(k)\n",
        "print(l)"
      ],
      "execution_count": 0,
      "outputs": []
    },
    {
      "metadata": {
        "id": "to5Ia7xF3MNW",
        "colab_type": "text"
      },
      "cell_type": "markdown",
      "source": [
        "### Strings\n",
        "\n",
        "Strings represent text, i.e. \"strings\" of characters. They can be delimited by single quotes <tt>‘</tt> or double quotes <tt>“</tt>, but you have to use the same delimiter at both ends. Unlike some programming languages, such as Perl, there is no difference between the two types of quote, although using one type does allow the other type to appear inside the string as a regular character.\n",
        "\n",
        "Normally a python statement ends at the end of the line, but if you want to type a string over several lines you can enclose it in triple quotation marks."
      ]
    },
    {
      "metadata": {
        "id": "3KIiDu2c3MNX",
        "colab_type": "code",
        "colab": {}
      },
      "cell_type": "code",
      "source": [
        "s = \"ATGTCGTCTACAACACT\"\n",
        "t = 'Serine'\n",
        "u = \"It's a string with apostrophes\"\n",
        "v = \"\"\"A string that extends\n",
        "over multiple lines\"\"\"\n",
        "print(v)"
      ],
      "execution_count": 0,
      "outputs": []
    },
    {
      "metadata": {
        "id": "43eHrVuo3MNZ",
        "colab_type": "text"
      },
      "cell_type": "markdown",
      "source": [
        "### Booleans\n",
        "\n",
        "Boolean values represent truth or falsehood, as used in logical operations, for example. Not surprisingly, there are only two values, and in Python they are called <tt>True</tt> and <tt>False</tt>."
      ]
    },
    {
      "metadata": {
        "id": "EGo9H5Ob3MNc",
        "colab_type": "code",
        "colab": {
          "base_uri": "https://localhost:8080/",
          "height": 34
        },
        "outputId": "fb378484-b2be-47e4-e5db-b4fb2226fc09"
      },
      "cell_type": "code",
      "source": [
        "a = True\n",
        "b = False\n",
        "print(a, b)"
      ],
      "execution_count": 16,
      "outputs": [
        {
          "output_type": "stream",
          "text": [
            "True False\n"
          ],
          "name": "stdout"
        }
      ]
    },
    {
      "metadata": {
        "id": "paf8rI173MNe",
        "colab_type": "text"
      },
      "cell_type": "markdown",
      "source": [
        "### The <tt>None</tt> object\n",
        "\n",
        "The None object is special built-in value which can be thought of as **representing nothingness or that something is undefined**. For example, it can be used to indicate that a variable exists, but has not yet been set to anything specific."
      ]
    },
    {
      "metadata": {
        "id": "9cSttBKF3MNf",
        "colab_type": "code",
        "colab": {
          "base_uri": "https://localhost:8080/",
          "height": 34
        },
        "outputId": "47f6ca10-9c92-4203-f25c-45533a48770c"
      },
      "cell_type": "code",
      "source": [
        "z = None\n",
        "print(z)"
      ],
      "execution_count": 17,
      "outputs": [
        {
          "output_type": "stream",
          "text": [
            "None\n"
          ],
          "name": "stdout"
        }
      ]
    },
    {
      "metadata": {
        "id": "PyW-78sk3MNj",
        "colab_type": "text"
      },
      "cell_type": "markdown",
      "source": [
        "### Object type\n",
        "\n",
        "You can check what type python thinks an expression is with the <tt>type</tt> function, which you can call with the name <tt>type</tt> immediately followed by parentheses enclosing the expression you want to check (either a variable or a value), e.g. <tt>type(3)</tt>. (This is the general form for calling functions, we'll see lots more examples of functions later...)"
      ]
    },
    {
      "metadata": {
        "id": "rFQZYY_03MNk",
        "colab_type": "code",
        "colab": {
          "base_uri": "https://localhost:8080/",
          "height": 34
        },
        "outputId": "171e6236-6a08-47e8-8a33-6a944c44d81e"
      },
      "cell_type": "code",
      "source": [
        "a = True\n",
        "print(a, \"is of\", type(a))"
      ],
      "execution_count": 18,
      "outputs": [
        {
          "output_type": "stream",
          "text": [
            "True is of <class 'bool'>\n"
          ],
          "name": "stdout"
        }
      ]
    },
    {
      "metadata": {
        "id": "unLVd2OM3MNn",
        "colab_type": "code",
        "colab": {
          "base_uri": "https://localhost:8080/",
          "height": 34
        },
        "outputId": "ec08667c-49f9-43b8-90b7-80f9cf2f3762"
      },
      "cell_type": "code",
      "source": [
        "i = -7\n",
        "print(i, \"is of\", type(i))"
      ],
      "execution_count": 19,
      "outputs": [
        {
          "output_type": "stream",
          "text": [
            "-7 is of <class 'int'>\n"
          ],
          "name": "stdout"
        }
      ]
    },
    {
      "metadata": {
        "id": "23VohOly3MNp",
        "colab_type": "code",
        "colab": {
          "base_uri": "https://localhost:8080/",
          "height": 34
        },
        "outputId": "d867b27d-6729-4489-f5f1-128da98a329e"
      },
      "cell_type": "code",
      "source": [
        "x = 12.7893\n",
        "print(x, \"is of\", type(x))"
      ],
      "execution_count": 20,
      "outputs": [
        {
          "output_type": "stream",
          "text": [
            "12.7893 is of <class 'float'>\n"
          ],
          "name": "stdout"
        }
      ]
    },
    {
      "metadata": {
        "id": "f97a2-PA3MNq",
        "colab_type": "code",
        "colab": {
          "base_uri": "https://localhost:8080/",
          "height": 34
        },
        "outputId": "425c0413-cbc5-40d1-9159-b3c830986e3b"
      },
      "cell_type": "code",
      "source": [
        "s = \"ATGTCGTCTACAACACT\"\n",
        "print(s, \"is of\", type(s))"
      ],
      "execution_count": 21,
      "outputs": [
        {
          "output_type": "stream",
          "text": [
            "ATGTCGTCTACAACACT is of <class 'str'>\n"
          ],
          "name": "stdout"
        }
      ]
    },
    {
      "metadata": {
        "id": "UygfTV2X3MNs",
        "colab_type": "code",
        "colab": {
          "base_uri": "https://localhost:8080/",
          "height": 34
        },
        "outputId": "c7698173-65ae-498b-dd91-897c8bc81bc3"
      },
      "cell_type": "code",
      "source": [
        "z = None\n",
        "print(z, \"is of\", type(z))"
      ],
      "execution_count": 22,
      "outputs": [
        {
          "output_type": "stream",
          "text": [
            "None is of <class 'NoneType'>\n"
          ],
          "name": "stdout"
        }
      ]
    },
    {
      "metadata": {
        "id": "KhaJuTDr3MNv",
        "colab_type": "text"
      },
      "cell_type": "markdown",
      "source": [
        "## Comments\n",
        "\n",
        "When you are writing a program it is often convenient to annotate your code to remind you what you were (intending) it to do. In programming these annotations are known as _comments_. You can include a comment in python by prefixing some text with a <tt>#</tt> character. All text following the <tt>#</tt> will then be ignored by the interpreter. You can start a comment on its own line, or you can include it at the end of a line of code.\n",
        "\n",
        "It is also often useful to temporarily remove some code from a script without deleting it. This is known as _commenting out_ some code."
      ]
    },
    {
      "metadata": {
        "id": "rNwDW73r3MNw",
        "colab_type": "code",
        "colab": {
          "base_uri": "https://localhost:8080/",
          "height": 51
        },
        "outputId": "fefbd07c-8d5b-42ef-d39e-a8332a5a499e"
      },
      "cell_type": "code",
      "source": [
        "print(\"Hi\") # this will be ignored\n",
        "# as will this\n",
        "print(\"Bye\")\n",
        "# print \"Never seen\""
      ],
      "execution_count": 23,
      "outputs": [
        {
          "output_type": "stream",
          "text": [
            "Hi\n",
            "Bye\n"
          ],
          "name": "stdout"
        }
      ]
    },
    {
      "metadata": {
        "id": "NIPwSmLp3MNz",
        "colab_type": "text"
      },
      "cell_type": "markdown",
      "source": [
        "## Arithmetic"
      ]
    },
    {
      "metadata": {
        "id": "_0BV6jLW3MN0",
        "colab_type": "text"
      },
      "cell_type": "markdown",
      "source": [
        "Python supports all the standard arithmetical operations on numerical types, and mostly uses a similar syntax to several other computer languages:"
      ]
    },
    {
      "metadata": {
        "id": "KlwA8f2F3MN1",
        "colab_type": "code",
        "colab": {
          "base_uri": "https://localhost:8080/",
          "height": 102
        },
        "outputId": "e1f8ad26-6284-437e-d3f6-31fb8216b6e0"
      },
      "cell_type": "code",
      "source": [
        "x = 4.5\n",
        "y = 2\n",
        "\n",
        "print('x', x, 'y', y)\n",
        "print('addition x + y =', x + y) \n",
        "print('subtraction x - y =', x - y) \n",
        "print('multiplication x * y =', x * y) \n",
        "print('division x / y =', x / y) "
      ],
      "execution_count": 24,
      "outputs": [
        {
          "output_type": "stream",
          "text": [
            "x 4.5 y 2\n",
            "addition x + y = 6.5\n",
            "subtraction x - y = 2.5\n",
            "multiplication x * y = 9.0\n",
            "division x / y = 2.25\n"
          ],
          "name": "stdout"
        }
      ]
    },
    {
      "metadata": {
        "id": "yiA2UOGR3MN6",
        "colab_type": "code",
        "colab": {
          "base_uri": "https://localhost:8080/",
          "height": 102
        },
        "outputId": "642888af-3c3c-4dfb-ae87-0b89ddbbae87"
      },
      "cell_type": "code",
      "source": [
        "x = 4.5\n",
        "y = 2\n",
        "\n",
        "print('x', x, 'y', y)\n",
        "print('division x / y =', x / y)\n",
        "print('floored division x // y =', x // y) \n",
        "print('modulus (remainder of x/y) x % y =', x % y) \n",
        "print('exponentiation x ** y =', x ** y)"
      ],
      "execution_count": 25,
      "outputs": [
        {
          "output_type": "stream",
          "text": [
            "x 4.5 y 2\n",
            "division x / y = 2.25\n",
            "floored division x // y = 2.0\n",
            "modulus (remainder of x/y) x % y = 0.5\n",
            "exponentiation x ** y = 20.25\n"
          ],
          "name": "stdout"
        }
      ]
    },
    {
      "metadata": {
        "id": "29u6Poc03MN8",
        "colab_type": "text"
      },
      "cell_type": "markdown",
      "source": [
        "As usual in maths, division and multiplication have higher precedence than addition and subtraction, but arithmetic expressions can be grouped using parentheses to override the default precedence"
      ]
    },
    {
      "metadata": {
        "id": "msoE4Q263MN_",
        "colab_type": "code",
        "colab": {}
      },
      "cell_type": "code",
      "source": [
        "x = 13\n",
        "y = 5\n",
        "\n",
        "print('x * (2 + y) =', x * (2 + y))\n",
        "print('(x * 2) + y =', (x * 2) + y)\n",
        "print('x * 2 + y =', x * 2 + y)"
      ],
      "execution_count": 0,
      "outputs": []
    },
    {
      "metadata": {
        "id": "9K7CAPjz3MOB",
        "colab_type": "text"
      },
      "cell_type": "markdown",
      "source": [
        "You can mix (some) types in arithmetic expressions and python will apply rules as to the type of the result\n"
      ]
    },
    {
      "metadata": {
        "id": "EO9Wt08B3MOG",
        "colab_type": "code",
        "colab": {}
      },
      "cell_type": "code",
      "source": [
        "13 + 5.0"
      ],
      "execution_count": 0,
      "outputs": []
    },
    {
      "metadata": {
        "id": "IDGGt81A3MOK",
        "colab_type": "text"
      },
      "cell_type": "markdown",
      "source": [
        "You can force python to use a particular type by converting an expression explicitly, using helpful named functions: <tt>float</tt>, <tt>int</tt>, <tt>str</tt> etc."
      ]
    },
    {
      "metadata": {
        "id": "xU0FQcH43MOK",
        "colab_type": "code",
        "colab": {}
      },
      "cell_type": "code",
      "source": [
        "float(3) + float(7)"
      ],
      "execution_count": 0,
      "outputs": []
    },
    {
      "metadata": {
        "id": "QW0JwqBY3MON",
        "colab_type": "code",
        "colab": {}
      },
      "cell_type": "code",
      "source": [
        "int(3.14159) + 1"
      ],
      "execution_count": 0,
      "outputs": []
    },
    {
      "metadata": {
        "id": "7D64a5Xl3MOQ",
        "colab_type": "text"
      },
      "cell_type": "markdown",
      "source": [
        "The addition operator `+` allows you also to concatenate strings together."
      ]
    },
    {
      "metadata": {
        "id": "HWrvaHsN3MOT",
        "colab_type": "code",
        "colab": {}
      },
      "cell_type": "code",
      "source": [
        "print('number' + str(3))"
      ],
      "execution_count": 0,
      "outputs": []
    },
    {
      "metadata": {
        "id": "B3IFAiDU3MOX",
        "colab_type": "text"
      },
      "cell_type": "markdown",
      "source": [
        "Division in Python 2 sometimes trips up new (and experienced!) programmers. If you divide 2 integers you will only get an integer result. If you want a floating point result you should explicitly cast at least one of the arguments to a <tt>float</tt>."
      ]
    },
    {
      "metadata": {
        "id": "IzkH4cXs3MOX",
        "colab_type": "code",
        "colab": {}
      },
      "cell_type": "code",
      "source": [
        "print(\"3/4 =\", 3/4) # in Python 2, you would get 0\n",
        "print(\"3.0/4 =\", 3.0/4)\n",
        "print(\"float(3)/4 =\", float(3)/4)"
      ],
      "execution_count": 0,
      "outputs": []
    },
    {
      "metadata": {
        "id": "7KiFhJQA3MOa",
        "colab_type": "text"
      },
      "cell_type": "markdown",
      "source": [
        "There are a few shortcut assignment statements to make modifying variables directly faster to type"
      ]
    },
    {
      "metadata": {
        "id": "DhqvZyeu3MOc",
        "colab_type": "code",
        "colab": {}
      },
      "cell_type": "code",
      "source": [
        "x = 3\n",
        "x += 1 # equivalent to x = x + 1\n",
        "x"
      ],
      "execution_count": 0,
      "outputs": []
    },
    {
      "metadata": {
        "id": "639wx_CL3MOg",
        "colab_type": "code",
        "colab": {}
      },
      "cell_type": "code",
      "source": [
        "x = 2\n",
        "y = 10\n",
        "y *= x\n",
        "y"
      ],
      "execution_count": 0,
      "outputs": []
    },
    {
      "metadata": {
        "id": "P6zxJyEc3MOm",
        "colab_type": "text"
      },
      "cell_type": "markdown",
      "source": [
        "These shortcut operators are available for all arithmetic and logical operators."
      ]
    },
    {
      "metadata": {
        "id": "Tfs1m6TC3MOn",
        "colab_type": "text"
      },
      "cell_type": "markdown",
      "source": [
        "## Exercises 1.2.1\n",
        "\n",
        "In the interpreter:\n",
        "\n",
        "Assign numerical values to 2 variables, calculate the mean of these two variables and store the result in another variable. Print out the result to the screen."
      ]
    },
    {
      "metadata": {
        "id": "rAavKJig3MOo",
        "colab_type": "text"
      },
      "cell_type": "markdown",
      "source": [
        "## Exercises 1.2.2\n",
        "\n",
        "Create a new Python file to solve these exercises. It is good practice to create a new file each time you solve a new problem.\n",
        "\n",
        "1. Look up the <a href=\"http://en.wikipedia.org/wiki/DNA_codon_table\">genetic code</a>. Create four string variables that store possible DNA encodings of serine (S), leucine (L), tyrosine (Y) and cysteine (C). Where multiple codings are available, just pick one for now.\n",
        "2. Create a variable containing a possible DNA sequence for the protein sequence SYLYC. (Note that the addition operator <tt>+</tt> allows you to concatenate strings together.) Print the DNA sequence.\n",
        "3. Include a comment in your file to remind you the purpose of the script."
      ]
    },
    {
      "metadata": {
        "id": "00JD8gf33MOo",
        "colab_type": "text"
      },
      "cell_type": "markdown",
      "source": [
        "# Part 1.3: Tuples, Lists, Strings\n",
        "\n",
        "-------\n",
        "\n",
        " - Tuples\n",
        " - Lists\n",
        " - Manipulating tuples and lists\n",
        " - String manipulations"
      ]
    },
    {
      "metadata": {
        "id": "ICkWPy-V3MOq",
        "colab_type": "text"
      },
      "cell_type": "markdown",
      "source": [
        "As well as the basic data types we introduced above, very commonly you will want to store and operate on collections of values, and python has several _data structures_ that you can use to do this. The general idea is that you can place several items into a single collection and then refer to that collection as a whole. Which one you will use will depend on what problem you are trying to solve.\n",
        "\n",
        "## Tuples\n",
        "\n",
        "- Can contain any number of items\n",
        "- Can contain different types of items\n",
        "- __Cannot__ be altered once created (they are immutable)\n",
        "- Items have a defined order\n",
        "\n",
        "A tuple is created by using round brackets around the items it contains, with commas seperating the individual elements."
      ]
    },
    {
      "metadata": {
        "id": "o2GeN5DZ3MOq",
        "colab_type": "code",
        "colab": {
          "base_uri": "https://localhost:8080/",
          "height": 85
        },
        "outputId": "0b9b749f-36cc-41fc-ac60-e966b6312a78"
      },
      "cell_type": "code",
      "source": [
        "a = (123, 54, 92) # tuple of 4 integers\n",
        "b = () # empty tuple\n",
        "c = (\"Ala\",) # tuple of a single string (note the trailing \",\")\n",
        "d = (2, 3, False, \"Arg\", None) # a tuple of mixed types\n",
        "\n",
        "print(a)\n",
        "print(b)\n",
        "print(c)\n",
        "print(d)"
      ],
      "execution_count": 26,
      "outputs": [
        {
          "output_type": "stream",
          "text": [
            "(123, 54, 92)\n",
            "()\n",
            "('Ala',)\n",
            "(2, 3, False, 'Arg', None)\n"
          ],
          "name": "stdout"
        }
      ]
    },
    {
      "metadata": {
        "id": "r4Le4c6o3MOs",
        "colab_type": "text"
      },
      "cell_type": "markdown",
      "source": [
        "You can of course use variables in tuples and other data structures"
      ]
    },
    {
      "metadata": {
        "id": "DCuJoAyz3MOs",
        "colab_type": "code",
        "colab": {}
      },
      "cell_type": "code",
      "source": [
        "x = 1.2\n",
        "y = -0.3\n",
        "z = 0.9\n",
        "t = (x, y, z)\n",
        "\n",
        "print(t)"
      ],
      "execution_count": 0,
      "outputs": []
    },
    {
      "metadata": {
        "id": "DwcSDoze3MOu",
        "colab_type": "text"
      },
      "cell_type": "markdown",
      "source": [
        "Tuples can be _packed_ and _unpacked_ with a convenient syntax. The number of variables used to unpack the tuple must match the number of elements in the tuple."
      ]
    },
    {
      "metadata": {
        "id": "KHQvQ6wD3MOv",
        "colab_type": "code",
        "colab": {
          "base_uri": "https://localhost:8080/",
          "height": 85
        },
        "outputId": "65a2c052-8307-4782-fe4a-65afab29e0ac"
      },
      "cell_type": "code",
      "source": [
        "t = 2, 3, 4 # tuple packing\n",
        "print('t is', t)\n",
        "x, y, z = t # tuple unpacking\n",
        "print('x is', x)\n",
        "print('y is', y)\n",
        "print('z is', z)"
      ],
      "execution_count": 27,
      "outputs": [
        {
          "output_type": "stream",
          "text": [
            "t is (2, 3, 4)\n",
            "x is 2\n",
            "y is 3\n",
            "z is 4\n"
          ],
          "name": "stdout"
        }
      ]
    },
    {
      "metadata": {
        "id": "iGeOmGjT3MO0",
        "colab_type": "text"
      },
      "cell_type": "markdown",
      "source": [
        "## Lists\n",
        "\n",
        "- Can contain any number of items\n",
        "- Can contain different types of items\n",
        "- __Can__ be altered once created (they are _mutable_)\n",
        "- Items have a particular order\n",
        "\n",
        "Lists are created with square brackets around their items:"
      ]
    },
    {
      "metadata": {
        "id": "htuomJzA3MO0",
        "colab_type": "code",
        "colab": {
          "base_uri": "https://localhost:8080/",
          "height": 68
        },
        "outputId": "e10a9133-8608-446f-f153-8795a96f9aaa"
      },
      "cell_type": "code",
      "source": [
        "a = [1, 3, 9]\n",
        "b = [\"ATG\"]\n",
        "c = []\n",
        "\n",
        "print(a)\n",
        "print(b)\n",
        "print(c)"
      ],
      "execution_count": 28,
      "outputs": [
        {
          "output_type": "stream",
          "text": [
            "[1, 3, 9]\n",
            "['ATG']\n",
            "[]\n"
          ],
          "name": "stdout"
        }
      ]
    },
    {
      "metadata": {
        "id": "Oys2aYfe3MO5",
        "colab_type": "text"
      },
      "cell_type": "markdown",
      "source": [
        "Lists and tuples can contain other list and tuples, or any other type of collection:"
      ]
    },
    {
      "metadata": {
        "id": "jgJxxKNP3MO5",
        "colab_type": "code",
        "colab": {
          "base_uri": "https://localhost:8080/",
          "height": 34
        },
        "outputId": "17ed2ec7-9c8f-4990-8a1e-8f0617b8cfaa"
      },
      "cell_type": "code",
      "source": [
        "matrix = [[1, 0], [0, 2]]\n",
        "print(matrix)"
      ],
      "execution_count": 29,
      "outputs": [
        {
          "output_type": "stream",
          "text": [
            "[[1, 0], [0, 2]]\n"
          ],
          "name": "stdout"
        }
      ]
    },
    {
      "metadata": {
        "id": "3Br7wkpC3MO7",
        "colab_type": "text"
      },
      "cell_type": "markdown",
      "source": [
        "You can convert between tuples and lists with the <tt>tuple</tt> and <tt>list</tt> functions. Note that these create a new collection with the same items, and leave the original unaffected."
      ]
    },
    {
      "metadata": {
        "id": "yWQYASJh3MO8",
        "colab_type": "code",
        "colab": {
          "base_uri": "https://localhost:8080/",
          "height": 85
        },
        "outputId": "76ad9a1f-786b-4060-a329-e19cee00cff6"
      },
      "cell_type": "code",
      "source": [
        "a = (1, 4, 9, 16)     # A tuple of numbers\n",
        "b = ['G','C','A','T'] # A list of characters\n",
        "\n",
        "print(a)\n",
        "print(b)\n",
        "\n",
        "l = list(a)   # Make a list based on a tuple \n",
        "print(l)\n",
        "\n",
        "t = tuple(b)  # Make a tuple based on a list\n",
        "print(t)"
      ],
      "execution_count": 30,
      "outputs": [
        {
          "output_type": "stream",
          "text": [
            "(1, 4, 9, 16)\n",
            "['G', 'C', 'A', 'T']\n",
            "[1, 4, 9, 16]\n",
            "('G', 'C', 'A', 'T')\n"
          ],
          "name": "stdout"
        }
      ]
    },
    {
      "metadata": {
        "id": "1ZkjCkot3MPB",
        "colab_type": "text"
      },
      "cell_type": "markdown",
      "source": [
        "## Manipulating tuples and lists\n",
        "\n",
        "Once your data is in a list or tuple, python supports a number of ways you can access elements of the list and manipulate the list in useful ways, such as sorting the data.\n",
        "\n",
        "Tuples and lists can generally be used in very similar ways."
      ]
    },
    {
      "metadata": {
        "id": "LLNzEZF43MPC",
        "colab_type": "text"
      },
      "cell_type": "markdown",
      "source": [
        "### Index access\n",
        "\n",
        "You can access individual elements of the collection using their _index_, note that the first element is at index 0. Negative indices count backwards from the end."
      ]
    },
    {
      "metadata": {
        "id": "h0O6kQzA3MPD",
        "colab_type": "code",
        "colab": {
          "base_uri": "https://localhost:8080/",
          "height": 102
        },
        "outputId": "7ae1cfaf-6b19-411d-faba-2c0599299729"
      },
      "cell_type": "code",
      "source": [
        "t = (123, 54, 92, 87, 33)\n",
        "x = [123, 54, 92, 87, 33]\n",
        "\n",
        "print('t is', t)\n",
        "print('t[0] is', t[0])\n",
        "print('t[2] is', t[2])\n",
        "\n",
        "print('x is', x)\n",
        "print('x[-1] is', x[-1])"
      ],
      "execution_count": 31,
      "outputs": [
        {
          "output_type": "stream",
          "text": [
            "t is (123, 54, 92, 87, 33)\n",
            "t[0] is 123\n",
            "t[2] is 92\n",
            "x is [123, 54, 92, 87, 33]\n",
            "x[-1] is 33\n"
          ],
          "name": "stdout"
        }
      ]
    },
    {
      "metadata": {
        "id": "18yPRAxa3MPH",
        "colab_type": "text"
      },
      "cell_type": "markdown",
      "source": [
        "### Slices\n",
        "\n",
        "You can also access a range of items, known as _slices_, from inside lists and tuples using a colon `:` to indicate the beginning and end of the slice inside the square brackets. **Note that the slice notation `[a:b]` includes positions from `a` up to _but not including_ `b`**."
      ]
    },
    {
      "metadata": {
        "id": "ChqtdlZ73MPI",
        "colab_type": "code",
        "colab": {
          "base_uri": "https://localhost:8080/",
          "height": 68
        },
        "outputId": "b64223c7-dfe3-452e-d558-194cd481ab18"
      },
      "cell_type": "code",
      "source": [
        "t = (123, 54, 92, 87, 33)\n",
        "x = [123, 54, 92, 87, 33]\n",
        "print('t[1:3] is', t[1:3])\n",
        "print('x[2:] is', x[2:])\n",
        "print('x[:-1] is', x[:-1])"
      ],
      "execution_count": 32,
      "outputs": [
        {
          "output_type": "stream",
          "text": [
            "t[1:3] is (54, 92)\n",
            "x[2:] is [92, 87, 33]\n",
            "x[:-1] is [123, 54, 92, 87]\n"
          ],
          "name": "stdout"
        }
      ]
    },
    {
      "metadata": {
        "id": "Ec7-jDvY3MPK",
        "colab_type": "text"
      },
      "cell_type": "markdown",
      "source": [
        "### `in` operator\n",
        "You can check if a value is in a tuple or list with the <tt>in</tt> operator, and you can negate this with <tt>not</tt>"
      ]
    },
    {
      "metadata": {
        "id": "Wl_6s6Vv3MPK",
        "colab_type": "code",
        "colab": {
          "base_uri": "https://localhost:8080/",
          "height": 68
        },
        "outputId": "b8d82847-a99a-427a-fa4c-16b56e227bd8"
      },
      "cell_type": "code",
      "source": [
        "t = (123, 54, 92, 87, 33)\n",
        "x = [123, 54, 92, 87, 33]\n",
        "print('123 in', x, 123 in x)\n",
        "print('234 in', t, 234 in t)\n",
        "print('999 not in', x, 999 not in x)"
      ],
      "execution_count": 33,
      "outputs": [
        {
          "output_type": "stream",
          "text": [
            "123 in [123, 54, 92, 87, 33] True\n",
            "234 in (123, 54, 92, 87, 33) False\n",
            "999 not in [123, 54, 92, 87, 33] True\n"
          ],
          "name": "stdout"
        }
      ]
    },
    {
      "metadata": {
        "id": "78ZjTU5k3MPN",
        "colab_type": "text"
      },
      "cell_type": "markdown",
      "source": [
        "### `len()` and `count()` functions\n",
        "You can get the length of a list or tuple with the in-built <tt>len()</tt> function, and you can count the number of particular elements contained in a list with the <tt>.count()</tt> function."
      ]
    },
    {
      "metadata": {
        "id": "TMwuMDKx3MPO",
        "colab_type": "code",
        "colab": {
          "base_uri": "https://localhost:8080/",
          "height": 51
        },
        "outputId": "52652418-9c50-4dbe-fbb0-2ea15103b81a"
      },
      "cell_type": "code",
      "source": [
        "t = (123, 54, 92, 87, 33)\n",
        "x = [123, 54, 92, 87, 33]\n",
        "print(\"length of t is\", len(t))\n",
        "print(\"number of 33s in x is\", x.count(33))"
      ],
      "execution_count": 34,
      "outputs": [
        {
          "output_type": "stream",
          "text": [
            "length of t is 5\n",
            "number of 33s in x is 1\n"
          ],
          "name": "stdout"
        }
      ]
    },
    {
      "metadata": {
        "id": "2IHcvyHl3MPQ",
        "colab_type": "text"
      },
      "cell_type": "markdown",
      "source": [
        "### Modifying lists\n",
        "You can alter lists in place, but not tuples"
      ]
    },
    {
      "metadata": {
        "id": "4Kde6xjY3MPR",
        "colab_type": "code",
        "colab": {
          "base_uri": "https://localhost:8080/",
          "height": 51
        },
        "outputId": "13fc6521-66aa-44df-a4a3-95d7b6d2174e"
      },
      "cell_type": "code",
      "source": [
        "x = [123, 54, 92, 87, 33]\n",
        "print(x)\n",
        "x[2] = 33\n",
        "print(x)"
      ],
      "execution_count": 35,
      "outputs": [
        {
          "output_type": "stream",
          "text": [
            "[123, 54, 92, 87, 33]\n",
            "[123, 54, 33, 87, 33]\n"
          ],
          "name": "stdout"
        }
      ]
    },
    {
      "metadata": {
        "id": "xPFUy5HT3MPS",
        "colab_type": "text"
      },
      "cell_type": "markdown",
      "source": [
        "Tuples _cannot_ be altered once they have been created, if you try to do so, you'll get an error."
      ]
    },
    {
      "metadata": {
        "id": "L83e8YF43MPT",
        "colab_type": "code",
        "colab": {
          "base_uri": "https://localhost:8080/",
          "height": 215
        },
        "outputId": "03fc8dfa-0944-4565-94ba-d5e1dc6b2d49"
      },
      "cell_type": "code",
      "source": [
        "t = (123, 54, 92, 87, 33)\n",
        "print(t)\n",
        "t[1] = 4"
      ],
      "execution_count": 36,
      "outputs": [
        {
          "output_type": "stream",
          "text": [
            "(123, 54, 92, 87, 33)\n"
          ],
          "name": "stdout"
        },
        {
          "output_type": "error",
          "ename": "TypeError",
          "evalue": "ignored",
          "traceback": [
            "\u001b[0;31m---------------------------------------------------------------------------\u001b[0m",
            "\u001b[0;31mTypeError\u001b[0m                                 Traceback (most recent call last)",
            "\u001b[0;32m<ipython-input-36-8b8ecaf23c21>\u001b[0m in \u001b[0;36m<module>\u001b[0;34m()\u001b[0m\n\u001b[1;32m      1\u001b[0m \u001b[0mt\u001b[0m \u001b[0;34m=\u001b[0m \u001b[0;34m(\u001b[0m\u001b[0;36m123\u001b[0m\u001b[0;34m,\u001b[0m \u001b[0;36m54\u001b[0m\u001b[0;34m,\u001b[0m \u001b[0;36m92\u001b[0m\u001b[0;34m,\u001b[0m \u001b[0;36m87\u001b[0m\u001b[0;34m,\u001b[0m \u001b[0;36m33\u001b[0m\u001b[0;34m)\u001b[0m\u001b[0;34m\u001b[0m\u001b[0;34m\u001b[0m\u001b[0m\n\u001b[1;32m      2\u001b[0m \u001b[0mprint\u001b[0m\u001b[0;34m(\u001b[0m\u001b[0mt\u001b[0m\u001b[0;34m)\u001b[0m\u001b[0;34m\u001b[0m\u001b[0;34m\u001b[0m\u001b[0m\n\u001b[0;32m----> 3\u001b[0;31m \u001b[0mt\u001b[0m\u001b[0;34m[\u001b[0m\u001b[0;36m1\u001b[0m\u001b[0;34m]\u001b[0m \u001b[0;34m=\u001b[0m \u001b[0;36m4\u001b[0m\u001b[0;34m\u001b[0m\u001b[0;34m\u001b[0m\u001b[0m\n\u001b[0m",
            "\u001b[0;31mTypeError\u001b[0m: 'tuple' object does not support item assignment"
          ]
        }
      ]
    },
    {
      "metadata": {
        "id": "k8kEqkzR3MPV",
        "colab_type": "text"
      },
      "cell_type": "markdown",
      "source": [
        "You can add elements to the end of a list with <tt>append()</tt>"
      ]
    },
    {
      "metadata": {
        "id": "LYVlJ6-j3MPV",
        "colab_type": "code",
        "colab": {
          "base_uri": "https://localhost:8080/",
          "height": 34
        },
        "outputId": "f52c182c-3fcf-4c64-f76d-b4d1e489a316"
      },
      "cell_type": "code",
      "source": [
        "x = [123, 54, 92, 87, 33]\n",
        "x.append(101)\n",
        "print(x)"
      ],
      "execution_count": 37,
      "outputs": [
        {
          "output_type": "stream",
          "text": [
            "[123, 54, 92, 87, 33, 101]\n"
          ],
          "name": "stdout"
        }
      ]
    },
    {
      "metadata": {
        "id": "oM883HuC3MPW",
        "colab_type": "text"
      },
      "cell_type": "markdown",
      "source": [
        "or insert values at a certain position with <tt>insert()</tt>, by supplying the desired position as well as the new value"
      ]
    },
    {
      "metadata": {
        "id": "GH15Dh2a3MPY",
        "colab_type": "code",
        "colab": {
          "base_uri": "https://localhost:8080/",
          "height": 34
        },
        "outputId": "7b7f96e5-3258-4e1d-dde9-db3a55f03b09"
      },
      "cell_type": "code",
      "source": [
        "x = [123, 54, 92, 87, 33]\n",
        "x.insert(3, 1111)\n",
        "print(x)"
      ],
      "execution_count": 38,
      "outputs": [
        {
          "output_type": "stream",
          "text": [
            "[123, 54, 92, 1111, 87, 33]\n"
          ],
          "name": "stdout"
        }
      ]
    },
    {
      "metadata": {
        "id": "nKPBdWDl3MPa",
        "colab_type": "text"
      },
      "cell_type": "markdown",
      "source": [
        "You can remove values with <tt>remove()</tt>"
      ]
    },
    {
      "metadata": {
        "id": "RLyyZ1uZ3MPa",
        "colab_type": "code",
        "colab": {
          "base_uri": "https://localhost:8080/",
          "height": 34
        },
        "outputId": "1a55595d-7f2e-411d-8436-98f99287a0d0"
      },
      "cell_type": "code",
      "source": [
        "x = [123, 54, 92, 87, 33]\n",
        "x.remove(123)\n",
        "print(x)"
      ],
      "execution_count": 39,
      "outputs": [
        {
          "output_type": "stream",
          "text": [
            "[54, 92, 87, 33]\n"
          ],
          "name": "stdout"
        }
      ]
    },
    {
      "metadata": {
        "id": "bxazvFiy3MPb",
        "colab_type": "text"
      },
      "cell_type": "markdown",
      "source": [
        "and delete values by index with <tt>del</tt>"
      ]
    },
    {
      "metadata": {
        "id": "9K_SkJKY3MPc",
        "colab_type": "code",
        "colab": {
          "base_uri": "https://localhost:8080/",
          "height": 51
        },
        "outputId": "ac7c3237-5653-4597-9a63-e39100d1759f"
      },
      "cell_type": "code",
      "source": [
        "x = [123, 54, 92, 87, 33]\n",
        "print(x)\n",
        "del x[0]\n",
        "print(x)"
      ],
      "execution_count": 40,
      "outputs": [
        {
          "output_type": "stream",
          "text": [
            "[123, 54, 92, 87, 33]\n",
            "[54, 92, 87, 33]\n"
          ],
          "name": "stdout"
        }
      ]
    },
    {
      "metadata": {
        "id": "6CrQacNd3MPe",
        "colab_type": "text"
      },
      "cell_type": "markdown",
      "source": [
        "It's often useful to be able to combine arrays together, which can be done with <tt>extend()</tt> (as <tt>append</tt> would add the whole list as a single element in the list)"
      ]
    },
    {
      "metadata": {
        "id": "RuySaItA3MPf",
        "colab_type": "code",
        "colab": {
          "base_uri": "https://localhost:8080/",
          "height": 51
        },
        "outputId": "8f61dfed-454a-4a04-aff5-6118267397c4"
      },
      "cell_type": "code",
      "source": [
        "a = [1,2,3]\n",
        "b = [4,5,6]\n",
        "a.extend(b)\n",
        "print(a)\n",
        "a.append(b)\n",
        "print(a)"
      ],
      "execution_count": 41,
      "outputs": [
        {
          "output_type": "stream",
          "text": [
            "[1, 2, 3, 4, 5, 6]\n",
            "[1, 2, 3, 4, 5, 6, [4, 5, 6]]\n"
          ],
          "name": "stdout"
        }
      ]
    },
    {
      "metadata": {
        "id": "Wur5e3br3MPh",
        "colab_type": "text"
      },
      "cell_type": "markdown",
      "source": [
        "The plus symbol <tt>+</tt> is shorthand for the extend operation when applied to lists:"
      ]
    },
    {
      "metadata": {
        "id": "7V3B25FH3MPh",
        "colab_type": "code",
        "colab": {
          "base_uri": "https://localhost:8080/",
          "height": 34
        },
        "outputId": "0ba752b5-16b5-4e0b-d039-0d4f795c88b9"
      },
      "cell_type": "code",
      "source": [
        "a = [1, 2, 3]\n",
        "b = [4, 5, 6]\n",
        "a = a + b\n",
        "print(a)"
      ],
      "execution_count": 42,
      "outputs": [
        {
          "output_type": "stream",
          "text": [
            "[1, 2, 3, 4, 5, 6]\n"
          ],
          "name": "stdout"
        }
      ]
    },
    {
      "metadata": {
        "id": "ohJTTtQe3MPj",
        "colab_type": "text"
      },
      "cell_type": "markdown",
      "source": [
        "Slice syntax can be used on the left hand side of an assignment operation to assign subregions of a list"
      ]
    },
    {
      "metadata": {
        "id": "7wOrFBUi3MPk",
        "colab_type": "code",
        "colab": {
          "base_uri": "https://localhost:8080/",
          "height": 34
        },
        "outputId": "eef1a66f-5c62-45fe-f05d-c315cb1af810"
      },
      "cell_type": "code",
      "source": [
        "a = [1, 2, 3, 4, 5, 6]\n",
        "a[1:3] = [9, 9, 9, 9]\n",
        "print(a)"
      ],
      "execution_count": 43,
      "outputs": [
        {
          "output_type": "stream",
          "text": [
            "[1, 9, 9, 9, 9, 4, 5, 6]\n"
          ],
          "name": "stdout"
        }
      ]
    },
    {
      "metadata": {
        "id": "0c5K8y5h3MPm",
        "colab_type": "text"
      },
      "cell_type": "markdown",
      "source": [
        "You can change the order of elements in a list"
      ]
    },
    {
      "metadata": {
        "id": "Eon2fSw83MPn",
        "colab_type": "code",
        "colab": {
          "base_uri": "https://localhost:8080/",
          "height": 51
        },
        "outputId": "e37eea81-4e39-47c1-b7c7-dafa1c3bdf60"
      },
      "cell_type": "code",
      "source": [
        "a = [1, 3, 5, 4, 2]\n",
        "a.reverse()\n",
        "print(a)\n",
        "a.sort()\n",
        "print(a)"
      ],
      "execution_count": 44,
      "outputs": [
        {
          "output_type": "stream",
          "text": [
            "[2, 4, 5, 3, 1]\n",
            "[1, 2, 3, 4, 5]\n"
          ],
          "name": "stdout"
        }
      ]
    },
    {
      "metadata": {
        "id": "80bbntcO3MPo",
        "colab_type": "text"
      },
      "cell_type": "markdown",
      "source": [
        "Note that both of these change the list, if you want a sorted copy of the list while leaving the original untouched, use <tt>sorted()</tt>"
      ]
    },
    {
      "metadata": {
        "id": "J0d_8LZX3MPp",
        "colab_type": "code",
        "colab": {
          "base_uri": "https://localhost:8080/",
          "height": 51
        },
        "outputId": "6b51d4bd-5e65-4703-ad12-a326ae412637"
      },
      "cell_type": "code",
      "source": [
        "a = [2, 5, 7, 1]\n",
        "b = sorted(a)\n",
        "print(a)\n",
        "print(b)"
      ],
      "execution_count": 45,
      "outputs": [
        {
          "output_type": "stream",
          "text": [
            "[2, 5, 7, 1]\n",
            "[1, 2, 5, 7]\n"
          ],
          "name": "stdout"
        }
      ]
    },
    {
      "metadata": {
        "id": "NgAGQEkR3MPq",
        "colab_type": "text"
      },
      "cell_type": "markdown",
      "source": [
        "### Getting help from the official Python documentation\n",
        "\n",
        "The most useful information is online on https://www.python.org/ website and should be used as a reference guide.\n",
        "\n",
        "- [Python 3.5.2 documentation](https://docs.python.org/3/) is the starting page with links to tutorials and libraries' documentation for Python 3\n",
        "    - [The Python Tutorial](https://docs.python.org/3/tutorial/index.html)\n",
        "    - [The Python Standard Library Reference](https://docs.python.org/3/library/index.html) is the documentation of all libraries included within Python as well as built-in functions and data types like:\n",
        "        - [Text Sequence Type — `str`](https://docs.python.org/3/library/stdtypes.html#text-sequence-type-str)\n",
        "        - [Numeric Types — `int`, `float`](https://docs.python.org/3/library/stdtypes.html#numeric-types-int-float-complex)\n",
        "        - [Sequence Types — `list`, `tuple`](https://docs.python.org/3/library/stdtypes.html#sequence-types-list-tuple-range)\n",
        "        - [Set Types — `set`](https://docs.python.org/3/library/stdtypes.html#set-types-set-frozenset)\n",
        "        - [Mapping Types — `dict`](https://docs.python.org/3/library/stdtypes.html#mapping-types-dict)\n",
        "        \n",
        "### Getting help directly from within Python using `help()`"
      ]
    },
    {
      "metadata": {
        "id": "afRaBmp73MPr",
        "colab_type": "code",
        "colab": {
          "base_uri": "https://localhost:8080/",
          "height": 102
        },
        "outputId": "299ad216-c414-405b-98b1-dffd4b935e68"
      },
      "cell_type": "code",
      "source": [
        "help(len)"
      ],
      "execution_count": 46,
      "outputs": [
        {
          "output_type": "stream",
          "text": [
            "Help on built-in function len in module builtins:\n",
            "\n",
            "len(obj, /)\n",
            "    Return the number of items in a container.\n",
            "\n"
          ],
          "name": "stdout"
        }
      ]
    },
    {
      "metadata": {
        "id": "rELZY3X23MPt",
        "colab_type": "code",
        "colab": {
          "base_uri": "https://localhost:8080/",
          "height": 2023
        },
        "outputId": "49ad6ff4-c4a2-4288-b5e6-c0f613d0b8b3"
      },
      "cell_type": "code",
      "source": [
        "help(list)"
      ],
      "execution_count": 47,
      "outputs": [
        {
          "output_type": "stream",
          "text": [
            "Help on class list in module builtins:\n",
            "\n",
            "class list(object)\n",
            " |  list() -> new empty list\n",
            " |  list(iterable) -> new list initialized from iterable's items\n",
            " |  \n",
            " |  Methods defined here:\n",
            " |  \n",
            " |  __add__(self, value, /)\n",
            " |      Return self+value.\n",
            " |  \n",
            " |  __contains__(self, key, /)\n",
            " |      Return key in self.\n",
            " |  \n",
            " |  __delitem__(self, key, /)\n",
            " |      Delete self[key].\n",
            " |  \n",
            " |  __eq__(self, value, /)\n",
            " |      Return self==value.\n",
            " |  \n",
            " |  __ge__(self, value, /)\n",
            " |      Return self>=value.\n",
            " |  \n",
            " |  __getattribute__(self, name, /)\n",
            " |      Return getattr(self, name).\n",
            " |  \n",
            " |  __getitem__(...)\n",
            " |      x.__getitem__(y) <==> x[y]\n",
            " |  \n",
            " |  __gt__(self, value, /)\n",
            " |      Return self>value.\n",
            " |  \n",
            " |  __iadd__(self, value, /)\n",
            " |      Implement self+=value.\n",
            " |  \n",
            " |  __imul__(self, value, /)\n",
            " |      Implement self*=value.\n",
            " |  \n",
            " |  __init__(self, /, *args, **kwargs)\n",
            " |      Initialize self.  See help(type(self)) for accurate signature.\n",
            " |  \n",
            " |  __iter__(self, /)\n",
            " |      Implement iter(self).\n",
            " |  \n",
            " |  __le__(self, value, /)\n",
            " |      Return self<=value.\n",
            " |  \n",
            " |  __len__(self, /)\n",
            " |      Return len(self).\n",
            " |  \n",
            " |  __lt__(self, value, /)\n",
            " |      Return self<value.\n",
            " |  \n",
            " |  __mul__(self, value, /)\n",
            " |      Return self*value.\n",
            " |  \n",
            " |  __ne__(self, value, /)\n",
            " |      Return self!=value.\n",
            " |  \n",
            " |  __new__(*args, **kwargs) from builtins.type\n",
            " |      Create and return a new object.  See help(type) for accurate signature.\n",
            " |  \n",
            " |  __repr__(self, /)\n",
            " |      Return repr(self).\n",
            " |  \n",
            " |  __reversed__(...)\n",
            " |      L.__reversed__() -- return a reverse iterator over the list\n",
            " |  \n",
            " |  __rmul__(self, value, /)\n",
            " |      Return value*self.\n",
            " |  \n",
            " |  __setitem__(self, key, value, /)\n",
            " |      Set self[key] to value.\n",
            " |  \n",
            " |  __sizeof__(...)\n",
            " |      L.__sizeof__() -- size of L in memory, in bytes\n",
            " |  \n",
            " |  append(...)\n",
            " |      L.append(object) -> None -- append object to end\n",
            " |  \n",
            " |  clear(...)\n",
            " |      L.clear() -> None -- remove all items from L\n",
            " |  \n",
            " |  copy(...)\n",
            " |      L.copy() -> list -- a shallow copy of L\n",
            " |  \n",
            " |  count(...)\n",
            " |      L.count(value) -> integer -- return number of occurrences of value\n",
            " |  \n",
            " |  extend(...)\n",
            " |      L.extend(iterable) -> None -- extend list by appending elements from the iterable\n",
            " |  \n",
            " |  index(...)\n",
            " |      L.index(value, [start, [stop]]) -> integer -- return first index of value.\n",
            " |      Raises ValueError if the value is not present.\n",
            " |  \n",
            " |  insert(...)\n",
            " |      L.insert(index, object) -- insert object before index\n",
            " |  \n",
            " |  pop(...)\n",
            " |      L.pop([index]) -> item -- remove and return item at index (default last).\n",
            " |      Raises IndexError if list is empty or index is out of range.\n",
            " |  \n",
            " |  remove(...)\n",
            " |      L.remove(value) -> None -- remove first occurrence of value.\n",
            " |      Raises ValueError if the value is not present.\n",
            " |  \n",
            " |  reverse(...)\n",
            " |      L.reverse() -- reverse *IN PLACE*\n",
            " |  \n",
            " |  sort(...)\n",
            " |      L.sort(key=None, reverse=False) -> None -- stable sort *IN PLACE*\n",
            " |  \n",
            " |  ----------------------------------------------------------------------\n",
            " |  Data and other attributes defined here:\n",
            " |  \n",
            " |  __hash__ = None\n",
            "\n"
          ],
          "name": "stdout"
        }
      ]
    },
    {
      "metadata": {
        "id": "kbRNnvev3MPu",
        "colab_type": "code",
        "colab": {}
      },
      "cell_type": "code",
      "source": [
        "help(list.insert)"
      ],
      "execution_count": 0,
      "outputs": []
    },
    {
      "metadata": {
        "id": "Hz-t7fM43MPv",
        "colab_type": "code",
        "colab": {}
      },
      "cell_type": "code",
      "source": [
        "help(list.count)"
      ],
      "execution_count": 0,
      "outputs": []
    },
    {
      "metadata": {
        "id": "KNlyAPRI3MPy",
        "colab_type": "text"
      },
      "cell_type": "markdown",
      "source": [
        "## Exercise 1.3.1\n",
        "\n",
        "1. Create a list of DNA codons for the protein sequence CLYSY based on the codon variables you defined previously.\n",
        "2. Print the DNA sequence of the protein to the screen.\n",
        "3. Print the DNA codon of the last amino acid in the protein sequence.\n",
        "4. Create two more variables containing the DNA sequence of a stop codon and a start codon, and replace the first element of the DNA sequence with the start codon and append the stop codon to the end of the DNA sequence. Print out the resulting DNA sequence."
      ]
    },
    {
      "metadata": {
        "id": "Ub76Gi6W3MPz",
        "colab_type": "text"
      },
      "cell_type": "markdown",
      "source": [
        "## String manipulations\n",
        "\n",
        "Strings are a lot like tuples of characters, and individual characters and substrings can be accessed and manipulated using similar operations we introduced above.\n"
      ]
    },
    {
      "metadata": {
        "id": "neysrpDd3MP0",
        "colab_type": "code",
        "colab": {
          "base_uri": "https://localhost:8080/",
          "height": 119
        },
        "outputId": "bec8e83a-a6b5-448e-f116-7dca6d1b0532"
      },
      "cell_type": "code",
      "source": [
        "text = \"ATGTCATTTGT\"\n",
        "print(text[0])\n",
        "print(text[-2])\n",
        "print(text[0:6])\n",
        "print(\"ATG\" in text)\n",
        "print(\"TGA\" in text)\n",
        "print(len(text))"
      ],
      "execution_count": 48,
      "outputs": [
        {
          "output_type": "stream",
          "text": [
            "A\n",
            "G\n",
            "ATGTCA\n",
            "True\n",
            "False\n",
            "11\n"
          ],
          "name": "stdout"
        }
      ]
    },
    {
      "metadata": {
        "id": "lETzQEEI3MP1",
        "colab_type": "text"
      },
      "cell_type": "markdown",
      "source": [
        "Just as with tuples, trying to assign a value to an element of a string results in an error"
      ]
    },
    {
      "metadata": {
        "id": "r1d4WnO_3MP1",
        "colab_type": "code",
        "colab": {
          "base_uri": "https://localhost:8080/",
          "height": 181
        },
        "outputId": "3173ead4-588e-46eb-cc58-b18454416a92"
      },
      "cell_type": "code",
      "source": [
        "text = \"ATGTCATTTGT\"\n",
        "text[0:2] = \"CCC\" "
      ],
      "execution_count": 49,
      "outputs": [
        {
          "output_type": "error",
          "ename": "TypeError",
          "evalue": "ignored",
          "traceback": [
            "\u001b[0;31m---------------------------------------------------------------------------\u001b[0m",
            "\u001b[0;31mTypeError\u001b[0m                                 Traceback (most recent call last)",
            "\u001b[0;32m<ipython-input-49-a34610df3f4b>\u001b[0m in \u001b[0;36m<module>\u001b[0;34m()\u001b[0m\n\u001b[1;32m      1\u001b[0m \u001b[0mtext\u001b[0m \u001b[0;34m=\u001b[0m \u001b[0;34m\"ATGTCATTTGT\"\u001b[0m\u001b[0;34m\u001b[0m\u001b[0;34m\u001b[0m\u001b[0m\n\u001b[0;32m----> 2\u001b[0;31m \u001b[0mtext\u001b[0m\u001b[0;34m[\u001b[0m\u001b[0;36m0\u001b[0m\u001b[0;34m:\u001b[0m\u001b[0;36m2\u001b[0m\u001b[0;34m]\u001b[0m \u001b[0;34m=\u001b[0m \u001b[0;34m\"CCC\"\u001b[0m\u001b[0;34m\u001b[0m\u001b[0;34m\u001b[0m\u001b[0m\n\u001b[0m",
            "\u001b[0;31mTypeError\u001b[0m: 'str' object does not support item assignment"
          ]
        }
      ]
    },
    {
      "metadata": {
        "id": "6fxDvFPD3MP3",
        "colab_type": "text"
      },
      "cell_type": "markdown",
      "source": [
        "Python provides a number of useful functions that let you manipulate strings\n",
        "\n",
        "The <tt>in</tt> operator lets you check if a substring is contained within a larger string, but it does not tell you where the substring is located. This is often useful to know and python provides the <tt>.find()</tt> method which returns the index of the first occurrence of the search string, and the <tt>.rfind()</tt> method to start searching from the end of the string.\n",
        "\n",
        "If the search string is not found in the string both these methods return -1."
      ]
    },
    {
      "metadata": {
        "id": "gmS4YqRI3MP6",
        "colab_type": "code",
        "colab": {
          "base_uri": "https://localhost:8080/",
          "height": 68
        },
        "outputId": "f67a8a9b-a2be-4686-f267-08159e89a4f9"
      },
      "cell_type": "code",
      "source": [
        "dna = \"ATGTCACCGTTT\"\n",
        "index = dna.find(\"TCA\")\n",
        "print(\"TCA is at position:\", index)\n",
        "index = dna.rfind('C')\n",
        "print(\"The last Cytosine is at position:\", index)\n",
        "print(\"Position of a stop codon:\", dna.find(\"TGA\"))"
      ],
      "execution_count": 50,
      "outputs": [
        {
          "output_type": "stream",
          "text": [
            "TCA is at position: 3\n",
            "The last Cytosine is at position: 7\n",
            "Position of a stop codon: -1\n"
          ],
          "name": "stdout"
        }
      ]
    },
    {
      "metadata": {
        "id": "Nu5NA8Qv3MP8",
        "colab_type": "text"
      },
      "cell_type": "markdown",
      "source": [
        "When we are reading text from files  (which we will see later on), often there is unwanted whitespace at the start or end of the string. We can remove leading whitespace with the <tt>.lstrip()</tt> method, trailing whitespace with <tt>.rstrip()</tt>, and whitespace from both ends with <tt>.strip()</tt>.\n",
        "\n",
        "All of these methods return a copy of the changed string, so if you want to replace the original you can assign the result of the method call to the original variable."
      ]
    },
    {
      "metadata": {
        "id": "-B98WYXH3MP8",
        "colab_type": "code",
        "colab": {
          "base_uri": "https://localhost:8080/",
          "height": 85
        },
        "outputId": "31394bc0-2db6-48dd-f97c-d730a4f450aa"
      },
      "cell_type": "code",
      "source": [
        "s = \"    Chromosome Start End                     \"\n",
        "print(len(s), s)\n",
        "s = s.lstrip()\n",
        "print(len(s), s)\n",
        "s = s.rstrip()\n",
        "print(len(s), s)\n",
        "s = \"    Chromosome Start End                     \"\n",
        "s = s.strip()\n",
        "print(len(s), s)"
      ],
      "execution_count": 51,
      "outputs": [
        {
          "output_type": "stream",
          "text": [
            "45     Chromosome Start End                     \n",
            "41 Chromosome Start End                     \n",
            "20 Chromosome Start End\n",
            "20 Chromosome Start End\n"
          ],
          "name": "stdout"
        }
      ]
    },
    {
      "metadata": {
        "id": "qtG_3der3MP_",
        "colab_type": "text"
      },
      "cell_type": "markdown",
      "source": [
        "You can split a string into a list of substrings using the <tt>.split()</tt> method, supplying the delimiter as an argument to the method. If you don't supply any delimiter the method will split the string on whitespace by default (which is very often what you want!)\n",
        "\n",
        "To split a string into its component characters you can simply _cast_ the string to a list "
      ]
    },
    {
      "metadata": {
        "id": "DcjqEOdd3MQA",
        "colab_type": "code",
        "colab": {
          "base_uri": "https://localhost:8080/",
          "height": 51
        },
        "outputId": "8f7c6fd8-0d6c-423e-ff37-439f56a96e60"
      },
      "cell_type": "code",
      "source": [
        "seq = \"ATG TCA CCG GGC\"\n",
        "codons = seq.split(\" \")\n",
        "print(codons)\n",
        "\n",
        "bases = list(seq) # a tuple of character converted into a list\n",
        "print(bases)"
      ],
      "execution_count": 52,
      "outputs": [
        {
          "output_type": "stream",
          "text": [
            "['ATG', 'TCA', 'CCG', 'GGC']\n",
            "['A', 'T', 'G', ' ', 'T', 'C', 'A', ' ', 'C', 'C', 'G', ' ', 'G', 'G', 'C']\n"
          ],
          "name": "stdout"
        }
      ]
    },
    {
      "metadata": {
        "id": "RPVduDJM3MQD",
        "colab_type": "text"
      },
      "cell_type": "markdown",
      "source": [
        "<tt>.split()</tt> is the counterpart to the <tt>.join()</tt> method that lets you join the elements of a list into a string only if all the elements are of type String:"
      ]
    },
    {
      "metadata": {
        "id": "tR3h_9-13MQE",
        "colab_type": "code",
        "colab": {
          "base_uri": "https://localhost:8080/",
          "height": 51
        },
        "outputId": "6b8d5906-d073-49a5-b6cd-dff592650eb5"
      },
      "cell_type": "code",
      "source": [
        "seq = \"ATG TCA CCG GGC\"\n",
        "codons = seq.split(\" \")\n",
        "print(codons)\n",
        "print(\"|\".join(codons))"
      ],
      "execution_count": 53,
      "outputs": [
        {
          "output_type": "stream",
          "text": [
            "['ATG', 'TCA', 'CCG', 'GGC']\n",
            "ATG|TCA|CCG|GGC\n"
          ],
          "name": "stdout"
        }
      ]
    },
    {
      "metadata": {
        "id": "sn7uekNN3MQH",
        "colab_type": "text"
      },
      "cell_type": "markdown",
      "source": [
        "We also saw earlier that the <tt>+</tt> operator lets you concatenate strings together into a larger string.\n",
        "\n",
        "Note that this operator only works on variables of the same type. If you want to concatenate a string with an integer (or some other type), first you have to cast the integer to a string with the <tt>str()</tt> function."
      ]
    },
    {
      "metadata": {
        "id": "ceG6Ow0g3MQI",
        "colab_type": "code",
        "colab": {
          "base_uri": "https://localhost:8080/",
          "height": 34
        },
        "outputId": "31b4ac7c-4ef6-411b-d1a9-e40d8b4d49d4"
      },
      "cell_type": "code",
      "source": [
        "s = \"chr\"\n",
        "chrom_number = 2\n",
        "print(s + str(chrom_number))"
      ],
      "execution_count": 54,
      "outputs": [
        {
          "output_type": "stream",
          "text": [
            "chr2\n"
          ],
          "name": "stdout"
        }
      ]
    },
    {
      "metadata": {
        "id": "8KJNS51a3MQL",
        "colab_type": "text"
      },
      "cell_type": "markdown",
      "source": [
        "To get more information about these two methods `split()` and `join()` we could find it online in the Python documentation starting from [www.python.org](http://www.python.org) or get help using the `help()` builtin function."
      ]
    },
    {
      "metadata": {
        "id": "gryKWQDy3MQL",
        "colab_type": "code",
        "colab": {}
      },
      "cell_type": "code",
      "source": [
        "help(str.split)\n",
        "help(str.join)"
      ],
      "execution_count": 0,
      "outputs": []
    },
    {
      "metadata": {
        "id": "Tq6eLc5y3MQN",
        "colab_type": "text"
      },
      "cell_type": "markdown",
      "source": [
        "## Exercise 1.3.2\n",
        "\n",
        "1. Create a string variable with your full name in it, with your first and last name (and any middle names) seperated by a space. Split the string into a list, and print out your surname.\n",
        "2. Check if your surname contains the letter \"E\", and print out the position of this letter in the string. Try a few other letters."
      ]
    },
    {
      "metadata": {
        "id": "--XXOVjO3MQN",
        "colab_type": "text"
      },
      "cell_type": "markdown",
      "source": [
        "# Part 1.4: Sets and dictionaries\n",
        "\n",
        "-------\n",
        "\n",
        " - Sets\n",
        " - Dictionaries"
      ]
    },
    {
      "metadata": {
        "id": "1U3JkJE53MQO",
        "colab_type": "text"
      },
      "cell_type": "markdown",
      "source": [
        "## Sets\n",
        "\n",
        "- Sets contain unique elements, i.e. no repeats are allowed\n",
        "- The elements in a set do not have an order\n",
        "- Sets cannot contain elements which can be internally modified (e.g. lists and dictionaries)"
      ]
    },
    {
      "metadata": {
        "id": "ibKLkDOk3MQO",
        "colab_type": "code",
        "colab": {
          "base_uri": "https://localhost:8080/",
          "height": 51
        },
        "outputId": "070fb8be-a884-4e31-bd51-a55afc3bb254"
      },
      "cell_type": "code",
      "source": [
        "l = [1, 2, 3, 2, 3] # list of 5 values\n",
        "s = set(l) # set of 3 unique values\n",
        "print(s)\n",
        "e = set() # empty set\n",
        "print(e)"
      ],
      "execution_count": 55,
      "outputs": [
        {
          "output_type": "stream",
          "text": [
            "{1, 2, 3}\n",
            "set()\n"
          ],
          "name": "stdout"
        }
      ]
    },
    {
      "metadata": {
        "id": "fAi2WK4e3MQP",
        "colab_type": "text"
      },
      "cell_type": "markdown",
      "source": [
        "Sets are very similar to lists and tuples and you can use many of the same operators and functions, except they are **inherently unordered**, so they don't have an index, and can only contain _unique_ values, so adding a value already in the set will have no effect"
      ]
    },
    {
      "metadata": {
        "id": "RmJLYp_I3MQP",
        "colab_type": "code",
        "colab": {
          "base_uri": "https://localhost:8080/",
          "height": 85
        },
        "outputId": "4258289c-9238-4ac6-f369-b117b6362d9e"
      },
      "cell_type": "code",
      "source": [
        "s = set([1, 2, 3, 2, 3])\n",
        "print(s)\n",
        "print(\"number in set:\", len(s))\n",
        "s.add(4)\n",
        "print(s)\n",
        "s.add(3)\n",
        "print(s)"
      ],
      "execution_count": 56,
      "outputs": [
        {
          "output_type": "stream",
          "text": [
            "{1, 2, 3}\n",
            "number in set: 3\n",
            "{1, 2, 3, 4}\n",
            "{1, 2, 3, 4}\n"
          ],
          "name": "stdout"
        }
      ]
    },
    {
      "metadata": {
        "id": "B4QA1kkq3MQQ",
        "colab_type": "text"
      },
      "cell_type": "markdown",
      "source": [
        "You can remove specific elements from the set."
      ]
    },
    {
      "metadata": {
        "id": "4-pTj97X3MQR",
        "colab_type": "code",
        "colab": {
          "base_uri": "https://localhost:8080/",
          "height": 51
        },
        "outputId": "7ec8860c-9c7a-4ae9-ccb8-fe8362861a8d"
      },
      "cell_type": "code",
      "source": [
        "s = set([1, 2, 3, 2, 3])\n",
        "print(s)\n",
        "s.remove(3)\n",
        "print(s)"
      ],
      "execution_count": 57,
      "outputs": [
        {
          "output_type": "stream",
          "text": [
            "{1, 2, 3}\n",
            "{1, 2}\n"
          ],
          "name": "stdout"
        }
      ]
    },
    {
      "metadata": {
        "id": "644D8oCJ3MQR",
        "colab_type": "text"
      },
      "cell_type": "markdown",
      "source": [
        "You can do all the expected logical operations on sets, such as taking the union or intersection of 2 sets with the <tt>|</tt> _or_ and <tt>&</tt> _and_ operators "
      ]
    },
    {
      "metadata": {
        "id": "YwbctLCU3MQR",
        "colab_type": "code",
        "colab": {
          "base_uri": "https://localhost:8080/",
          "height": 51
        },
        "outputId": "2a326c84-f86f-4a36-9e51-7c8824de8c35"
      },
      "cell_type": "code",
      "source": [
        "s1 = set([2, 4, 6, 8, 10])\n",
        "s2 = set([4, 5, 6, 7])\n",
        "\n",
        "print(\"Union:\", s1 | s2)\n",
        "print(\"Intersection:\", s1 & s2)"
      ],
      "execution_count": 58,
      "outputs": [
        {
          "output_type": "stream",
          "text": [
            "Union: {2, 4, 5, 6, 7, 8, 10}\n",
            "Intersection: {4, 6}\n"
          ],
          "name": "stdout"
        }
      ]
    },
    {
      "metadata": {
        "id": "3SQh01Lz3MQU",
        "colab_type": "text"
      },
      "cell_type": "markdown",
      "source": [
        "## Exercise 1.4.1\n",
        "\n",
        "1. Given the protein sequence \"MPISEPTFFEIF\", split the sequence into its component amino acid codes and use a set to establish the unique amino acids in the protein and print out the result."
      ]
    },
    {
      "metadata": {
        "id": "WXVHYHCN3MQU",
        "colab_type": "text"
      },
      "cell_type": "markdown",
      "source": [
        "## Dictionaries\n",
        "\n",
        "Lists are useful in many contexts, but often we have some data that has no inherent order and that we want to access by some useful name rather than an index. For example, as a result of some experiment we may have a set of genes and corresponding expression values. We could put the expression values in a list, but then we'd have to remember which index in the list corresponded to which gene and this would quickly get complicated.\n",
        "\n",
        "For these situations a _dictionary_ is a very useful data structure.\n",
        "\n",
        "Dictionaries:\n",
        "\n",
        "- Contain a mapping of keys to values (like a word and its corresponding definition in a dictionary)\n",
        "- The keys of a dictionary are unique, i.e. they cannot repeat\n",
        "- The values of a dictionary can be of any data type\n",
        "- The keys of a dictionary cannot be an internally modifiable type (e.g. lists, but you can use tuples)\n",
        "- Dictionaries do not store data in any particular order"
      ]
    },
    {
      "metadata": {
        "id": "OHhWGnLK3MQW",
        "colab_type": "code",
        "colab": {
          "base_uri": "https://localhost:8080/",
          "height": 34
        },
        "outputId": "a89e515c-7227-4d11-deac-73d5f86de826"
      },
      "cell_type": "code",
      "source": [
        "dna = {\"A\": \"Adenine\", \"C\": \"Cytosine\", \"G\": \"Guanine\", \"T\": \"Thymine\"}\n",
        "print(dna)"
      ],
      "execution_count": 59,
      "outputs": [
        {
          "output_type": "stream",
          "text": [
            "{'A': 'Adenine', 'C': 'Cytosine', 'G': 'Guanine', 'T': 'Thymine'}\n"
          ],
          "name": "stdout"
        }
      ]
    },
    {
      "metadata": {
        "id": "5fCP-BqZ3MQX",
        "colab_type": "text"
      },
      "cell_type": "markdown",
      "source": [
        "You can access values in a dictionary using the key inside square brackets"
      ]
    },
    {
      "metadata": {
        "id": "G5TjRo2s3MQa",
        "colab_type": "code",
        "colab": {
          "base_uri": "https://localhost:8080/",
          "height": 51
        },
        "outputId": "31591a40-e2de-4b28-8c36-4f06ca30d2a2"
      },
      "cell_type": "code",
      "source": [
        "dna = {\"A\": \"Adenine\", \"C\": \"Cytosine\", \"G\": \"Guanine\", \"T\": \"Thymine\"}\n",
        "print(\"A represents\", dna[\"A\"])\n",
        "print(\"G represents\", dna[\"G\"])"
      ],
      "execution_count": 60,
      "outputs": [
        {
          "output_type": "stream",
          "text": [
            "A represents Adenine\n",
            "G represents Guanine\n"
          ],
          "name": "stdout"
        }
      ]
    },
    {
      "metadata": {
        "id": "tfvwUFTF3MQf",
        "colab_type": "text"
      },
      "cell_type": "markdown",
      "source": [
        "An error is triggered if a key is absent from the dictionary:"
      ]
    },
    {
      "metadata": {
        "id": "FOpc_fIY3MQf",
        "colab_type": "code",
        "colab": {
          "base_uri": "https://localhost:8080/",
          "height": 181
        },
        "outputId": "87cf767f-0837-4ea8-823b-5d50d634c72b"
      },
      "cell_type": "code",
      "source": [
        "dna = {\"A\": \"Adenine\", \"C\": \"Cytosine\", \"G\": \"Guanine\", \"T\": \"Thymine\"}\n",
        "print(\"What about N?\", dna[\"N\"])"
      ],
      "execution_count": 61,
      "outputs": [
        {
          "output_type": "error",
          "ename": "KeyError",
          "evalue": "ignored",
          "traceback": [
            "\u001b[0;31m---------------------------------------------------------------------------\u001b[0m",
            "\u001b[0;31mKeyError\u001b[0m                                  Traceback (most recent call last)",
            "\u001b[0;32m<ipython-input-61-8300010def4c>\u001b[0m in \u001b[0;36m<module>\u001b[0;34m()\u001b[0m\n\u001b[1;32m      1\u001b[0m \u001b[0mdna\u001b[0m \u001b[0;34m=\u001b[0m \u001b[0;34m{\u001b[0m\u001b[0;34m\"A\"\u001b[0m\u001b[0;34m:\u001b[0m \u001b[0;34m\"Adenine\"\u001b[0m\u001b[0;34m,\u001b[0m \u001b[0;34m\"C\"\u001b[0m\u001b[0;34m:\u001b[0m \u001b[0;34m\"Cytosine\"\u001b[0m\u001b[0;34m,\u001b[0m \u001b[0;34m\"G\"\u001b[0m\u001b[0;34m:\u001b[0m \u001b[0;34m\"Guanine\"\u001b[0m\u001b[0;34m,\u001b[0m \u001b[0;34m\"T\"\u001b[0m\u001b[0;34m:\u001b[0m \u001b[0;34m\"Thymine\"\u001b[0m\u001b[0;34m}\u001b[0m\u001b[0;34m\u001b[0m\u001b[0;34m\u001b[0m\u001b[0m\n\u001b[0;32m----> 2\u001b[0;31m \u001b[0mprint\u001b[0m\u001b[0;34m(\u001b[0m\u001b[0;34m\"What about N?\"\u001b[0m\u001b[0;34m,\u001b[0m \u001b[0mdna\u001b[0m\u001b[0;34m[\u001b[0m\u001b[0;34m\"N\"\u001b[0m\u001b[0;34m]\u001b[0m\u001b[0;34m)\u001b[0m\u001b[0;34m\u001b[0m\u001b[0;34m\u001b[0m\u001b[0m\n\u001b[0m",
            "\u001b[0;31mKeyError\u001b[0m: 'N'"
          ]
        }
      ]
    },
    {
      "metadata": {
        "id": "fWP3jc0N3MQg",
        "colab_type": "text"
      },
      "cell_type": "markdown",
      "source": [
        "You can access values safely with the <tt>get</tt> method, which gives back <tt>None</tt> if the key is absent and you can also supply a default values"
      ]
    },
    {
      "metadata": {
        "id": "8NfQxBsp3MQh",
        "colab_type": "code",
        "colab": {
          "base_uri": "https://localhost:8080/",
          "height": 51
        },
        "outputId": "47a52edb-b2a5-4c45-c035-58c261fcd140"
      },
      "cell_type": "code",
      "source": [
        "dna = {\"A\": \"Adenine\", \"C\": \"Cytosine\", \"G\": \"Guanine\", \"T\": \"Thymine\"}\n",
        "print(\"What about N?\", dna.get(\"N\"))\n",
        "print(\"With a default value:\", dna.get(\"N\", \"unknown\"))"
      ],
      "execution_count": 62,
      "outputs": [
        {
          "output_type": "stream",
          "text": [
            "What about N? None\n",
            "With a default value: unknown\n"
          ],
          "name": "stdout"
        }
      ]
    },
    {
      "metadata": {
        "id": "esNwIcRn3MQi",
        "colab_type": "text"
      },
      "cell_type": "markdown",
      "source": [
        "You can check if a key is in a dictionary with the <tt>in</tt> operator, and you can negate this with <tt>not</tt>"
      ]
    },
    {
      "metadata": {
        "id": "OasbBSGz3MQj",
        "colab_type": "code",
        "colab": {
          "base_uri": "https://localhost:8080/",
          "height": 34
        },
        "outputId": "38637365-1a31-40b5-b4af-52dc78430bbc"
      },
      "cell_type": "code",
      "source": [
        "dna = {\"A\": \"Adenine\", \"C\": \"Cytosine\", \"G\": \"Guanine\", \"T\": \"Thymine\"}\n",
        "\"T\" in dna"
      ],
      "execution_count": 63,
      "outputs": [
        {
          "output_type": "execute_result",
          "data": {
            "text/plain": [
              "True"
            ]
          },
          "metadata": {
            "tags": []
          },
          "execution_count": 63
        }
      ]
    },
    {
      "metadata": {
        "id": "YJ31UCRQ3MQk",
        "colab_type": "code",
        "colab": {
          "base_uri": "https://localhost:8080/",
          "height": 34
        },
        "outputId": "09488e2b-28a1-4687-f3f9-6cd640d2014e"
      },
      "cell_type": "code",
      "source": [
        "dna = {\"A\": \"Adenine\", \"C\": \"Cytosine\", \"G\": \"Guanine\", \"T\": \"Thymine\"}\n",
        "\"Y\" not in dna"
      ],
      "execution_count": 64,
      "outputs": [
        {
          "output_type": "execute_result",
          "data": {
            "text/plain": [
              "True"
            ]
          },
          "metadata": {
            "tags": []
          },
          "execution_count": 64
        }
      ]
    },
    {
      "metadata": {
        "id": "0gellIZp3MQm",
        "colab_type": "text"
      },
      "cell_type": "markdown",
      "source": [
        "The <tt>len()</tt> function gives back the number of (key, value) pairs in the dictionary:"
      ]
    },
    {
      "metadata": {
        "id": "K43ju3c43MQm",
        "colab_type": "code",
        "colab": {
          "base_uri": "https://localhost:8080/",
          "height": 34
        },
        "outputId": "944131fd-630c-4ce4-b0a9-febb0c77a1a5"
      },
      "cell_type": "code",
      "source": [
        "dna = {\"A\": \"Adenine\", \"C\": \"Cytosine\", \"G\": \"Guanine\", \"T\": \"Thymine\"}\n",
        "print(len(dna))"
      ],
      "execution_count": 65,
      "outputs": [
        {
          "output_type": "stream",
          "text": [
            "4\n"
          ],
          "name": "stdout"
        }
      ]
    },
    {
      "metadata": {
        "id": "MgM6KAe_3MQn",
        "colab_type": "text"
      },
      "cell_type": "markdown",
      "source": [
        "You can introduce new entries in the dictionary by assigning a value with a new key:"
      ]
    },
    {
      "metadata": {
        "id": "psv5NdZP3MQn",
        "colab_type": "code",
        "colab": {
          "base_uri": "https://localhost:8080/",
          "height": 34
        },
        "outputId": "3d35d7ff-c1a5-4488-a3b0-895539311fd4"
      },
      "cell_type": "code",
      "source": [
        "dna = {\"A\": \"Adenine\", \"C\": \"Cytosine\", \"G\": \"Guanine\", \"T\": \"Thymine\"}\n",
        "dna['Y'] = 'Pyrimidine'\n",
        "print(dna)"
      ],
      "execution_count": 66,
      "outputs": [
        {
          "output_type": "stream",
          "text": [
            "{'A': 'Adenine', 'C': 'Cytosine', 'G': 'Guanine', 'T': 'Thymine', 'Y': 'Pyrimidine'}\n"
          ],
          "name": "stdout"
        }
      ]
    },
    {
      "metadata": {
        "id": "2r0z6a373MQo",
        "colab_type": "text"
      },
      "cell_type": "markdown",
      "source": [
        "You can change the value for an existing key by reassigning it:"
      ]
    },
    {
      "metadata": {
        "id": "UqTir0yc3MQo",
        "colab_type": "code",
        "colab": {
          "base_uri": "https://localhost:8080/",
          "height": 54
        },
        "outputId": "68b86962-3e38-45a9-b294-7b346abde945"
      },
      "cell_type": "code",
      "source": [
        "dna = {'A': 'Adenine', 'C': 'Cytosine', 'T': 'Thymine', 'G': 'Guanine', 'Y': 'Pyrimidine'}\n",
        "dna['Y'] = 'Cytosine or Thymine'\n",
        "print(dna)"
      ],
      "execution_count": 67,
      "outputs": [
        {
          "output_type": "stream",
          "text": [
            "{'A': 'Adenine', 'C': 'Cytosine', 'T': 'Thymine', 'G': 'Guanine', 'Y': 'Cytosine or Thymine'}\n"
          ],
          "name": "stdout"
        }
      ]
    },
    {
      "metadata": {
        "id": "eXx8fe6D3MQq",
        "colab_type": "text"
      },
      "cell_type": "markdown",
      "source": [
        "You can delete entries from the dictionary:"
      ]
    },
    {
      "metadata": {
        "id": "5Mr81mb93MQr",
        "colab_type": "code",
        "colab": {
          "base_uri": "https://localhost:8080/",
          "height": 34
        },
        "outputId": "edc0214e-d4c1-4954-dbe3-c1f271657c93"
      },
      "cell_type": "code",
      "source": [
        "dna = {'A': 'Adenine', 'C': 'Cytosine', 'T': 'Thymine', 'G': 'Guanine', 'Y': 'Pyrimidine'}\n",
        "del dna['Y']\n",
        "print(dna)"
      ],
      "execution_count": 68,
      "outputs": [
        {
          "output_type": "stream",
          "text": [
            "{'A': 'Adenine', 'C': 'Cytosine', 'T': 'Thymine', 'G': 'Guanine'}\n"
          ],
          "name": "stdout"
        }
      ]
    },
    {
      "metadata": {
        "id": "gqw1UVMm3MQx",
        "colab_type": "text"
      },
      "cell_type": "markdown",
      "source": [
        "You can get a list of all the keys (in arbitrary order) using the inbuilt <tt>.keys()</tt> function"
      ]
    },
    {
      "metadata": {
        "id": "yY-PxInb3MQy",
        "colab_type": "code",
        "colab": {
          "base_uri": "https://localhost:8080/",
          "height": 34
        },
        "outputId": "e829c3b6-f084-47c1-d6a0-50baa2489e2a"
      },
      "cell_type": "code",
      "source": [
        "dna = {'A': 'Adenine', 'C': 'Cytosine', 'T': 'Thymine', 'G': 'Guanine', 'Y': 'Pyrimidine'}\n",
        "print(list(dna.keys()))"
      ],
      "execution_count": 69,
      "outputs": [
        {
          "output_type": "stream",
          "text": [
            "['A', 'C', 'T', 'G', 'Y']\n"
          ],
          "name": "stdout"
        }
      ]
    },
    {
      "metadata": {
        "id": "RpsxFZsH3MQ0",
        "colab_type": "text"
      },
      "cell_type": "markdown",
      "source": [
        "And equivalently get a list of the values:"
      ]
    },
    {
      "metadata": {
        "id": "vGVrBXa-3MQ1",
        "colab_type": "code",
        "colab": {
          "base_uri": "https://localhost:8080/",
          "height": 34
        },
        "outputId": "3f9a16b7-f259-4b79-affa-b505927ad40e"
      },
      "cell_type": "code",
      "source": [
        "dna = {'A': 'Adenine', 'C': 'Cytosine', 'T': 'Thymine', 'G': 'Guanine', 'Y': 'Pyrimidine'}\n",
        "print(list(dna.values()))"
      ],
      "execution_count": 70,
      "outputs": [
        {
          "output_type": "stream",
          "text": [
            "['Adenine', 'Cytosine', 'Thymine', 'Guanine', 'Pyrimidine']\n"
          ],
          "name": "stdout"
        }
      ]
    },
    {
      "metadata": {
        "id": "Gze6haMe3MQ3",
        "colab_type": "text"
      },
      "cell_type": "markdown",
      "source": [
        "And a list of tuples containing (key, value) pairs:"
      ]
    },
    {
      "metadata": {
        "id": "0ZXj2yvX3MQ3",
        "colab_type": "code",
        "colab": {
          "base_uri": "https://localhost:8080/",
          "height": 54
        },
        "outputId": "accb948a-db79-4779-9514-eade177f8ce6"
      },
      "cell_type": "code",
      "source": [
        "dna = {'A': 'Adenine', 'C': 'Cytosine', 'T': 'Thymine', 'G': 'Guanine', 'Y': 'Pyrimidine'}\n",
        "print(list(dna.items()))"
      ],
      "execution_count": 71,
      "outputs": [
        {
          "output_type": "stream",
          "text": [
            "[('A', 'Adenine'), ('C', 'Cytosine'), ('T', 'Thymine'), ('G', 'Guanine'), ('Y', 'Pyrimidine')]\n"
          ],
          "name": "stdout"
        }
      ]
    },
    {
      "metadata": {
        "id": "sSAYWUUC3MQ4",
        "colab_type": "text"
      },
      "cell_type": "markdown",
      "source": [
        "## Exercises 1.4.2\n",
        "\n",
        "1. Print out the names of the amino acids that would be produced by the DNA sequence \"GTT GCA CCA CAA CCG\" ([See the DNA codon table](https://en.wikipedia.org/wiki/DNA_codon_table)). Split this string into the individual codons and then use a dictionary to map between codon sequences and the amino acids they encode.\n",
        "2. Print each codon and its corresponding amino acid.\n",
        "3. Why couldn't we build a dictionary where the keys are names of amino acids and the values are the DNA codons?\n",
        "\n",
        "### Advanced exercise 1.4.3\n",
        "\n",
        "- Starting with an empty dictionary, count the abundance of different residue types present in the 1-letter lysozyme protein sequence (http://www.uniprot.org/uniprot/B2R4C5.fasta) and print the results to the screen in alphabetical key order."
      ]
    },
    {
      "metadata": {
        "id": "lVwiYXWB3MQ5",
        "colab_type": "code",
        "colab": {}
      },
      "cell_type": "code",
      "source": [
        ""
      ],
      "execution_count": 0,
      "outputs": []
    }
  ]
}