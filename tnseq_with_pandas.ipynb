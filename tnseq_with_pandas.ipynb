{
  "nbformat": 4,
  "nbformat_minor": 0,
  "metadata": {
    "colab": {
      "name": "Copy of tnseq_with_pandas.ipynb",
      "version": "0.3.2",
      "provenance": [],
      "collapsed_sections": [],
      "include_colab_link": true
    },
    "kernelspec": {
      "display_name": "Python 3",
      "language": "python",
      "name": "python3"
    }
  },
  "cells": [
    {
      "cell_type": "markdown",
      "metadata": {
        "id": "view-in-github",
        "colab_type": "text"
      },
      "source": [
        "<a href=\"https://colab.research.google.com/github/xxihe/sandbox2019/blob/master/tnseq_with_pandas.ipynb\" target=\"_parent\"><img src=\"https://colab.research.google.com/assets/colab-badge.svg\" alt=\"Open In Colab\"/></a>"
      ]
    },
    {
      "metadata": {
        "colab_type": "text",
        "id": "1UZTRmZwvrJU"
      },
      "cell_type": "markdown",
      "source": [
        "# Introduction to Pandas : Part 1\n",
        "-------\n",
        "This tutorial is heavily based on [Pandas in 10 min](https://pandas.pydata.org/pandas-docs/stable/10min.html). The original material waas modified by adding TnSeq data as examples. \n"
      ]
    },
    {
      "metadata": {
        "colab_type": "text",
        "id": "k5bP0dhXvxLo"
      },
      "cell_type": "markdown",
      "source": [
        "## Get datasets to play with"
      ]
    },
    {
      "metadata": {
        "colab_type": "code",
        "id": "QzFHDmwfhvHn",
        "colab": {}
      },
      "cell_type": "code",
      "source": [
        "%%bash\n",
        "wget https://nekrut.github.io/BMMB554/tnseq_untreated.txt.gz\n",
        "wget https://nekrut.github.io/BMMB554/ta_gc.txt"
      ],
      "execution_count": 0,
      "outputs": []
    },
    {
      "metadata": {
        "id": "_XajPfl-9p5n",
        "colab_type": "code",
        "colab": {
          "base_uri": "https://localhost:8080/",
          "height": 85
        },
        "outputId": "4684b574-024d-4eb7-8fc7-a9d09a1a7a56"
      },
      "cell_type": "code",
      "source": [
        "!ls -lh"
      ],
      "execution_count": 2,
      "outputs": [
        {
          "output_type": "stream",
          "text": [
            "total 9.0M\n",
            "drwxr-xr-x 1 root root 4.0K Jan  8 17:15 sample_data\n",
            "-rw-r--r-- 1 root root 7.0M Jan 28 19:10 ta_gc.txt\n",
            "-rw-r--r-- 1 root root 2.0M Jan 28 19:10 tnseq_untreated.txt.gz\n"
          ],
          "name": "stdout"
        }
      ]
    },
    {
      "metadata": {
        "id": "mcdQ_VFS-h4S",
        "colab_type": "code",
        "colab": {}
      },
      "cell_type": "code",
      "source": [
        "!gunzip -c tnseq_untreated.txt.gz | tail -n 100"
      ],
      "execution_count": 0,
      "outputs": []
    },
    {
      "metadata": {
        "colab_type": "code",
        "id": "8dS6V5FKJGzx",
        "colab": {}
      },
      "cell_type": "code",
      "source": [
        "data_file = 'tnseq_untreated.txt.gz'"
      ],
      "execution_count": 0,
      "outputs": []
    },
    {
      "metadata": {
        "colab_type": "text",
        "id": "d5UioPIlv3-U"
      },
      "cell_type": "markdown",
      "source": [
        "The first dataset lists coordinates of `TA` sites and counts of reads for TnSeq constructs 'blunt', 'cap', 'dual', 'erm', 'pen', and 'tuf':"
      ]
    },
    {
      "metadata": {
        "colab_type": "code",
        "id": "DaB3xMqj9zVm",
        "colab": {}
      },
      "cell_type": "code",
      "source": [
        "!gunzip -c {data_file} | head -n 100"
      ],
      "execution_count": 0,
      "outputs": []
    },
    {
      "metadata": {
        "colab_type": "code",
        "id": "NzN0faRBduix",
        "outputId": "042b88f4-e975-4ec5-cb25-605793222227",
        "colab": {
          "base_uri": "https://localhost:8080/",
          "height": 51
        }
      },
      "cell_type": "code",
      "source": [
        "# Just two choices for beginning of of gene field\n",
        "!gunzip -c {data_file} | cut -f 8 | cut -f 1 -d '=' | sort | uniq -c"
      ],
      "execution_count": 6,
      "outputs": [
        {
          "output_type": "stream",
          "text": [
            "  49898 .\n",
            " 220202 ID\n"
          ],
          "name": "stdout"
        }
      ]
    },
    {
      "metadata": {
        "colab_type": "code",
        "id": "GLeYuYEycYBm",
        "colab": {}
      },
      "cell_type": "code",
      "source": [
        "# Process tnseq_untreated.txt.gz to correctly parse gene names\n",
        "\n",
        "import os\n",
        "f = open('data.txt','w')\n",
        "\n",
        "with os.popen('gunzip -c {} '.format(data_file)) as stream:\n",
        "  for line in stream:\n",
        "    if line.split( '\\t' )[7].startswith( '.' ):\n",
        "      f.write( '{}\\t{}\\n'.format( '\\t'.join( line.split( '\\t' )[:7] ) , 'intergenic'  ) )\n",
        "    elif line.split( '\\t' )[7].startswith( 'ID' ):\n",
        "      f.write( '{}\\t{}\\n'.format( '\\t'.join( line.split( '\\t' )[:7] ) , line.split( '\\t' )[7].split(';')[0][3:] ) )\n",
        "f.close()"
      ],
      "execution_count": 0,
      "outputs": []
    },
    {
      "metadata": {
        "colab_type": "code",
        "id": "3LpNMs6jkQPQ",
        "outputId": "4ffd545e-8e2e-46e5-fa69-ab4418c71f45",
        "colab": {
          "base_uri": "https://localhost:8080/",
          "height": 34
        }
      },
      "cell_type": "code",
      "source": [
        "!wc -l data.txt"
      ],
      "execution_count": 16,
      "outputs": [
        {
          "output_type": "stream",
          "text": [
            "270100 data.txt\n"
          ],
          "name": "stdout"
        }
      ]
    },
    {
      "metadata": {
        "colab_type": "code",
        "id": "xTKDAkUEKJjv",
        "outputId": "1b93dd4b-a66b-4f37-a2c2-b436d2335050",
        "colab": {
          "base_uri": "https://localhost:8080/",
          "height": 1717
        }
      },
      "cell_type": "code",
      "source": [
        "!head -n 100 data.txt"
      ],
      "execution_count": 18,
      "outputs": [
        {
          "output_type": "stream",
          "text": [
            "2400002\t0.0\t0.0\t1.0\t0.0\t0.0\t1.0\tintergenic\n",
            "2400004\t1.0\t0.0\t5.0\t0.0\t0.0\t1.0\tintergenic\n",
            "2400006\t1.0\t0.0\t5.0\t1.0\t0.0\t1.0\tintergenic\n",
            "2400009\t2.0\t2.0\t8.0\t1.0\t0.0\t0.0\tintergenic\n",
            "2400029\t6.0\t1.0\t0.0\t1.0\t0.0\t1.0\tintergenic\n",
            "2400038\t4.0\t2.0\t0.0\t3.0\t3.0\t2.0\tintergenic\n",
            "2400047\t22.0\t4.0\t2.0\t3.0\t4.0\t5.0\tintergenic\n",
            "2400061\t25.0\t3.0\t3.0\t2.0\t2.0\t9.0\tintergenic\n",
            "2400065\t3.0\t0.0\t1.0\t1.0\t1.0\t5.0\tintergenic\n",
            "2400072\t8.0\t5.0\t28.0\t10.0\t7.0\t9.0\tintergenic\n",
            "2400081\t7.0\t5.0\t28.0\t10.0\t8.0\t6.0\tintergenic\n",
            "2400088\t7.0\t5.0\t23.0\t9.0\t7.0\t6.0\tintergenic\n",
            "2400100\t0.0\t0.0\t0.0\t0.0\t0.0\t0.0\tintergenic\n",
            "2400109\t1.0\t0.0\t0.0\t0.0\t1.0\t0.0\tintergenic\n",
            "2400120\t11.0\t3.0\t2.0\t1.0\t1.0\t2.0\tintergenic\n",
            "2400122\t36.0\t5.0\t6.0\t8.0\t4.0\t3.0\tintergenic\n",
            "2400131\t36.0\t5.0\t6.0\t8.0\t4.0\t3.0\tintergenic\n",
            "2400134\t36.0\t5.0\t6.0\t8.0\t4.0\t3.0\tintergenic\n",
            "2400136\t33.0\t2.0\t5.0\t8.0\t4.0\t3.0\tintergenic\n",
            "2400143\t0.0\t0.0\t0.0\t0.0\t0.0\t0.0\tintergenic\n",
            "2400146\t0.0\t0.0\t0.0\t0.0\t0.0\t0.0\tintergenic\n",
            "2400153\t1.0\t0.0\t0.0\t0.0\t0.0\t0.0\tintergenic\n",
            "2400190\t4.0\t1.0\t2.0\t6.0\t1.0\t1.0\tintergenic\n",
            "2400192\t5.0\t1.0\t0.0\t2.0\t2.0\t0.0\tintergenic\n",
            "2400196\t5.0\t1.0\t0.0\t2.0\t2.0\t0.0\tintergenic\n",
            "2400202\t5.0\t1.0\t0.0\t2.0\t2.0\t0.0\tintergenic\n",
            "2400206\t2.0\t1.0\t0.0\t4.0\t1.0\t0.0\tgene2461\n",
            "2400211\t0.0\t0.0\t0.0\t2.0\t0.0\t0.0\tgene2461\n",
            "2400226\t0.0\t0.0\t0.0\t0.0\t0.0\t1.0\tgene2461\n",
            "2400231\t0.0\t0.0\t0.0\t0.0\t0.0\t1.0\tgene2461\n",
            "2400243\t3.0\t1.0\t0.0\t0.0\t0.0\t1.0\tgene2461\n",
            "2400252\t7.0\t2.0\t0.0\t0.0\t1.0\t2.0\tgene2461\n",
            "2400266\t4.0\t1.0\t0.0\t0.0\t1.0\t1.0\tgene2461\n",
            "2400288\t4.0\t3.0\t4.0\t2.0\t27.0\t7.0\tgene2461\n",
            "2400291\t5.0\t3.0\t4.0\t2.0\t28.0\t8.0\tgene2461\n",
            "2400306\t1.0\t0.0\t0.0\t0.0\t1.0\t1.0\tgene2461\n",
            "2400318\t1.0\t0.0\t0.0\t0.0\t0.0\t0.0\tgene2461\n",
            "2400321\t2.0\t5.0\t2.0\t1.0\t1.0\t1.0\tgene2461\n",
            "2400331\t21.0\t12.0\t5.0\t8.0\t1.0\t4.0\tgene2461\n",
            "2400345\t19.0\t8.0\t5.0\t9.0\t10.0\t7.0\tgene2461\n",
            "2400353\t0.0\t1.0\t2.0\t3.0\t10.0\t4.0\tgene2461\n",
            "2400361\t0.0\t0.0\t2.0\t3.0\t6.0\t4.0\tgene2461\n",
            "2400379\t0.0\t0.0\t0.0\t0.0\t0.0\t0.0\tgene2461\n",
            "2400399\t0.0\t0.0\t0.0\t4.0\t0.0\t0.0\tgene2461\n",
            "2400414\t6.0\t2.0\t14.0\t7.0\t2.0\t3.0\tgene2461\n",
            "2400423\t6.0\t2.0\t14.0\t3.0\t2.0\t3.0\tgene2461\n",
            "2400429\t6.0\t3.0\t14.0\t3.0\t2.0\t3.0\tgene2461\n",
            "2400448\t37.0\t3.0\t3.0\t5.0\t1.0\t6.0\tgene2461\n",
            "2400465\t2.0\t0.0\t0.0\t1.0\t0.0\t2.0\tgene2461\n",
            "2400471\t2.0\t0.0\t0.0\t1.0\t0.0\t2.0\tgene2461\n",
            "2400484\t5.0\t1.0\t2.0\t4.0\t0.0\t6.0\tgene2461\n",
            "2400496\t4.0\t1.0\t2.0\t3.0\t0.0\t6.0\tgene2461\n",
            "2400515\t2.0\t1.0\t0.0\t2.0\t1.0\t0.0\tgene2461\n",
            "2400534\t0.0\t0.0\t1.0\t0.0\t2.0\t2.0\tgene2461\n",
            "2400539\t0.0\t0.0\t1.0\t0.0\t2.0\t2.0\tgene2461\n",
            "2400547\t1.0\t0.0\t1.0\t0.0\t2.0\t2.0\tgene2461\n",
            "2400558\t1.0\t0.0\t0.0\t0.0\t1.0\t0.0\tgene2461\n",
            "2400561\t1.0\t0.0\t0.0\t0.0\t1.0\t0.0\tgene2461\n",
            "2400576\t0.0\t0.0\t0.0\t0.0\t0.0\t0.0\tgene2461\n",
            "2400586\t0.0\t0.0\t0.0\t0.0\t0.0\t0.0\tgene2461\n",
            "2400590\t0.0\t0.0\t0.0\t1.0\t0.0\t0.0\tgene2461\n",
            "2400613\t2.0\t1.0\t0.0\t0.0\t0.0\t0.0\tgene2461\n",
            "2400624\t4.0\t2.0\t0.0\t2.0\t0.0\t0.0\tgene2461\n",
            "2400642\t4.0\t2.0\t1.0\t1.0\t2.0\t1.0\tgene2461\n",
            "2400663\t3.0\t9.0\t4.0\t0.0\t1.0\t2.0\tgene2461\n",
            "2400681\t0.0\t1.0\t0.0\t1.0\t0.0\t0.0\tgene2461\n",
            "2400685\t2.0\t1.0\t0.0\t6.0\t0.0\t0.0\tgene2461\n",
            "2400696\t2.0\t1.0\t0.0\t7.0\t0.0\t0.0\tgene2461\n",
            "2400710\t0.0\t0.0\t0.0\t1.0\t0.0\t0.0\tgene2461\n",
            "2400717\t0.0\t0.0\t1.0\t0.0\t0.0\t0.0\tgene2461\n",
            "2400727\t0.0\t0.0\t1.0\t0.0\t0.0\t0.0\tgene2461\n",
            "2400731\t0.0\t0.0\t1.0\t0.0\t0.0\t0.0\tgene2461\n",
            "2400740\t0.0\t1.0\t1.0\t1.0\t1.0\t1.0\tgene2461\n",
            "2400747\t0.0\t1.0\t1.0\t1.0\t1.0\t1.0\tgene2461\n",
            "2400763\t0.0\t1.0\t0.0\t0.0\t1.0\t0.0\tgene2461\n",
            "2400766\t0.0\t0.0\t0.0\t0.0\t0.0\t0.0\tgene2461\n",
            "2400780\t0.0\t0.0\t0.0\t0.0\t0.0\t0.0\tgene2461\n",
            "2400786\t0.0\t0.0\t0.0\t0.0\t0.0\t0.0\tgene2461\n",
            "2400810\t0.0\t0.0\t0.0\t2.0\t0.0\t0.0\tgene2461\n",
            "2400828\t0.0\t0.0\t0.0\t0.0\t0.0\t0.0\tgene2461\n",
            "2400835\t0.0\t0.0\t0.0\t0.0\t0.0\t0.0\tgene2461\n",
            "2400854\t1.0\t0.0\t0.0\t0.0\t0.0\t1.0\tgene2461\n",
            "2400866\t0.0\t0.0\t0.0\t0.0\t0.0\t0.0\tgene2461\n",
            "2400874\t0.0\t0.0\t0.0\t0.0\t0.0\t0.0\tgene2461\n",
            "2400921\t0.0\t0.0\t0.0\t0.0\t0.0\t0.0\tgene2461\n",
            "2400964\t0.0\t0.0\t0.0\t0.0\t0.0\t0.0\tgene2461\n",
            "2400989\t1.0\t3.0\t1.0\t2.0\t1.0\t5.0\tgene2461\n",
            "2400994\t3.0\t3.0\t1.0\t2.0\t4.0\t7.0\tgene2461\n",
            "2400997\t2.0\t0.0\t0.0\t1.0\t4.0\t2.0\tgene2461\n",
            "2400999\t2.0\t0.0\t0.0\t1.0\t4.0\t2.0\tgene2461\n",
            "2401017\t7.0\t8.0\t30.0\t5.0\t16.0\t14.0\tgene2461\n",
            "2401020\t3.0\t2.0\t4.0\t2.0\t10.0\t7.0\tgene2461\n",
            "2401035\t0.0\t0.0\t0.0\t0.0\t0.0\t0.0\tgene2461\n",
            "2401054\t0.0\t0.0\t0.0\t1.0\t0.0\t0.0\tgene2461\n",
            "2401071\t0.0\t0.0\t0.0\t0.0\t0.0\t0.0\tgene2461\n",
            "2401095\t0.0\t2.0\t0.0\t2.0\t1.0\t3.0\tgene2461\n",
            "2401099\t0.0\t2.0\t0.0\t2.0\t1.0\t3.0\tgene2461\n",
            "2401114\t0.0\t0.0\t0.0\t0.0\t0.0\t0.0\tgene2461\n",
            "2401136\t14.0\t7.0\t4.0\t39.0\t4.0\t2.0\tgene2461\n",
            "2401156\t3.0\t5.0\t4.0\t4.0\t3.0\t6.0\tintergenic\n"
          ],
          "name": "stdout"
        }
      ]
    },
    {
      "metadata": {
        "colab_type": "code",
        "id": "jcVb2VYLJ3T3",
        "outputId": "626204cd-dc19-463c-83ac-2f1178c432af",
        "colab": {
          "base_uri": "https://localhost:8080/",
          "height": 34
        }
      },
      "cell_type": "code",
      "source": [
        "!gunzip -c {data_file} | wc -l"
      ],
      "execution_count": 19,
      "outputs": [
        {
          "output_type": "stream",
          "text": [
            "270100\n"
          ],
          "name": "stdout"
        }
      ]
    },
    {
      "metadata": {
        "colab_type": "code",
        "id": "-cAtW7apdW5F",
        "colab": {}
      },
      "cell_type": "code",
      "source": [
        "import pandas as pd\n",
        "\n",
        "tnseq = pd.read_table('data.txt', header=None, names=['pos','blunt','cap','dual','erm','pen','tuf','gene'])"
      ],
      "execution_count": 0,
      "outputs": []
    },
    {
      "metadata": {
        "id": "y2_TKEZmEJ5P",
        "colab_type": "code",
        "colab": {
          "base_uri": "https://localhost:8080/",
          "height": 204
        },
        "outputId": "ea840f7d-431a-4daa-8a78-bac9415f3789"
      },
      "cell_type": "code",
      "source": [
        "tnseq.head()"
      ],
      "execution_count": 21,
      "outputs": [
        {
          "output_type": "execute_result",
          "data": {
            "text/html": [
              "<div>\n",
              "<style scoped>\n",
              "    .dataframe tbody tr th:only-of-type {\n",
              "        vertical-align: middle;\n",
              "    }\n",
              "\n",
              "    .dataframe tbody tr th {\n",
              "        vertical-align: top;\n",
              "    }\n",
              "\n",
              "    .dataframe thead th {\n",
              "        text-align: right;\n",
              "    }\n",
              "</style>\n",
              "<table border=\"1\" class=\"dataframe\">\n",
              "  <thead>\n",
              "    <tr style=\"text-align: right;\">\n",
              "      <th></th>\n",
              "      <th>pos</th>\n",
              "      <th>blunt</th>\n",
              "      <th>cap</th>\n",
              "      <th>dual</th>\n",
              "      <th>erm</th>\n",
              "      <th>pen</th>\n",
              "      <th>tuf</th>\n",
              "      <th>gene</th>\n",
              "    </tr>\n",
              "  </thead>\n",
              "  <tbody>\n",
              "    <tr>\n",
              "      <th>0</th>\n",
              "      <td>2400002</td>\n",
              "      <td>0.0</td>\n",
              "      <td>0.0</td>\n",
              "      <td>1.0</td>\n",
              "      <td>0.0</td>\n",
              "      <td>0.0</td>\n",
              "      <td>1.0</td>\n",
              "      <td>intergenic</td>\n",
              "    </tr>\n",
              "    <tr>\n",
              "      <th>1</th>\n",
              "      <td>2400004</td>\n",
              "      <td>1.0</td>\n",
              "      <td>0.0</td>\n",
              "      <td>5.0</td>\n",
              "      <td>0.0</td>\n",
              "      <td>0.0</td>\n",
              "      <td>1.0</td>\n",
              "      <td>intergenic</td>\n",
              "    </tr>\n",
              "    <tr>\n",
              "      <th>2</th>\n",
              "      <td>2400006</td>\n",
              "      <td>1.0</td>\n",
              "      <td>0.0</td>\n",
              "      <td>5.0</td>\n",
              "      <td>1.0</td>\n",
              "      <td>0.0</td>\n",
              "      <td>1.0</td>\n",
              "      <td>intergenic</td>\n",
              "    </tr>\n",
              "    <tr>\n",
              "      <th>3</th>\n",
              "      <td>2400009</td>\n",
              "      <td>2.0</td>\n",
              "      <td>2.0</td>\n",
              "      <td>8.0</td>\n",
              "      <td>1.0</td>\n",
              "      <td>0.0</td>\n",
              "      <td>0.0</td>\n",
              "      <td>intergenic</td>\n",
              "    </tr>\n",
              "    <tr>\n",
              "      <th>4</th>\n",
              "      <td>2400029</td>\n",
              "      <td>6.0</td>\n",
              "      <td>1.0</td>\n",
              "      <td>0.0</td>\n",
              "      <td>1.0</td>\n",
              "      <td>0.0</td>\n",
              "      <td>1.0</td>\n",
              "      <td>intergenic</td>\n",
              "    </tr>\n",
              "  </tbody>\n",
              "</table>\n",
              "</div>"
            ],
            "text/plain": [
              "       pos  blunt  cap  dual  erm  pen  tuf        gene\n",
              "0  2400002    0.0  0.0   1.0  0.0  0.0  1.0  intergenic\n",
              "1  2400004    1.0  0.0   5.0  0.0  0.0  1.0  intergenic\n",
              "2  2400006    1.0  0.0   5.0  1.0  0.0  1.0  intergenic\n",
              "3  2400009    2.0  2.0   8.0  1.0  0.0  0.0  intergenic\n",
              "4  2400029    6.0  1.0   0.0  1.0  0.0  1.0  intergenic"
            ]
          },
          "metadata": {
            "tags": []
          },
          "execution_count": 21
        }
      ]
    },
    {
      "metadata": {
        "colab_type": "code",
        "id": "C5rUX9nQ1FZH",
        "colab": {}
      },
      "cell_type": "code",
      "source": [
        "# Let's create a small subset of this dataset\n",
        "df = tnseq[tnseq['blunt'] > 200]"
      ],
      "execution_count": 0,
      "outputs": []
    },
    {
      "metadata": {
        "colab_type": "code",
        "id": "QfCjFYO0k2fg",
        "outputId": "ae1046ae-3450-418e-ab54-7006973f6272",
        "colab": {
          "base_uri": "https://localhost:8080/",
          "height": 204
        }
      },
      "cell_type": "code",
      "source": [
        "df.head()"
      ],
      "execution_count": 29,
      "outputs": [
        {
          "output_type": "execute_result",
          "data": {
            "text/html": [
              "<div>\n",
              "<style scoped>\n",
              "    .dataframe tbody tr th:only-of-type {\n",
              "        vertical-align: middle;\n",
              "    }\n",
              "\n",
              "    .dataframe tbody tr th {\n",
              "        vertical-align: top;\n",
              "    }\n",
              "\n",
              "    .dataframe thead th {\n",
              "        text-align: right;\n",
              "    }\n",
              "</style>\n",
              "<table border=\"1\" class=\"dataframe\">\n",
              "  <thead>\n",
              "    <tr style=\"text-align: right;\">\n",
              "      <th></th>\n",
              "      <th>pos</th>\n",
              "      <th>blunt</th>\n",
              "      <th>cap</th>\n",
              "      <th>dual</th>\n",
              "      <th>erm</th>\n",
              "      <th>pen</th>\n",
              "      <th>tuf</th>\n",
              "      <th>gene</th>\n",
              "    </tr>\n",
              "  </thead>\n",
              "  <tbody>\n",
              "    <tr>\n",
              "      <th>469</th>\n",
              "      <td>2404930</td>\n",
              "      <td>283.0</td>\n",
              "      <td>65.0</td>\n",
              "      <td>109.0</td>\n",
              "      <td>94.0</td>\n",
              "      <td>47.0</td>\n",
              "      <td>128.0</td>\n",
              "      <td>gene2465</td>\n",
              "    </tr>\n",
              "    <tr>\n",
              "      <th>470</th>\n",
              "      <td>2404933</td>\n",
              "      <td>284.0</td>\n",
              "      <td>67.0</td>\n",
              "      <td>108.0</td>\n",
              "      <td>94.0</td>\n",
              "      <td>55.0</td>\n",
              "      <td>128.0</td>\n",
              "      <td>gene2465</td>\n",
              "    </tr>\n",
              "    <tr>\n",
              "      <th>471</th>\n",
              "      <td>2404937</td>\n",
              "      <td>353.0</td>\n",
              "      <td>79.0</td>\n",
              "      <td>115.0</td>\n",
              "      <td>122.0</td>\n",
              "      <td>80.0</td>\n",
              "      <td>173.0</td>\n",
              "      <td>gene2465</td>\n",
              "    </tr>\n",
              "    <tr>\n",
              "      <th>20753</th>\n",
              "      <td>511019</td>\n",
              "      <td>7399.0</td>\n",
              "      <td>2021.0</td>\n",
              "      <td>1933.0</td>\n",
              "      <td>9207.0</td>\n",
              "      <td>1860.0</td>\n",
              "      <td>3141.0</td>\n",
              "      <td>intergenic</td>\n",
              "    </tr>\n",
              "    <tr>\n",
              "      <th>20754</th>\n",
              "      <td>511024</td>\n",
              "      <td>7390.0</td>\n",
              "      <td>2017.0</td>\n",
              "      <td>1925.0</td>\n",
              "      <td>9168.0</td>\n",
              "      <td>1857.0</td>\n",
              "      <td>3130.0</td>\n",
              "      <td>intergenic</td>\n",
              "    </tr>\n",
              "  </tbody>\n",
              "</table>\n",
              "</div>"
            ],
            "text/plain": [
              "           pos   blunt     cap    dual     erm     pen     tuf        gene\n",
              "469    2404930   283.0    65.0   109.0    94.0    47.0   128.0    gene2465\n",
              "470    2404933   284.0    67.0   108.0    94.0    55.0   128.0    gene2465\n",
              "471    2404937   353.0    79.0   115.0   122.0    80.0   173.0    gene2465\n",
              "20753   511019  7399.0  2021.0  1933.0  9207.0  1860.0  3141.0  intergenic\n",
              "20754   511024  7390.0  2017.0  1925.0  9168.0  1857.0  3130.0  intergenic"
            ]
          },
          "metadata": {
            "tags": []
          },
          "execution_count": 29
        }
      ]
    },
    {
      "metadata": {
        "colab_type": "code",
        "id": "Lzwu5NSHk3y1",
        "outputId": "94d95c1a-247a-47c1-8231-1f66ee2d7f2a",
        "colab": {
          "base_uri": "https://localhost:8080/",
          "height": 119
        }
      },
      "cell_type": "code",
      "source": [
        "df.index"
      ],
      "execution_count": 26,
      "outputs": [
        {
          "output_type": "execute_result",
          "data": {
            "text/plain": [
              "Int64Index([140104, 146244, 148993, 149812, 149813, 149814, 149815, 212421,\n",
              "            212422, 212423,\n",
              "            ...\n",
              "               471, 167372, 171834,  77457,  81440,  82783,  82785,  38883,\n",
              "             41028,  41029],\n",
              "           dtype='int64', length=104)"
            ]
          },
          "metadata": {
            "tags": []
          },
          "execution_count": 26
        }
      ]
    },
    {
      "metadata": {
        "colab_type": "code",
        "id": "4lJMo8uZlL7T",
        "outputId": "5bcb6f0e-5488-4cf3-824d-7f16df865298",
        "colab": {
          "base_uri": "https://localhost:8080/",
          "height": 297
        }
      },
      "cell_type": "code",
      "source": [
        "df.describe()"
      ],
      "execution_count": 27,
      "outputs": [
        {
          "output_type": "execute_result",
          "data": {
            "text/html": [
              "<div>\n",
              "<style scoped>\n",
              "    .dataframe tbody tr th:only-of-type {\n",
              "        vertical-align: middle;\n",
              "    }\n",
              "\n",
              "    .dataframe tbody tr th {\n",
              "        vertical-align: top;\n",
              "    }\n",
              "\n",
              "    .dataframe thead th {\n",
              "        text-align: right;\n",
              "    }\n",
              "</style>\n",
              "<table border=\"1\" class=\"dataframe\">\n",
              "  <thead>\n",
              "    <tr style=\"text-align: right;\">\n",
              "      <th></th>\n",
              "      <th>pos</th>\n",
              "      <th>blunt</th>\n",
              "      <th>cap</th>\n",
              "      <th>dual</th>\n",
              "      <th>erm</th>\n",
              "      <th>pen</th>\n",
              "      <th>tuf</th>\n",
              "    </tr>\n",
              "  </thead>\n",
              "  <tbody>\n",
              "    <tr>\n",
              "      <th>count</th>\n",
              "      <td>1.040000e+02</td>\n",
              "      <td>104.000000</td>\n",
              "      <td>104.000000</td>\n",
              "      <td>104.000000</td>\n",
              "      <td>104.000000</td>\n",
              "      <td>104.000000</td>\n",
              "      <td>104.000000</td>\n",
              "    </tr>\n",
              "    <tr>\n",
              "      <th>mean</th>\n",
              "      <td>1.295009e+06</td>\n",
              "      <td>473.000000</td>\n",
              "      <td>145.307692</td>\n",
              "      <td>141.394231</td>\n",
              "      <td>428.307692</td>\n",
              "      <td>134.855769</td>\n",
              "      <td>221.884615</td>\n",
              "    </tr>\n",
              "    <tr>\n",
              "      <th>std</th>\n",
              "      <td>8.859577e+05</td>\n",
              "      <td>1200.109048</td>\n",
              "      <td>328.880097</td>\n",
              "      <td>319.687360</td>\n",
              "      <td>1525.561454</td>\n",
              "      <td>303.135217</td>\n",
              "      <td>510.726083</td>\n",
              "    </tr>\n",
              "    <tr>\n",
              "      <th>min</th>\n",
              "      <td>4.068300e+04</td>\n",
              "      <td>202.000000</td>\n",
              "      <td>27.000000</td>\n",
              "      <td>18.000000</td>\n",
              "      <td>35.000000</td>\n",
              "      <td>16.000000</td>\n",
              "      <td>37.000000</td>\n",
              "    </tr>\n",
              "    <tr>\n",
              "      <th>25%</th>\n",
              "      <td>5.110228e+05</td>\n",
              "      <td>217.750000</td>\n",
              "      <td>51.750000</td>\n",
              "      <td>43.750000</td>\n",
              "      <td>73.000000</td>\n",
              "      <td>49.500000</td>\n",
              "      <td>76.500000</td>\n",
              "    </tr>\n",
              "    <tr>\n",
              "      <th>50%</th>\n",
              "      <td>1.046223e+06</td>\n",
              "      <td>248.000000</td>\n",
              "      <td>77.000000</td>\n",
              "      <td>64.500000</td>\n",
              "      <td>116.500000</td>\n",
              "      <td>71.500000</td>\n",
              "      <td>116.500000</td>\n",
              "    </tr>\n",
              "    <tr>\n",
              "      <th>75%</th>\n",
              "      <td>2.105208e+06</td>\n",
              "      <td>312.750000</td>\n",
              "      <td>123.000000</td>\n",
              "      <td>108.250000</td>\n",
              "      <td>204.500000</td>\n",
              "      <td>107.000000</td>\n",
              "      <td>183.000000</td>\n",
              "    </tr>\n",
              "    <tr>\n",
              "      <th>max</th>\n",
              "      <td>2.726151e+06</td>\n",
              "      <td>7399.000000</td>\n",
              "      <td>2021.000000</td>\n",
              "      <td>1933.000000</td>\n",
              "      <td>9207.000000</td>\n",
              "      <td>1860.000000</td>\n",
              "      <td>3141.000000</td>\n",
              "    </tr>\n",
              "  </tbody>\n",
              "</table>\n",
              "</div>"
            ],
            "text/plain": [
              "                pos        blunt          cap         dual          erm  \\\n",
              "count  1.040000e+02   104.000000   104.000000   104.000000   104.000000   \n",
              "mean   1.295009e+06   473.000000   145.307692   141.394231   428.307692   \n",
              "std    8.859577e+05  1200.109048   328.880097   319.687360  1525.561454   \n",
              "min    4.068300e+04   202.000000    27.000000    18.000000    35.000000   \n",
              "25%    5.110228e+05   217.750000    51.750000    43.750000    73.000000   \n",
              "50%    1.046223e+06   248.000000    77.000000    64.500000   116.500000   \n",
              "75%    2.105208e+06   312.750000   123.000000   108.250000   204.500000   \n",
              "max    2.726151e+06  7399.000000  2021.000000  1933.000000  9207.000000   \n",
              "\n",
              "               pen          tuf  \n",
              "count   104.000000   104.000000  \n",
              "mean    134.855769   221.884615  \n",
              "std     303.135217   510.726083  \n",
              "min      16.000000    37.000000  \n",
              "25%      49.500000    76.500000  \n",
              "50%      71.500000   116.500000  \n",
              "75%     107.000000   183.000000  \n",
              "max    1860.000000  3141.000000  "
            ]
          },
          "metadata": {
            "tags": []
          },
          "execution_count": 27
        }
      ]
    },
    {
      "metadata": {
        "colab_type": "code",
        "id": "CBHG6gbskLKW",
        "colab": {}
      },
      "cell_type": "code",
      "source": [
        "df = df.sort_values(by=['pos'])"
      ],
      "execution_count": 0,
      "outputs": []
    },
    {
      "metadata": {
        "colab_type": "code",
        "id": "R9jDq_tkMlUq",
        "colab": {}
      },
      "cell_type": "code",
      "source": [
        "df = df.set_index('pos')"
      ],
      "execution_count": 0,
      "outputs": []
    },
    {
      "metadata": {
        "colab_type": "code",
        "id": "swJeqR2RMptk",
        "outputId": "b9266a5e-3cc9-40eb-b4b2-6382e5a5ce37",
        "colab": {
          "base_uri": "https://localhost:8080/",
          "height": 235
        }
      },
      "cell_type": "code",
      "source": [
        "df.head()"
      ],
      "execution_count": 32,
      "outputs": [
        {
          "output_type": "execute_result",
          "data": {
            "text/html": [
              "<div>\n",
              "<style scoped>\n",
              "    .dataframe tbody tr th:only-of-type {\n",
              "        vertical-align: middle;\n",
              "    }\n",
              "\n",
              "    .dataframe tbody tr th {\n",
              "        vertical-align: top;\n",
              "    }\n",
              "\n",
              "    .dataframe thead th {\n",
              "        text-align: right;\n",
              "    }\n",
              "</style>\n",
              "<table border=\"1\" class=\"dataframe\">\n",
              "  <thead>\n",
              "    <tr style=\"text-align: right;\">\n",
              "      <th></th>\n",
              "      <th>blunt</th>\n",
              "      <th>cap</th>\n",
              "      <th>dual</th>\n",
              "      <th>erm</th>\n",
              "      <th>pen</th>\n",
              "      <th>tuf</th>\n",
              "      <th>gene</th>\n",
              "    </tr>\n",
              "    <tr>\n",
              "      <th>pos</th>\n",
              "      <th></th>\n",
              "      <th></th>\n",
              "      <th></th>\n",
              "      <th></th>\n",
              "      <th></th>\n",
              "      <th></th>\n",
              "      <th></th>\n",
              "    </tr>\n",
              "  </thead>\n",
              "  <tbody>\n",
              "    <tr>\n",
              "      <th>40683</th>\n",
              "      <td>211.0</td>\n",
              "      <td>80.0</td>\n",
              "      <td>91.0</td>\n",
              "      <td>68.0</td>\n",
              "      <td>81.0</td>\n",
              "      <td>67.0</td>\n",
              "      <td>gene35</td>\n",
              "    </tr>\n",
              "    <tr>\n",
              "      <th>103869</th>\n",
              "      <td>214.0</td>\n",
              "      <td>42.0</td>\n",
              "      <td>50.0</td>\n",
              "      <td>155.0</td>\n",
              "      <td>31.0</td>\n",
              "      <td>69.0</td>\n",
              "      <td>gene90</td>\n",
              "    </tr>\n",
              "    <tr>\n",
              "      <th>132578</th>\n",
              "      <td>202.0</td>\n",
              "      <td>70.0</td>\n",
              "      <td>99.0</td>\n",
              "      <td>194.0</td>\n",
              "      <td>107.0</td>\n",
              "      <td>157.0</td>\n",
              "      <td>gene116</td>\n",
              "    </tr>\n",
              "    <tr>\n",
              "      <th>141339</th>\n",
              "      <td>348.0</td>\n",
              "      <td>136.0</td>\n",
              "      <td>140.0</td>\n",
              "      <td>362.0</td>\n",
              "      <td>128.0</td>\n",
              "      <td>253.0</td>\n",
              "      <td>intergenic</td>\n",
              "    </tr>\n",
              "    <tr>\n",
              "      <th>141343</th>\n",
              "      <td>419.0</td>\n",
              "      <td>185.0</td>\n",
              "      <td>214.0</td>\n",
              "      <td>421.0</td>\n",
              "      <td>179.0</td>\n",
              "      <td>380.0</td>\n",
              "      <td>intergenic</td>\n",
              "    </tr>\n",
              "  </tbody>\n",
              "</table>\n",
              "</div>"
            ],
            "text/plain": [
              "        blunt    cap   dual    erm    pen    tuf        gene\n",
              "pos                                                         \n",
              "40683   211.0   80.0   91.0   68.0   81.0   67.0      gene35\n",
              "103869  214.0   42.0   50.0  155.0   31.0   69.0      gene90\n",
              "132578  202.0   70.0   99.0  194.0  107.0  157.0     gene116\n",
              "141339  348.0  136.0  140.0  362.0  128.0  253.0  intergenic\n",
              "141343  419.0  185.0  214.0  421.0  179.0  380.0  intergenic"
            ]
          },
          "metadata": {
            "tags": []
          },
          "execution_count": 32
        }
      ]
    },
    {
      "metadata": {
        "colab_type": "text",
        "id": "V9EUNwWBzUNq"
      },
      "cell_type": "markdown",
      "source": [
        "## Selection\n",
        "-------\n",
        "**Note**: While standard Python / Numpy expressions for selecting and setting are intuitive and come in handy for interactive work, for production code, we recommend the optimized pandas data access methods, `.at`, `.iat`, `.loc` and `.iloc`.\n",
        "\n",
        "See the indexing documentation:\n",
        " - [Indexing and Selecting Data](https://pandas.pydata.org/pandas-docs/stable/indexing.html#indexing)\n",
        " - [MultiIndex / Advanced Indexing](https://pandas.pydata.org/pandas-docs/stable/advanced.html#advanced)"
      ]
    },
    {
      "metadata": {
        "colab_type": "text",
        "id": "p4fHmHALyQIw"
      },
      "cell_type": "markdown",
      "source": [
        "### Getting"
      ]
    },
    {
      "metadata": {
        "colab_type": "text",
        "id": "MGpKX9m1LEb_"
      },
      "cell_type": "markdown",
      "source": [
        "Selecting via `[]`, which slices the rows."
      ]
    },
    {
      "metadata": {
        "colab_type": "code",
        "id": "eSIrYg4rxlUP",
        "outputId": "e3f0ee39-70f4-47e3-f7e7-6f872167c97f",
        "colab": {
          "base_uri": "https://localhost:8080/",
          "height": 173
        }
      },
      "cell_type": "code",
      "source": [
        "df[0:3]"
      ],
      "execution_count": 33,
      "outputs": [
        {
          "output_type": "execute_result",
          "data": {
            "text/html": [
              "<div>\n",
              "<style scoped>\n",
              "    .dataframe tbody tr th:only-of-type {\n",
              "        vertical-align: middle;\n",
              "    }\n",
              "\n",
              "    .dataframe tbody tr th {\n",
              "        vertical-align: top;\n",
              "    }\n",
              "\n",
              "    .dataframe thead th {\n",
              "        text-align: right;\n",
              "    }\n",
              "</style>\n",
              "<table border=\"1\" class=\"dataframe\">\n",
              "  <thead>\n",
              "    <tr style=\"text-align: right;\">\n",
              "      <th></th>\n",
              "      <th>blunt</th>\n",
              "      <th>cap</th>\n",
              "      <th>dual</th>\n",
              "      <th>erm</th>\n",
              "      <th>pen</th>\n",
              "      <th>tuf</th>\n",
              "      <th>gene</th>\n",
              "    </tr>\n",
              "    <tr>\n",
              "      <th>pos</th>\n",
              "      <th></th>\n",
              "      <th></th>\n",
              "      <th></th>\n",
              "      <th></th>\n",
              "      <th></th>\n",
              "      <th></th>\n",
              "      <th></th>\n",
              "    </tr>\n",
              "  </thead>\n",
              "  <tbody>\n",
              "    <tr>\n",
              "      <th>40683</th>\n",
              "      <td>211.0</td>\n",
              "      <td>80.0</td>\n",
              "      <td>91.0</td>\n",
              "      <td>68.0</td>\n",
              "      <td>81.0</td>\n",
              "      <td>67.0</td>\n",
              "      <td>gene35</td>\n",
              "    </tr>\n",
              "    <tr>\n",
              "      <th>103869</th>\n",
              "      <td>214.0</td>\n",
              "      <td>42.0</td>\n",
              "      <td>50.0</td>\n",
              "      <td>155.0</td>\n",
              "      <td>31.0</td>\n",
              "      <td>69.0</td>\n",
              "      <td>gene90</td>\n",
              "    </tr>\n",
              "    <tr>\n",
              "      <th>132578</th>\n",
              "      <td>202.0</td>\n",
              "      <td>70.0</td>\n",
              "      <td>99.0</td>\n",
              "      <td>194.0</td>\n",
              "      <td>107.0</td>\n",
              "      <td>157.0</td>\n",
              "      <td>gene116</td>\n",
              "    </tr>\n",
              "  </tbody>\n",
              "</table>\n",
              "</div>"
            ],
            "text/plain": [
              "        blunt   cap  dual    erm    pen    tuf     gene\n",
              "pos                                                    \n",
              "40683   211.0  80.0  91.0   68.0   81.0   67.0   gene35\n",
              "103869  214.0  42.0  50.0  155.0   31.0   69.0   gene90\n",
              "132578  202.0  70.0  99.0  194.0  107.0  157.0  gene116"
            ]
          },
          "metadata": {
            "tags": []
          },
          "execution_count": 33
        }
      ]
    },
    {
      "metadata": {
        "colab_type": "text",
        "id": "7ZeHXunq0X8d"
      },
      "cell_type": "markdown",
      "source": [
        "Selecting a single column, a `series` can be done in two ways:"
      ]
    },
    {
      "metadata": {
        "colab_type": "code",
        "id": "BXoRnjb_x7k8",
        "outputId": "481fbb3b-325d-4340-e6c7-a1ce2536622b",
        "colab": {
          "base_uri": "https://localhost:8080/",
          "height": 136
        }
      },
      "cell_type": "code",
      "source": [
        "df.gene.head()"
      ],
      "execution_count": 34,
      "outputs": [
        {
          "output_type": "execute_result",
          "data": {
            "text/plain": [
              "pos\n",
              "40683         gene35\n",
              "103869        gene90\n",
              "132578       gene116\n",
              "141339    intergenic\n",
              "141343    intergenic\n",
              "Name: gene, dtype: object"
            ]
          },
          "metadata": {
            "tags": []
          },
          "execution_count": 34
        }
      ]
    },
    {
      "metadata": {
        "colab_type": "text",
        "id": "4Dz7ryoOK2iX"
      },
      "cell_type": "markdown",
      "source": [
        "or"
      ]
    },
    {
      "metadata": {
        "colab_type": "code",
        "id": "sq6fQjou5Saq",
        "outputId": "9da6c008-b4d0-422a-adb7-331e758a4c3f",
        "colab": {
          "base_uri": "https://localhost:8080/",
          "height": 136
        }
      },
      "cell_type": "code",
      "source": [
        "df['gene'].head()"
      ],
      "execution_count": 35,
      "outputs": [
        {
          "output_type": "execute_result",
          "data": {
            "text/plain": [
              "pos\n",
              "40683         gene35\n",
              "103869        gene90\n",
              "132578       gene116\n",
              "141339    intergenic\n",
              "141343    intergenic\n",
              "Name: gene, dtype: object"
            ]
          },
          "metadata": {
            "tags": []
          },
          "execution_count": 35
        }
      ]
    },
    {
      "metadata": {
        "colab_type": "text",
        "id": "WTGxNH5mLTTE"
      },
      "cell_type": "markdown",
      "source": [
        "### Selection by label\n",
        "See more in [Selection by Label](https://pandas.pydata.org/pandas-docs/stable/user_guide/indexing.html#indexing-label).\n",
        "\n",
        "For getting a cross section using a label:"
      ]
    },
    {
      "metadata": {
        "colab_type": "code",
        "id": "oRIDA0uPLPfY",
        "outputId": "afd828af-3643-46fe-a749-39eda52f800f",
        "colab": {
          "base_uri": "https://localhost:8080/",
          "height": 153
        }
      },
      "cell_type": "code",
      "source": [
        "df.loc[2404930]"
      ],
      "execution_count": 36,
      "outputs": [
        {
          "output_type": "execute_result",
          "data": {
            "text/plain": [
              "blunt         283\n",
              "cap            65\n",
              "dual          109\n",
              "erm            94\n",
              "pen            47\n",
              "tuf           128\n",
              "gene     gene2465\n",
              "Name: 2404930, dtype: object"
            ]
          },
          "metadata": {
            "tags": []
          },
          "execution_count": 36
        }
      ]
    },
    {
      "metadata": {
        "colab_type": "code",
        "id": "7-IvwuPVNOZz",
        "outputId": "273f79c6-53da-4e96-f9cc-7e6877196a33",
        "colab": {
          "base_uri": "https://localhost:8080/",
          "height": 68
        }
      },
      "cell_type": "code",
      "source": [
        "df.loc[2404930,['erm','pen']]"
      ],
      "execution_count": 37,
      "outputs": [
        {
          "output_type": "execute_result",
          "data": {
            "text/plain": [
              "erm    94\n",
              "pen    47\n",
              "Name: 2404930, dtype: object"
            ]
          },
          "metadata": {
            "tags": []
          },
          "execution_count": 37
        }
      ]
    },
    {
      "metadata": {
        "colab_type": "code",
        "id": "kwtaABLSNObA",
        "outputId": "efa7a67b-4d11-43ec-8dd1-72707608098d",
        "colab": {
          "base_uri": "https://localhost:8080/",
          "height": 173
        }
      },
      "cell_type": "code",
      "source": [
        "df.loc[2404930:2404937,['erm','pen']]"
      ],
      "execution_count": 38,
      "outputs": [
        {
          "output_type": "execute_result",
          "data": {
            "text/html": [
              "<div>\n",
              "<style scoped>\n",
              "    .dataframe tbody tr th:only-of-type {\n",
              "        vertical-align: middle;\n",
              "    }\n",
              "\n",
              "    .dataframe tbody tr th {\n",
              "        vertical-align: top;\n",
              "    }\n",
              "\n",
              "    .dataframe thead th {\n",
              "        text-align: right;\n",
              "    }\n",
              "</style>\n",
              "<table border=\"1\" class=\"dataframe\">\n",
              "  <thead>\n",
              "    <tr style=\"text-align: right;\">\n",
              "      <th></th>\n",
              "      <th>erm</th>\n",
              "      <th>pen</th>\n",
              "    </tr>\n",
              "    <tr>\n",
              "      <th>pos</th>\n",
              "      <th></th>\n",
              "      <th></th>\n",
              "    </tr>\n",
              "  </thead>\n",
              "  <tbody>\n",
              "    <tr>\n",
              "      <th>2404930</th>\n",
              "      <td>94.0</td>\n",
              "      <td>47.0</td>\n",
              "    </tr>\n",
              "    <tr>\n",
              "      <th>2404933</th>\n",
              "      <td>94.0</td>\n",
              "      <td>55.0</td>\n",
              "    </tr>\n",
              "    <tr>\n",
              "      <th>2404937</th>\n",
              "      <td>122.0</td>\n",
              "      <td>80.0</td>\n",
              "    </tr>\n",
              "  </tbody>\n",
              "</table>\n",
              "</div>"
            ],
            "text/plain": [
              "           erm   pen\n",
              "pos                 \n",
              "2404930   94.0  47.0\n",
              "2404933   94.0  55.0\n",
              "2404937  122.0  80.0"
            ]
          },
          "metadata": {
            "tags": []
          },
          "execution_count": 38
        }
      ]
    },
    {
      "metadata": {
        "colab_type": "text",
        "id": "IGkuL2NKP879"
      },
      "cell_type": "markdown",
      "source": [
        "### Selection by position\n",
        "See more in [Selection by Position](https://pandas.pydata.org/pandas-docs/stable/indexing.html#indexing-integer)\n",
        "\n",
        "Select via the position of the passed integers:"
      ]
    },
    {
      "metadata": {
        "colab_type": "code",
        "id": "5KJyMRGBOHUM",
        "outputId": "327e0ce2-3bb2-49e8-f0df-6c50cbd14093",
        "colab": {
          "base_uri": "https://localhost:8080/",
          "height": 153
        }
      },
      "cell_type": "code",
      "source": [
        "df.iloc[3]"
      ],
      "execution_count": 39,
      "outputs": [
        {
          "output_type": "execute_result",
          "data": {
            "text/plain": [
              "blunt           348\n",
              "cap             136\n",
              "dual            140\n",
              "erm             362\n",
              "pen             128\n",
              "tuf             253\n",
              "gene     intergenic\n",
              "Name: 141339, dtype: object"
            ]
          },
          "metadata": {
            "tags": []
          },
          "execution_count": 39
        }
      ]
    },
    {
      "metadata": {
        "colab_type": "text",
        "id": "zTSrsdDIQlLh"
      },
      "cell_type": "markdown",
      "source": [
        "By integer slices, acting similar to numpy/python:"
      ]
    },
    {
      "metadata": {
        "colab_type": "code",
        "id": "TfkAbktbQQcV",
        "outputId": "cdf4308d-3a29-4d0d-ed4c-cfc9875cb484",
        "colab": {
          "base_uri": "https://localhost:8080/",
          "height": 142
        }
      },
      "cell_type": "code",
      "source": [
        "df.iloc[3:5,0:2]"
      ],
      "execution_count": 40,
      "outputs": [
        {
          "output_type": "execute_result",
          "data": {
            "text/html": [
              "<div>\n",
              "<style scoped>\n",
              "    .dataframe tbody tr th:only-of-type {\n",
              "        vertical-align: middle;\n",
              "    }\n",
              "\n",
              "    .dataframe tbody tr th {\n",
              "        vertical-align: top;\n",
              "    }\n",
              "\n",
              "    .dataframe thead th {\n",
              "        text-align: right;\n",
              "    }\n",
              "</style>\n",
              "<table border=\"1\" class=\"dataframe\">\n",
              "  <thead>\n",
              "    <tr style=\"text-align: right;\">\n",
              "      <th></th>\n",
              "      <th>blunt</th>\n",
              "      <th>cap</th>\n",
              "    </tr>\n",
              "    <tr>\n",
              "      <th>pos</th>\n",
              "      <th></th>\n",
              "      <th></th>\n",
              "    </tr>\n",
              "  </thead>\n",
              "  <tbody>\n",
              "    <tr>\n",
              "      <th>141339</th>\n",
              "      <td>348.0</td>\n",
              "      <td>136.0</td>\n",
              "    </tr>\n",
              "    <tr>\n",
              "      <th>141343</th>\n",
              "      <td>419.0</td>\n",
              "      <td>185.0</td>\n",
              "    </tr>\n",
              "  </tbody>\n",
              "</table>\n",
              "</div>"
            ],
            "text/plain": [
              "        blunt    cap\n",
              "pos                 \n",
              "141339  348.0  136.0\n",
              "141343  419.0  185.0"
            ]
          },
          "metadata": {
            "tags": []
          },
          "execution_count": 40
        }
      ]
    },
    {
      "metadata": {
        "colab_type": "text",
        "id": "BrD41NH3Qx_3"
      },
      "cell_type": "markdown",
      "source": [
        "By lists of integer position locations, similar to the numpy/python style:"
      ]
    },
    {
      "metadata": {
        "colab_type": "code",
        "id": "0rdqpDr-Qn0E",
        "outputId": "a1cb87ff-7cb2-451f-b130-42febb13786a",
        "colab": {
          "base_uri": "https://localhost:8080/",
          "height": 173
        }
      },
      "cell_type": "code",
      "source": [
        "df.iloc[[1,2,4],[0,2]]"
      ],
      "execution_count": 41,
      "outputs": [
        {
          "output_type": "execute_result",
          "data": {
            "text/html": [
              "<div>\n",
              "<style scoped>\n",
              "    .dataframe tbody tr th:only-of-type {\n",
              "        vertical-align: middle;\n",
              "    }\n",
              "\n",
              "    .dataframe tbody tr th {\n",
              "        vertical-align: top;\n",
              "    }\n",
              "\n",
              "    .dataframe thead th {\n",
              "        text-align: right;\n",
              "    }\n",
              "</style>\n",
              "<table border=\"1\" class=\"dataframe\">\n",
              "  <thead>\n",
              "    <tr style=\"text-align: right;\">\n",
              "      <th></th>\n",
              "      <th>blunt</th>\n",
              "      <th>dual</th>\n",
              "    </tr>\n",
              "    <tr>\n",
              "      <th>pos</th>\n",
              "      <th></th>\n",
              "      <th></th>\n",
              "    </tr>\n",
              "  </thead>\n",
              "  <tbody>\n",
              "    <tr>\n",
              "      <th>103869</th>\n",
              "      <td>214.0</td>\n",
              "      <td>50.0</td>\n",
              "    </tr>\n",
              "    <tr>\n",
              "      <th>132578</th>\n",
              "      <td>202.0</td>\n",
              "      <td>99.0</td>\n",
              "    </tr>\n",
              "    <tr>\n",
              "      <th>141343</th>\n",
              "      <td>419.0</td>\n",
              "      <td>214.0</td>\n",
              "    </tr>\n",
              "  </tbody>\n",
              "</table>\n",
              "</div>"
            ],
            "text/plain": [
              "        blunt   dual\n",
              "pos                 \n",
              "103869  214.0   50.0\n",
              "132578  202.0   99.0\n",
              "141343  419.0  214.0"
            ]
          },
          "metadata": {
            "tags": []
          },
          "execution_count": 41
        }
      ]
    },
    {
      "metadata": {
        "colab_type": "text",
        "id": "Kcv71oNTQ3JI"
      },
      "cell_type": "markdown",
      "source": [
        "For slicing rows explicitly:"
      ]
    },
    {
      "metadata": {
        "colab_type": "code",
        "id": "idyGxLBXQ0vz",
        "outputId": "a820635d-e7af-4c7d-f060-d33057166e18",
        "colab": {
          "base_uri": "https://localhost:8080/",
          "height": 204
        }
      },
      "cell_type": "code",
      "source": [
        "df.iloc[100:,1:5]"
      ],
      "execution_count": 42,
      "outputs": [
        {
          "output_type": "execute_result",
          "data": {
            "text/html": [
              "<div>\n",
              "<style scoped>\n",
              "    .dataframe tbody tr th:only-of-type {\n",
              "        vertical-align: middle;\n",
              "    }\n",
              "\n",
              "    .dataframe tbody tr th {\n",
              "        vertical-align: top;\n",
              "    }\n",
              "\n",
              "    .dataframe thead th {\n",
              "        text-align: right;\n",
              "    }\n",
              "</style>\n",
              "<table border=\"1\" class=\"dataframe\">\n",
              "  <thead>\n",
              "    <tr style=\"text-align: right;\">\n",
              "      <th></th>\n",
              "      <th>cap</th>\n",
              "      <th>dual</th>\n",
              "      <th>erm</th>\n",
              "      <th>pen</th>\n",
              "    </tr>\n",
              "    <tr>\n",
              "      <th>pos</th>\n",
              "      <th></th>\n",
              "      <th></th>\n",
              "      <th></th>\n",
              "      <th></th>\n",
              "    </tr>\n",
              "  </thead>\n",
              "  <tbody>\n",
              "    <tr>\n",
              "      <th>2663073</th>\n",
              "      <td>141.0</td>\n",
              "      <td>61.0</td>\n",
              "      <td>137.0</td>\n",
              "      <td>85.0</td>\n",
              "    </tr>\n",
              "    <tr>\n",
              "      <th>2703968</th>\n",
              "      <td>57.0</td>\n",
              "      <td>51.0</td>\n",
              "      <td>70.0</td>\n",
              "      <td>51.0</td>\n",
              "    </tr>\n",
              "    <tr>\n",
              "      <th>2726139</th>\n",
              "      <td>107.0</td>\n",
              "      <td>542.0</td>\n",
              "      <td>155.0</td>\n",
              "      <td>84.0</td>\n",
              "    </tr>\n",
              "    <tr>\n",
              "      <th>2726151</th>\n",
              "      <td>111.0</td>\n",
              "      <td>545.0</td>\n",
              "      <td>156.0</td>\n",
              "      <td>89.0</td>\n",
              "    </tr>\n",
              "  </tbody>\n",
              "</table>\n",
              "</div>"
            ],
            "text/plain": [
              "           cap   dual    erm   pen\n",
              "pos                               \n",
              "2663073  141.0   61.0  137.0  85.0\n",
              "2703968   57.0   51.0   70.0  51.0\n",
              "2726139  107.0  542.0  155.0  84.0\n",
              "2726151  111.0  545.0  156.0  89.0"
            ]
          },
          "metadata": {
            "tags": []
          },
          "execution_count": 42
        }
      ]
    },
    {
      "metadata": {
        "colab_type": "text",
        "id": "oTtJ0_NnRBuQ"
      },
      "cell_type": "markdown",
      "source": [
        "For getting a value explicitly:"
      ]
    },
    {
      "metadata": {
        "colab_type": "code",
        "id": "_2WKIuDYQ5aT",
        "outputId": "8cf8d64c-a90d-4df0-cac1-14bda8b06b7f",
        "colab": {
          "base_uri": "https://localhost:8080/",
          "height": 34
        }
      },
      "cell_type": "code",
      "source": [
        "df.iloc[1,1]"
      ],
      "execution_count": 43,
      "outputs": [
        {
          "output_type": "execute_result",
          "data": {
            "text/plain": [
              "42.0"
            ]
          },
          "metadata": {
            "tags": []
          },
          "execution_count": 43
        }
      ]
    },
    {
      "metadata": {
        "colab_type": "text",
        "id": "QKkQ3epiRHdH"
      },
      "cell_type": "markdown",
      "source": [
        "For getting fast access to a scalar (equivalent to the prior method):"
      ]
    },
    {
      "metadata": {
        "colab_type": "code",
        "id": "mTNmcU26REE3",
        "outputId": "395fa381-c649-49c1-a60a-06488a936288",
        "colab": {
          "base_uri": "https://localhost:8080/",
          "height": 34
        }
      },
      "cell_type": "code",
      "source": [
        "df.iat[1,1]"
      ],
      "execution_count": 44,
      "outputs": [
        {
          "output_type": "execute_result",
          "data": {
            "text/plain": [
              "42.0"
            ]
          },
          "metadata": {
            "tags": []
          },
          "execution_count": 44
        }
      ]
    },
    {
      "metadata": {
        "colab_type": "text",
        "id": "lgIpg6eLRSXq"
      },
      "cell_type": "markdown",
      "source": [
        "### Selecting based on condition (boolean indexing)\n",
        "\n",
        "Using a single column’s values to select data:"
      ]
    },
    {
      "metadata": {
        "colab_type": "code",
        "id": "Xo8fwa76RJnn",
        "outputId": "8ec10bfd-6107-449e-d3f2-b5f0e542d872",
        "colab": {
          "base_uri": "https://localhost:8080/",
          "height": 235
        }
      },
      "cell_type": "code",
      "source": [
        "df[df.gene != 'intergenic'].head()"
      ],
      "execution_count": 45,
      "outputs": [
        {
          "output_type": "execute_result",
          "data": {
            "text/html": [
              "<div>\n",
              "<style scoped>\n",
              "    .dataframe tbody tr th:only-of-type {\n",
              "        vertical-align: middle;\n",
              "    }\n",
              "\n",
              "    .dataframe tbody tr th {\n",
              "        vertical-align: top;\n",
              "    }\n",
              "\n",
              "    .dataframe thead th {\n",
              "        text-align: right;\n",
              "    }\n",
              "</style>\n",
              "<table border=\"1\" class=\"dataframe\">\n",
              "  <thead>\n",
              "    <tr style=\"text-align: right;\">\n",
              "      <th></th>\n",
              "      <th>blunt</th>\n",
              "      <th>cap</th>\n",
              "      <th>dual</th>\n",
              "      <th>erm</th>\n",
              "      <th>pen</th>\n",
              "      <th>tuf</th>\n",
              "      <th>gene</th>\n",
              "    </tr>\n",
              "    <tr>\n",
              "      <th>pos</th>\n",
              "      <th></th>\n",
              "      <th></th>\n",
              "      <th></th>\n",
              "      <th></th>\n",
              "      <th></th>\n",
              "      <th></th>\n",
              "      <th></th>\n",
              "    </tr>\n",
              "  </thead>\n",
              "  <tbody>\n",
              "    <tr>\n",
              "      <th>40683</th>\n",
              "      <td>211.0</td>\n",
              "      <td>80.0</td>\n",
              "      <td>91.0</td>\n",
              "      <td>68.0</td>\n",
              "      <td>81.0</td>\n",
              "      <td>67.0</td>\n",
              "      <td>gene35</td>\n",
              "    </tr>\n",
              "    <tr>\n",
              "      <th>103869</th>\n",
              "      <td>214.0</td>\n",
              "      <td>42.0</td>\n",
              "      <td>50.0</td>\n",
              "      <td>155.0</td>\n",
              "      <td>31.0</td>\n",
              "      <td>69.0</td>\n",
              "      <td>gene90</td>\n",
              "    </tr>\n",
              "    <tr>\n",
              "      <th>132578</th>\n",
              "      <td>202.0</td>\n",
              "      <td>70.0</td>\n",
              "      <td>99.0</td>\n",
              "      <td>194.0</td>\n",
              "      <td>107.0</td>\n",
              "      <td>157.0</td>\n",
              "      <td>gene116</td>\n",
              "    </tr>\n",
              "    <tr>\n",
              "      <th>203828</th>\n",
              "      <td>287.0</td>\n",
              "      <td>45.0</td>\n",
              "      <td>35.0</td>\n",
              "      <td>72.0</td>\n",
              "      <td>84.0</td>\n",
              "      <td>223.0</td>\n",
              "      <td>gene172</td>\n",
              "    </tr>\n",
              "    <tr>\n",
              "      <th>203830</th>\n",
              "      <td>287.0</td>\n",
              "      <td>45.0</td>\n",
              "      <td>35.0</td>\n",
              "      <td>73.0</td>\n",
              "      <td>84.0</td>\n",
              "      <td>223.0</td>\n",
              "      <td>gene172</td>\n",
              "    </tr>\n",
              "  </tbody>\n",
              "</table>\n",
              "</div>"
            ],
            "text/plain": [
              "        blunt   cap  dual    erm    pen    tuf     gene\n",
              "pos                                                    \n",
              "40683   211.0  80.0  91.0   68.0   81.0   67.0   gene35\n",
              "103869  214.0  42.0  50.0  155.0   31.0   69.0   gene90\n",
              "132578  202.0  70.0  99.0  194.0  107.0  157.0  gene116\n",
              "203828  287.0  45.0  35.0   72.0   84.0  223.0  gene172\n",
              "203830  287.0  45.0  35.0   73.0   84.0  223.0  gene172"
            ]
          },
          "metadata": {
            "tags": []
          },
          "execution_count": 45
        }
      ]
    },
    {
      "metadata": {
        "colab_type": "text",
        "id": "5gxOjjW2RnFQ"
      },
      "cell_type": "markdown",
      "source": [
        "Selecting values from a DataFrame where a boolean condition is met:"
      ]
    },
    {
      "metadata": {
        "colab_type": "code",
        "id": "0PO2_Im-RgPV",
        "outputId": "d475b633-dcfa-4963-8cae-b0a7b5646ff9",
        "colab": {
          "base_uri": "https://localhost:8080/",
          "height": 235
        }
      },
      "cell_type": "code",
      "source": [
        "df[df > 0].head()"
      ],
      "execution_count": 46,
      "outputs": [
        {
          "output_type": "execute_result",
          "data": {
            "text/html": [
              "<div>\n",
              "<style scoped>\n",
              "    .dataframe tbody tr th:only-of-type {\n",
              "        vertical-align: middle;\n",
              "    }\n",
              "\n",
              "    .dataframe tbody tr th {\n",
              "        vertical-align: top;\n",
              "    }\n",
              "\n",
              "    .dataframe thead th {\n",
              "        text-align: right;\n",
              "    }\n",
              "</style>\n",
              "<table border=\"1\" class=\"dataframe\">\n",
              "  <thead>\n",
              "    <tr style=\"text-align: right;\">\n",
              "      <th></th>\n",
              "      <th>blunt</th>\n",
              "      <th>cap</th>\n",
              "      <th>dual</th>\n",
              "      <th>erm</th>\n",
              "      <th>pen</th>\n",
              "      <th>tuf</th>\n",
              "      <th>gene</th>\n",
              "    </tr>\n",
              "    <tr>\n",
              "      <th>pos</th>\n",
              "      <th></th>\n",
              "      <th></th>\n",
              "      <th></th>\n",
              "      <th></th>\n",
              "      <th></th>\n",
              "      <th></th>\n",
              "      <th></th>\n",
              "    </tr>\n",
              "  </thead>\n",
              "  <tbody>\n",
              "    <tr>\n",
              "      <th>40683</th>\n",
              "      <td>211.0</td>\n",
              "      <td>80.0</td>\n",
              "      <td>91.0</td>\n",
              "      <td>68.0</td>\n",
              "      <td>81.0</td>\n",
              "      <td>67.0</td>\n",
              "      <td>gene35</td>\n",
              "    </tr>\n",
              "    <tr>\n",
              "      <th>103869</th>\n",
              "      <td>214.0</td>\n",
              "      <td>42.0</td>\n",
              "      <td>50.0</td>\n",
              "      <td>155.0</td>\n",
              "      <td>31.0</td>\n",
              "      <td>69.0</td>\n",
              "      <td>gene90</td>\n",
              "    </tr>\n",
              "    <tr>\n",
              "      <th>132578</th>\n",
              "      <td>202.0</td>\n",
              "      <td>70.0</td>\n",
              "      <td>99.0</td>\n",
              "      <td>194.0</td>\n",
              "      <td>107.0</td>\n",
              "      <td>157.0</td>\n",
              "      <td>gene116</td>\n",
              "    </tr>\n",
              "    <tr>\n",
              "      <th>141339</th>\n",
              "      <td>348.0</td>\n",
              "      <td>136.0</td>\n",
              "      <td>140.0</td>\n",
              "      <td>362.0</td>\n",
              "      <td>128.0</td>\n",
              "      <td>253.0</td>\n",
              "      <td>intergenic</td>\n",
              "    </tr>\n",
              "    <tr>\n",
              "      <th>141343</th>\n",
              "      <td>419.0</td>\n",
              "      <td>185.0</td>\n",
              "      <td>214.0</td>\n",
              "      <td>421.0</td>\n",
              "      <td>179.0</td>\n",
              "      <td>380.0</td>\n",
              "      <td>intergenic</td>\n",
              "    </tr>\n",
              "  </tbody>\n",
              "</table>\n",
              "</div>"
            ],
            "text/plain": [
              "        blunt    cap   dual    erm    pen    tuf        gene\n",
              "pos                                                         \n",
              "40683   211.0   80.0   91.0   68.0   81.0   67.0      gene35\n",
              "103869  214.0   42.0   50.0  155.0   31.0   69.0      gene90\n",
              "132578  202.0   70.0   99.0  194.0  107.0  157.0     gene116\n",
              "141339  348.0  136.0  140.0  362.0  128.0  253.0  intergenic\n",
              "141343  419.0  185.0  214.0  421.0  179.0  380.0  intergenic"
            ]
          },
          "metadata": {
            "tags": []
          },
          "execution_count": 46
        }
      ]
    },
    {
      "metadata": {
        "colab_type": "text",
        "id": "TCog8AsyR4qd"
      },
      "cell_type": "markdown",
      "source": [
        "Using the [`isin()`](https://pandas.pydata.org/pandas-docs/stable/generated/pandas.Series.isin.html#pandas.Series.isin) method for filtering:"
      ]
    },
    {
      "metadata": {
        "colab_type": "code",
        "id": "CXi0UP3_SpBc",
        "outputId": "ad0b174b-bb28-4bf3-bfec-706dcf9b7afe",
        "colab": {
          "base_uri": "https://localhost:8080/",
          "height": 153
        }
      },
      "cell_type": "code",
      "source": [
        "df.gene.unique()"
      ],
      "execution_count": 47,
      "outputs": [
        {
          "output_type": "execute_result",
          "data": {
            "text/plain": [
              "array(['gene35', 'gene90', 'gene116', 'intergenic', 'gene172', 'gene176',\n",
              "       'gene206', 'gene233', 'gene275', 'gene297', 'gene313', 'gene443',\n",
              "       'gene528', 'gene533', 'gene673', 'gene688', 'gene929', 'gene932',\n",
              "       'gene1016', 'gene1342', 'gene1364', 'gene1469', 'gene1516',\n",
              "       'gene1751', 'gene1753', 'gene1833', 'gene2010', 'gene2134',\n",
              "       'gene2176', 'gene2195', 'gene2209', 'gene2233', 'gene2321',\n",
              "       'gene2390', 'gene2465', 'gene2664', 'gene2707', 'gene2764',\n",
              "       'gene2787'], dtype=object)"
            ]
          },
          "metadata": {
            "tags": []
          },
          "execution_count": 47
        }
      ]
    },
    {
      "metadata": {
        "colab_type": "code",
        "id": "KjsXlzIbR-Py",
        "outputId": "34078885-ba40-499b-a913-c6446ae32baf",
        "colab": {
          "base_uri": "https://localhost:8080/",
          "height": 235
        }
      },
      "cell_type": "code",
      "source": [
        "df[df['gene'].isin(['gene2465','gene206'])]"
      ],
      "execution_count": 48,
      "outputs": [
        {
          "output_type": "execute_result",
          "data": {
            "text/html": [
              "<div>\n",
              "<style scoped>\n",
              "    .dataframe tbody tr th:only-of-type {\n",
              "        vertical-align: middle;\n",
              "    }\n",
              "\n",
              "    .dataframe tbody tr th {\n",
              "        vertical-align: top;\n",
              "    }\n",
              "\n",
              "    .dataframe thead th {\n",
              "        text-align: right;\n",
              "    }\n",
              "</style>\n",
              "<table border=\"1\" class=\"dataframe\">\n",
              "  <thead>\n",
              "    <tr style=\"text-align: right;\">\n",
              "      <th></th>\n",
              "      <th>blunt</th>\n",
              "      <th>cap</th>\n",
              "      <th>dual</th>\n",
              "      <th>erm</th>\n",
              "      <th>pen</th>\n",
              "      <th>tuf</th>\n",
              "      <th>gene</th>\n",
              "    </tr>\n",
              "    <tr>\n",
              "      <th>pos</th>\n",
              "      <th></th>\n",
              "      <th></th>\n",
              "      <th></th>\n",
              "      <th></th>\n",
              "      <th></th>\n",
              "      <th></th>\n",
              "      <th></th>\n",
              "    </tr>\n",
              "  </thead>\n",
              "  <tbody>\n",
              "    <tr>\n",
              "      <th>242376</th>\n",
              "      <td>229.0</td>\n",
              "      <td>31.0</td>\n",
              "      <td>56.0</td>\n",
              "      <td>63.0</td>\n",
              "      <td>44.0</td>\n",
              "      <td>69.0</td>\n",
              "      <td>gene206</td>\n",
              "    </tr>\n",
              "    <tr>\n",
              "      <th>242378</th>\n",
              "      <td>204.0</td>\n",
              "      <td>31.0</td>\n",
              "      <td>48.0</td>\n",
              "      <td>60.0</td>\n",
              "      <td>39.0</td>\n",
              "      <td>42.0</td>\n",
              "      <td>gene206</td>\n",
              "    </tr>\n",
              "    <tr>\n",
              "      <th>2404930</th>\n",
              "      <td>283.0</td>\n",
              "      <td>65.0</td>\n",
              "      <td>109.0</td>\n",
              "      <td>94.0</td>\n",
              "      <td>47.0</td>\n",
              "      <td>128.0</td>\n",
              "      <td>gene2465</td>\n",
              "    </tr>\n",
              "    <tr>\n",
              "      <th>2404933</th>\n",
              "      <td>284.0</td>\n",
              "      <td>67.0</td>\n",
              "      <td>108.0</td>\n",
              "      <td>94.0</td>\n",
              "      <td>55.0</td>\n",
              "      <td>128.0</td>\n",
              "      <td>gene2465</td>\n",
              "    </tr>\n",
              "    <tr>\n",
              "      <th>2404937</th>\n",
              "      <td>353.0</td>\n",
              "      <td>79.0</td>\n",
              "      <td>115.0</td>\n",
              "      <td>122.0</td>\n",
              "      <td>80.0</td>\n",
              "      <td>173.0</td>\n",
              "      <td>gene2465</td>\n",
              "    </tr>\n",
              "  </tbody>\n",
              "</table>\n",
              "</div>"
            ],
            "text/plain": [
              "         blunt   cap   dual    erm   pen    tuf      gene\n",
              "pos                                                      \n",
              "242376   229.0  31.0   56.0   63.0  44.0   69.0   gene206\n",
              "242378   204.0  31.0   48.0   60.0  39.0   42.0   gene206\n",
              "2404930  283.0  65.0  109.0   94.0  47.0  128.0  gene2465\n",
              "2404933  284.0  67.0  108.0   94.0  55.0  128.0  gene2465\n",
              "2404937  353.0  79.0  115.0  122.0  80.0  173.0  gene2465"
            ]
          },
          "metadata": {
            "tags": []
          },
          "execution_count": 48
        }
      ]
    },
    {
      "metadata": {
        "colab_type": "text",
        "id": "Jt-Zr3tBZoki"
      },
      "cell_type": "markdown",
      "source": [
        "### Setting\n",
        "\n",
        "Setting a new column automatically aligns the data by the indexes:"
      ]
    },
    {
      "metadata": {
        "colab_type": "code",
        "id": "13MhHp6uZJZL",
        "colab": {}
      },
      "cell_type": "code",
      "source": [
        "gc = pd.read_table('ta_gc.txt', header=None, names=['pos','gc'])"
      ],
      "execution_count": 0,
      "outputs": []
    },
    {
      "metadata": {
        "colab_type": "code",
        "id": "WPVVNSk5gOYr",
        "colab": {}
      },
      "cell_type": "code",
      "source": [
        "gc = gc.set_index('pos')"
      ],
      "execution_count": 0,
      "outputs": []
    },
    {
      "metadata": {
        "colab_type": "code",
        "id": "NP3q3zlniVOd",
        "outputId": "d505bb10-d033-4b19-b283-6dca11527ff0",
        "colab": {
          "base_uri": "https://localhost:8080/",
          "height": 235
        }
      },
      "cell_type": "code",
      "source": [
        "gc.head()"
      ],
      "execution_count": 51,
      "outputs": [
        {
          "output_type": "execute_result",
          "data": {
            "text/html": [
              "<div>\n",
              "<style scoped>\n",
              "    .dataframe tbody tr th:only-of-type {\n",
              "        vertical-align: middle;\n",
              "    }\n",
              "\n",
              "    .dataframe tbody tr th {\n",
              "        vertical-align: top;\n",
              "    }\n",
              "\n",
              "    .dataframe thead th {\n",
              "        text-align: right;\n",
              "    }\n",
              "</style>\n",
              "<table border=\"1\" class=\"dataframe\">\n",
              "  <thead>\n",
              "    <tr style=\"text-align: right;\">\n",
              "      <th></th>\n",
              "      <th>gc</th>\n",
              "    </tr>\n",
              "    <tr>\n",
              "      <th>pos</th>\n",
              "      <th></th>\n",
              "    </tr>\n",
              "  </thead>\n",
              "  <tbody>\n",
              "    <tr>\n",
              "      <th>4</th>\n",
              "      <td>0.339286</td>\n",
              "    </tr>\n",
              "    <tr>\n",
              "      <th>10</th>\n",
              "      <td>0.354839</td>\n",
              "    </tr>\n",
              "    <tr>\n",
              "      <th>16</th>\n",
              "      <td>0.367647</td>\n",
              "    </tr>\n",
              "    <tr>\n",
              "      <th>42</th>\n",
              "      <td>0.372340</td>\n",
              "    </tr>\n",
              "    <tr>\n",
              "      <th>79</th>\n",
              "      <td>0.303922</td>\n",
              "    </tr>\n",
              "  </tbody>\n",
              "</table>\n",
              "</div>"
            ],
            "text/plain": [
              "           gc\n",
              "pos          \n",
              "4    0.339286\n",
              "10   0.354839\n",
              "16   0.367647\n",
              "42   0.372340\n",
              "79   0.303922"
            ]
          },
          "metadata": {
            "tags": []
          },
          "execution_count": 51
        }
      ]
    },
    {
      "metadata": {
        "colab_type": "code",
        "id": "TpHPDid7gUTJ",
        "colab": {}
      },
      "cell_type": "code",
      "source": [
        "df['gc'] = gc"
      ],
      "execution_count": 0,
      "outputs": []
    },
    {
      "metadata": {
        "colab_type": "code",
        "id": "8yK8CNHLgdUQ",
        "outputId": "ec7ce417-4032-46eb-93c5-6db6f8745794",
        "colab": {
          "base_uri": "https://localhost:8080/",
          "height": 235
        }
      },
      "cell_type": "code",
      "source": [
        "df.head()"
      ],
      "execution_count": 53,
      "outputs": [
        {
          "output_type": "execute_result",
          "data": {
            "text/html": [
              "<div>\n",
              "<style scoped>\n",
              "    .dataframe tbody tr th:only-of-type {\n",
              "        vertical-align: middle;\n",
              "    }\n",
              "\n",
              "    .dataframe tbody tr th {\n",
              "        vertical-align: top;\n",
              "    }\n",
              "\n",
              "    .dataframe thead th {\n",
              "        text-align: right;\n",
              "    }\n",
              "</style>\n",
              "<table border=\"1\" class=\"dataframe\">\n",
              "  <thead>\n",
              "    <tr style=\"text-align: right;\">\n",
              "      <th></th>\n",
              "      <th>blunt</th>\n",
              "      <th>cap</th>\n",
              "      <th>dual</th>\n",
              "      <th>erm</th>\n",
              "      <th>pen</th>\n",
              "      <th>tuf</th>\n",
              "      <th>gene</th>\n",
              "      <th>gc</th>\n",
              "    </tr>\n",
              "    <tr>\n",
              "      <th>pos</th>\n",
              "      <th></th>\n",
              "      <th></th>\n",
              "      <th></th>\n",
              "      <th></th>\n",
              "      <th></th>\n",
              "      <th></th>\n",
              "      <th></th>\n",
              "      <th></th>\n",
              "    </tr>\n",
              "  </thead>\n",
              "  <tbody>\n",
              "    <tr>\n",
              "      <th>40683</th>\n",
              "      <td>211.0</td>\n",
              "      <td>80.0</td>\n",
              "      <td>91.0</td>\n",
              "      <td>68.0</td>\n",
              "      <td>81.0</td>\n",
              "      <td>67.0</td>\n",
              "      <td>gene35</td>\n",
              "      <td>0.264706</td>\n",
              "    </tr>\n",
              "    <tr>\n",
              "      <th>103869</th>\n",
              "      <td>214.0</td>\n",
              "      <td>42.0</td>\n",
              "      <td>50.0</td>\n",
              "      <td>155.0</td>\n",
              "      <td>31.0</td>\n",
              "      <td>69.0</td>\n",
              "      <td>gene90</td>\n",
              "      <td>0.264706</td>\n",
              "    </tr>\n",
              "    <tr>\n",
              "      <th>132578</th>\n",
              "      <td>202.0</td>\n",
              "      <td>70.0</td>\n",
              "      <td>99.0</td>\n",
              "      <td>194.0</td>\n",
              "      <td>107.0</td>\n",
              "      <td>157.0</td>\n",
              "      <td>gene116</td>\n",
              "      <td>0.274510</td>\n",
              "    </tr>\n",
              "    <tr>\n",
              "      <th>141339</th>\n",
              "      <td>348.0</td>\n",
              "      <td>136.0</td>\n",
              "      <td>140.0</td>\n",
              "      <td>362.0</td>\n",
              "      <td>128.0</td>\n",
              "      <td>253.0</td>\n",
              "      <td>intergenic</td>\n",
              "      <td>0.333333</td>\n",
              "    </tr>\n",
              "    <tr>\n",
              "      <th>141343</th>\n",
              "      <td>419.0</td>\n",
              "      <td>185.0</td>\n",
              "      <td>214.0</td>\n",
              "      <td>421.0</td>\n",
              "      <td>179.0</td>\n",
              "      <td>380.0</td>\n",
              "      <td>intergenic</td>\n",
              "      <td>0.323529</td>\n",
              "    </tr>\n",
              "  </tbody>\n",
              "</table>\n",
              "</div>"
            ],
            "text/plain": [
              "        blunt    cap   dual    erm    pen    tuf        gene        gc\n",
              "pos                                                                   \n",
              "40683   211.0   80.0   91.0   68.0   81.0   67.0      gene35  0.264706\n",
              "103869  214.0   42.0   50.0  155.0   31.0   69.0      gene90  0.264706\n",
              "132578  202.0   70.0   99.0  194.0  107.0  157.0     gene116  0.274510\n",
              "141339  348.0  136.0  140.0  362.0  128.0  253.0  intergenic  0.333333\n",
              "141343  419.0  185.0  214.0  421.0  179.0  380.0  intergenic  0.323529"
            ]
          },
          "metadata": {
            "tags": []
          },
          "execution_count": 53
        }
      ]
    },
    {
      "metadata": {
        "colab_type": "text",
        "id": "BvaF_kp_i-1B"
      },
      "cell_type": "markdown",
      "source": [
        "Setting values by label:"
      ]
    },
    {
      "metadata": {
        "colab_type": "code",
        "id": "0NfWc00xge7R",
        "colab": {}
      },
      "cell_type": "code",
      "source": [
        "df.at[2,'erm'] = 0"
      ],
      "execution_count": 0,
      "outputs": []
    },
    {
      "metadata": {
        "colab_type": "code",
        "id": "LT_wwXpMiyjC",
        "outputId": "8d001902-25db-4b49-ab09-065f00ad72da",
        "colab": {
          "base_uri": "https://localhost:8080/",
          "height": 170
        }
      },
      "cell_type": "code",
      "source": [
        "df.loc[2]"
      ],
      "execution_count": 55,
      "outputs": [
        {
          "output_type": "execute_result",
          "data": {
            "text/plain": [
              "blunt    NaN\n",
              "cap      NaN\n",
              "dual     NaN\n",
              "erm        0\n",
              "pen      NaN\n",
              "tuf      NaN\n",
              "gene     NaN\n",
              "gc       NaN\n",
              "Name: 2, dtype: object"
            ]
          },
          "metadata": {
            "tags": []
          },
          "execution_count": 55
        }
      ]
    },
    {
      "metadata": {
        "colab_type": "code",
        "id": "fv7KFUy4jL3w",
        "colab": {}
      },
      "cell_type": "code",
      "source": [
        "df = df.sort_index()"
      ],
      "execution_count": 0,
      "outputs": []
    },
    {
      "metadata": {
        "colab_type": "code",
        "id": "_VQWONs2k0Ms",
        "outputId": "890a818a-fcb1-4b04-ae3f-fa8e9731ad5e",
        "colab": {
          "base_uri": "https://localhost:8080/",
          "height": 235
        }
      },
      "cell_type": "code",
      "source": [
        "df.head()"
      ],
      "execution_count": 57,
      "outputs": [
        {
          "output_type": "execute_result",
          "data": {
            "text/html": [
              "<div>\n",
              "<style scoped>\n",
              "    .dataframe tbody tr th:only-of-type {\n",
              "        vertical-align: middle;\n",
              "    }\n",
              "\n",
              "    .dataframe tbody tr th {\n",
              "        vertical-align: top;\n",
              "    }\n",
              "\n",
              "    .dataframe thead th {\n",
              "        text-align: right;\n",
              "    }\n",
              "</style>\n",
              "<table border=\"1\" class=\"dataframe\">\n",
              "  <thead>\n",
              "    <tr style=\"text-align: right;\">\n",
              "      <th></th>\n",
              "      <th>blunt</th>\n",
              "      <th>cap</th>\n",
              "      <th>dual</th>\n",
              "      <th>erm</th>\n",
              "      <th>pen</th>\n",
              "      <th>tuf</th>\n",
              "      <th>gene</th>\n",
              "      <th>gc</th>\n",
              "    </tr>\n",
              "    <tr>\n",
              "      <th>pos</th>\n",
              "      <th></th>\n",
              "      <th></th>\n",
              "      <th></th>\n",
              "      <th></th>\n",
              "      <th></th>\n",
              "      <th></th>\n",
              "      <th></th>\n",
              "      <th></th>\n",
              "    </tr>\n",
              "  </thead>\n",
              "  <tbody>\n",
              "    <tr>\n",
              "      <th>2</th>\n",
              "      <td>NaN</td>\n",
              "      <td>NaN</td>\n",
              "      <td>NaN</td>\n",
              "      <td>0.0</td>\n",
              "      <td>NaN</td>\n",
              "      <td>NaN</td>\n",
              "      <td>NaN</td>\n",
              "      <td>NaN</td>\n",
              "    </tr>\n",
              "    <tr>\n",
              "      <th>40683</th>\n",
              "      <td>211.0</td>\n",
              "      <td>80.0</td>\n",
              "      <td>91.0</td>\n",
              "      <td>68.0</td>\n",
              "      <td>81.0</td>\n",
              "      <td>67.0</td>\n",
              "      <td>gene35</td>\n",
              "      <td>0.264706</td>\n",
              "    </tr>\n",
              "    <tr>\n",
              "      <th>103869</th>\n",
              "      <td>214.0</td>\n",
              "      <td>42.0</td>\n",
              "      <td>50.0</td>\n",
              "      <td>155.0</td>\n",
              "      <td>31.0</td>\n",
              "      <td>69.0</td>\n",
              "      <td>gene90</td>\n",
              "      <td>0.264706</td>\n",
              "    </tr>\n",
              "    <tr>\n",
              "      <th>132578</th>\n",
              "      <td>202.0</td>\n",
              "      <td>70.0</td>\n",
              "      <td>99.0</td>\n",
              "      <td>194.0</td>\n",
              "      <td>107.0</td>\n",
              "      <td>157.0</td>\n",
              "      <td>gene116</td>\n",
              "      <td>0.274510</td>\n",
              "    </tr>\n",
              "    <tr>\n",
              "      <th>141339</th>\n",
              "      <td>348.0</td>\n",
              "      <td>136.0</td>\n",
              "      <td>140.0</td>\n",
              "      <td>362.0</td>\n",
              "      <td>128.0</td>\n",
              "      <td>253.0</td>\n",
              "      <td>intergenic</td>\n",
              "      <td>0.333333</td>\n",
              "    </tr>\n",
              "  </tbody>\n",
              "</table>\n",
              "</div>"
            ],
            "text/plain": [
              "        blunt    cap   dual    erm    pen    tuf        gene        gc\n",
              "pos                                                                   \n",
              "2         NaN    NaN    NaN    0.0    NaN    NaN         NaN       NaN\n",
              "40683   211.0   80.0   91.0   68.0   81.0   67.0      gene35  0.264706\n",
              "103869  214.0   42.0   50.0  155.0   31.0   69.0      gene90  0.264706\n",
              "132578  202.0   70.0   99.0  194.0  107.0  157.0     gene116  0.274510\n",
              "141339  348.0  136.0  140.0  362.0  128.0  253.0  intergenic  0.333333"
            ]
          },
          "metadata": {
            "tags": []
          },
          "execution_count": 57
        }
      ]
    },
    {
      "metadata": {
        "colab_type": "text",
        "id": "p_XQn_G2l_9A"
      },
      "cell_type": "markdown",
      "source": [
        "## Missing data\n",
        "-------\n",
        "pandas primarily uses the value `np.nan` to represent missing data. It is by default not included in computations. See the [Missing Data section](https://pandas.pydata.org/pandas-docs/stable/missing_data.html#missing-data)."
      ]
    },
    {
      "metadata": {
        "colab_type": "text",
        "id": "E4OyyjkmmKr5"
      },
      "cell_type": "markdown",
      "source": [
        "To drop any rows that have missing data:"
      ]
    },
    {
      "metadata": {
        "colab_type": "code",
        "id": "wMhfsPo4lcSc",
        "outputId": "e905029f-3088-4167-dc8b-d326fb0e19ec",
        "colab": {
          "base_uri": "https://localhost:8080/",
          "height": 235
        }
      },
      "cell_type": "code",
      "source": [
        "df.dropna(how='any').head()"
      ],
      "execution_count": 59,
      "outputs": [
        {
          "output_type": "execute_result",
          "data": {
            "text/html": [
              "<div>\n",
              "<style scoped>\n",
              "    .dataframe tbody tr th:only-of-type {\n",
              "        vertical-align: middle;\n",
              "    }\n",
              "\n",
              "    .dataframe tbody tr th {\n",
              "        vertical-align: top;\n",
              "    }\n",
              "\n",
              "    .dataframe thead th {\n",
              "        text-align: right;\n",
              "    }\n",
              "</style>\n",
              "<table border=\"1\" class=\"dataframe\">\n",
              "  <thead>\n",
              "    <tr style=\"text-align: right;\">\n",
              "      <th></th>\n",
              "      <th>blunt</th>\n",
              "      <th>cap</th>\n",
              "      <th>dual</th>\n",
              "      <th>erm</th>\n",
              "      <th>pen</th>\n",
              "      <th>tuf</th>\n",
              "      <th>gene</th>\n",
              "      <th>gc</th>\n",
              "    </tr>\n",
              "    <tr>\n",
              "      <th>pos</th>\n",
              "      <th></th>\n",
              "      <th></th>\n",
              "      <th></th>\n",
              "      <th></th>\n",
              "      <th></th>\n",
              "      <th></th>\n",
              "      <th></th>\n",
              "      <th></th>\n",
              "    </tr>\n",
              "  </thead>\n",
              "  <tbody>\n",
              "    <tr>\n",
              "      <th>40683</th>\n",
              "      <td>211.0</td>\n",
              "      <td>80.0</td>\n",
              "      <td>91.0</td>\n",
              "      <td>68.0</td>\n",
              "      <td>81.0</td>\n",
              "      <td>67.0</td>\n",
              "      <td>gene35</td>\n",
              "      <td>0.264706</td>\n",
              "    </tr>\n",
              "    <tr>\n",
              "      <th>103869</th>\n",
              "      <td>214.0</td>\n",
              "      <td>42.0</td>\n",
              "      <td>50.0</td>\n",
              "      <td>155.0</td>\n",
              "      <td>31.0</td>\n",
              "      <td>69.0</td>\n",
              "      <td>gene90</td>\n",
              "      <td>0.264706</td>\n",
              "    </tr>\n",
              "    <tr>\n",
              "      <th>132578</th>\n",
              "      <td>202.0</td>\n",
              "      <td>70.0</td>\n",
              "      <td>99.0</td>\n",
              "      <td>194.0</td>\n",
              "      <td>107.0</td>\n",
              "      <td>157.0</td>\n",
              "      <td>gene116</td>\n",
              "      <td>0.274510</td>\n",
              "    </tr>\n",
              "    <tr>\n",
              "      <th>141339</th>\n",
              "      <td>348.0</td>\n",
              "      <td>136.0</td>\n",
              "      <td>140.0</td>\n",
              "      <td>362.0</td>\n",
              "      <td>128.0</td>\n",
              "      <td>253.0</td>\n",
              "      <td>intergenic</td>\n",
              "      <td>0.333333</td>\n",
              "    </tr>\n",
              "    <tr>\n",
              "      <th>141343</th>\n",
              "      <td>419.0</td>\n",
              "      <td>185.0</td>\n",
              "      <td>214.0</td>\n",
              "      <td>421.0</td>\n",
              "      <td>179.0</td>\n",
              "      <td>380.0</td>\n",
              "      <td>intergenic</td>\n",
              "      <td>0.323529</td>\n",
              "    </tr>\n",
              "  </tbody>\n",
              "</table>\n",
              "</div>"
            ],
            "text/plain": [
              "        blunt    cap   dual    erm    pen    tuf        gene        gc\n",
              "pos                                                                   \n",
              "40683   211.0   80.0   91.0   68.0   81.0   67.0      gene35  0.264706\n",
              "103869  214.0   42.0   50.0  155.0   31.0   69.0      gene90  0.264706\n",
              "132578  202.0   70.0   99.0  194.0  107.0  157.0     gene116  0.274510\n",
              "141339  348.0  136.0  140.0  362.0  128.0  253.0  intergenic  0.333333\n",
              "141343  419.0  185.0  214.0  421.0  179.0  380.0  intergenic  0.323529"
            ]
          },
          "metadata": {
            "tags": []
          },
          "execution_count": 59
        }
      ]
    },
    {
      "metadata": {
        "colab_type": "text",
        "id": "xoIMvYzxmvLl"
      },
      "cell_type": "markdown",
      "source": [
        "Filling missing data"
      ]
    },
    {
      "metadata": {
        "colab_type": "code",
        "id": "rwaQeOTTmnKQ",
        "outputId": "298a140e-9284-4311-e6c9-9b28700954a5",
        "colab": {
          "base_uri": "https://localhost:8080/",
          "height": 235
        }
      },
      "cell_type": "code",
      "source": [
        "df.fillna(value='0').head()"
      ],
      "execution_count": 60,
      "outputs": [
        {
          "output_type": "execute_result",
          "data": {
            "text/html": [
              "<div>\n",
              "<style scoped>\n",
              "    .dataframe tbody tr th:only-of-type {\n",
              "        vertical-align: middle;\n",
              "    }\n",
              "\n",
              "    .dataframe tbody tr th {\n",
              "        vertical-align: top;\n",
              "    }\n",
              "\n",
              "    .dataframe thead th {\n",
              "        text-align: right;\n",
              "    }\n",
              "</style>\n",
              "<table border=\"1\" class=\"dataframe\">\n",
              "  <thead>\n",
              "    <tr style=\"text-align: right;\">\n",
              "      <th></th>\n",
              "      <th>blunt</th>\n",
              "      <th>cap</th>\n",
              "      <th>dual</th>\n",
              "      <th>erm</th>\n",
              "      <th>pen</th>\n",
              "      <th>tuf</th>\n",
              "      <th>gene</th>\n",
              "      <th>gc</th>\n",
              "    </tr>\n",
              "    <tr>\n",
              "      <th>pos</th>\n",
              "      <th></th>\n",
              "      <th></th>\n",
              "      <th></th>\n",
              "      <th></th>\n",
              "      <th></th>\n",
              "      <th></th>\n",
              "      <th></th>\n",
              "      <th></th>\n",
              "    </tr>\n",
              "  </thead>\n",
              "  <tbody>\n",
              "    <tr>\n",
              "      <th>2</th>\n",
              "      <td>0</td>\n",
              "      <td>0</td>\n",
              "      <td>0</td>\n",
              "      <td>0.0</td>\n",
              "      <td>0</td>\n",
              "      <td>0</td>\n",
              "      <td>0</td>\n",
              "      <td>0</td>\n",
              "    </tr>\n",
              "    <tr>\n",
              "      <th>40683</th>\n",
              "      <td>211</td>\n",
              "      <td>80</td>\n",
              "      <td>91</td>\n",
              "      <td>68.0</td>\n",
              "      <td>81</td>\n",
              "      <td>67</td>\n",
              "      <td>gene35</td>\n",
              "      <td>0.264706</td>\n",
              "    </tr>\n",
              "    <tr>\n",
              "      <th>103869</th>\n",
              "      <td>214</td>\n",
              "      <td>42</td>\n",
              "      <td>50</td>\n",
              "      <td>155.0</td>\n",
              "      <td>31</td>\n",
              "      <td>69</td>\n",
              "      <td>gene90</td>\n",
              "      <td>0.264706</td>\n",
              "    </tr>\n",
              "    <tr>\n",
              "      <th>132578</th>\n",
              "      <td>202</td>\n",
              "      <td>70</td>\n",
              "      <td>99</td>\n",
              "      <td>194.0</td>\n",
              "      <td>107</td>\n",
              "      <td>157</td>\n",
              "      <td>gene116</td>\n",
              "      <td>0.27451</td>\n",
              "    </tr>\n",
              "    <tr>\n",
              "      <th>141339</th>\n",
              "      <td>348</td>\n",
              "      <td>136</td>\n",
              "      <td>140</td>\n",
              "      <td>362.0</td>\n",
              "      <td>128</td>\n",
              "      <td>253</td>\n",
              "      <td>intergenic</td>\n",
              "      <td>0.333333</td>\n",
              "    </tr>\n",
              "  </tbody>\n",
              "</table>\n",
              "</div>"
            ],
            "text/plain": [
              "       blunt  cap dual    erm  pen  tuf        gene        gc\n",
              "pos                                                          \n",
              "2          0    0    0    0.0    0    0           0         0\n",
              "40683    211   80   91   68.0   81   67      gene35  0.264706\n",
              "103869   214   42   50  155.0   31   69      gene90  0.264706\n",
              "132578   202   70   99  194.0  107  157     gene116   0.27451\n",
              "141339   348  136  140  362.0  128  253  intergenic  0.333333"
            ]
          },
          "metadata": {
            "tags": []
          },
          "execution_count": 60
        }
      ]
    },
    {
      "metadata": {
        "colab_type": "code",
        "id": "jSLFlY73m17z",
        "outputId": "724061f5-48e2-40fd-a9de-dfb56551718b",
        "colab": {
          "base_uri": "https://localhost:8080/",
          "height": 235
        }
      },
      "cell_type": "code",
      "source": [
        "df.isna().head()"
      ],
      "execution_count": 61,
      "outputs": [
        {
          "output_type": "execute_result",
          "data": {
            "text/html": [
              "<div>\n",
              "<style scoped>\n",
              "    .dataframe tbody tr th:only-of-type {\n",
              "        vertical-align: middle;\n",
              "    }\n",
              "\n",
              "    .dataframe tbody tr th {\n",
              "        vertical-align: top;\n",
              "    }\n",
              "\n",
              "    .dataframe thead th {\n",
              "        text-align: right;\n",
              "    }\n",
              "</style>\n",
              "<table border=\"1\" class=\"dataframe\">\n",
              "  <thead>\n",
              "    <tr style=\"text-align: right;\">\n",
              "      <th></th>\n",
              "      <th>blunt</th>\n",
              "      <th>cap</th>\n",
              "      <th>dual</th>\n",
              "      <th>erm</th>\n",
              "      <th>pen</th>\n",
              "      <th>tuf</th>\n",
              "      <th>gene</th>\n",
              "      <th>gc</th>\n",
              "    </tr>\n",
              "    <tr>\n",
              "      <th>pos</th>\n",
              "      <th></th>\n",
              "      <th></th>\n",
              "      <th></th>\n",
              "      <th></th>\n",
              "      <th></th>\n",
              "      <th></th>\n",
              "      <th></th>\n",
              "      <th></th>\n",
              "    </tr>\n",
              "  </thead>\n",
              "  <tbody>\n",
              "    <tr>\n",
              "      <th>2</th>\n",
              "      <td>True</td>\n",
              "      <td>True</td>\n",
              "      <td>True</td>\n",
              "      <td>False</td>\n",
              "      <td>True</td>\n",
              "      <td>True</td>\n",
              "      <td>True</td>\n",
              "      <td>True</td>\n",
              "    </tr>\n",
              "    <tr>\n",
              "      <th>40683</th>\n",
              "      <td>False</td>\n",
              "      <td>False</td>\n",
              "      <td>False</td>\n",
              "      <td>False</td>\n",
              "      <td>False</td>\n",
              "      <td>False</td>\n",
              "      <td>False</td>\n",
              "      <td>False</td>\n",
              "    </tr>\n",
              "    <tr>\n",
              "      <th>103869</th>\n",
              "      <td>False</td>\n",
              "      <td>False</td>\n",
              "      <td>False</td>\n",
              "      <td>False</td>\n",
              "      <td>False</td>\n",
              "      <td>False</td>\n",
              "      <td>False</td>\n",
              "      <td>False</td>\n",
              "    </tr>\n",
              "    <tr>\n",
              "      <th>132578</th>\n",
              "      <td>False</td>\n",
              "      <td>False</td>\n",
              "      <td>False</td>\n",
              "      <td>False</td>\n",
              "      <td>False</td>\n",
              "      <td>False</td>\n",
              "      <td>False</td>\n",
              "      <td>False</td>\n",
              "    </tr>\n",
              "    <tr>\n",
              "      <th>141339</th>\n",
              "      <td>False</td>\n",
              "      <td>False</td>\n",
              "      <td>False</td>\n",
              "      <td>False</td>\n",
              "      <td>False</td>\n",
              "      <td>False</td>\n",
              "      <td>False</td>\n",
              "      <td>False</td>\n",
              "    </tr>\n",
              "  </tbody>\n",
              "</table>\n",
              "</div>"
            ],
            "text/plain": [
              "        blunt    cap   dual    erm    pen    tuf   gene     gc\n",
              "pos                                                           \n",
              "2        True   True   True  False   True   True   True   True\n",
              "40683   False  False  False  False  False  False  False  False\n",
              "103869  False  False  False  False  False  False  False  False\n",
              "132578  False  False  False  False  False  False  False  False\n",
              "141339  False  False  False  False  False  False  False  False"
            ]
          },
          "metadata": {
            "tags": []
          },
          "execution_count": 61
        }
      ]
    },
    {
      "metadata": {
        "colab_type": "text",
        "id": "CIS10PH3qOfc"
      },
      "cell_type": "markdown",
      "source": [
        "## Operations\n",
        "-------\n",
        "See the [Basic section on Binary Ops](https://pandas.pydata.org/pandas-docs/stable/basics.html#basics-binop)."
      ]
    },
    {
      "metadata": {
        "colab_type": "text",
        "id": "ZzhtKHo6qZqu"
      },
      "cell_type": "markdown",
      "source": [
        "### Stats\n",
        "\n",
        "Operations in general exclude missing data.\n",
        "\n",
        "Performing a descriptive statistic:"
      ]
    },
    {
      "metadata": {
        "colab_type": "code",
        "id": "P2LdMGE6nJU1",
        "outputId": "cf66b1cd-b1d7-4111-d55b-1985b6602226",
        "colab": {
          "base_uri": "https://localhost:8080/",
          "height": 153
        }
      },
      "cell_type": "code",
      "source": [
        "df.mean()"
      ],
      "execution_count": 62,
      "outputs": [
        {
          "output_type": "execute_result",
          "data": {
            "text/plain": [
              "blunt    473.000000\n",
              "cap      145.307692\n",
              "dual     141.394231\n",
              "erm      424.228571\n",
              "pen      134.855769\n",
              "tuf      221.884615\n",
              "gc         0.316365\n",
              "dtype: float64"
            ]
          },
          "metadata": {
            "tags": []
          },
          "execution_count": 62
        }
      ]
    },
    {
      "metadata": {
        "colab_type": "text",
        "id": "kkK6rQX8qi_H"
      },
      "cell_type": "markdown",
      "source": [
        "Same operation on the other axis:"
      ]
    },
    {
      "metadata": {
        "colab_type": "code",
        "id": "bQW0pLcbqf-8",
        "outputId": "98e189f6-330b-4f2a-ac10-2f4feace3d7f",
        "colab": {
          "base_uri": "https://localhost:8080/",
          "height": 136
        }
      },
      "cell_type": "code",
      "source": [
        "df.mean(1).head()"
      ],
      "execution_count": 63,
      "outputs": [
        {
          "output_type": "execute_result",
          "data": {
            "text/plain": [
              "pos\n",
              "2           0.000000\n",
              "40683      85.466387\n",
              "103869     80.180672\n",
              "132578    118.467787\n",
              "141339    195.333333\n",
              "dtype: float64"
            ]
          },
          "metadata": {
            "tags": []
          },
          "execution_count": 63
        }
      ]
    },
    {
      "metadata": {
        "colab_type": "text",
        "id": "lJcWZJ9PrxWS"
      },
      "cell_type": "markdown",
      "source": [
        "### Apply\n",
        "Apply functions to the data:"
      ]
    },
    {
      "metadata": {
        "colab_type": "code",
        "id": "rb5wd-btrR2r",
        "outputId": "23d8fdc9-5ab2-4ada-fa51-d3266c2a53b2",
        "colab": {
          "base_uri": "https://localhost:8080/",
          "height": 235
        }
      },
      "cell_type": "code",
      "source": [
        "df.head()"
      ],
      "execution_count": 64,
      "outputs": [
        {
          "output_type": "execute_result",
          "data": {
            "text/html": [
              "<div>\n",
              "<style scoped>\n",
              "    .dataframe tbody tr th:only-of-type {\n",
              "        vertical-align: middle;\n",
              "    }\n",
              "\n",
              "    .dataframe tbody tr th {\n",
              "        vertical-align: top;\n",
              "    }\n",
              "\n",
              "    .dataframe thead th {\n",
              "        text-align: right;\n",
              "    }\n",
              "</style>\n",
              "<table border=\"1\" class=\"dataframe\">\n",
              "  <thead>\n",
              "    <tr style=\"text-align: right;\">\n",
              "      <th></th>\n",
              "      <th>blunt</th>\n",
              "      <th>cap</th>\n",
              "      <th>dual</th>\n",
              "      <th>erm</th>\n",
              "      <th>pen</th>\n",
              "      <th>tuf</th>\n",
              "      <th>gene</th>\n",
              "      <th>gc</th>\n",
              "    </tr>\n",
              "    <tr>\n",
              "      <th>pos</th>\n",
              "      <th></th>\n",
              "      <th></th>\n",
              "      <th></th>\n",
              "      <th></th>\n",
              "      <th></th>\n",
              "      <th></th>\n",
              "      <th></th>\n",
              "      <th></th>\n",
              "    </tr>\n",
              "  </thead>\n",
              "  <tbody>\n",
              "    <tr>\n",
              "      <th>2</th>\n",
              "      <td>NaN</td>\n",
              "      <td>NaN</td>\n",
              "      <td>NaN</td>\n",
              "      <td>0.0</td>\n",
              "      <td>NaN</td>\n",
              "      <td>NaN</td>\n",
              "      <td>NaN</td>\n",
              "      <td>NaN</td>\n",
              "    </tr>\n",
              "    <tr>\n",
              "      <th>40683</th>\n",
              "      <td>211.0</td>\n",
              "      <td>80.0</td>\n",
              "      <td>91.0</td>\n",
              "      <td>68.0</td>\n",
              "      <td>81.0</td>\n",
              "      <td>67.0</td>\n",
              "      <td>gene35</td>\n",
              "      <td>0.264706</td>\n",
              "    </tr>\n",
              "    <tr>\n",
              "      <th>103869</th>\n",
              "      <td>214.0</td>\n",
              "      <td>42.0</td>\n",
              "      <td>50.0</td>\n",
              "      <td>155.0</td>\n",
              "      <td>31.0</td>\n",
              "      <td>69.0</td>\n",
              "      <td>gene90</td>\n",
              "      <td>0.264706</td>\n",
              "    </tr>\n",
              "    <tr>\n",
              "      <th>132578</th>\n",
              "      <td>202.0</td>\n",
              "      <td>70.0</td>\n",
              "      <td>99.0</td>\n",
              "      <td>194.0</td>\n",
              "      <td>107.0</td>\n",
              "      <td>157.0</td>\n",
              "      <td>gene116</td>\n",
              "      <td>0.274510</td>\n",
              "    </tr>\n",
              "    <tr>\n",
              "      <th>141339</th>\n",
              "      <td>348.0</td>\n",
              "      <td>136.0</td>\n",
              "      <td>140.0</td>\n",
              "      <td>362.0</td>\n",
              "      <td>128.0</td>\n",
              "      <td>253.0</td>\n",
              "      <td>intergenic</td>\n",
              "      <td>0.333333</td>\n",
              "    </tr>\n",
              "  </tbody>\n",
              "</table>\n",
              "</div>"
            ],
            "text/plain": [
              "        blunt    cap   dual    erm    pen    tuf        gene        gc\n",
              "pos                                                                   \n",
              "2         NaN    NaN    NaN    0.0    NaN    NaN         NaN       NaN\n",
              "40683   211.0   80.0   91.0   68.0   81.0   67.0      gene35  0.264706\n",
              "103869  214.0   42.0   50.0  155.0   31.0   69.0      gene90  0.264706\n",
              "132578  202.0   70.0   99.0  194.0  107.0  157.0     gene116  0.274510\n",
              "141339  348.0  136.0  140.0  362.0  128.0  253.0  intergenic  0.333333"
            ]
          },
          "metadata": {
            "tags": []
          },
          "execution_count": 64
        }
      ]
    },
    {
      "metadata": {
        "colab_type": "code",
        "id": "JzR6KuCUqloh",
        "outputId": "85778435-5582-439e-db0f-41edd192ca30",
        "colab": {
          "base_uri": "https://localhost:8080/",
          "height": 235
        }
      },
      "cell_type": "code",
      "source": [
        "import numpy as np\n",
        "df.loc[:,'blunt':'tuf'].apply(np.cumsum).head()"
      ],
      "execution_count": 65,
      "outputs": [
        {
          "output_type": "execute_result",
          "data": {
            "text/html": [
              "<div>\n",
              "<style scoped>\n",
              "    .dataframe tbody tr th:only-of-type {\n",
              "        vertical-align: middle;\n",
              "    }\n",
              "\n",
              "    .dataframe tbody tr th {\n",
              "        vertical-align: top;\n",
              "    }\n",
              "\n",
              "    .dataframe thead th {\n",
              "        text-align: right;\n",
              "    }\n",
              "</style>\n",
              "<table border=\"1\" class=\"dataframe\">\n",
              "  <thead>\n",
              "    <tr style=\"text-align: right;\">\n",
              "      <th></th>\n",
              "      <th>blunt</th>\n",
              "      <th>cap</th>\n",
              "      <th>dual</th>\n",
              "      <th>erm</th>\n",
              "      <th>pen</th>\n",
              "      <th>tuf</th>\n",
              "    </tr>\n",
              "    <tr>\n",
              "      <th>pos</th>\n",
              "      <th></th>\n",
              "      <th></th>\n",
              "      <th></th>\n",
              "      <th></th>\n",
              "      <th></th>\n",
              "      <th></th>\n",
              "    </tr>\n",
              "  </thead>\n",
              "  <tbody>\n",
              "    <tr>\n",
              "      <th>2</th>\n",
              "      <td>NaN</td>\n",
              "      <td>NaN</td>\n",
              "      <td>NaN</td>\n",
              "      <td>0.0</td>\n",
              "      <td>NaN</td>\n",
              "      <td>NaN</td>\n",
              "    </tr>\n",
              "    <tr>\n",
              "      <th>40683</th>\n",
              "      <td>211.0</td>\n",
              "      <td>80.0</td>\n",
              "      <td>91.0</td>\n",
              "      <td>68.0</td>\n",
              "      <td>81.0</td>\n",
              "      <td>67.0</td>\n",
              "    </tr>\n",
              "    <tr>\n",
              "      <th>103869</th>\n",
              "      <td>425.0</td>\n",
              "      <td>122.0</td>\n",
              "      <td>141.0</td>\n",
              "      <td>223.0</td>\n",
              "      <td>112.0</td>\n",
              "      <td>136.0</td>\n",
              "    </tr>\n",
              "    <tr>\n",
              "      <th>132578</th>\n",
              "      <td>627.0</td>\n",
              "      <td>192.0</td>\n",
              "      <td>240.0</td>\n",
              "      <td>417.0</td>\n",
              "      <td>219.0</td>\n",
              "      <td>293.0</td>\n",
              "    </tr>\n",
              "    <tr>\n",
              "      <th>141339</th>\n",
              "      <td>975.0</td>\n",
              "      <td>328.0</td>\n",
              "      <td>380.0</td>\n",
              "      <td>779.0</td>\n",
              "      <td>347.0</td>\n",
              "      <td>546.0</td>\n",
              "    </tr>\n",
              "  </tbody>\n",
              "</table>\n",
              "</div>"
            ],
            "text/plain": [
              "        blunt    cap   dual    erm    pen    tuf\n",
              "pos                                             \n",
              "2         NaN    NaN    NaN    0.0    NaN    NaN\n",
              "40683   211.0   80.0   91.0   68.0   81.0   67.0\n",
              "103869  425.0  122.0  141.0  223.0  112.0  136.0\n",
              "132578  627.0  192.0  240.0  417.0  219.0  293.0\n",
              "141339  975.0  328.0  380.0  779.0  347.0  546.0"
            ]
          },
          "metadata": {
            "tags": []
          },
          "execution_count": 65
        }
      ]
    },
    {
      "metadata": {
        "colab_type": "text",
        "id": "yAztQ2isr3pQ"
      },
      "cell_type": "markdown",
      "source": [
        "### Hostogramming\n",
        "See more at [Histogramming and Discretization](https://pandas.pydata.org/pandas-docs/stable/basics.html#basics-discretization):"
      ]
    },
    {
      "metadata": {
        "colab_type": "code",
        "id": "99sKhF0erEGI",
        "outputId": "8d570c27-3f44-4fc0-d186-7fa3062b231e",
        "colab": {
          "base_uri": "https://localhost:8080/",
          "height": 697
        }
      },
      "cell_type": "code",
      "source": [
        "df['gene'].value_counts()"
      ],
      "execution_count": 66,
      "outputs": [
        {
          "output_type": "execute_result",
          "data": {
            "text/plain": [
              "intergenic    30\n",
              "gene2134       7\n",
              "gene929        5\n",
              "gene2010       5\n",
              "gene176        4\n",
              "gene172        3\n",
              "gene2390       3\n",
              "gene533        3\n",
              "gene2465       3\n",
              "gene1342       3\n",
              "gene1016       3\n",
              "gene2195       2\n",
              "gene1753       2\n",
              "gene2787       2\n",
              "gene673        2\n",
              "gene206        2\n",
              "gene1469       2\n",
              "gene2233       2\n",
              "gene2176       1\n",
              "gene233        1\n",
              "gene688        1\n",
              "gene443        1\n",
              "gene1833       1\n",
              "gene35         1\n",
              "gene275        1\n",
              "gene1751       1\n",
              "gene528        1\n",
              "gene116        1\n",
              "gene1516       1\n",
              "gene313        1\n",
              "gene90         1\n",
              "gene2764       1\n",
              "gene1364       1\n",
              "gene932        1\n",
              "gene2321       1\n",
              "gene297        1\n",
              "gene2707       1\n",
              "gene2209       1\n",
              "gene2664       1\n",
              "Name: gene, dtype: int64"
            ]
          },
          "metadata": {
            "tags": []
          },
          "execution_count": 66
        }
      ]
    },
    {
      "metadata": {
        "colab_type": "code",
        "id": "GwftlZ0ssKAT",
        "outputId": "6cfe4d24-7572-497b-f1e5-b9293ec17965",
        "colab": {
          "base_uri": "https://localhost:8080/",
          "height": 399
        }
      },
      "cell_type": "code",
      "source": [
        "%matplotlib inline\n",
        "df.loc[:,'blunt':'tuf'].hist(bins=100, sharex=True, sharey=True)"
      ],
      "execution_count": 67,
      "outputs": [
        {
          "output_type": "execute_result",
          "data": {
            "text/plain": [
              "array([[<matplotlib.axes._subplots.AxesSubplot object at 0x7f9db1383da0>,\n",
              "        <matplotlib.axes._subplots.AxesSubplot object at 0x7f9db0adf358>],\n",
              "       [<matplotlib.axes._subplots.AxesSubplot object at 0x7f9db0b09a20>,\n",
              "        <matplotlib.axes._subplots.AxesSubplot object at 0x7f9db0ab4128>],\n",
              "       [<matplotlib.axes._subplots.AxesSubplot object at 0x7f9db0a597f0>,\n",
              "        <matplotlib.axes._subplots.AxesSubplot object at 0x7f9db0a7eeb8>]],\n",
              "      dtype=object)"
            ]
          },
          "metadata": {
            "tags": []
          },
          "execution_count": 67
        },
        {
          "output_type": "display_data",
          "data": {
            "image/png": "[encoded data removed]",
            "text/plain": [
              "<Figure size 432x288 with 6 Axes>"
            ]
          },
          "metadata": {
            "tags": []
          }
        }
      ]
    },
    {
      "metadata": {
        "colab_type": "text",
        "id": "KPDn3vY5tsWQ"
      },
      "cell_type": "markdown",
      "source": [
        "### String Methods\n",
        "Series is equipped with a set of string processing methods in the str attribute that make it easy to operate on each element of the array, as in the code snippet below. Note that pattern-matching in str generally uses [regular expressions](https://docs.python.org/3/library/re.html) by default (and in some cases always uses them). See more at [Vectorized String Methods](https://pandas.pydata.org/pandas-docs/stable/text.html#text-string-methods):"
      ]
    },
    {
      "metadata": {
        "colab_type": "code",
        "id": "9STktS3psgMG",
        "outputId": "d2711916-5ca2-470c-c43b-b69a97dfb5d8",
        "colab": {
          "base_uri": "https://localhost:8080/",
          "height": 136
        }
      },
      "cell_type": "code",
      "source": [
        "df['gene'].str.upper().head()"
      ],
      "execution_count": 68,
      "outputs": [
        {
          "output_type": "execute_result",
          "data": {
            "text/plain": [
              "pos\n",
              "2                NaN\n",
              "40683         GENE35\n",
              "103869        GENE90\n",
              "132578       GENE116\n",
              "141339    INTERGENIC\n",
              "Name: gene, dtype: object"
            ]
          },
          "metadata": {
            "tags": []
          },
          "execution_count": 68
        }
      ]
    },
    {
      "metadata": {
        "colab_type": "text",
        "id": "VS6KJ-IXwnnp"
      },
      "cell_type": "markdown",
      "source": [
        "In the next lecture we will learn how to process data in a number of interesting ways"
      ]
    },
    {
      "metadata": {
        "colab_type": "code",
        "id": "gt48MB0BwwIg",
        "colab": {}
      },
      "cell_type": "code",
      "source": [
        ""
      ],
      "execution_count": 0,
      "outputs": []
    }
  ]
}