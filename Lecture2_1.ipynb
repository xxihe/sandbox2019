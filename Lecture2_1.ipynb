{
  "nbformat": 4,
  "nbformat_minor": 0,
  "metadata": {
    "colab": {
      "name": "Copy of Lecture2.1",
      "version": "0.3.2",
      "provenance": [],
      "collapsed_sections": [
        "ujv-Ym8CtI-7",
        "DUcmtn5Gtkyv",
        "LQ7hOgZWtlEr",
        "0JTZJE1wvtCO",
        "XoN4rk5uwBe6",
        "V5GJD-rCrqH9",
        "SCdzdYXurqH-",
        "GPLF_EZdrqIP",
        "X3vw8e-0rqIm",
        "aNPj7t0yrqJI",
        "QYjvFm1MrqJx",
        "vprE3U8-rqJx",
        "faHv5MlarqLP",
        "3xiOFSC7rqLd",
        "Y0kkqo8XrqLj",
        "P17Dqlm4rqLk",
        "QfBlYf-4rqLp",
        "YtmSg7rnrqLy",
        "i1FBboL4rqLz",
        "gHv6c-nJrqMB",
        "EikZfkZvrqMD",
        "DCEDK8etrqMF",
        "c4xs4zKyrqMa",
        "OqEdChWKrqM8"
      ],
      "toc_visible": true,
      "include_colab_link": true
    },
    "kernelspec": {
      "display_name": "Python 2",
      "language": "python",
      "name": "python2"
    }
  },
  "cells": [
    {
      "cell_type": "markdown",
      "metadata": {
        "id": "view-in-github",
        "colab_type": "text"
      },
      "source": [
        "<a href=\"https://colab.research.google.com/github/xxihe/sandbox2019/blob/master/Lecture2_1.ipynb\" target=\"_parent\"><img src=\"https://colab.research.google.com/assets/colab-badge.svg\" alt=\"Open In Colab\"/></a>"
      ]
    },
    {
      "metadata": {
        "id": "aI3mpw7VrqG0",
        "colab_type": "text"
      },
      "cell_type": "markdown",
      "source": [
        "# Jupyter: What it is and how to use it\n",
        "------\n",
        "Lecture 2 | Notebook 1\n",
        "\n",
        "\n"
      ]
    },
    {
      "metadata": {
        "id": "CxVLK9mUrqG2",
        "colab_type": "text"
      },
      "cell_type": "markdown",
      "source": [
        "This tutorial is based on [IPython notebook](http://ipython.org/notebook.html) lecture is available at [http://github.com/jrjohansson/scientific-python-lectures](http://github.com/jrjohansson/scientific-python-lectures)."
      ]
    },
    {
      "metadata": {
        "id": "ujv-Ym8CtI-7",
        "colab_type": "text"
      },
      "cell_type": "markdown",
      "source": [
        "## Notebook is a collection of cells containing the code"
      ]
    },
    {
      "metadata": {
        "id": "YJNj33BmtRRz",
        "colab_type": "code",
        "colab": {}
      },
      "cell_type": "code",
      "source": [
        "# Tell Jupyter to render plots inside the Notebook\n",
        "%matplotlib inline"
      ],
      "execution_count": 0,
      "outputs": []
    },
    {
      "metadata": {
        "id": "M0nFlPNdtRfZ",
        "colab_type": "code",
        "colab": {}
      },
      "cell_type": "code",
      "source": [
        "# Import plotting library\n",
        "from pylab import *"
      ],
      "execution_count": 0,
      "outputs": []
    },
    {
      "metadata": {
        "id": "LfszPOrztSTI",
        "colab_type": "code",
        "colab": {}
      },
      "cell_type": "code",
      "source": [
        "# Import numpy library\n",
        "import numpy as np"
      ],
      "execution_count": 0,
      "outputs": []
    },
    {
      "metadata": {
        "id": "YhiagokttSg1",
        "colab_type": "code",
        "colab": {}
      },
      "cell_type": "code",
      "source": [
        "# Create a set of evenly spaced numbers and their squares\n",
        "x = np.linspace(0, 5, 20)\n",
        "y = x ** 2"
      ],
      "execution_count": 0,
      "outputs": []
    },
    {
      "metadata": {
        "id": "VqZPsXWhtSrD",
        "colab_type": "code",
        "outputId": "177c1fda-f671-4f0c-f491-0a7c80079824",
        "colab": {
          "base_uri": "https://localhost:8080/",
          "height": 85
        }
      },
      "cell_type": "code",
      "source": [
        "print(x)"
      ],
      "execution_count": 8,
      "outputs": [
        {
          "output_type": "stream",
          "text": [
            "[0.         0.26315789 0.52631579 0.78947368 1.05263158 1.31578947\n",
            " 1.57894737 1.84210526 2.10526316 2.36842105 2.63157895 2.89473684\n",
            " 3.15789474 3.42105263 3.68421053 3.94736842 4.21052632 4.47368421\n",
            " 4.73684211 5.        ]\n"
          ],
          "name": "stdout"
        }
      ]
    },
    {
      "metadata": {
        "id": "Tq7nw2-itcaN",
        "colab_type": "code",
        "outputId": "ac584f6b-feaa-49b2-d7ec-099e8f580846",
        "colab": {
          "base_uri": "https://localhost:8080/",
          "height": 85
        }
      },
      "cell_type": "code",
      "source": [
        "print(y)"
      ],
      "execution_count": 9,
      "outputs": [
        {
          "output_type": "stream",
          "text": [
            "[ 0.          0.06925208  0.27700831  0.6232687   1.10803324  1.73130194\n",
            "  2.49307479  3.3933518   4.43213296  5.60941828  6.92520776  8.37950139\n",
            "  9.97229917 11.70360111 13.5734072  15.58171745 17.72853186 20.01385042\n",
            " 22.43767313 25.        ]\n"
          ],
          "name": "stdout"
        }
      ]
    },
    {
      "metadata": {
        "id": "bZ8K98UItcgh",
        "colab_type": "code",
        "outputId": "c6b2065b-4e18-4202-f164-86be78173f0b",
        "colab": {
          "base_uri": "https://localhost:8080/",
          "height": 294
        }
      },
      "cell_type": "code",
      "source": [
        "# Plot their relationship\n",
        "figure()\n",
        "plot(x, y, 'r--')\n",
        "xlabel('x')\n",
        "ylabel('y')\n",
        "title('title')\n",
        "show()"
      ],
      "execution_count": 11,
      "outputs": [
        {
          "output_type": "display_data",
          "data": {
            "image/png": "[encoded data removed]",
            "text/plain": [
              "<matplotlib.figure.Figure at 0x7f614c2f84d0>"
            ]
          },
          "metadata": {
            "tags": []
          }
        }
      ]
    },
    {
      "metadata": {
        "id": "DUcmtn5Gtkyv",
        "colab_type": "text"
      },
      "cell_type": "markdown",
      "source": [
        "## Cells do not have to contain the code only"
      ]
    },
    {
      "metadata": {
        "id": "DL8Jl4l1tk5q",
        "colab_type": "text"
      },
      "cell_type": "markdown",
      "source": [
        "You can put any text into \"text\" cells and format it using [markdown](https://daringfireball.net/projects/markdown). Here are some examples: "
      ]
    },
    {
      "metadata": {
        "id": "2KuoH4yUtk8R",
        "colab_type": "text"
      },
      "cell_type": "markdown",
      "source": [
        "```\n",
        "# H1\n",
        "## H2\n",
        "### H3\n",
        "#### H4\n",
        "##### H5\n",
        "###### H6\n",
        "```"
      ]
    },
    {
      "metadata": {
        "id": "uF_MDnYgtk-3",
        "colab_type": "text"
      },
      "cell_type": "markdown",
      "source": [
        "Here are different font modifiers:\n",
        "\n",
        "**Bold**\n",
        "\n",
        "*Italic*\n",
        "\n",
        "`code`"
      ]
    },
    {
      "metadata": {
        "id": "4-ONgoYrtlB1",
        "colab_type": "text"
      },
      "cell_type": "markdown",
      "source": [
        "This is a horizontal rule:\n",
        "\n",
        "------"
      ]
    },
    {
      "metadata": {
        "id": "W9ZroEY3tlJQ",
        "colab_type": "text"
      },
      "cell_type": "markdown",
      "source": [
        "This is an unnumbered list:\n",
        "\n",
        " - animals\n",
        "   - horse\n",
        "   - dog\n",
        " - insects\n",
        "    - butterfly\n",
        "    - beetle\n",
        " \n",
        "And this is a numbered list:\n",
        " \n",
        "  1. Monday\n",
        "  1. Tuesday\n",
        "  1. Wednesday\n",
        "  1. Thursday\n",
        "  1. Friday\n",
        "  1. Saturday\n",
        "  1. Sunday"
      ]
    },
    {
      "metadata": {
        "id": "tVji0-yCtlMW",
        "colab_type": "text"
      },
      "cell_type": "markdown",
      "source": [
        "A table:\n",
        "\n",
        "| # | What  | Why |\n",
        "|---|------|--------|\n",
        "| 3.1 | **DNA (and RNA) sequencing** | From Sanger to Nanopores |\n",
        "| 3.2 | **Variation** | Finding and interpreting genetic differences |\n",
        "| 3.3 | **Transcriptomics** | Measuring gene expression |\n",
        "| 3.4 | **Transcriptomics** | Measuring shapes |\n",
        "| 3.5 | **DNA/Protein interactions** | Assessing gene regulation and genome architecture |\n",
        "| 3.6 | **Metagenomics** | Analysis of complex mixtures |\n",
        "| 3.7 | **About counts** | NGS data is count data. There are common themes in read count analysis |"
      ]
    },
    {
      "metadata": {
        "id": "yo-mOShStlGz",
        "colab_type": "text"
      },
      "cell_type": "markdown",
      "source": [
        ""
      ]
    },
    {
      "metadata": {
        "id": "LQ7hOgZWtlEr",
        "colab_type": "text"
      },
      "cell_type": "markdown",
      "source": [
        "## Using the code cells"
      ]
    },
    {
      "metadata": {
        "id": "GcKNkV5auZZ0",
        "colab_type": "code",
        "outputId": "28729bde-4f8d-4e56-a755-7cc480dd3a8f",
        "colab": {
          "base_uri": "https://localhost:8080/",
          "height": 34
        }
      },
      "cell_type": "code",
      "source": [
        "2+10"
      ],
      "execution_count": 17,
      "outputs": [
        {
          "output_type": "execute_result",
          "data": {
            "text/plain": [
              "12"
            ]
          },
          "metadata": {
            "tags": []
          },
          "execution_count": 17
        }
      ]
    },
    {
      "metadata": {
        "id": "paEGnovAuZc1",
        "colab_type": "code",
        "outputId": "2a024ced-93d8-473a-8785-1d19d194d37f",
        "colab": {
          "base_uri": "https://localhost:8080/",
          "height": 34
        }
      },
      "cell_type": "code",
      "source": [
        "_+10"
      ],
      "execution_count": 18,
      "outputs": [
        {
          "output_type": "execute_result",
          "data": {
            "text/plain": [
              "22"
            ]
          },
          "metadata": {
            "tags": []
          },
          "execution_count": 18
        }
      ]
    },
    {
      "metadata": {
        "id": "oLE6b9TCuZi4",
        "colab_type": "code",
        "outputId": "e8b626d1-a3f3-477c-a772-d13dfd70c592",
        "colab": {
          "base_uri": "https://localhost:8080/",
          "height": 34
        }
      },
      "cell_type": "code",
      "source": [
        "10+20"
      ],
      "execution_count": 19,
      "outputs": [
        {
          "output_type": "execute_result",
          "data": {
            "text/plain": [
              "30"
            ]
          },
          "metadata": {
            "tags": []
          },
          "execution_count": 19
        }
      ]
    },
    {
      "metadata": {
        "id": "yTfeN1M4uZl1",
        "colab_type": "code",
        "colab": {}
      },
      "cell_type": "code",
      "source": [
        "10+20;"
      ],
      "execution_count": 0,
      "outputs": []
    },
    {
      "metadata": {
        "id": "jMFSexAvuZqh",
        "colab_type": "code",
        "outputId": "508ac795-c192-40fd-9808-ff0039c283ba",
        "colab": {
          "base_uri": "https://localhost:8080/",
          "height": 34
        }
      },
      "cell_type": "code",
      "source": [
        "_13"
      ],
      "execution_count": 22,
      "outputs": [
        {
          "output_type": "execute_result",
          "data": {
            "text/plain": [
              "22"
            ]
          },
          "metadata": {
            "tags": []
          },
          "execution_count": 22
        }
      ]
    },
    {
      "metadata": {
        "id": "iN8Mzk7RuZtv",
        "colab_type": "code",
        "outputId": "438764d3-0e1f-4ed6-be66-410ffa86b05f",
        "colab": {
          "base_uri": "https://localhost:8080/",
          "height": 34
        }
      },
      "cell_type": "code",
      "source": [
        "Out[13]"
      ],
      "execution_count": 23,
      "outputs": [
        {
          "output_type": "execute_result",
          "data": {
            "text/plain": [
              "22"
            ]
          },
          "metadata": {
            "tags": []
          },
          "execution_count": 23
        }
      ]
    },
    {
      "metadata": {
        "id": "Z_BJQVJYuZwi",
        "colab_type": "code",
        "outputId": "ee53e1cf-ebe5-40a4-af4f-dd6d2ce99af6",
        "colab": {
          "base_uri": "https://localhost:8080/",
          "height": 34
        }
      },
      "cell_type": "code",
      "source": [
        "In[13]"
      ],
      "execution_count": 24,
      "outputs": [
        {
          "output_type": "execute_result",
          "data": {
            "text/plain": [
              "u'_+10'"
            ]
          },
          "metadata": {
            "tags": []
          },
          "execution_count": 24
        }
      ]
    },
    {
      "metadata": {
        "id": "OMjjUeYhuZ0R",
        "colab_type": "code",
        "outputId": "ed8e8bbc-9bea-4a2a-e540-dbf2c637da22",
        "colab": {
          "base_uri": "https://localhost:8080/",
          "height": 170
        }
      },
      "cell_type": "code",
      "source": [
        "%history -n 11-13"
      ],
      "execution_count": 25,
      "outputs": [
        {
          "output_type": "stream",
          "text": [
            "  11:\n",
            "figure()\n",
            "plot(x, y, 'r--')\n",
            "xlabel('x')\n",
            "ylabel('y')\n",
            "title('title')\n",
            "show()\n",
            "  12: 2+10\n",
            "  13: _+10\n"
          ],
          "name": "stdout"
        }
      ]
    },
    {
      "metadata": {
        "id": "8en4_WjluZ5-",
        "colab_type": "code",
        "colab": {}
      },
      "cell_type": "code",
      "source": [
        "%history?"
      ],
      "execution_count": 0,
      "outputs": []
    },
    {
      "metadata": {
        "id": "0JTZJE1wvtCO",
        "colab_type": "text"
      },
      "cell_type": "markdown",
      "source": [
        "## Accessing the local filesystem"
      ]
    },
    {
      "metadata": {
        "id": "7W6MEPaGvyqm",
        "colab_type": "code",
        "outputId": "c7982c63-0126-4e52-cb9d-65856e39c76e",
        "colab": {
          "base_uri": "https://localhost:8080/",
          "height": 34
        }
      },
      "cell_type": "code",
      "source": [
        "!pwd"
      ],
      "execution_count": 27,
      "outputs": [
        {
          "output_type": "stream",
          "text": [
            "/content\n"
          ],
          "name": "stdout"
        }
      ]
    },
    {
      "metadata": {
        "id": "-DvvIIn3vyxr",
        "colab_type": "code",
        "colab": {}
      },
      "cell_type": "code",
      "source": [
        "!cd /content"
      ],
      "execution_count": 0,
      "outputs": []
    },
    {
      "metadata": {
        "id": "1TcpPoovvy4_",
        "colab_type": "code",
        "outputId": "83d27ce4-326f-4511-e95e-32e23a9cd149",
        "colab": {
          "base_uri": "https://localhost:8080/",
          "height": 34
        }
      },
      "cell_type": "code",
      "source": [
        "!ls"
      ],
      "execution_count": 29,
      "outputs": [
        {
          "output_type": "stream",
          "text": [
            "sample_data\n"
          ],
          "name": "stdout"
        }
      ]
    },
    {
      "metadata": {
        "id": "-Z70Reo-Ow5n",
        "colab_type": "code",
        "colab": {}
      },
      "cell_type": "code",
      "source": [
        "!cd sample_data/"
      ],
      "execution_count": 0,
      "outputs": []
    },
    {
      "metadata": {
        "id": "ipFXvtGqO6Ck",
        "colab_type": "code",
        "colab": {
          "base_uri": "https://localhost:8080/",
          "height": 34
        },
        "outputId": "ba2057bf-573e-411b-8e6c-5ef8f653ef0b"
      },
      "cell_type": "code",
      "source": [
        "!ls"
      ],
      "execution_count": 31,
      "outputs": [
        {
          "output_type": "stream",
          "text": [
            "sample_data\n"
          ],
          "name": "stdout"
        }
      ]
    },
    {
      "metadata": {
        "id": "XoN4rk5uwBe6",
        "colab_type": "text"
      },
      "cell_type": "markdown",
      "source": [
        "## Magic functions"
      ]
    },
    {
      "metadata": {
        "id": "TUEwfaXRwB0N",
        "colab_type": "text"
      },
      "cell_type": "markdown",
      "source": [
        "The IPyhton 'magic' functions are a set of commands, invoked by prepending one or two % signs to their name, that live in a namespace separate from your normal Python variables and provide a more command-like interface. They take flags with -- and arguments without quotes, parentheses or commas. The motivation behind this system is two-fold:\n",
        "\n",
        " - To provide an orthogonal namespace for controlling IPython itself and exposing other system-oriented functionality.\n",
        " - To expose a calling mode that requires minimal verbosity and typing while working interactively. Thus the inspiration taken from the classic Unix shell style for commands."
      ]
    },
    {
      "metadata": {
        "id": "mn0EpqcxwCzH",
        "colab_type": "code",
        "colab": {}
      },
      "cell_type": "code",
      "source": [
        "%magic"
      ],
      "execution_count": 0,
      "outputs": []
    },
    {
      "metadata": {
        "id": "lTCt160AwC46",
        "colab_type": "code",
        "outputId": "42374a7a-db51-442e-c4df-ad5d7cdd9965",
        "colab": {
          "base_uri": "https://localhost:8080/",
          "height": 34
        }
      },
      "cell_type": "code",
      "source": [
        "%%bash \n",
        "ls"
      ],
      "execution_count": 33,
      "outputs": [
        {
          "output_type": "stream",
          "text": [
            "sample_data\n"
          ],
          "name": "stdout"
        }
      ]
    },
    {
      "metadata": {
        "id": "t7NT8pKhrqH7",
        "colab_type": "text"
      },
      "cell_type": "markdown",
      "source": [
        "## Variables and types"
      ]
    },
    {
      "metadata": {
        "id": "V5GJD-rCrqH9",
        "colab_type": "text"
      },
      "cell_type": "markdown",
      "source": [
        "### Symbol names "
      ]
    },
    {
      "metadata": {
        "id": "ZTIsnu1nrqH9",
        "colab_type": "text"
      },
      "cell_type": "markdown",
      "source": [
        "Variable names in Python can contain alphanumerical characters `a-z`, `A-Z`, `0-9` and some special characters such as `_`. Normal variable names must start with a letter. \n",
        "\n",
        "By convention, variable names start with a lower-case letter, and Class names start with a capital letter. \n",
        "\n",
        "In addition, there are a number of Python keywords that cannot be used as variable names. These keywords are:\n",
        "\n",
        "    and, as, assert, break, class, continue, def, del, elif, else, except, \n",
        "    exec, finally, for, from, global, if, import, in, is, lambda, not, or,\n",
        "    pass, print, raise, return, try, while, with, yield\n",
        "\n",
        "Note: Be aware of the keyword `lambda`, which could easily be a natural variable name in a scientific program. But being a keyword, it cannot be used as a variable name."
      ]
    },
    {
      "metadata": {
        "id": "SCdzdYXurqH-",
        "colab_type": "text"
      },
      "cell_type": "markdown",
      "source": [
        "### Assignment"
      ]
    },
    {
      "metadata": {
        "id": "ywJ0O1C5rqH-",
        "colab_type": "text"
      },
      "cell_type": "markdown",
      "source": [
        "\n",
        "\n",
        "The assignment operator in Python is `=`. Python is a dynamically typed language, so we do not need to specify the type of a variable when we create one.\n",
        "\n",
        "Assigning a value to a new variable creates the variable:"
      ]
    },
    {
      "metadata": {
        "id": "dzSJk-pMrqH_",
        "colab_type": "code",
        "colab": {}
      },
      "cell_type": "code",
      "source": [
        "# variable assignments\n",
        "x = 1.0\n",
        "my_variable = 12.2"
      ],
      "execution_count": 0,
      "outputs": []
    },
    {
      "metadata": {
        "id": "L0x6QBLRrqID",
        "colab_type": "text"
      },
      "cell_type": "markdown",
      "source": [
        "Although not explicitly specified, a variable does have a type associated with it. The type is derived from the value that was assigned to it."
      ]
    },
    {
      "metadata": {
        "id": "siBbY_JkrqID",
        "colab_type": "code",
        "outputId": "32b32e6a-d1f8-4f71-bb88-a2efe859b7cd",
        "colab": {
          "base_uri": "https://localhost:8080/",
          "height": 34
        }
      },
      "cell_type": "code",
      "source": [
        "type(x)"
      ],
      "execution_count": 35,
      "outputs": [
        {
          "output_type": "execute_result",
          "data": {
            "text/plain": [
              "float"
            ]
          },
          "metadata": {
            "tags": []
          },
          "execution_count": 35
        }
      ]
    },
    {
      "metadata": {
        "id": "cp6X406BrqIG",
        "colab_type": "text"
      },
      "cell_type": "markdown",
      "source": [
        "If we assign a new value to a variable, its type can change."
      ]
    },
    {
      "metadata": {
        "id": "1o3-y9dHrqIG",
        "colab_type": "code",
        "colab": {}
      },
      "cell_type": "code",
      "source": [
        "x = 1"
      ],
      "execution_count": 0,
      "outputs": []
    },
    {
      "metadata": {
        "id": "9wW73oaerqII",
        "colab_type": "code",
        "outputId": "86bbdb11-efea-4db3-c605-b1890999dbf6",
        "colab": {
          "base_uri": "https://localhost:8080/",
          "height": 34
        }
      },
      "cell_type": "code",
      "source": [
        "type(x)"
      ],
      "execution_count": 37,
      "outputs": [
        {
          "output_type": "execute_result",
          "data": {
            "text/plain": [
              "int"
            ]
          },
          "metadata": {
            "tags": []
          },
          "execution_count": 37
        }
      ]
    },
    {
      "metadata": {
        "id": "RkiD3JqTrqIM",
        "colab_type": "text"
      },
      "cell_type": "markdown",
      "source": [
        "If we try to use a variable that has not yet been defined we get an `NameError`:"
      ]
    },
    {
      "metadata": {
        "id": "uNFrHqwUrqIN",
        "colab_type": "code",
        "outputId": "1062e9d8-72f0-4ae5-dc3b-ef2c52ffda5b",
        "colab": {
          "base_uri": "https://localhost:8080/",
          "height": 164
        }
      },
      "cell_type": "code",
      "source": [
        "print(z)"
      ],
      "execution_count": 0,
      "outputs": [
        {
          "output_type": "error",
          "ename": "NameError",
          "evalue": "ignored",
          "traceback": [
            "\u001b[0;31m\u001b[0m",
            "\u001b[0;31mNameError\u001b[0mTraceback (most recent call last)",
            "\u001b[0;32m<ipython-input-35-c01ac3f50fdc>\u001b[0m in \u001b[0;36m<module>\u001b[0;34m()\u001b[0m\n\u001b[0;32m----> 1\u001b[0;31m \u001b[0;32mprint\u001b[0m\u001b[0;34m(\u001b[0m\u001b[0mz\u001b[0m\u001b[0;34m)\u001b[0m\u001b[0;34m\u001b[0m\u001b[0m\n\u001b[0m",
            "\u001b[0;31mNameError\u001b[0m: name 'z' is not defined"
          ]
        }
      ]
    },
    {
      "metadata": {
        "id": "GPLF_EZdrqIP",
        "colab_type": "text"
      },
      "cell_type": "markdown",
      "source": [
        "### Fundamental types"
      ]
    },
    {
      "metadata": {
        "id": "rHGEKG5KrqIR",
        "colab_type": "code",
        "outputId": "b8cfbcc4-d35c-427a-b9e3-bdb619f4acbe",
        "colab": {
          "base_uri": "https://localhost:8080/",
          "height": 34
        }
      },
      "cell_type": "code",
      "source": [
        "# integers\n",
        "x = 1\n",
        "type(x)"
      ],
      "execution_count": 0,
      "outputs": [
        {
          "output_type": "execute_result",
          "data": {
            "text/plain": [
              "int"
            ]
          },
          "metadata": {
            "tags": []
          },
          "execution_count": 36
        }
      ]
    },
    {
      "metadata": {
        "id": "Et_o-s38rqIU",
        "colab_type": "code",
        "outputId": "5f4085ce-282c-45fd-a985-538992992bf4",
        "colab": {
          "base_uri": "https://localhost:8080/",
          "height": 34
        }
      },
      "cell_type": "code",
      "source": [
        "# float\n",
        "x = 1.0\n",
        "type(x)"
      ],
      "execution_count": 0,
      "outputs": [
        {
          "output_type": "execute_result",
          "data": {
            "text/plain": [
              "float"
            ]
          },
          "metadata": {
            "tags": []
          },
          "execution_count": 37
        }
      ]
    },
    {
      "metadata": {
        "id": "J_xn2K1crqIY",
        "colab_type": "code",
        "outputId": "926d9f9a-45c7-4a6d-8883-a30d4d6b64b8",
        "colab": {
          "base_uri": "https://localhost:8080/",
          "height": 34
        }
      },
      "cell_type": "code",
      "source": [
        "# boolean\n",
        "b1 = True\n",
        "b2 = False\n",
        "\n",
        "type(b1)"
      ],
      "execution_count": 0,
      "outputs": [
        {
          "output_type": "execute_result",
          "data": {
            "text/plain": [
              "bool"
            ]
          },
          "metadata": {
            "tags": []
          },
          "execution_count": 38
        }
      ]
    },
    {
      "metadata": {
        "id": "X3vw8e-0rqIm",
        "colab_type": "text"
      },
      "cell_type": "markdown",
      "source": [
        "### Type utility functions"
      ]
    },
    {
      "metadata": {
        "id": "uK1hYw-2rqIn",
        "colab_type": "text"
      },
      "cell_type": "markdown",
      "source": [
        "\n",
        "The module `types` contains a number of type name definitions that can be used to test if variables are of certain types:"
      ]
    },
    {
      "metadata": {
        "id": "UdPJN2UQrqIn",
        "colab_type": "code",
        "outputId": "6e09cb18-4383-451b-a9ed-755be1330100",
        "colab": {}
      },
      "cell_type": "code",
      "source": [
        "import types\n",
        "\n",
        "# print all types defined in the `types` module\n",
        "print(dir(types))"
      ],
      "execution_count": 0,
      "outputs": [
        {
          "output_type": "stream",
          "text": [
            "['BooleanType', 'BufferType', 'BuiltinFunctionType', 'BuiltinMethodType', 'ClassType', 'CodeType', 'ComplexType', 'DictProxyType', 'DictType', 'DictionaryType', 'EllipsisType', 'FileType', 'FloatType', 'FrameType', 'FunctionType', 'GeneratorType', 'GetSetDescriptorType', 'InstanceType', 'IntType', 'LambdaType', 'ListType', 'LongType', 'MemberDescriptorType', 'MethodType', 'ModuleType', 'NoneType', 'NotImplementedType', 'ObjectType', 'SliceType', 'StringType', 'StringTypes', 'TracebackType', 'TupleType', 'TypeType', 'UnboundMethodType', 'UnicodeType', 'XRangeType', '__all__', '__builtins__', '__doc__', '__file__', '__name__', '__package__']\n"
          ],
          "name": "stdout"
        }
      ]
    },
    {
      "metadata": {
        "id": "_Z_f5EZ0rqIq",
        "colab_type": "code",
        "outputId": "88324d90-853e-4f81-d3c6-9afdcfaa769d",
        "colab": {}
      },
      "cell_type": "code",
      "source": [
        "x = 1.0\n",
        "\n",
        "# check if the variable x is a float\n",
        "type(x) is float"
      ],
      "execution_count": 0,
      "outputs": [
        {
          "output_type": "execute_result",
          "data": {
            "text/plain": [
              "True"
            ]
          },
          "metadata": {
            "tags": []
          },
          "execution_count": 26
        }
      ]
    },
    {
      "metadata": {
        "id": "w4XodirKrqIw",
        "colab_type": "code",
        "outputId": "6d5572a6-606b-458b-9d59-ab963aa57020",
        "colab": {}
      },
      "cell_type": "code",
      "source": [
        "# check if the variable x is an int\n",
        "type(x) is int"
      ],
      "execution_count": 0,
      "outputs": [
        {
          "output_type": "execute_result",
          "data": {
            "text/plain": [
              "False"
            ]
          },
          "metadata": {
            "tags": []
          },
          "execution_count": 27
        }
      ]
    },
    {
      "metadata": {
        "id": "S45YptUhrqIy",
        "colab_type": "text"
      },
      "cell_type": "markdown",
      "source": [
        "We can also use the `isinstance` method for testing types of variables:"
      ]
    },
    {
      "metadata": {
        "id": "at8eLUSGvn36",
        "colab_type": "text"
      },
      "cell_type": "markdown",
      "source": [
        ""
      ]
    },
    {
      "metadata": {
        "id": "EXda48vlrqIz",
        "colab_type": "code",
        "outputId": "97371033-a9f2-4ae9-ee5b-4bb652d89aa8",
        "colab": {}
      },
      "cell_type": "code",
      "source": [
        "isinstance(x, float)"
      ],
      "execution_count": 0,
      "outputs": [
        {
          "output_type": "execute_result",
          "data": {
            "text/plain": [
              "True"
            ]
          },
          "metadata": {
            "tags": []
          },
          "execution_count": 28
        }
      ]
    },
    {
      "metadata": {
        "id": "aNPj7t0yrqJI",
        "colab_type": "text"
      },
      "cell_type": "markdown",
      "source": [
        "## Operators and comparisons"
      ]
    },
    {
      "metadata": {
        "id": "0sipJlrErqJI",
        "colab_type": "text"
      },
      "cell_type": "markdown",
      "source": [
        "Most operators and comparisons in Python work as one would expect:\n",
        "\n",
        "* Arithmetic operators `+`, `-`, `*`, `/`, `//` (integer division), '**' power\n"
      ]
    },
    {
      "metadata": {
        "id": "FSGMfI7PrqJJ",
        "colab_type": "code",
        "outputId": "1872fc34-8478-470a-fe49-1bc9aef2c92b",
        "colab": {
          "base_uri": "https://localhost:8080/",
          "height": 34
        }
      },
      "cell_type": "code",
      "source": [
        "1 + 2, 1 - 2, 1 * 2, 1 / 2"
      ],
      "execution_count": 0,
      "outputs": [
        {
          "output_type": "execute_result",
          "data": {
            "text/plain": [
              "(3, -1, 2, 0)"
            ]
          },
          "metadata": {
            "tags": []
          },
          "execution_count": 42
        }
      ]
    },
    {
      "metadata": {
        "id": "QTq_x7KSrqJN",
        "colab_type": "code",
        "outputId": "cb6dacc5-ed9f-4443-d739-627cf6373de0",
        "colab": {
          "base_uri": "https://localhost:8080/",
          "height": 34
        }
      },
      "cell_type": "code",
      "source": [
        "1.0 + 2.0, 1.0 - 2.0, 1.0 * 2.0, 1.0 / 2.0"
      ],
      "execution_count": 0,
      "outputs": [
        {
          "output_type": "execute_result",
          "data": {
            "text/plain": [
              "(3.0, -1.0, 2.0, 0.5)"
            ]
          },
          "metadata": {
            "tags": []
          },
          "execution_count": 43
        }
      ]
    },
    {
      "metadata": {
        "id": "gw6Kk0X3rqJW",
        "colab_type": "code",
        "outputId": "a83a402e-0751-47fd-b865-f8e62cc6667c",
        "colab": {
          "base_uri": "https://localhost:8080/",
          "height": 34
        }
      },
      "cell_type": "code",
      "source": [
        "# Note! The power operators in python isn't ^, but **\n",
        "2 ** 2"
      ],
      "execution_count": 0,
      "outputs": [
        {
          "output_type": "execute_result",
          "data": {
            "text/plain": [
              "4"
            ]
          },
          "metadata": {
            "tags": []
          },
          "execution_count": 46
        }
      ]
    },
    {
      "metadata": {
        "id": "SK7fqW3wrqJY",
        "colab_type": "text"
      },
      "cell_type": "markdown",
      "source": [
        "Note: The `/` operator always performs a floating point division in Python 3.x.\n",
        "This is not true in Python 2.x, where the result of `/` is always an integer if the operands are integers.\n",
        "to be more specific, `1/2 = 0.5` (`float`) in Python 3.x, and `1/2 = 0` (`int`) in Python 2.x (but `1.0/2 = 0.5` in Python 2.x)."
      ]
    },
    {
      "metadata": {
        "id": "ZatJV5HRrqJZ",
        "colab_type": "text"
      },
      "cell_type": "markdown",
      "source": [
        "* The boolean operators are spelled out as the words `and`, `not`, `or`. "
      ]
    },
    {
      "metadata": {
        "id": "fuitvCHYrqJa",
        "colab_type": "code",
        "outputId": "01c1cc54-6463-45cf-8c5c-6e196c255813",
        "colab": {
          "base_uri": "https://localhost:8080/",
          "height": 34
        }
      },
      "cell_type": "code",
      "source": [
        "True and False"
      ],
      "execution_count": 0,
      "outputs": [
        {
          "output_type": "execute_result",
          "data": {
            "text/plain": [
              "False"
            ]
          },
          "metadata": {
            "tags": []
          },
          "execution_count": 47
        }
      ]
    },
    {
      "metadata": {
        "id": "SslDjcx6rqJc",
        "colab_type": "code",
        "outputId": "fe34a012-8e74-46ea-f1f1-6a41800ebc69",
        "colab": {
          "base_uri": "https://localhost:8080/",
          "height": 34
        }
      },
      "cell_type": "code",
      "source": [
        "not False"
      ],
      "execution_count": 0,
      "outputs": [
        {
          "output_type": "execute_result",
          "data": {
            "text/plain": [
              "True"
            ]
          },
          "metadata": {
            "tags": []
          },
          "execution_count": 48
        }
      ]
    },
    {
      "metadata": {
        "id": "v5aUhCaprqJe",
        "colab_type": "code",
        "outputId": "8c922bbb-e05c-4837-97ad-b0db24f04262",
        "colab": {
          "base_uri": "https://localhost:8080/",
          "height": 34
        }
      },
      "cell_type": "code",
      "source": [
        "True or False"
      ],
      "execution_count": 0,
      "outputs": [
        {
          "output_type": "execute_result",
          "data": {
            "text/plain": [
              "True"
            ]
          },
          "metadata": {
            "tags": []
          },
          "execution_count": 49
        }
      ]
    },
    {
      "metadata": {
        "id": "J_j9GGd4rqJg",
        "colab_type": "text"
      },
      "cell_type": "markdown",
      "source": [
        "* Comparison operators `>`, `<`, `>=` (greater or equal), `<=` (less or equal), `==` equality, `is` identical."
      ]
    },
    {
      "metadata": {
        "id": "AIKYomS0rqJh",
        "colab_type": "code",
        "outputId": "3d3c9500-bd0d-48b0-dd29-47e824c7dc48",
        "colab": {
          "base_uri": "https://localhost:8080/",
          "height": 34
        }
      },
      "cell_type": "code",
      "source": [
        "2 > 1, 2 < 1"
      ],
      "execution_count": 0,
      "outputs": [
        {
          "output_type": "execute_result",
          "data": {
            "text/plain": [
              "(True, False)"
            ]
          },
          "metadata": {
            "tags": []
          },
          "execution_count": 50
        }
      ]
    },
    {
      "metadata": {
        "id": "a4aXsFTOrqJj",
        "colab_type": "code",
        "outputId": "d43c8f15-d05a-4a6f-e7b8-534227643c50",
        "colab": {
          "base_uri": "https://localhost:8080/",
          "height": 34
        }
      },
      "cell_type": "code",
      "source": [
        "2 > 2, 2 < 2"
      ],
      "execution_count": 0,
      "outputs": [
        {
          "output_type": "execute_result",
          "data": {
            "text/plain": [
              "(False, False)"
            ]
          },
          "metadata": {
            "tags": []
          },
          "execution_count": 51
        }
      ]
    },
    {
      "metadata": {
        "id": "tpRBXU7HrqJo",
        "colab_type": "code",
        "outputId": "d0fbf43c-2222-4d05-89cc-f888996e28f4",
        "colab": {
          "base_uri": "https://localhost:8080/",
          "height": 34
        }
      },
      "cell_type": "code",
      "source": [
        "2 >= 2, 2 <= 2"
      ],
      "execution_count": 0,
      "outputs": [
        {
          "output_type": "execute_result",
          "data": {
            "text/plain": [
              "(True, True)"
            ]
          },
          "metadata": {
            "tags": []
          },
          "execution_count": 52
        }
      ]
    },
    {
      "metadata": {
        "id": "WjAh6MHlrqJr",
        "colab_type": "code",
        "outputId": "0afa92d0-9e45-4e0d-dbbf-3cbcd8e1ddc0",
        "colab": {
          "base_uri": "https://localhost:8080/",
          "height": 34
        }
      },
      "cell_type": "code",
      "source": [
        "# equality\n",
        "[1,2] == [1,2]"
      ],
      "execution_count": 0,
      "outputs": [
        {
          "output_type": "execute_result",
          "data": {
            "text/plain": [
              "True"
            ]
          },
          "metadata": {
            "tags": []
          },
          "execution_count": 53
        }
      ]
    },
    {
      "metadata": {
        "id": "0a23cd1urqJv",
        "colab_type": "code",
        "outputId": "d93cec7d-ce40-482d-a632-1f44ad814cb3",
        "colab": {
          "base_uri": "https://localhost:8080/",
          "height": 34
        }
      },
      "cell_type": "code",
      "source": [
        "# objects identical?\n",
        "l1 = l2 = [1,2]\n",
        "\n",
        "l1 is l2"
      ],
      "execution_count": 0,
      "outputs": [
        {
          "output_type": "execute_result",
          "data": {
            "text/plain": [
              "True"
            ]
          },
          "metadata": {
            "tags": []
          },
          "execution_count": 54
        }
      ]
    },
    {
      "metadata": {
        "id": "QYjvFm1MrqJx",
        "colab_type": "text"
      },
      "cell_type": "markdown",
      "source": [
        "## Compound types: Strings, List and dictionaries"
      ]
    },
    {
      "metadata": {
        "id": "vprE3U8-rqJx",
        "colab_type": "text"
      },
      "cell_type": "markdown",
      "source": [
        "### Strings"
      ]
    },
    {
      "metadata": {
        "id": "MZSjZdw_rqJz",
        "colab_type": "text"
      },
      "cell_type": "markdown",
      "source": [
        "Strings are the variable type that is used for storing text messages. "
      ]
    },
    {
      "metadata": {
        "id": "vpFkYZ-IrqJ0",
        "colab_type": "code",
        "outputId": "009426c3-6beb-4f45-9851-ad56ce5c41fa",
        "colab": {
          "base_uri": "https://localhost:8080/",
          "height": 34
        }
      },
      "cell_type": "code",
      "source": [
        "s = \"Hello world\"\n",
        "type(s)"
      ],
      "execution_count": 0,
      "outputs": [
        {
          "output_type": "execute_result",
          "data": {
            "text/plain": [
              "str"
            ]
          },
          "metadata": {
            "tags": []
          },
          "execution_count": 55
        }
      ]
    },
    {
      "metadata": {
        "id": "EkEWnJgMrqJ1",
        "colab_type": "code",
        "outputId": "ebe6e32c-b15e-4f0f-ae8d-8687a5c61176",
        "colab": {
          "base_uri": "https://localhost:8080/",
          "height": 34
        }
      },
      "cell_type": "code",
      "source": [
        "# length of the string: the number of characters\n",
        "len(s)"
      ],
      "execution_count": 0,
      "outputs": [
        {
          "output_type": "execute_result",
          "data": {
            "text/plain": [
              "11"
            ]
          },
          "metadata": {
            "tags": []
          },
          "execution_count": 56
        }
      ]
    },
    {
      "metadata": {
        "id": "jOPmEY4arqJ5",
        "colab_type": "code",
        "outputId": "693c1258-c16a-4010-c8ff-d5da5551a1bf",
        "colab": {
          "base_uri": "https://localhost:8080/",
          "height": 34
        }
      },
      "cell_type": "code",
      "source": [
        "# replace a substring in a string with something else\n",
        "s2 = s.replace(\"world\", \"test\")\n",
        "print(s2)"
      ],
      "execution_count": 0,
      "outputs": [
        {
          "output_type": "stream",
          "text": [
            "Hello test\n"
          ],
          "name": "stdout"
        }
      ]
    },
    {
      "metadata": {
        "id": "RH7BkUrFrqJ7",
        "colab_type": "text"
      },
      "cell_type": "markdown",
      "source": [
        "We can index a character in a string using `[]`:"
      ]
    },
    {
      "metadata": {
        "id": "MHMsWy-XrqJ9",
        "colab_type": "code",
        "outputId": "fe81cd0d-557e-4ec8-c915-d1553005763e",
        "colab": {
          "base_uri": "https://localhost:8080/",
          "height": 34
        }
      },
      "cell_type": "code",
      "source": [
        "s[0]"
      ],
      "execution_count": 0,
      "outputs": [
        {
          "output_type": "execute_result",
          "data": {
            "text/plain": [
              "'H'"
            ]
          },
          "metadata": {
            "tags": []
          },
          "execution_count": 58
        }
      ]
    },
    {
      "metadata": {
        "id": "vXWQ-3gXrqJ_",
        "colab_type": "text"
      },
      "cell_type": "markdown",
      "source": [
        "We can extract a part of a string using the syntax `[start:stop]`, which extracts characters between index `start` and `stop` -1 (the character at index `stop` is not included):"
      ]
    },
    {
      "metadata": {
        "id": "EVJG1tuArqKA",
        "colab_type": "code",
        "outputId": "99175887-a6a1-41aa-875b-964b2f709004",
        "colab": {
          "base_uri": "https://localhost:8080/",
          "height": 34
        }
      },
      "cell_type": "code",
      "source": [
        "s[0:5]"
      ],
      "execution_count": 0,
      "outputs": [
        {
          "output_type": "execute_result",
          "data": {
            "text/plain": [
              "'Hello'"
            ]
          },
          "metadata": {
            "tags": []
          },
          "execution_count": 59
        }
      ]
    },
    {
      "metadata": {
        "id": "Ti2eFhBirqKD",
        "colab_type": "code",
        "outputId": "7aeea7de-45c2-443a-8806-9047f0d8f4bd",
        "colab": {
          "base_uri": "https://localhost:8080/",
          "height": 34
        }
      },
      "cell_type": "code",
      "source": [
        "s[4:5]"
      ],
      "execution_count": 0,
      "outputs": [
        {
          "output_type": "execute_result",
          "data": {
            "text/plain": [
              "'o'"
            ]
          },
          "metadata": {
            "tags": []
          },
          "execution_count": 60
        }
      ]
    },
    {
      "metadata": {
        "id": "VzzS-mLcrqKH",
        "colab_type": "text"
      },
      "cell_type": "markdown",
      "source": [
        "If we omit either (or both) of `start` or `stop` from `[start:stop]`, the default is the beginning and the end of the string, respectively:"
      ]
    },
    {
      "metadata": {
        "id": "UtmkWUHKrqKJ",
        "colab_type": "code",
        "outputId": "a8cc7b58-f7ba-4314-ba02-c41531c7c277",
        "colab": {
          "base_uri": "https://localhost:8080/",
          "height": 34
        }
      },
      "cell_type": "code",
      "source": [
        "s[:5]"
      ],
      "execution_count": 0,
      "outputs": [
        {
          "output_type": "execute_result",
          "data": {
            "text/plain": [
              "'Hello'"
            ]
          },
          "metadata": {
            "tags": []
          },
          "execution_count": 61
        }
      ]
    },
    {
      "metadata": {
        "id": "j-o5NUeUrqKL",
        "colab_type": "code",
        "outputId": "2053a0ea-6c9e-4116-da7d-9520b6e4394c",
        "colab": {
          "base_uri": "https://localhost:8080/",
          "height": 34
        }
      },
      "cell_type": "code",
      "source": [
        "s[6:]"
      ],
      "execution_count": 0,
      "outputs": [
        {
          "output_type": "execute_result",
          "data": {
            "text/plain": [
              "'world'"
            ]
          },
          "metadata": {
            "tags": []
          },
          "execution_count": 62
        }
      ]
    },
    {
      "metadata": {
        "id": "dfj6zDxurqKN",
        "colab_type": "code",
        "outputId": "d90efc33-2d9f-4bf1-8270-f958d94f60e8",
        "colab": {
          "base_uri": "https://localhost:8080/",
          "height": 34
        }
      },
      "cell_type": "code",
      "source": [
        "s[:]"
      ],
      "execution_count": 0,
      "outputs": [
        {
          "output_type": "execute_result",
          "data": {
            "text/plain": [
              "'Hello world'"
            ]
          },
          "metadata": {
            "tags": []
          },
          "execution_count": 63
        }
      ]
    },
    {
      "metadata": {
        "id": "EzQWBCmPrqKP",
        "colab_type": "text"
      },
      "cell_type": "markdown",
      "source": [
        "We can also define the step size using the syntax `[start:end:step]` (the default value for `step` is 1, as we saw above):"
      ]
    },
    {
      "metadata": {
        "id": "ZHWM1V6prqKQ",
        "colab_type": "code",
        "outputId": "3392dea0-cada-407d-8dfb-cbac586f1850",
        "colab": {
          "base_uri": "https://localhost:8080/",
          "height": 34
        }
      },
      "cell_type": "code",
      "source": [
        "s[::1]"
      ],
      "execution_count": 0,
      "outputs": [
        {
          "output_type": "execute_result",
          "data": {
            "text/plain": [
              "'Hello world'"
            ]
          },
          "metadata": {
            "tags": []
          },
          "execution_count": 64
        }
      ]
    },
    {
      "metadata": {
        "id": "Wq0SodECrqKT",
        "colab_type": "code",
        "outputId": "5e818acd-5db6-44b4-9e00-9a64719b90f7",
        "colab": {
          "base_uri": "https://localhost:8080/",
          "height": 34
        }
      },
      "cell_type": "code",
      "source": [
        "s[::2]"
      ],
      "execution_count": 0,
      "outputs": [
        {
          "output_type": "execute_result",
          "data": {
            "text/plain": [
              "'Hlowrd'"
            ]
          },
          "metadata": {
            "tags": []
          },
          "execution_count": 65
        }
      ]
    },
    {
      "metadata": {
        "id": "50cLY32DrqKU",
        "colab_type": "text"
      },
      "cell_type": "markdown",
      "source": [
        "This technique is called *slicing*. Read more about the syntax here: https://docs.python.org/3/library/functions.html#slice "
      ]
    },
    {
      "metadata": {
        "id": "WwnfyhdKrqKV",
        "colab_type": "text"
      },
      "cell_type": "markdown",
      "source": [
        "Python has a very rich set of functions for text processing. See for example https://docs.python.org/3/library/string.html "
      ]
    },
    {
      "metadata": {
        "id": "jn7-C1qOrqKm",
        "colab_type": "text"
      },
      "cell_type": "markdown",
      "source": [
        "### List"
      ]
    },
    {
      "metadata": {
        "id": "lW4ducHVrqKm",
        "colab_type": "text"
      },
      "cell_type": "markdown",
      "source": [
        "Lists are very similar to strings, except that each element can be of any type.\n",
        "\n",
        "The syntax for creating lists in Python is `[...]`:"
      ]
    },
    {
      "metadata": {
        "id": "1OZlXHBnrqKm",
        "colab_type": "code",
        "outputId": "6010d1ac-9c0b-4b11-de6b-39ac3026a790",
        "colab": {
          "base_uri": "https://localhost:8080/",
          "height": 51
        }
      },
      "cell_type": "code",
      "source": [
        "l = [1,2,3,4]\n",
        "\n",
        "print(type(l))\n",
        "print(l)"
      ],
      "execution_count": 0,
      "outputs": [
        {
          "output_type": "stream",
          "text": [
            "<type 'list'>\n",
            "[1, 2, 3, 4]\n"
          ],
          "name": "stdout"
        }
      ]
    },
    {
      "metadata": {
        "id": "-40__ZncrqKo",
        "colab_type": "text"
      },
      "cell_type": "markdown",
      "source": [
        "We can use the same slicing techniques to manipulate lists as we could use on strings:"
      ]
    },
    {
      "metadata": {
        "id": "2yI_DFK2rqKp",
        "colab_type": "code",
        "outputId": "d6e81b6b-8c28-4847-ee3b-29a9d2abb303",
        "colab": {
          "base_uri": "https://localhost:8080/",
          "height": 68
        }
      },
      "cell_type": "code",
      "source": [
        "print(l)\n",
        "\n",
        "print(l[1:3])\n",
        "\n",
        "print(l[::2])"
      ],
      "execution_count": 0,
      "outputs": [
        {
          "output_type": "stream",
          "text": [
            "[1, 2, 3, 4]\n",
            "[2, 3]\n",
            "[1, 3]\n"
          ],
          "name": "stdout"
        }
      ]
    },
    {
      "metadata": {
        "id": "Ingf40Z2rqKr",
        "colab_type": "text"
      },
      "cell_type": "markdown",
      "source": [
        "Indexing starts at 0!"
      ]
    },
    {
      "metadata": {
        "id": "R4c38pusrqKr",
        "colab_type": "code",
        "outputId": "ac0de78a-7538-4bf3-d640-42678c0a2bb4",
        "colab": {}
      },
      "cell_type": "code",
      "source": [
        "l[0]"
      ],
      "execution_count": 0,
      "outputs": [
        {
          "output_type": "execute_result",
          "data": {
            "text/plain": [
              "1"
            ]
          },
          "metadata": {
            "tags": []
          },
          "execution_count": 65
        }
      ]
    },
    {
      "metadata": {
        "id": "z9uY_k71rqKu",
        "colab_type": "text"
      },
      "cell_type": "markdown",
      "source": [
        "Elements in a list do not all have to be of the same type:"
      ]
    },
    {
      "metadata": {
        "id": "QRz3ih0wrqKv",
        "colab_type": "code",
        "outputId": "a3066bd4-81f8-4b27-8ab2-3f8a56d3788a",
        "colab": {
          "base_uri": "https://localhost:8080/",
          "height": 34
        }
      },
      "cell_type": "code",
      "source": [
        "l = [1, 'a', 1.0, 1-1j]\n",
        "\n",
        "print(l)"
      ],
      "execution_count": 0,
      "outputs": [
        {
          "output_type": "stream",
          "text": [
            "[1, 'a', 1.0, (1-1j)]\n"
          ],
          "name": "stdout"
        }
      ]
    },
    {
      "metadata": {
        "id": "q5U4izyTrqKx",
        "colab_type": "text"
      },
      "cell_type": "markdown",
      "source": [
        "Python lists can be inhomogeneous and arbitrarily nested:"
      ]
    },
    {
      "metadata": {
        "id": "tTvDD5-xrqKx",
        "colab_type": "code",
        "outputId": "8e74736b-0387-4ea7-a59a-40e3e7580073",
        "colab": {
          "base_uri": "https://localhost:8080/",
          "height": 34
        }
      },
      "cell_type": "code",
      "source": [
        "nested_list = [1, [2, [3, [4, [5]]]]]\n",
        "\n",
        "nested_list"
      ],
      "execution_count": 0,
      "outputs": [
        {
          "output_type": "execute_result",
          "data": {
            "text/plain": [
              "[1, [2, [3, [4, [5]]]]]"
            ]
          },
          "metadata": {
            "tags": []
          },
          "execution_count": 69
        }
      ]
    },
    {
      "metadata": {
        "id": "tOa5RUwQrqKz",
        "colab_type": "text"
      },
      "cell_type": "markdown",
      "source": [
        "Lists play a very important role in Python. For example they are used in loops and other flow control structures (discussed below). There are a number of convenient functions for generating lists of various types, for example the `range` function:"
      ]
    },
    {
      "metadata": {
        "id": "0OgkmokGrqK0",
        "colab_type": "code",
        "outputId": "894f6a15-e64d-48f2-c714-e3af7e0148bc",
        "colab": {
          "base_uri": "https://localhost:8080/",
          "height": 34
        }
      },
      "cell_type": "code",
      "source": [
        "start = 10\n",
        "stop = 30\n",
        "step = 2\n",
        "\n",
        "range(start, stop, step)"
      ],
      "execution_count": 0,
      "outputs": [
        {
          "output_type": "execute_result",
          "data": {
            "text/plain": [
              "[10, 12, 14, 16, 18, 20, 22, 24, 26, 28]"
            ]
          },
          "metadata": {
            "tags": []
          },
          "execution_count": 70
        }
      ]
    },
    {
      "metadata": {
        "id": "b8Gsk70brqK1",
        "colab_type": "code",
        "outputId": "eb7e05e9-5760-49fb-e8f7-d1c8486aa66a",
        "colab": {
          "base_uri": "https://localhost:8080/",
          "height": 34
        }
      },
      "cell_type": "code",
      "source": [
        "# in python 3 range generates an iterator, which can be converted to a list using 'list(...)'.\n",
        "# It has no effect in python 2\n",
        "list(range(start, stop, step))"
      ],
      "execution_count": 0,
      "outputs": [
        {
          "output_type": "execute_result",
          "data": {
            "text/plain": [
              "[10, 12, 14, 16, 18, 20, 22, 24, 26, 28]"
            ]
          },
          "metadata": {
            "tags": []
          },
          "execution_count": 71
        }
      ]
    },
    {
      "metadata": {
        "id": "XiqvF3fDrqK3",
        "colab_type": "code",
        "outputId": "99671b02-2f64-4abf-bd96-e7727e353e7e",
        "colab": {
          "base_uri": "https://localhost:8080/",
          "height": 34
        }
      },
      "cell_type": "code",
      "source": [
        "list(range(-10, 10))"
      ],
      "execution_count": 0,
      "outputs": [
        {
          "output_type": "execute_result",
          "data": {
            "text/plain": [
              "[-10, -9, -8, -7, -6, -5, -4, -3, -2, -1, 0, 1, 2, 3, 4, 5, 6, 7, 8, 9]"
            ]
          },
          "metadata": {
            "tags": []
          },
          "execution_count": 72
        }
      ]
    },
    {
      "metadata": {
        "id": "o--z8veurqK5",
        "colab_type": "code",
        "outputId": "093f2dd9-7bf4-473d-e1a7-422436839f47",
        "colab": {
          "base_uri": "https://localhost:8080/",
          "height": 34
        }
      },
      "cell_type": "code",
      "source": [
        "s"
      ],
      "execution_count": 0,
      "outputs": [
        {
          "output_type": "execute_result",
          "data": {
            "text/plain": [
              "'Hello world'"
            ]
          },
          "metadata": {
            "tags": []
          },
          "execution_count": 73
        }
      ]
    },
    {
      "metadata": {
        "id": "pSmzCy7GrqK7",
        "colab_type": "code",
        "outputId": "3a333c2d-091c-42c8-8663-3c9e5c4b19c4",
        "colab": {
          "base_uri": "https://localhost:8080/",
          "height": 34
        }
      },
      "cell_type": "code",
      "source": [
        "# convert a string to a list by type casting:\n",
        "s2 = list(s)\n",
        "\n",
        "s2"
      ],
      "execution_count": 0,
      "outputs": [
        {
          "output_type": "execute_result",
          "data": {
            "text/plain": [
              "['H', 'e', 'l', 'l', 'o', ' ', 'w', 'o', 'r', 'l', 'd']"
            ]
          },
          "metadata": {
            "tags": []
          },
          "execution_count": 74
        }
      ]
    },
    {
      "metadata": {
        "id": "IwSfQifPrqLA",
        "colab_type": "code",
        "outputId": "a2fd3a91-703d-43b7-e5b7-618413ff2fc0",
        "colab": {
          "base_uri": "https://localhost:8080/",
          "height": 34
        }
      },
      "cell_type": "code",
      "source": [
        "# sorting lists\n",
        "s2.sort()\n",
        "\n",
        "print(s2)"
      ],
      "execution_count": 0,
      "outputs": [
        {
          "output_type": "stream",
          "text": [
            "[' ', 'H', 'd', 'e', 'l', 'l', 'l', 'o', 'o', 'r', 'w']\n"
          ],
          "name": "stdout"
        }
      ]
    },
    {
      "metadata": {
        "id": "Hy5h2yKVrqLC",
        "colab_type": "text"
      },
      "cell_type": "markdown",
      "source": [
        "#### Adding, inserting, modifying, and removing elements from lists"
      ]
    },
    {
      "metadata": {
        "id": "FH6zYr3KrqLC",
        "colab_type": "code",
        "outputId": "fb2ce19a-4e98-4478-ebbe-47e5410d9d43",
        "colab": {
          "base_uri": "https://localhost:8080/",
          "height": 34
        }
      },
      "cell_type": "code",
      "source": [
        "# create a new empty list\n",
        "l = []\n",
        "\n",
        "# add an elements using `append`\n",
        "l.append(\"A\")\n",
        "l.append(\"d\")\n",
        "l.append(\"d\")\n",
        "\n",
        "print(l)"
      ],
      "execution_count": 0,
      "outputs": [
        {
          "output_type": "stream",
          "text": [
            "['A', 'd', 'd']\n"
          ],
          "name": "stdout"
        }
      ]
    },
    {
      "metadata": {
        "id": "82t2ndp8rqLE",
        "colab_type": "text"
      },
      "cell_type": "markdown",
      "source": [
        "We can modify lists by assigning new values to elements in the list. In technical jargon, lists are *mutable*."
      ]
    },
    {
      "metadata": {
        "id": "eCty_dwhrqLE",
        "colab_type": "code",
        "outputId": "a89e59f3-edb7-4e34-dc44-50ae182f158c",
        "colab": {
          "base_uri": "https://localhost:8080/",
          "height": 34
        }
      },
      "cell_type": "code",
      "source": [
        "l[1] = \"p\"\n",
        "l[2] = \"p\"\n",
        "\n",
        "print(l)"
      ],
      "execution_count": 0,
      "outputs": [
        {
          "output_type": "stream",
          "text": [
            "['A', 'p', 'p']\n"
          ],
          "name": "stdout"
        }
      ]
    },
    {
      "metadata": {
        "id": "pi2WpNgArqLG",
        "colab_type": "code",
        "outputId": "a90f0f4e-c015-4f2e-830b-9ba20aa58480",
        "colab": {
          "base_uri": "https://localhost:8080/",
          "height": 34
        }
      },
      "cell_type": "code",
      "source": [
        "l[1:3] = [\"d\", \"d\"]\n",
        "\n",
        "print(l)"
      ],
      "execution_count": 0,
      "outputs": [
        {
          "output_type": "stream",
          "text": [
            "['A', 'd', 'd']\n"
          ],
          "name": "stdout"
        }
      ]
    },
    {
      "metadata": {
        "id": "0Z-RXcb0rqLH",
        "colab_type": "text"
      },
      "cell_type": "markdown",
      "source": [
        "Insert an element at an specific index using `insert`"
      ]
    },
    {
      "metadata": {
        "id": "fy_zaJUurqLH",
        "colab_type": "code",
        "outputId": "f8c5a02a-adac-41ef-fd76-ce91cd845eb5",
        "colab": {
          "base_uri": "https://localhost:8080/",
          "height": 34
        }
      },
      "cell_type": "code",
      "source": [
        "l.insert(0, \"i\")\n",
        "l.insert(1, \"n\")\n",
        "l.insert(2, \"s\")\n",
        "l.insert(3, \"e\")\n",
        "l.insert(4, \"r\")\n",
        "l.insert(5, \"t\")\n",
        "\n",
        "print(l)"
      ],
      "execution_count": 0,
      "outputs": [
        {
          "output_type": "stream",
          "text": [
            "['i', 'n', 's', 'e', 'r', 't', 'A', 'd', 'd']\n"
          ],
          "name": "stdout"
        }
      ]
    },
    {
      "metadata": {
        "id": "QDrMn7pErqLI",
        "colab_type": "text"
      },
      "cell_type": "markdown",
      "source": [
        "Remove first element with specific value using 'remove'"
      ]
    },
    {
      "metadata": {
        "id": "3BnQm_L_rqLJ",
        "colab_type": "code",
        "outputId": "43aacde3-fcff-4ac1-f710-5c712de189cf",
        "colab": {
          "base_uri": "https://localhost:8080/",
          "height": 34
        }
      },
      "cell_type": "code",
      "source": [
        "l.remove(\"A\")\n",
        "\n",
        "print(l)"
      ],
      "execution_count": 0,
      "outputs": [
        {
          "output_type": "stream",
          "text": [
            "['i', 'n', 's', 'e', 'r', 't', 'd', 'd']\n"
          ],
          "name": "stdout"
        }
      ]
    },
    {
      "metadata": {
        "id": "i-wNlQw0rqLM",
        "colab_type": "text"
      },
      "cell_type": "markdown",
      "source": [
        "Remove an element at a specific location using `del`:"
      ]
    },
    {
      "metadata": {
        "id": "6omHQovrrqLM",
        "colab_type": "code",
        "outputId": "26456c90-64f5-4d1a-b73f-c207d1ffa1a3",
        "colab": {
          "base_uri": "https://localhost:8080/",
          "height": 34
        }
      },
      "cell_type": "code",
      "source": [
        "del l[7]\n",
        "del l[6]\n",
        "\n",
        "print(l)"
      ],
      "execution_count": 0,
      "outputs": [
        {
          "output_type": "stream",
          "text": [
            "['i', 'n', 's', 'e', 'r', 't']\n"
          ],
          "name": "stdout"
        }
      ]
    },
    {
      "metadata": {
        "id": "G43piztbrqLO",
        "colab_type": "text"
      },
      "cell_type": "markdown",
      "source": [
        "See `help(list)` for more details, or read the online documentation "
      ]
    },
    {
      "metadata": {
        "id": "faHv5MlarqLP",
        "colab_type": "text"
      },
      "cell_type": "markdown",
      "source": [
        "### Tuples"
      ]
    },
    {
      "metadata": {
        "id": "pGAu422KrqLQ",
        "colab_type": "text"
      },
      "cell_type": "markdown",
      "source": [
        "Tuples are like lists, except that they cannot be modified once created, that is they are *immutable*. \n",
        "\n",
        "In Python, tuples are created using the syntax `(..., ..., ...)`, or even `..., ...`:"
      ]
    },
    {
      "metadata": {
        "id": "aQqLXrMhrqLQ",
        "colab_type": "code",
        "outputId": "ffcb3c9d-23b3-4b83-87df-75321536d474",
        "colab": {
          "base_uri": "https://localhost:8080/",
          "height": 34
        }
      },
      "cell_type": "code",
      "source": [
        "point = (10, 20)\n",
        "\n",
        "print(point, type(point))"
      ],
      "execution_count": 0,
      "outputs": [
        {
          "output_type": "stream",
          "text": [
            "((10, 20), <type 'tuple'>)\n"
          ],
          "name": "stdout"
        }
      ]
    },
    {
      "metadata": {
        "id": "fnOW3BZurqLV",
        "colab_type": "code",
        "outputId": "bd412ae0-1ee6-4596-8eeb-2fc01031dd0a",
        "colab": {
          "base_uri": "https://localhost:8080/",
          "height": 34
        }
      },
      "cell_type": "code",
      "source": [
        "point = 10, 20\n",
        "\n",
        "print(point, type(point))"
      ],
      "execution_count": 0,
      "outputs": [
        {
          "output_type": "stream",
          "text": [
            "((10, 20), <type 'tuple'>)\n"
          ],
          "name": "stdout"
        }
      ]
    },
    {
      "metadata": {
        "id": "1m0nlTv7rqLX",
        "colab_type": "text"
      },
      "cell_type": "markdown",
      "source": [
        "We can unpack a tuple by assigning it to a comma-separated list of variables:"
      ]
    },
    {
      "metadata": {
        "id": "VLLA7nfLrqLX",
        "colab_type": "code",
        "outputId": "592dc00f-7a04-458d-967d-f99a00466343",
        "colab": {
          "base_uri": "https://localhost:8080/",
          "height": 51
        }
      },
      "cell_type": "code",
      "source": [
        "x, y = point\n",
        "\n",
        "print(\"x =\", x)\n",
        "print(\"y =\", y)"
      ],
      "execution_count": 0,
      "outputs": [
        {
          "output_type": "stream",
          "text": [
            "('x =', 10)\n",
            "('y =', 20)\n"
          ],
          "name": "stdout"
        }
      ]
    },
    {
      "metadata": {
        "id": "YS40ncrzrqLb",
        "colab_type": "text"
      },
      "cell_type": "markdown",
      "source": [
        "If we try to assign a new value to an element in a tuple we get an error:"
      ]
    },
    {
      "metadata": {
        "id": "q5L_qh-LrqLb",
        "colab_type": "code",
        "outputId": "e97ae9a6-c9c2-488f-81df-66956a1e79ae",
        "colab": {
          "base_uri": "https://localhost:8080/",
          "height": 164
        }
      },
      "cell_type": "code",
      "source": [
        "point[0] = 20"
      ],
      "execution_count": 0,
      "outputs": [
        {
          "output_type": "error",
          "ename": "TypeError",
          "evalue": "ignored",
          "traceback": [
            "\u001b[0;31m\u001b[0m",
            "\u001b[0;31mTypeError\u001b[0mTraceback (most recent call last)",
            "\u001b[0;32m<ipython-input-85-9734b1daa940>\u001b[0m in \u001b[0;36m<module>\u001b[0;34m()\u001b[0m\n\u001b[0;32m----> 1\u001b[0;31m \u001b[0mpoint\u001b[0m\u001b[0;34m[\u001b[0m\u001b[0;36m0\u001b[0m\u001b[0;34m]\u001b[0m \u001b[0;34m=\u001b[0m \u001b[0;36m20\u001b[0m\u001b[0;34m\u001b[0m\u001b[0m\n\u001b[0m",
            "\u001b[0;31mTypeError\u001b[0m: 'tuple' object does not support item assignment"
          ]
        }
      ]
    },
    {
      "metadata": {
        "id": "3xiOFSC7rqLd",
        "colab_type": "text"
      },
      "cell_type": "markdown",
      "source": [
        "### Dictionaries"
      ]
    },
    {
      "metadata": {
        "id": "ys5RT4BerqLe",
        "colab_type": "text"
      },
      "cell_type": "markdown",
      "source": [
        "Dictionaries are also like lists, except that each element is a key-value pair. The syntax for dictionaries is `{key1 : value1, ...}`:"
      ]
    },
    {
      "metadata": {
        "id": "0n4LQKCXrqLe",
        "colab_type": "code",
        "outputId": "ae4e3698-dfd9-4d55-ab89-767aacd4244c",
        "colab": {
          "base_uri": "https://localhost:8080/",
          "height": 51
        }
      },
      "cell_type": "code",
      "source": [
        "params = {\"parameter1\" : 1.0,\n",
        "          \"parameter2\" : 2.0,\n",
        "          \"parameter3\" : 3.0,}\n",
        "\n",
        "print(type(params))\n",
        "print(params)"
      ],
      "execution_count": 0,
      "outputs": [
        {
          "output_type": "stream",
          "text": [
            "<type 'dict'>\n",
            "{'parameter1': 1.0, 'parameter3': 3.0, 'parameter2': 2.0}\n"
          ],
          "name": "stdout"
        }
      ]
    },
    {
      "metadata": {
        "id": "7TKj_OAgrqLh",
        "colab_type": "code",
        "outputId": "b4e2b855-277a-45f8-8b72-1fefad91f3f6",
        "colab": {
          "base_uri": "https://localhost:8080/",
          "height": 68
        }
      },
      "cell_type": "code",
      "source": [
        "print(\"parameter1 = \" + str(params[\"parameter1\"]))\n",
        "print(\"parameter2 = \" + str(params[\"parameter2\"]))\n",
        "print(\"parameter3 = \" + str(params[\"parameter3\"]))"
      ],
      "execution_count": 0,
      "outputs": [
        {
          "output_type": "stream",
          "text": [
            "parameter1 = 1.0\n",
            "parameter2 = 2.0\n",
            "parameter3 = 3.0\n"
          ],
          "name": "stdout"
        }
      ]
    },
    {
      "metadata": {
        "id": "LU1RhAVXrqLi",
        "colab_type": "code",
        "outputId": "65f56075-5cb3-4a58-b30e-36cf5b7ff604",
        "colab": {
          "base_uri": "https://localhost:8080/",
          "height": 85
        }
      },
      "cell_type": "code",
      "source": [
        "params[\"parameter1\"] = \"A\"\n",
        "params[\"parameter2\"] = \"B\"\n",
        "\n",
        "# add a new entry\n",
        "params[\"parameter4\"] = \"D\"\n",
        "\n",
        "print(\"parameter1 = \" + str(params[\"parameter1\"]))\n",
        "print(\"parameter2 = \" + str(params[\"parameter2\"]))\n",
        "print(\"parameter3 = \" + str(params[\"parameter3\"]))\n",
        "print(\"parameter4 = \" + str(params[\"parameter4\"]))"
      ],
      "execution_count": 0,
      "outputs": [
        {
          "output_type": "stream",
          "text": [
            "parameter1 = A\n",
            "parameter2 = B\n",
            "parameter3 = 3.0\n",
            "parameter4 = D\n"
          ],
          "name": "stdout"
        }
      ]
    },
    {
      "metadata": {
        "id": "Y0kkqo8XrqLj",
        "colab_type": "text"
      },
      "cell_type": "markdown",
      "source": [
        "## Control Flow"
      ]
    },
    {
      "metadata": {
        "id": "P17Dqlm4rqLk",
        "colab_type": "text"
      },
      "cell_type": "markdown",
      "source": [
        "### Conditional statements: if, elif, else"
      ]
    },
    {
      "metadata": {
        "id": "FAO1fnBurqLm",
        "colab_type": "text"
      },
      "cell_type": "markdown",
      "source": [
        "The Python syntax for conditional execution of code uses the keywords `if`, `elif` (else if), `else`:"
      ]
    },
    {
      "metadata": {
        "id": "6PafobRCrqLn",
        "colab_type": "code",
        "outputId": "91c49ac8-dbc5-414e-8900-9ddb6217ee86",
        "colab": {}
      },
      "cell_type": "code",
      "source": [
        "statement1 = False\n",
        "statement2 = False\n",
        "\n",
        "if statement1:\n",
        "    print(\"statement1 is True\")\n",
        "    \n",
        "elif statement2:\n",
        "    print(\"statement2 is True\")\n",
        "    \n",
        "else:\n",
        "    print(\"statement1 and statement2 are False\")"
      ],
      "execution_count": 0,
      "outputs": [
        {
          "output_type": "stream",
          "text": [
            "statement1 and statement2 are False\n"
          ],
          "name": "stdout"
        }
      ]
    },
    {
      "metadata": {
        "id": "2amt6cQ1rqLp",
        "colab_type": "text"
      },
      "cell_type": "markdown",
      "source": [
        "For the first time, here we encounted a peculiar and unusual aspect of the Python programming language: Program blocks are defined by their indentation level. \n",
        "\n",
        "Compare to the equivalent C code:\n",
        "\n",
        "    if (statement1)\n",
        "    {\n",
        "        printf(\"statement1 is True\\n\");\n",
        "    }\n",
        "    else if (statement2)\n",
        "    {\n",
        "        printf(\"statement2 is True\\n\");\n",
        "    }\n",
        "    else\n",
        "    {\n",
        "        printf(\"statement1 and statement2 are False\\n\");\n",
        "    }\n",
        "\n",
        "In C blocks are defined by the enclosing curly brakets `{` and `}`. And the level of indentation (white space before the code statements) does not matter (completely optional). \n",
        "\n",
        "But in Python, the extent of a code block is defined by the indentation level (usually a tab or say four white spaces). This means that we have to be careful to indent our code correctly, or else we will get syntax errors. "
      ]
    },
    {
      "metadata": {
        "id": "QfBlYf-4rqLp",
        "colab_type": "text"
      },
      "cell_type": "markdown",
      "source": [
        "#### Examples:"
      ]
    },
    {
      "metadata": {
        "id": "X2Pp5aCRrqLq",
        "colab_type": "code",
        "outputId": "eb87a019-a1ea-4949-ab12-29a0ad7ae9ec",
        "colab": {}
      },
      "cell_type": "code",
      "source": [
        "statement1 = statement2 = True\n",
        "\n",
        "if statement1:\n",
        "    if statement2:\n",
        "        print(\"both statement1 and statement2 are True\")"
      ],
      "execution_count": 0,
      "outputs": [
        {
          "output_type": "stream",
          "text": [
            "both statement1 and statement2 are True\n"
          ],
          "name": "stdout"
        }
      ]
    },
    {
      "metadata": {
        "id": "nlu3pl1drqLs",
        "colab_type": "code",
        "outputId": "845e087c-1c5a-476f-fbeb-31766a9f8201",
        "colab": {}
      },
      "cell_type": "code",
      "source": [
        "# Bad indentation!\n",
        "if statement1:\n",
        "    if statement2:\n",
        "    print(\"both statement1 and statement2 are True\")  # this line is not properly indented"
      ],
      "execution_count": 0,
      "outputs": [
        {
          "output_type": "error",
          "ename": "IndentationError",
          "evalue": "expected an indented block (<ipython-input-89-78979cdecf37>, line 4)",
          "traceback": [
            "\u001b[0;36m  File \u001b[0;32m\"<ipython-input-89-78979cdecf37>\"\u001b[0;36m, line \u001b[0;32m4\u001b[0m\n\u001b[0;31m    print(\"both statement1 and statement2 are True\")  # this line is not properly indented\u001b[0m\n\u001b[0m        ^\u001b[0m\n\u001b[0;31mIndentationError\u001b[0m\u001b[0;31m:\u001b[0m expected an indented block\n"
          ]
        }
      ]
    },
    {
      "metadata": {
        "id": "Zza3ODe1rqLu",
        "colab_type": "code",
        "colab": {}
      },
      "cell_type": "code",
      "source": [
        "statement1 = False \n",
        "\n",
        "if statement1:\n",
        "    print(\"printed if statement1 is True\")\n",
        "    \n",
        "    print(\"still inside the if block\")"
      ],
      "execution_count": 0,
      "outputs": []
    },
    {
      "metadata": {
        "id": "NAqaS3bvrqLu",
        "colab_type": "code",
        "outputId": "e12f1713-af7b-473f-d071-709b0fa37587",
        "colab": {}
      },
      "cell_type": "code",
      "source": [
        "if statement1:\n",
        "    print(\"printed if statement1 is True\")\n",
        "    \n",
        "print(\"now outside the if block\")"
      ],
      "execution_count": 0,
      "outputs": [
        {
          "output_type": "stream",
          "text": [
            "now outside the if block\n"
          ],
          "name": "stdout"
        }
      ]
    },
    {
      "metadata": {
        "id": "YtmSg7rnrqLy",
        "colab_type": "text"
      },
      "cell_type": "markdown",
      "source": [
        "## Loops"
      ]
    },
    {
      "metadata": {
        "id": "zF1Xq8PqrqLz",
        "colab_type": "text"
      },
      "cell_type": "markdown",
      "source": [
        "In Python, loops can be programmed in a number of different ways. The most common is the `for` loop, which is used together with iterable objects, such as lists. The basic syntax is:"
      ]
    },
    {
      "metadata": {
        "id": "i1FBboL4rqLz",
        "colab_type": "text"
      },
      "cell_type": "markdown",
      "source": [
        "### **`for` loops**:"
      ]
    },
    {
      "metadata": {
        "id": "M5PHHolwrqLz",
        "colab_type": "code",
        "outputId": "3587e590-f6b4-4fe0-9159-50c877e35659",
        "colab": {}
      },
      "cell_type": "code",
      "source": [
        "for x in [1,2,3]:\n",
        "    print(x)"
      ],
      "execution_count": 0,
      "outputs": [
        {
          "output_type": "stream",
          "text": [
            "1\n",
            "2\n",
            "3\n"
          ],
          "name": "stdout"
        }
      ]
    },
    {
      "metadata": {
        "id": "ZgxwMalVrqL0",
        "colab_type": "text"
      },
      "cell_type": "markdown",
      "source": [
        "The `for` loop iterates over the elements of the supplied list, and executes the containing block once for each element. Any kind of list can be used in the `for` loop. For example:"
      ]
    },
    {
      "metadata": {
        "id": "Nutim30LrqL1",
        "colab_type": "code",
        "outputId": "38346915-6c6d-465b-d69a-528c399e695d",
        "colab": {}
      },
      "cell_type": "code",
      "source": [
        "for x in range(4): # by default range start at 0\n",
        "    print(x)"
      ],
      "execution_count": 0,
      "outputs": [
        {
          "output_type": "stream",
          "text": [
            "0\n",
            "1\n",
            "2\n",
            "3\n"
          ],
          "name": "stdout"
        }
      ]
    },
    {
      "metadata": {
        "id": "riTy54NmrqL2",
        "colab_type": "text"
      },
      "cell_type": "markdown",
      "source": [
        "Note: `range(4)` does not include 4 !"
      ]
    },
    {
      "metadata": {
        "id": "3Ze2fvyIrqL2",
        "colab_type": "code",
        "outputId": "93f091ac-857f-4aa1-b589-df41e58161c1",
        "colab": {}
      },
      "cell_type": "code",
      "source": [
        "for x in range(-3,3):\n",
        "    print(x)"
      ],
      "execution_count": 0,
      "outputs": [
        {
          "output_type": "stream",
          "text": [
            "-3\n",
            "-2\n",
            "-1\n",
            "0\n",
            "1\n",
            "2\n"
          ],
          "name": "stdout"
        }
      ]
    },
    {
      "metadata": {
        "id": "iBGww725rqL4",
        "colab_type": "code",
        "outputId": "3c31fc14-119c-4886-e7e9-cf49f6f75a40",
        "colab": {}
      },
      "cell_type": "code",
      "source": [
        "for word in [\"scientific\", \"computing\", \"with\", \"python\"]:\n",
        "    print(word)"
      ],
      "execution_count": 0,
      "outputs": [
        {
          "output_type": "stream",
          "text": [
            "scientific\n",
            "computing\n",
            "with\n",
            "python\n"
          ],
          "name": "stdout"
        }
      ]
    },
    {
      "metadata": {
        "id": "T2M3Cf5VrqL6",
        "colab_type": "text"
      },
      "cell_type": "markdown",
      "source": [
        "To iterate over key-value pairs of a dictionary:"
      ]
    },
    {
      "metadata": {
        "id": "VBceuGgzrqL7",
        "colab_type": "code",
        "outputId": "37462c3b-596e-485b-d9c8-9cc984b02274",
        "colab": {}
      },
      "cell_type": "code",
      "source": [
        "for key, value in params.items():\n",
        "    print(key + \" = \" + str(value))"
      ],
      "execution_count": 0,
      "outputs": [
        {
          "output_type": "stream",
          "text": [
            "parameter4 = D\n",
            "parameter1 = A\n",
            "parameter3 = 3.0\n",
            "parameter2 = B\n"
          ],
          "name": "stdout"
        }
      ]
    },
    {
      "metadata": {
        "id": "Pa5vRxWtrqL-",
        "colab_type": "text"
      },
      "cell_type": "markdown",
      "source": [
        "Sometimes it is useful to have access to the indices of the values when iterating over a list. We can use the `enumerate` function for this:"
      ]
    },
    {
      "metadata": {
        "id": "27PI54OarqL-",
        "colab_type": "code",
        "outputId": "1cd2693f-140c-459f-e02d-ca1e9a8bfe69",
        "colab": {}
      },
      "cell_type": "code",
      "source": [
        "for idx, x in enumerate(range(-3,3)):\n",
        "    print(idx, x)"
      ],
      "execution_count": 0,
      "outputs": [
        {
          "output_type": "stream",
          "text": [
            "(0, -3)\n",
            "(1, -2)\n",
            "(2, -1)\n",
            "(3, 0)\n",
            "(4, 1)\n",
            "(5, 2)\n"
          ],
          "name": "stdout"
        }
      ]
    },
    {
      "metadata": {
        "id": "gHv6c-nJrqMB",
        "colab_type": "text"
      },
      "cell_type": "markdown",
      "source": [
        "### List comprehensions: Creating lists using `for` loops:"
      ]
    },
    {
      "metadata": {
        "id": "CEiZEfTHrqMB",
        "colab_type": "text"
      },
      "cell_type": "markdown",
      "source": [
        "A convenient and compact way to initialize lists:"
      ]
    },
    {
      "metadata": {
        "id": "9xrxPoQfrqMB",
        "colab_type": "code",
        "outputId": "37d13ef6-eee9-4547-d532-3b2a04749f1a",
        "colab": {}
      },
      "cell_type": "code",
      "source": [
        "l1 = [x**2 for x in range(0,5)]\n",
        "\n",
        "print(l1)"
      ],
      "execution_count": 0,
      "outputs": [
        {
          "output_type": "stream",
          "text": [
            "[0, 1, 4, 9, 16]\n"
          ],
          "name": "stdout"
        }
      ]
    },
    {
      "metadata": {
        "id": "EikZfkZvrqMD",
        "colab_type": "text"
      },
      "cell_type": "markdown",
      "source": [
        "### `while` loops:"
      ]
    },
    {
      "metadata": {
        "id": "EzPQBef7rqMD",
        "colab_type": "code",
        "outputId": "142c11a9-e6fd-4bb7-87d8-6b3f7f80dc9d",
        "colab": {}
      },
      "cell_type": "code",
      "source": [
        "i = 0\n",
        "\n",
        "while i < 5:\n",
        "    print(i)\n",
        "    \n",
        "    i = i + 1\n",
        "    \n",
        "print(\"done\")"
      ],
      "execution_count": 0,
      "outputs": [
        {
          "output_type": "stream",
          "text": [
            "0\n",
            "1\n",
            "2\n",
            "3\n",
            "4\n",
            "done\n"
          ],
          "name": "stdout"
        }
      ]
    },
    {
      "metadata": {
        "id": "5a__HjForqMF",
        "colab_type": "text"
      },
      "cell_type": "markdown",
      "source": [
        "Note that the `print(\"done\")` statement is not part of the `while` loop body because of the difference in indentation."
      ]
    },
    {
      "metadata": {
        "id": "DCEDK8etrqMF",
        "colab_type": "text"
      },
      "cell_type": "markdown",
      "source": [
        "## Functions"
      ]
    },
    {
      "metadata": {
        "id": "m2FctD8IrqMF",
        "colab_type": "text"
      },
      "cell_type": "markdown",
      "source": [
        "A function in Python is defined using the keyword `def`, followed by a function name, a signature within parentheses `()`, and a colon `:`. The following code, with one additional level of indentation, is the function body."
      ]
    },
    {
      "metadata": {
        "id": "7-ihiGDTrqMG",
        "colab_type": "code",
        "colab": {}
      },
      "cell_type": "code",
      "source": [
        "def func0():   \n",
        "    print(\"test\")"
      ],
      "execution_count": 0,
      "outputs": []
    },
    {
      "metadata": {
        "id": "yqAP3lSVrqMG",
        "colab_type": "code",
        "outputId": "8acf1598-79b2-4ed2-c6ee-7080e44b3597",
        "colab": {}
      },
      "cell_type": "code",
      "source": [
        "func0()"
      ],
      "execution_count": 0,
      "outputs": [
        {
          "output_type": "stream",
          "text": [
            "test\n"
          ],
          "name": "stdout"
        }
      ]
    },
    {
      "metadata": {
        "id": "E24PTLYlrqMI",
        "colab_type": "text"
      },
      "cell_type": "markdown",
      "source": [
        "Optionally, but highly recommended, we can define a so called \"docstring\", which is a description of the functions purpose and behaivor. The docstring should follow directly after the function definition, before the code in the function body."
      ]
    },
    {
      "metadata": {
        "id": "JJ3QZOQRrqMI",
        "colab_type": "code",
        "colab": {}
      },
      "cell_type": "code",
      "source": [
        "def func1(s):\n",
        "    \"\"\"\n",
        "    Print a string 's' and tell how many characters it has    \n",
        "    \"\"\"\n",
        "    \n",
        "    print(s + \" has \" + str(len(s)) + \" characters\")"
      ],
      "execution_count": 0,
      "outputs": []
    },
    {
      "metadata": {
        "id": "3WXhaHoJrqMJ",
        "colab_type": "code",
        "outputId": "c5e37ac6-83fb-4d63-ceb8-fa7bbfde5ba1",
        "colab": {}
      },
      "cell_type": "code",
      "source": [
        "help(func1)"
      ],
      "execution_count": 0,
      "outputs": [
        {
          "output_type": "stream",
          "text": [
            "Help on function func1 in module __main__:\n",
            "\n",
            "func1(s)\n",
            "    Print a string 's' and tell how many characters it has\n",
            "\n"
          ],
          "name": "stdout"
        }
      ]
    },
    {
      "metadata": {
        "id": "ehfWf8OMrqML",
        "colab_type": "code",
        "outputId": "8a2092e2-690f-4222-b536-5e2675bcf1b7",
        "colab": {}
      },
      "cell_type": "code",
      "source": [
        "func1(\"test\")"
      ],
      "execution_count": 0,
      "outputs": [
        {
          "output_type": "stream",
          "text": [
            "test has 4 characters\n"
          ],
          "name": "stdout"
        }
      ]
    },
    {
      "metadata": {
        "id": "BVrwpnFirqMM",
        "colab_type": "text"
      },
      "cell_type": "markdown",
      "source": [
        "Functions that returns a value use the `return` keyword:"
      ]
    },
    {
      "metadata": {
        "id": "iwCX3lH0rqMM",
        "colab_type": "code",
        "colab": {}
      },
      "cell_type": "code",
      "source": [
        "def square(x):\n",
        "    \"\"\"\n",
        "    Return the square of x.\n",
        "    \"\"\"\n",
        "    return x ** 2"
      ],
      "execution_count": 0,
      "outputs": []
    },
    {
      "metadata": {
        "id": "r1r2q_ZBrqMO",
        "colab_type": "code",
        "outputId": "e7f6a42f-a616-4774-d5a5-c4ba608b5256",
        "colab": {}
      },
      "cell_type": "code",
      "source": [
        "square(4)"
      ],
      "execution_count": 0,
      "outputs": [
        {
          "output_type": "execute_result",
          "data": {
            "text/plain": [
              "16"
            ]
          },
          "metadata": {
            "tags": []
          },
          "execution_count": 106
        }
      ]
    },
    {
      "metadata": {
        "id": "I-gynk2NrqMO",
        "colab_type": "text"
      },
      "cell_type": "markdown",
      "source": [
        "We can return multiple values from a function using tuples (see above):"
      ]
    },
    {
      "metadata": {
        "id": "FBLH5ebOrqMP",
        "colab_type": "code",
        "colab": {}
      },
      "cell_type": "code",
      "source": [
        "def powers(x):\n",
        "    \"\"\"\n",
        "    Return a few powers of x.\n",
        "    \"\"\"\n",
        "    return x ** 2, x ** 3, x ** 4"
      ],
      "execution_count": 0,
      "outputs": []
    },
    {
      "metadata": {
        "id": "Dck9Kw6hrqMQ",
        "colab_type": "code",
        "outputId": "fee35af5-9e92-4e13-9815-7dba73c4c8db",
        "colab": {}
      },
      "cell_type": "code",
      "source": [
        "powers(3)"
      ],
      "execution_count": 0,
      "outputs": [
        {
          "output_type": "execute_result",
          "data": {
            "text/plain": [
              "(9, 27, 81)"
            ]
          },
          "metadata": {
            "tags": []
          },
          "execution_count": 108
        }
      ]
    },
    {
      "metadata": {
        "id": "AThr1W1yrqMS",
        "colab_type": "code",
        "outputId": "239dbc19-67b3-4564-dd60-3f4226a74254",
        "colab": {}
      },
      "cell_type": "code",
      "source": [
        "x2, x3, x4 = powers(3)\n",
        "\n",
        "print(x3)"
      ],
      "execution_count": 0,
      "outputs": [
        {
          "output_type": "stream",
          "text": [
            "27\n"
          ],
          "name": "stdout"
        }
      ]
    },
    {
      "metadata": {
        "id": "c4xs4zKyrqMa",
        "colab_type": "text"
      },
      "cell_type": "markdown",
      "source": [
        "### Unnamed functions (lambda function)"
      ]
    },
    {
      "metadata": {
        "id": "YVrhJKY9rqMb",
        "colab_type": "text"
      },
      "cell_type": "markdown",
      "source": [
        "In Python we can also create unnamed functions, using the `lambda` keyword:"
      ]
    },
    {
      "metadata": {
        "id": "XP7_PZBcrqMc",
        "colab_type": "code",
        "colab": {}
      },
      "cell_type": "code",
      "source": [
        "f1 = lambda x: x**2\n",
        "    \n",
        "# is equivalent to \n",
        "\n",
        "def f2(x):\n",
        "    return x**2"
      ],
      "execution_count": 0,
      "outputs": []
    },
    {
      "metadata": {
        "id": "pRZN-j0trqMc",
        "colab_type": "code",
        "outputId": "e11ba719-c598-4efc-fe72-81aef6bc2701",
        "colab": {}
      },
      "cell_type": "code",
      "source": [
        "f1(2), f2(2)"
      ],
      "execution_count": 0,
      "outputs": [
        {
          "output_type": "execute_result",
          "data": {
            "text/plain": [
              "(4, 4)"
            ]
          },
          "metadata": {
            "tags": []
          },
          "execution_count": 115
        }
      ]
    },
    {
      "metadata": {
        "id": "ttlFBEhXrqMe",
        "colab_type": "text"
      },
      "cell_type": "markdown",
      "source": [
        "This technique is useful for example when we want to pass a simple function as an argument to another function, like this:"
      ]
    },
    {
      "metadata": {
        "id": "VYSp_e7drqMe",
        "colab_type": "code",
        "outputId": "86a2ac97-a47a-4e33-dc66-67ca67b27866",
        "colab": {}
      },
      "cell_type": "code",
      "source": [
        "# map is a built-in python function\n",
        "map(lambda x: x**2, range(-3,4))"
      ],
      "execution_count": 0,
      "outputs": [
        {
          "output_type": "execute_result",
          "data": {
            "text/plain": [
              "[9, 4, 1, 0, 1, 4, 9]"
            ]
          },
          "metadata": {
            "tags": []
          },
          "execution_count": 116
        }
      ]
    },
    {
      "metadata": {
        "id": "rMCakwLnrqMg",
        "colab_type": "code",
        "outputId": "f9716b0a-ab44-4df9-e461-213daae37594",
        "colab": {}
      },
      "cell_type": "code",
      "source": [
        "# in python 3 we can use `list(...)` to convert the iterator to an explicit list\n",
        "list(map(lambda x: x**2, range(-3,4)))"
      ],
      "execution_count": 0,
      "outputs": [
        {
          "output_type": "execute_result",
          "data": {
            "text/plain": [
              "[9, 4, 1, 0, 1, 4, 9]"
            ]
          },
          "metadata": {
            "tags": []
          },
          "execution_count": 117
        }
      ]
    },
    {
      "metadata": {
        "id": "OqEdChWKrqM8",
        "colab_type": "text"
      },
      "cell_type": "markdown",
      "source": [
        "## Further reading"
      ]
    },
    {
      "metadata": {
        "id": "GtAnZ4HTrqM9",
        "colab_type": "text"
      },
      "cell_type": "markdown",
      "source": [
        "* http://www.python.org - The official web page of the Python programming language.\n",
        "* http://www.python.org/dev/peps/pep-0008 - Style guide for Python programming. Highly recommended. \n",
        "* http://www.greenteapress.com/thinkpython/ - A free book on Python programming.\n",
        "* [Python Essential Reference](http://www.amazon.com/Python-Essential-Reference-4th-Edition/dp/0672329786) - A good reference book on Python programming."
      ]
    },
    {
      "metadata": {
        "id": "yKsjHcCarqM9",
        "colab_type": "code",
        "outputId": "0ba7c14f-f9fd-436b-9c83-d088df1e172e",
        "colab": {
          "base_uri": "https://localhost:8080/",
          "height": 983
        }
      },
      "cell_type": "code",
      "source": [
        "%load_ext version_information\n",
        "\n",
        "%version_information"
      ],
      "execution_count": 0,
      "outputs": [
        {
          "output_type": "error",
          "ename": "ImportError",
          "evalue": "ignored",
          "traceback": [
            "\u001b[0;31m\u001b[0m",
            "\u001b[0;31mImportError\u001b[0mTraceback (most recent call last)",
            "\u001b[0;32m<ipython-input-22-dbe63336594c>\u001b[0m in \u001b[0;36m<module>\u001b[0;34m()\u001b[0m\n\u001b[0;32m----> 1\u001b[0;31m \u001b[0mget_ipython\u001b[0m\u001b[0;34m(\u001b[0m\u001b[0;34m)\u001b[0m\u001b[0;34m.\u001b[0m\u001b[0mmagic\u001b[0m\u001b[0;34m(\u001b[0m\u001b[0;34mu'load_ext version_information'\u001b[0m\u001b[0;34m)\u001b[0m\u001b[0;34m\u001b[0m\u001b[0m\n\u001b[0m\u001b[1;32m      2\u001b[0m \u001b[0;34m\u001b[0m\u001b[0m\n\u001b[1;32m      3\u001b[0m \u001b[0mget_ipython\u001b[0m\u001b[0;34m(\u001b[0m\u001b[0;34m)\u001b[0m\u001b[0;34m.\u001b[0m\u001b[0mmagic\u001b[0m\u001b[0;34m(\u001b[0m\u001b[0;34mu'version_information'\u001b[0m\u001b[0;34m)\u001b[0m\u001b[0;34m\u001b[0m\u001b[0m\n",
            "\u001b[0;32m/usr/local/lib/python2.7/dist-packages/IPython/core/interactiveshell.pyc\u001b[0m in \u001b[0;36mmagic\u001b[0;34m(self, arg_s)\u001b[0m\n\u001b[1;32m   2158\u001b[0m         \u001b[0mmagic_name\u001b[0m\u001b[0;34m,\u001b[0m \u001b[0m_\u001b[0m\u001b[0;34m,\u001b[0m \u001b[0mmagic_arg_s\u001b[0m \u001b[0;34m=\u001b[0m \u001b[0marg_s\u001b[0m\u001b[0;34m.\u001b[0m\u001b[0mpartition\u001b[0m\u001b[0;34m(\u001b[0m\u001b[0;34m' '\u001b[0m\u001b[0;34m)\u001b[0m\u001b[0;34m\u001b[0m\u001b[0m\n\u001b[1;32m   2159\u001b[0m         \u001b[0mmagic_name\u001b[0m \u001b[0;34m=\u001b[0m \u001b[0mmagic_name\u001b[0m\u001b[0;34m.\u001b[0m\u001b[0mlstrip\u001b[0m\u001b[0;34m(\u001b[0m\u001b[0mprefilter\u001b[0m\u001b[0;34m.\u001b[0m\u001b[0mESC_MAGIC\u001b[0m\u001b[0;34m)\u001b[0m\u001b[0;34m\u001b[0m\u001b[0m\n\u001b[0;32m-> 2160\u001b[0;31m         \u001b[0;32mreturn\u001b[0m \u001b[0mself\u001b[0m\u001b[0;34m.\u001b[0m\u001b[0mrun_line_magic\u001b[0m\u001b[0;34m(\u001b[0m\u001b[0mmagic_name\u001b[0m\u001b[0;34m,\u001b[0m \u001b[0mmagic_arg_s\u001b[0m\u001b[0;34m)\u001b[0m\u001b[0;34m\u001b[0m\u001b[0m\n\u001b[0m\u001b[1;32m   2161\u001b[0m \u001b[0;34m\u001b[0m\u001b[0m\n\u001b[1;32m   2162\u001b[0m     \u001b[0;31m#-------------------------------------------------------------------------\u001b[0m\u001b[0;34m\u001b[0m\u001b[0;34m\u001b[0m\u001b[0m\n",
            "\u001b[0;32m/usr/local/lib/python2.7/dist-packages/IPython/core/interactiveshell.pyc\u001b[0m in \u001b[0;36mrun_line_magic\u001b[0;34m(self, magic_name, line)\u001b[0m\n\u001b[1;32m   2079\u001b[0m                 \u001b[0mkwargs\u001b[0m\u001b[0;34m[\u001b[0m\u001b[0;34m'local_ns'\u001b[0m\u001b[0;34m]\u001b[0m \u001b[0;34m=\u001b[0m \u001b[0msys\u001b[0m\u001b[0;34m.\u001b[0m\u001b[0m_getframe\u001b[0m\u001b[0;34m(\u001b[0m\u001b[0mstack_depth\u001b[0m\u001b[0;34m)\u001b[0m\u001b[0;34m.\u001b[0m\u001b[0mf_locals\u001b[0m\u001b[0;34m\u001b[0m\u001b[0m\n\u001b[1;32m   2080\u001b[0m             \u001b[0;32mwith\u001b[0m \u001b[0mself\u001b[0m\u001b[0;34m.\u001b[0m\u001b[0mbuiltin_trap\u001b[0m\u001b[0;34m:\u001b[0m\u001b[0;34m\u001b[0m\u001b[0m\n\u001b[0;32m-> 2081\u001b[0;31m                 \u001b[0mresult\u001b[0m \u001b[0;34m=\u001b[0m \u001b[0mfn\u001b[0m\u001b[0;34m(\u001b[0m\u001b[0;34m*\u001b[0m\u001b[0margs\u001b[0m\u001b[0;34m,\u001b[0m\u001b[0;34m**\u001b[0m\u001b[0mkwargs\u001b[0m\u001b[0;34m)\u001b[0m\u001b[0;34m\u001b[0m\u001b[0m\n\u001b[0m\u001b[1;32m   2082\u001b[0m             \u001b[0;32mreturn\u001b[0m \u001b[0mresult\u001b[0m\u001b[0;34m\u001b[0m\u001b[0m\n\u001b[1;32m   2083\u001b[0m \u001b[0;34m\u001b[0m\u001b[0m\n",
            "\u001b[0;32m<decorator-gen-63>\u001b[0m in \u001b[0;36mload_ext\u001b[0;34m(self, module_str)\u001b[0m\n",
            "\u001b[0;32m/usr/local/lib/python2.7/dist-packages/IPython/core/magic.pyc\u001b[0m in \u001b[0;36m<lambda>\u001b[0;34m(f, *a, **k)\u001b[0m\n\u001b[1;32m    186\u001b[0m     \u001b[0;31m# but it's overkill for just that one bit of state.\u001b[0m\u001b[0;34m\u001b[0m\u001b[0;34m\u001b[0m\u001b[0m\n\u001b[1;32m    187\u001b[0m     \u001b[0;32mdef\u001b[0m \u001b[0mmagic_deco\u001b[0m\u001b[0;34m(\u001b[0m\u001b[0marg\u001b[0m\u001b[0;34m)\u001b[0m\u001b[0;34m:\u001b[0m\u001b[0;34m\u001b[0m\u001b[0m\n\u001b[0;32m--> 188\u001b[0;31m         \u001b[0mcall\u001b[0m \u001b[0;34m=\u001b[0m \u001b[0;32mlambda\u001b[0m \u001b[0mf\u001b[0m\u001b[0;34m,\u001b[0m \u001b[0;34m*\u001b[0m\u001b[0ma\u001b[0m\u001b[0;34m,\u001b[0m \u001b[0;34m**\u001b[0m\u001b[0mk\u001b[0m\u001b[0;34m:\u001b[0m \u001b[0mf\u001b[0m\u001b[0;34m(\u001b[0m\u001b[0;34m*\u001b[0m\u001b[0ma\u001b[0m\u001b[0;34m,\u001b[0m \u001b[0;34m**\u001b[0m\u001b[0mk\u001b[0m\u001b[0;34m)\u001b[0m\u001b[0;34m\u001b[0m\u001b[0m\n\u001b[0m\u001b[1;32m    189\u001b[0m \u001b[0;34m\u001b[0m\u001b[0m\n\u001b[1;32m    190\u001b[0m         \u001b[0;32mif\u001b[0m \u001b[0mcallable\u001b[0m\u001b[0;34m(\u001b[0m\u001b[0marg\u001b[0m\u001b[0;34m)\u001b[0m\u001b[0;34m:\u001b[0m\u001b[0;34m\u001b[0m\u001b[0m\n",
            "\u001b[0;32m/usr/local/lib/python2.7/dist-packages/IPython/core/magics/extension.pyc\u001b[0m in \u001b[0;36mload_ext\u001b[0;34m(self, module_str)\u001b[0m\n\u001b[1;32m     35\u001b[0m         \u001b[0;32mif\u001b[0m \u001b[0;32mnot\u001b[0m \u001b[0mmodule_str\u001b[0m\u001b[0;34m:\u001b[0m\u001b[0;34m\u001b[0m\u001b[0m\n\u001b[1;32m     36\u001b[0m             \u001b[0;32mraise\u001b[0m \u001b[0mUsageError\u001b[0m\u001b[0;34m(\u001b[0m\u001b[0;34m'Missing module name.'\u001b[0m\u001b[0;34m)\u001b[0m\u001b[0;34m\u001b[0m\u001b[0m\n\u001b[0;32m---> 37\u001b[0;31m         \u001b[0mres\u001b[0m \u001b[0;34m=\u001b[0m \u001b[0mself\u001b[0m\u001b[0;34m.\u001b[0m\u001b[0mshell\u001b[0m\u001b[0;34m.\u001b[0m\u001b[0mextension_manager\u001b[0m\u001b[0;34m.\u001b[0m\u001b[0mload_extension\u001b[0m\u001b[0;34m(\u001b[0m\u001b[0mmodule_str\u001b[0m\u001b[0;34m)\u001b[0m\u001b[0;34m\u001b[0m\u001b[0m\n\u001b[0m\u001b[1;32m     38\u001b[0m \u001b[0;34m\u001b[0m\u001b[0m\n\u001b[1;32m     39\u001b[0m         \u001b[0;32mif\u001b[0m \u001b[0mres\u001b[0m \u001b[0;34m==\u001b[0m \u001b[0;34m'already loaded'\u001b[0m\u001b[0;34m:\u001b[0m\u001b[0;34m\u001b[0m\u001b[0m\n",
            "\u001b[0;32m/usr/local/lib/python2.7/dist-packages/IPython/core/extensions.pyc\u001b[0m in \u001b[0;36mload_extension\u001b[0;34m(self, module_str)\u001b[0m\n\u001b[1;32m     81\u001b[0m             \u001b[0;32mif\u001b[0m \u001b[0mmodule_str\u001b[0m \u001b[0;32mnot\u001b[0m \u001b[0;32min\u001b[0m \u001b[0msys\u001b[0m\u001b[0;34m.\u001b[0m\u001b[0mmodules\u001b[0m\u001b[0;34m:\u001b[0m\u001b[0;34m\u001b[0m\u001b[0m\n\u001b[1;32m     82\u001b[0m                 \u001b[0;32mwith\u001b[0m \u001b[0mprepended_to_syspath\u001b[0m\u001b[0;34m(\u001b[0m\u001b[0mself\u001b[0m\u001b[0;34m.\u001b[0m\u001b[0mipython_extension_dir\u001b[0m\u001b[0;34m)\u001b[0m\u001b[0;34m:\u001b[0m\u001b[0;34m\u001b[0m\u001b[0m\n\u001b[0;32m---> 83\u001b[0;31m                     \u001b[0m__import__\u001b[0m\u001b[0;34m(\u001b[0m\u001b[0mmodule_str\u001b[0m\u001b[0;34m)\u001b[0m\u001b[0;34m\u001b[0m\u001b[0m\n\u001b[0m\u001b[1;32m     84\u001b[0m             \u001b[0mmod\u001b[0m \u001b[0;34m=\u001b[0m \u001b[0msys\u001b[0m\u001b[0;34m.\u001b[0m\u001b[0mmodules\u001b[0m\u001b[0;34m[\u001b[0m\u001b[0mmodule_str\u001b[0m\u001b[0;34m]\u001b[0m\u001b[0;34m\u001b[0m\u001b[0m\n\u001b[1;32m     85\u001b[0m             \u001b[0;32mif\u001b[0m \u001b[0mself\u001b[0m\u001b[0;34m.\u001b[0m\u001b[0m_call_load_ipython_extension\u001b[0m\u001b[0;34m(\u001b[0m\u001b[0mmod\u001b[0m\u001b[0;34m)\u001b[0m\u001b[0;34m:\u001b[0m\u001b[0;34m\u001b[0m\u001b[0m\n",
            "\u001b[0;31mImportError\u001b[0m: No module named version_information",
            "",
            "\u001b[0;31m---------------------------------------------------------------------------\u001b[0;32m\nNOTE: If your import is failing due to a missing package, you can\nmanually install dependencies using either !pip or !apt.\n\nTo view examples of installing some common dependencies, click the\n\"Open Examples\" button below.\n\u001b[0;31m---------------------------------------------------------------------------\u001b[0m\n"
          ]
        }
      ]
    },
    {
      "metadata": {
        "id": "kOjqXfu_vAcu",
        "colab_type": "code",
        "colab": {}
      },
      "cell_type": "code",
      "source": [
        ""
      ],
      "execution_count": 0,
      "outputs": []
    }
  ]
}